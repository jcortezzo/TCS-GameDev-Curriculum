{
 "cells": [
  {
   "cell_type": "markdown",
   "metadata": {
    "colab_type": "text",
    "id": "jn_vZ2RQkiXw"
   },
   "source": [
    "# Unit 1 Lesson 4 - Scripting\n",
    "In this lesson, we'll dive into C# scripting by writing a simple character movement script.\n",
    "\n",
    "\n",
    "---\n",
    "\n",
    "# Learning Objectives\n",
    "---\n",
    "\n",
    "*   Students will learn how to make script properties editable in the Inspector.\n",
    "*   Students will understand how Unity games run as a rapid succession of frames.\n",
    "*   Students will learn how to use essential C# and Unity classes such as Vectors and Input.\n",
    "\n",
    "# Key Concepts\n",
    "---\n",
    "\n",
    "*   Editable properties and variable scope\n",
    "*   Frames and the Update function\n",
    "*   Vectors and Input\n",
    "\n"
   ]
  },
  {
   "cell_type": "markdown",
   "metadata": {
    "colab_type": "text",
    "id": "XmREKLx3mrdx"
   },
   "source": [
    "# Introduction\n",
    "\n",
    "---\n",
    "\n"
   ]
  },
  {
   "cell_type": "markdown",
   "metadata": {
    "colab_type": "text",
    "id": "oASXJHBUmxFq"
   },
   "source": [
    "Scripting allows us to create our own components that define the behavior of game objects. One of the most basic and important scripts we can write is for implementing character movement. By the end of today's lesson, we'll have a script that allows us to move a character in our game by clicking the arrow keys on our keyboard."
   ]
  },
  {
   "cell_type": "markdown",
   "metadata": {
    "colab_type": "text",
    "id": "XeFyaplPoOCM"
   },
   "source": [
    "# Concept 1: Editable Properties and Variable Scope\n",
    "\n",
    "---\n",
    "### **Editable Properties**\n",
    "\n",
    "Most components allow us to edit their property values in the Inspector. For example, in the Transform component, we can type whatever values we want in the Position, Rotation, and Scale properties. Adding editable properties in our scripts is simple.\n",
    "\n",
    "In scripts, editable component properties are represented by public variables. Above the Start function, simply define any variable and put the keyword *public* in front of the variable declaration."
   ]
  },
  {
   "cell_type": "code",
   "execution_count": null,
   "metadata": {
    "colab": {},
    "colab_type": "code",
    "id": "8Mnk_juJpuQZ"
   },
   "outputs": [],
   "source": [
    "using System.Collections;\n",
    "using System.Collections.Generic;\n",
    "using UnityEngine;\n",
    "\n",
    "public class HelloWorld : MonoBehaviour\n",
    "{\n",
    "\n",
    "    public string firstName = \"Tom\";\n",
    "\n",
    "    // Start is called before the first frame update\n",
    "    void Start()\n",
    "    {\n",
    "\n",
    "    }\n",
    "\n",
    "    // Update is called once per frame\n",
    "    void Update()\n",
    "    {\n",
    "        \n",
    "    }\n",
    "}"
   ]
  },
  {
   "cell_type": "markdown",
   "metadata": {
    "colab_type": "text",
    "id": "mIiRFAP7qUYV"
   },
   "source": [
    "The above script creates the property *firstName*, which is then editable in the Inspector and has the default value \"Tom\". The component created by the script above would look like this in the editor:\n",
    "\n",
    "![](https://drive.google.com/uc?id=1XSUTNLjOszgvVtDC2E4G875d-RCpSdDI)"
   ]
  },
  {
   "cell_type": "markdown",
   "metadata": {
    "colab_type": "text",
    "id": "P15psB3euXFU"
   },
   "source": [
    "## Practice Together #1\n",
    "\n",
    "---\n",
    "\n",
    "**Problem:** Create a script with an *Age* property that is editable in the Inspector. Print the Age property value to the console upon starting the game."
   ]
  },
  {
   "cell_type": "markdown",
   "metadata": {
    "colab_type": "text",
    "id": "HSWWVs4CuzEp"
   },
   "source": [
    "##### **Solution**"
   ]
  },
  {
   "cell_type": "markdown",
   "metadata": {
    "colab_type": "text",
    "id": "cbA4VrRTuzop"
   },
   "source": [
    "Your script should look something like this:"
   ]
  },
  {
   "cell_type": "code",
   "execution_count": null,
   "metadata": {
    "colab": {},
    "colab_type": "code",
    "id": "04YOHoSLu4IB"
   },
   "outputs": [],
   "source": [
    "using System.Collections;\n",
    "using System.Collections.Generic;\n",
    "using UnityEngine;\n",
    "\n",
    "public class HelloWorld : MonoBehaviour\n",
    "{\n",
    "\n",
    "    public int age = 10;\n",
    "\n",
    "    // Start is called before the first frame update\n",
    "    void Start()\n",
    "    {\n",
    "        Debug.Log(\"The character is \" + 10 + \" years old.\");\n",
    "    }\n",
    "\n",
    "    // Update is called once per frame\n",
    "    void Update()\n",
    "    {\n",
    "        \n",
    "    }\n",
    "}"
   ]
  },
  {
   "cell_type": "markdown",
   "metadata": {
    "colab_type": "text",
    "id": "vHpOTZJIww7s"
   },
   "source": [
    "\n",
    "### **Variable Scope**\n",
    "\n",
    "In line with what we introduced above, variables, functions, and classes in C# can have different **scopes**, or levels of accessibility by different parts of your and other people's code.\n",
    "\n",
    "A variable defined in a class is accessible by any of that class' functions. This means that, for example, the Start function can use the age variable in the Practice Together above.\n",
    "\n",
    "A variable defined with the public keyword is accessible by other classes in other scripts. This means that we can use other components' public variables in our scripts.\n",
    "\n",
    "The Tranform component has three public variables: Position, Rotation, and Scale. Since these variables are public, we can use them in our scripts. In order to access any of these properties, we type *transform*, then a period (.), then the name of the property we want. The script below prints the Transform component's Position property upon starting the game:\n"
   ]
  },
  {
   "cell_type": "code",
   "execution_count": null,
   "metadata": {
    "colab": {},
    "colab_type": "code",
    "id": "dT1B_3iHz-jr"
   },
   "outputs": [],
   "source": [
    "using System.Collections;\n",
    "using System.Collections.Generic;\n",
    "using UnityEngine;\n",
    "\n",
    "public class HelloWorld : MonoBehaviour\n",
    "{\n",
    "\n",
    "    // Start is called before the first frame update\n",
    "    void Start()\n",
    "    {\n",
    "        Debug.Log(transform.position);\n",
    "    }\n",
    "\n",
    "    // Update is called once per frame\n",
    "    void Update()\n",
    "    {\n",
    "        \n",
    "    }\n",
    "}"
   ]
  },
  {
   "cell_type": "markdown",
   "metadata": {
    "colab_type": "text",
    "id": "j9W-q-LK0C-6"
   },
   "source": [
    "You can also access the x-, y-, or z-value of any of Transform's properties by typing, for example, *transform.position.x*.\n",
    "\n",
    "*Note: Usually it takes a little extra work to access other components and their properties from our script, but the Transform component is so commonly used in scripting that Unity made the keyword* transform *to make accessing it easier. We'll learn how to access other components besides Transform in our scripts later.*"
   ]
  },
  {
   "cell_type": "markdown",
   "metadata": {
    "colab_type": "text",
    "id": "2YtoP34e1s5r"
   },
   "source": [
    "## Practice Together #2\n",
    "\n",
    "---\n",
    "\n",
    "**Problem:** Print the y-value of an object's rotation to the console upon starting the game."
   ]
  },
  {
   "cell_type": "markdown",
   "metadata": {
    "colab_type": "text",
    "id": "uHTwA6K218gT"
   },
   "source": [
    "##### **Solution**"
   ]
  },
  {
   "cell_type": "markdown",
   "metadata": {
    "colab_type": "text",
    "id": "0bKJ0YQ72ChH"
   },
   "source": [
    "Your script should look something like this:"
   ]
  },
  {
   "cell_type": "code",
   "execution_count": null,
   "metadata": {
    "colab": {},
    "colab_type": "code",
    "id": "bnvy_a3V2DVe"
   },
   "outputs": [],
   "source": [
    "using System.Collections;\n",
    "using System.Collections.Generic;\n",
    "using UnityEngine;\n",
    "\n",
    "public class HelloWorld : MonoBehaviour\n",
    "{\n",
    "\n",
    "    // Start is called before the first frame update\n",
    "    void Start()\n",
    "    {\n",
    "        Debug.Log(transform.rotation.y);\n",
    "    }\n",
    "\n",
    "    // Update is called once per frame\n",
    "    void Update()\n",
    "    {\n",
    "        \n",
    "    }\n",
    "}"
   ]
  },
  {
   "cell_type": "markdown",
   "metadata": {
    "colab_type": "text",
    "id": "rduc4D0XMp8g"
   },
   "source": [
    "# Concept 2: Frames and the Update Function\n",
    "\n",
    "---\n",
    "Unity games run as a rapid sequence of **frames**. Each frame is a still shot of the scene as portrayed to the player. These frames can be thought of as the pages of a flip book. Smooth movement is the result of a slight change of position each frame.\n",
    "\n",
    "The Start function is called once before the first frame of the game. The Update function is called once every frame.\n",
    "\n"
   ]
  },
  {
   "cell_type": "markdown",
   "metadata": {
    "colab_type": "text",
    "id": "e_pvu5c7O7Uo"
   },
   "source": [
    "## Practice Together #3\n",
    "\n",
    "---\n",
    "\n",
    "**Problem:** Print an incrementing number to the console each frame."
   ]
  },
  {
   "cell_type": "markdown",
   "metadata": {
    "colab_type": "text",
    "id": "Hkr_SNufPEHm"
   },
   "source": [
    "##### **Solution**"
   ]
  },
  {
   "cell_type": "markdown",
   "metadata": {
    "colab_type": "text",
    "id": "5WmuCQbAPFpk"
   },
   "source": [
    "Your script should look something like this:"
   ]
  },
  {
   "cell_type": "code",
   "execution_count": null,
   "metadata": {
    "colab": {},
    "colab_type": "code",
    "id": "fh2VK1edPLIH"
   },
   "outputs": [],
   "source": [
    "using System.Collections;\n",
    "using System.Collections.Generic;\n",
    "using UnityEngine;\n",
    "\n",
    "public class HelloWorld : MonoBehaviour\n",
    "{\n",
    "\n",
    "    int frameCount = 0;\n",
    "\n",
    "    // Start is called before the first frame update\n",
    "    void Start()\n",
    "    {\n",
    "\n",
    "    }\n",
    "\n",
    "    // Update is called once per frame\n",
    "    void Update()\n",
    "    {\n",
    "        frameCount++;\n",
    "        Debug.Log(frameCount);\n",
    "    }\n",
    "}"
   ]
  },
  {
   "cell_type": "markdown",
   "metadata": {
    "colab_type": "text",
    "id": "nWfPnTB52Sa8"
   },
   "source": [
    "# Concept 3: Vectors and Input\n",
    "\n",
    "---\n",
    "### **Vectors**\n",
    "\n",
    "There are several important classes that are used often in scripting. The first we'll cover is **Vectors**. A **vector**, in the context of computer science, is a finite ordered sequence of numbers. Each of the Position, Rotation, and Scale properties of the Transform component is a vector with three elements: the x-value, the y-value, and the z-value.\n",
    "\n",
    "The UnityEngine namespace provides vector classes that allow us to create and use vectors as objects in our scripts. To create a new vector object with three elements, we may write the following line:"
   ]
  },
  {
   "cell_type": "code",
   "execution_count": null,
   "metadata": {
    "colab": {},
    "colab_type": "code",
    "id": "CsmaItAD41EQ"
   },
   "outputs": [],
   "source": [
    "Vector3 vector = new Vector3(0, 0, 0);"
   ]
  },
  {
   "cell_type": "markdown",
   "metadata": {
    "colab_type": "text",
    "id": "tg8dGKAM47so"
   },
   "source": [
    "We declare a variable of type Vector3 to store a vector with three elements, and we use the *new* keyword to create a new **instance** of the Vector3 class.\n",
    "\n",
    "Notice that the last term in the line above, *Vector3(0, 0, 0)*, looks like a call to a function. This is a special type of function called a **constructor** that, when called with the *new* keyword in front, creates a new instance of the class. Vector3's constructor takes as input three values, one for each of its three elements.\n",
    "\n",
    "We access any one of a Vector3's three elements using the same dot notation as above:"
   ]
  },
  {
   "cell_type": "code",
   "execution_count": null,
   "metadata": {
    "colab": {},
    "colab_type": "code",
    "id": "uUr0lboT6E1F"
   },
   "outputs": [],
   "source": [
    "float xValue = vector.x;\n",
    "float yValue = vector.y;\n",
    "float zValue = vector.z;\n"
   ]
  },
  {
   "cell_type": "markdown",
   "metadata": {
    "colab_type": "text",
    "id": "iAuYlx-N6p6-"
   },
   "source": [
    "Vector3 objects are most often interpreted in the context of x-, y-, and z-coordinates in your game. A Vector3 with values (x, y, z) is represented in the coordinate system as an arrow pointing and extending from the origin, (0, 0, 0), to the point (x, y, z).\n",
    "\n",
    "![](https://drive.google.com/uc?id=1BqIc1lbZrJkKRonA1CtWUd6s8yGNv3ea)\n",
    "\n",
    "Even in 2D games, where there is no depth, we use Vector3 objects and set their z-values to zero. In Unity 2D, we look straight at the x-y plane down the z-axis, with the y-values increasing upwards along the y-axis, x-values increasing from left to right along the x-axis, and the origin in the center of the screen. Thus, the vector (0, 1, 0) represents the up direction and (1, 0, 0) representing the right direction.\n",
    "\n",
    "The Vector3 class also provides shortcuts for creating these common vectors and more. Some of these are:"
   ]
  },
  {
   "cell_type": "code",
   "execution_count": null,
   "metadata": {
    "colab": {},
    "colab_type": "code",
    "id": "GDCxNqr87tr2"
   },
   "outputs": [],
   "source": [
    "Vector3 zeroVector = Vector3.zero;      // (0, 0, 0)\n",
    "Vector3 oneVector = Vector3.one;        // (1, 1, 1)\n",
    "Vector3 upVector = Vector3.up;          // (0, 1, 0)\n",
    "Vector3 downVector = Vector3.down;      // (0, -1, 0)\n",
    "Vector3 leftVector = Vector3.left;      // (-1, 0, 0)"
   ]
  },
  {
   "cell_type": "markdown",
   "metadata": {
    "colab_type": "text",
    "id": "-gZIVJzT_UfW"
   },
   "source": [
    "We can also do math with vectors. The plus sign operator can be used to add vectors:"
   ]
  },
  {
   "cell_type": "code",
   "execution_count": null,
   "metadata": {
    "colab": {},
    "colab_type": "code",
    "id": "HSlHr4ZI_62v"
   },
   "outputs": [],
   "source": [
    "Vector3 one = new Vector3(1, 2, 3);\n",
    "Vector3 two = new Vector3(5, 6, 7);\n",
    "Debug.Log(one + two);"
   ]
  },
  {
   "cell_type": "markdown",
   "metadata": {
    "colab_type": "text",
    "id": "6WcEHgj1AETz"
   },
   "source": [
    "The code above prints the vector (6, 8, 10) to the console. Subtraction works in the same way with the subtraction sign operator.\n",
    "\n",
    "We can use these operators, as well as the multiplication and division operators, with constants as well. The following code multiplies each element of *vector* by three:"
   ]
  },
  {
   "cell_type": "code",
   "execution_count": null,
   "metadata": {
    "colab": {},
    "colab_type": "code",
    "id": "OducOZqMFvWS"
   },
   "outputs": [],
   "source": [
    "Vector3 vector = new Vector(1, 2, 3);\n",
    "vector *= 3;   // (3, 6, 9)"
   ]
  },
  {
   "cell_type": "markdown",
   "metadata": {
    "colab_type": "text",
    "id": "vGV4qlJ4F3FP"
   },
   "source": [
    "We can also change the individual elements of a vector in the same ways that we reassign variables. The code below creates a new vector with values (1, 2, 3), and then adds one to the x-value, resulting in the vector (2, 2, 3)."
   ]
  },
  {
   "cell_type": "code",
   "execution_count": null,
   "metadata": {
    "colab": {},
    "colab_type": "code",
    "id": "1iXI8cp5C2El"
   },
   "outputs": [],
   "source": [
    "Vector3 vector = new Vector3(1, 2, 3);\n",
    "vector.x++;"
   ]
  },
  {
   "cell_type": "markdown",
   "metadata": {
    "colab_type": "text",
    "id": "fSrtgEcTDBkz"
   },
   "source": [
    "## Practice Together #4\n",
    "\n",
    "---\n",
    "\n",
    "**Problem:** We can move objects my moving them a little bit in each call to Update, as described in the previous concept. Create a script that moves an object to the right as the game runs."
   ]
  },
  {
   "cell_type": "markdown",
   "metadata": {
    "colab_type": "text",
    "id": "ogemBGqgD8gt"
   },
   "source": [
    "##### **Solution**"
   ]
  },
  {
   "cell_type": "markdown",
   "metadata": {
    "colab_type": "text",
    "id": "6ZQ_ixDgEAta"
   },
   "source": [
    "Moving an object is equivalent to changing its position. So, all we need to do is change the Position vector of the Transform component in our Update function to move our character.\n",
    "\n",
    "*Note: Unity does not allow you to change the individual values of the Transform property vectors. You must reassign these vectors.*\n",
    "\n",
    "First, try adding the right vector to the Position vector by adding the following line to the Update function of a new script:"
   ]
  },
  {
   "cell_type": "code",
   "execution_count": null,
   "metadata": {
    "colab": {},
    "colab_type": "code",
    "id": "9-ixJqIoGXe9"
   },
   "outputs": [],
   "source": [
    "transform.position += Vector3.right;"
   ]
  },
  {
   "cell_type": "markdown",
   "metadata": {
    "colab_type": "text",
    "id": "KzHpii-oGcqO"
   },
   "source": [
    "Go back to the Unity editor and click play. Your character should zoom off the right side of the screen. This movement is likely way too quick for your game. If we reduce the elements of our vector that we're adding to the position by the same scale, we'll have a smaller vector in the same direction. In other words, our object will still move to the right, just less so on each call to update.\n",
    "\n",
    "Write something like the following script, and click play to see your character move slowly to the right in your game:"
   ]
  },
  {
   "cell_type": "code",
   "execution_count": null,
   "metadata": {
    "colab": {},
    "colab_type": "code",
    "id": "fvojxWk6HWHY"
   },
   "outputs": [],
   "source": [
    "using System.Collections;\n",
    "using System.Collections.Generic;\n",
    "using UnityEngine;\n",
    "\n",
    "public class Move : MonoBehaviour\n",
    "{\n",
    "\n",
    "    // Start is called before the first frame update\n",
    "    void Start()\n",
    "    {\n",
    "\n",
    "    }\n",
    "\n",
    "    // Update is called once per frame\n",
    "    void Update()\n",
    "    {\n",
    "        transform.position += (Vector3.right * 0.01f);\n",
    "    }\n",
    "}"
   ]
  },
  {
   "cell_type": "markdown",
   "metadata": {
    "colab_type": "text",
    "id": "lrxYZkW6H4BT"
   },
   "source": [
    "---\n",
    "### **Input**\n",
    "\n",
    "Unity provides another extremely useful class called **Input**. This class, naturally, allows your games to take input from users. Input can come in many forms, including keyboard presses and mouse clicks.\n",
    "\n",
    "The Input class has several functions that we can call to check if keys on the keyboard are pressed. We'll most often use the *GetDown* function, which returns *true* if the key that we give the function as input is held down on the frame in which the function is called, and *false* otherwise. In order to give the function a key to check, we use the **KeyCode** class' names for keys on the keyboard.\n",
    "\n",
    "The code below prints \"A is down!\" to the console if the 'A' key is held down on the frame during which the GetDown function is called, and prints \"A is not down.\" otherwise."
   ]
  },
  {
   "cell_type": "code",
   "execution_count": null,
   "metadata": {
    "colab": {},
    "colab_type": "code",
    "id": "GbK-bXaOKaN2"
   },
   "outputs": [],
   "source": [
    "if(Input.GetDown(KeyCode.A))\n",
    "{\n",
    "    Debug.Log(\"A is down!\");\n",
    "}\n",
    "else\n",
    "{\n",
    "    Debug.Log(\"A is not down.\");\n",
    "}"
   ]
  },
  {
   "cell_type": "markdown",
   "metadata": {
    "colab_type": "text",
    "id": "y8MRDEUILRic"
   },
   "source": [
    "## Practice Together #5\n",
    "\n",
    "---\n",
    "\n",
    "**Problem:** Create a script that moves a character to the right whenever the user holds the 'R' key down."
   ]
  },
  {
   "cell_type": "markdown",
   "metadata": {
    "colab_type": "text",
    "id": "cUxChZjGLeVc"
   },
   "source": [
    "##### **Solution**"
   ]
  },
  {
   "cell_type": "markdown",
   "metadata": {
    "colab_type": "text",
    "id": "nQigh46nLg5z"
   },
   "source": [
    "Your script should look something like this:"
   ]
  },
  {
   "cell_type": "code",
   "execution_count": null,
   "metadata": {
    "colab": {},
    "colab_type": "code",
    "id": "qWF0ki0YLjIt"
   },
   "outputs": [],
   "source": [
    "using System.Collections;\n",
    "using System.Collections.Generic;\n",
    "using UnityEngine;\n",
    "\n",
    "public class Move : MonoBehaviour\n",
    "{\n",
    "\n",
    "    // Start is called before the first frame update\n",
    "    void Start()\n",
    "    {\n",
    "\n",
    "    }\n",
    "\n",
    "    // Update is called once per frame\n",
    "    void Update()\n",
    "    {\n",
    "        if(Input.GetKey(KeyCode.R))\n",
    "        {\n",
    "            transform.position += (Vector3.right * 0.01f);\n",
    "        }\n",
    "    }\n",
    "}\n"
   ]
  },
  {
   "cell_type": "markdown",
   "metadata": {
    "colab_type": "text",
    "id": "6uifDLI8rZ3E"
   },
   "source": [
    "# Tutorial: Walking Through Character Movement  \n",
    "---"
   ]
  },
  {
   "cell_type": "markdown",
   "metadata": {
    "colab_type": "text",
    "id": "P09OauSorXKG"
   },
   "source": [
    "# ACTIVITIES\n",
    "---"
   ]
  },
  {
   "cell_type": "markdown",
   "metadata": {
    "colab_type": "text",
    "id": "2llwKK-ZQHuv"
   },
   "source": [
    "## Activity #1\n",
    "\n",
    "---\n",
    "\n",
    "**Problem:** Create a script that implements character movement. Your character should move in the appropriate directions when the user presses the arrow keys. You should also make a *Speed* property that can be edited in the Inspector and affects the character's speed.\n",
    "\n",
    "*Note: The KeyCodes for the arrow keys are KeyCode.LeftArrow, KeyCode.RightArrow, KeyCode.UpArrow, and KeyCode.DownArrow.*\n",
    "\n",
    "*Note: Unity offers a different update function called FixedUpdate for handling collisions more smoothly. Movement will work if implemented in the Update function, but you might get some glitchy collisions. It's best to code your movement in FixedUpdate.*"
   ]
  },
  {
   "cell_type": "markdown",
   "metadata": {
    "colab_type": "text",
    "id": "UALOI0yFQplJ"
   },
   "source": [
    "##### **Solution**"
   ]
  },
  {
   "cell_type": "markdown",
   "metadata": {
    "colab_type": "text",
    "id": "PlFK55MhQrm2"
   },
   "source": [
    "First, let's implement movement using the strategy we used above. Here's what that Update function would look like:"
   ]
  },
  {
   "cell_type": "code",
   "execution_count": null,
   "metadata": {
    "colab": {},
    "colab_type": "code",
    "id": "wIvWcDp_SEG5"
   },
   "outputs": [],
   "source": [
    "void FixedUpdate()\n",
    "{\n",
    "    if (Input.GetKey(KeyCode.LeftArrow))\n",
    "        transform.position += (Vector3.left * 0.01f);\n",
    "\n",
    "    if (Input.GetKey(KeyCode.RightArrow))\n",
    "        transform.position += (Vector3.right * 0.01f);\n",
    "\n",
    "    if (Input.GetKey(KeyCode.UpArrow))\n",
    "        transform.position += (Vector3.up * 0.01f);\n",
    "\n",
    "    if (Input.GetKey(KeyCode.DownArrow))\n",
    "        transform.position += (Vector3.down * 0.01f);\n",
    "}"
   ]
  },
  {
   "cell_type": "markdown",
   "metadata": {
    "colab_type": "text",
    "id": "z5XcqKtWTLPZ"
   },
   "source": [
    "To clean this up a bit and reduce duplicate code, let's create a new variable for a vector that we'll add to transform.position at the end:"
   ]
  },
  {
   "cell_type": "code",
   "execution_count": null,
   "metadata": {
    "colab": {},
    "colab_type": "code",
    "id": "FHhOXKKkTkme"
   },
   "outputs": [],
   "source": [
    "void FixedUpdate()\n",
    "{\n",
    "    Vector3 direction = new Vector3(0, 0, 0);\n",
    "\n",
    "    if (Input.GetKey(KeyCode.LeftArrow))\n",
    "        direction += Vector3.left;\n",
    "\n",
    "    if (Input.GetKey(KeyCode.RightArrow))\n",
    "        direction += Vector3.right;\n",
    "\n",
    "    if (Input.GetKey(KeyCode.UpArrow))\n",
    "        direction += Vector3.up;\n",
    "\n",
    "    if (Input.GetKey(KeyCode.DownArrow))\n",
    "        direction += Vector3.down;\n",
    "\n",
    "    transform.position += direction * 0.01f;\n",
    "}"
   ]
  },
  {
   "cell_type": "markdown",
   "metadata": {
    "colab_type": "text",
    "id": "L195Cw-4TyKU"
   },
   "source": [
    "Finally, we want the speed to be an editable property. As we've previously seen, the scale (0.01f above) is what determines the speed. Let's replace 0.01f with a *speed* variable, which we'll define as a public variable at the top of our script.\n",
    "\n",
    "Your script should look something like this:"
   ]
  },
  {
   "cell_type": "code",
   "execution_count": null,
   "metadata": {
    "colab": {},
    "colab_type": "code",
    "id": "-r7evwO0UC_t"
   },
   "outputs": [],
   "source": [
    "using System.Collections;\n",
    "using System.Collections.Generic;\n",
    "using UnityEngine;\n",
    "\n",
    "public class Move : MonoBehaviour\n",
    "{\n",
    "\n",
    "    public float speed = 0.01f;\n",
    "\n",
    "    // Start is called before the first frame update\n",
    "    void Start()\n",
    "    {\n",
    "\n",
    "    }\n",
    "\n",
    "    void FixedUpdate()\n",
    "    {\n",
    "        Vector3 direction = new Vector3(0, 0, 0);\n",
    "\n",
    "        if (Input.GetKey(KeyCode.LeftArrow))\n",
    "            direction += Vector3.left;\n",
    "\n",
    "        if (Input.GetKey(KeyCode.RightArrow))\n",
    "            direction += Vector3.right;\n",
    "\n",
    "        if (Input.GetKey(KeyCode.UpArrow))\n",
    "            direction += Vector3.up;\n",
    "\n",
    "        if (Input.GetKey(KeyCode.DownArrow))\n",
    "            direction += Vector3.down;\n",
    "\n",
    "        transform.position += direction * speed;\n",
    "    }\n",
    "}"
   ]
  },
  {
   "cell_type": "markdown",
   "metadata": {
    "colab_type": "text",
    "id": "ltI_1vcGUGSM"
   },
   "source": [
    "Try clicking play and changing the speed property in the Inspector as you move!"
   ]
  },
  {
   "cell_type": "markdown",
   "metadata": {
    "colab_type": "text",
    "id": "XVZSwEx5zA6v"
   },
   "source": [
    "## Activity #2\n",
    "\n",
    "---\n",
    "\n",
    "**Problem:** Add a new script to the Main Camera that makes the camera follow the player object's position.\n",
    "\n",
    "*Hint: Make a public Transform variable and drag you player object into the new field in the Inspector to access the player object's Transform position in the script.*"
   ]
  },
  {
   "cell_type": "markdown",
   "metadata": {
    "colab_type": "text",
    "id": "tdpKdyJ8zsJg"
   },
   "source": [
    "##### **Solution**"
   ]
  },
  {
   "cell_type": "markdown",
   "metadata": {
    "colab_type": "text",
    "id": "2ADqgkzhztO5"
   },
   "source": [
    "Will add a walkthrough here...for now, here's the script:"
   ]
  },
  {
   "cell_type": "code",
   "execution_count": null,
   "metadata": {
    "colab": {},
    "colab_type": "code",
    "id": "oThL0itWzxuj"
   },
   "outputs": [],
   "source": [
    "using System.Collections;\n",
    "using System.Collections.Generic;\n",
    "using UnityEngine;\n",
    "\n",
    "public class CameraFollow : MonoBehaviour\n",
    "{\n",
    "\n",
    "    public Transform player;\n",
    "    public Vector3 offset;\n",
    "\n",
    "    // Start is called before the first frame update\n",
    "    void Start()\n",
    "    {\n",
    "        \n",
    "    }\n",
    "\n",
    "    void Update()\n",
    "    {\n",
    "        transform.position = new Vector3(player.position.x + offset.x, player.position.y + offset.y, transform.position.z); // Camera follows the player with specified offset position\n",
    "    }\n",
    "}\n"
   ]
  },
  {
   "cell_type": "markdown",
   "metadata": {
    "colab_type": "text",
    "id": "Kx52kWI4rLRg"
   },
   "source": [
    "# Homework\n",
    "---"
   ]
  }
 ],
 "metadata": {
  "colab": {
   "collapsed_sections": [
    "uHTwA6K218gT",
    "Hkr_SNufPEHm",
    "ogemBGqgD8gt"
   ],
   "name": "U1L4 - Scripting.ipynb",
   "provenance": []
  },
  "kernelspec": {
   "display_name": "Python 3",
   "language": "python",
   "name": "python3"
  },
  "language_info": {
   "codemirror_mode": {
    "name": "ipython",
    "version": 3
   },
   "file_extension": ".py",
   "mimetype": "text/x-python",
   "name": "python",
   "nbconvert_exporter": "python",
   "pygments_lexer": "ipython3",
   "version": "3.7.6"
  }
 },
 "nbformat": 4,
 "nbformat_minor": 1
}
