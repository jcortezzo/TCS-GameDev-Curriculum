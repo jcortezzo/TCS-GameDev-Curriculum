{
 "cells": [
  {
   "cell_type": "markdown",
   "metadata": {
    "colab_type": "text",
    "id": "ijAwfSuLsf_p"
   },
   "source": [
    "# Unit 1 Lesson 8 - Object Generation\n",
    "In this lesson, we'll learn how to populate and depopulate our Unity scene with GameObjects and Prefabs.\n",
    "\n",
    "\n",
    "---\n",
    "\n",
    "# Learning Objectives\n",
    "---\n",
    "\n",
    "*   Students will learn about the relationship of GameObjects and Prefabs\n",
    "*   Students will learn about the essential methods for instantiating and destroying objects in a scene\n",
    "\n",
    "# Key Concepts\n",
    "---\n",
    "\n",
    "*   GameObjects and Prefabs\n",
    "*   Instantiate(), Destroy(), OnDestroy()"
   ]
  },
  {
   "cell_type": "markdown",
   "metadata": {
    "colab_type": "text",
    "id": "-O16dXPxUp7u"
   },
   "source": [
    "# Introduction\n",
    "\n",
    "---\n",
    "\n"
   ]
  },
  {
   "cell_type": "markdown",
   "metadata": {
    "colab_type": "text",
    "id": "DtMw8wTiUqYC"
   },
   "source": [
    "So far, we've populated our Unity scene or \"level\" with different entities simply by creating empty GameObjects and then editing them in the scene. This was a great approach for creating a single level, but what if we wanted to create another one? We would have to create another player in that new scene with what we have now. Imagine making an enemy, you probably don't want just one enemy in your scene, but you also don't want to have to create it from scratch for each time you want to make an enemy. We will fix this with a concept called Prefabs (shorthand for the term \"Prefabricated\")."
   ]
  },
  {
   "cell_type": "markdown",
   "metadata": {
    "colab_type": "text",
    "id": "N48Zm3JDVrqa"
   },
   "source": [
    "# Concept 1: Prefabs\n",
    "\n",
    "---\n",
    "### **Prefabs**\n",
    "\n",
    "An entity in a scene is called a GameObject. The player, all enemies, and even the ground below you in a platformer are all GameObjects within a Unity scene. A Prefab, on the other hand, is like a blueprint for a GameObject. A Prefab essentially defines how to create a certain type of GameObject. This is really useful if you want to create the same GameObject multiple times. If you want to have multiple enemies in a scene, instead of just recreating the enemy each time, you can make a Prefab called \"Enemy\" that defines the properties of the enemy. You can then drag this Prefab into the scene multiple times to make multiple different GameObject enemies.\n",
    "\n",
    "## Walkthrough: Creating a Prefab from an Existing GameObject\n",
    "\n",
    "1.   First, make sure there is a GameObject defined in the scene. Before, we have worked on the \"Goomba\" GameObject, now let's make a Prefab called \"Goomba\". For organization's sake, create a folder inside of your Resources folder called \"Prefabs\".\n",
    "\n",
    "<img src=\"https://github.com/jcortezzo/TCS-GameDev-Curriculum/blob/master/Unit%201/Images/notfoundimg.jpg?raw=true\" alt=\"Drawing\" style=\"width: 300px;\"/>\n",
    "\n",
    "2.   Next, select the Goomba GameObject from the scene hierarchy and drag it down into the Prefabs folder. You should see a new file in the Prefab folder named whatever your GameObject was named. You should also notice that the file name is in blue, signifying that this file is in fact a Prefab.\n",
    "\n",
    "<img src=\"https://github.com/jcortezzo/TCS-GameDev-Curriculum/blob/master/Unit%201/Images/notfoundimg.jpg?raw=true\" alt=\"Drawing\" style=\"width: 300px;\"/>\n",
    "\n",
    "3.   If you want to change a property of the Goomba, make sure that you change it in the Prefab, not in the GameObject in your scene. Changing the GameObject in your scene will only change that specific GameObject, not other Goombas. To edit a Prefab, simply double click it in your Prefabs folder. If you accidentally edit a GameObject and want to apply the changes to all other GameObjects (note, this will also affect the Prefab), on the top right of the inspector you should see a dropdown button that says \"Overrides\". After clicking that, you can hit \"Apply All\" to apply your changes to that GameObject to the Prefab and all other GameObjects that come from that Prefab, or you can hit \"Revert All\" to make your GameObject exactly the same as the original Prefab.\n",
    "\n",
    "<img src=\"https://github.com/jcortezzo/TCS-GameDev-Curriculum/blob/master/Unit%201/Images/notfoundimg.jpg?raw=true\" alt=\"Drawing\" style=\"width: 300px;\"/>"
   ]
  },
  {
   "cell_type": "markdown",
   "metadata": {
    "colab_type": "text",
    "id": "IiSekqMRgJh2"
   },
   "source": [
    "## Practice Together #1\n",
    "\n",
    "---\n",
    "\n",
    "**Problem:** Create a Player Prefab.\n",
    "\n",
    "*Note: If you only have one level, you might think this is useless. It's always good to make GameObjects into Prefabs in case you want more of them in the future. Even if you don't plan on making more levels, making Prefabs is good Unity style as it clearly defines what sorts of entities are in your game without having to look in separate scenes.*"
   ]
  },
  {
   "cell_type": "markdown",
   "metadata": {
    "colab_type": "text",
    "id": "pGPzzs5BhHzh"
   },
   "source": [
    "##### **Solution**"
   ]
  },
  {
   "cell_type": "code",
   "execution_count": null,
   "metadata": {},
   "outputs": [],
   "source": []
  },
  {
   "cell_type": "raw",
   "metadata": {
    "colab_type": "text",
    "id": "3Yzg0DrjhIb2"
   },
   "source": [
    "1.   Drag the Player GameObject in your scene into the Prefabs folder.\n",
    "\n"
   ]
  },
  {
   "cell_type": "markdown",
   "metadata": {
    "colab_type": "text",
    "id": "JGMGPHbGjUA6"
   },
   "source": [
    "# Concept 2: Creating and Destroying Objects in Scripts\n",
    "\n",
    "---\n",
    "### **Creating and Destroying Objects in Scripts**\n",
    "\n",
    "So far, we've either created a GameObject from scratch or we've dragged in Prefabs to populate our Unity scene. But what if we want to make a GameObject some time while the game is running? What if we want to get rid of a GameObject while the game is running? We will learn about three methods that help us do just that, Instantiate(), Destroy(), and OnDestroy().\n",
    "\n",
    "#### **Instantiate()**\n",
    "The Instantiate() method will allow us to create any GameObject at the time of execution. If Mario wanted to throw a fireball, for example, you would want to first create a Fireball Prefab, then call Instantiate() while passing in the Prefab to create the Fireball.\n",
    "\n",
    "#### **Destroy()**\n",
    "The Destroy() method will allow us to destroy a GameObject at the time of execution. Destroy() takes in a parameter of the GameObject you want to destroy and an optional parameter of how long to wait before destroying that GameObject. If we want the Fireball mentioned above to be destroyed after 3 seconds of being thrown, we can call Destroy(fireball, 3f) to make that happen (the variable fireball here is of type GameObject, which we will discuss in the walkthrough).\n",
    "\n",
    "#### **OnDestroy()**\n",
    "The OnDestroy() method will allow us to define behavior right before a GameObject's destruction. In other words, OnDestroy() will be called right before Destroy() is called. If you wanted to have the Fireball mentioned above play some fizzling out animation before just disappearing, you could call a certain animation to play in Fireball's OnDestroy() method.\n",
    "\n",
    "## Walkthrough: Instantiate() and Destroy() for a Fireball\n",
    "\n",
    "1.   First, let's create a Fireball GameObject. Fireball will have a SpriteRenderer, a CircleCollider2D, a Rigidbody2D, and a script that you should create called \"Fireball.cs\". Drag the Fireball GameObject down to the Prefabs folder to make a Prefab also called \"Fireball\". Recall that this Fireball's name will be in blue to signify that it is a Prefab.\n",
    "\n",
    "2.   Let's define behavior for Fireball. In Fireball.cs, simply set it to move in any direction for now. This can be refined later to correspond with Mario's direction, but will take some working around of the code. For now, let's just focus on instantiating it in the scene. Recall that to make something move, we should simply give its rigidbody the velocity of some vector.\n",
    "\n",
    "3.   For now, we'll just make the fireball disappear when it hits an enemy or a wall. To do this, we'll define the method OnCollisionEnter2D(), test to see if the collision is with a wall or with an enemy, and put Destroy(this.gameObject) if it is. gameObject is a field that every MonoBehavior Object has a reference to which refers to the GameObject that the script is attached to. The this keyword is just to make it clear that gameObject is a field, Destroy(gameObject) will work equally well.\n",
    "\n",
    "<img src=\"https://github.com/jcortezzo/TCS-GameDev-Curriculum/blob/master/Unit%201/Images/notfoundimg.jpg?raw=true\" alt=\"Drawing\" style=\"width: 300px;\"/>\n",
    "\n",
    "4.   Next, we need to make it so that Mario can actually shoot a Fireball. In the Player script, detect a key of your choice in Update() (just as you did with movement earlier), and if it's pressed, call Instantiate(). You'll notice that Instantiate() requires parameters. Firstly, it accepts an Object that it is going to instantiate. We will need to pass in our Fireball Prefab for this. To do this, create a new field of type GameObject named fireball. Make sure this field is either public or serializable so that it shows in the inspector. In the inspector, drag in the Fireball prefab to the fireball field. With that hooked up, you can now use pass in fireball as a parameter to the Instantiate() method that you called. One common overloads for Instantiate() is the ability to pass a Vector3 and a Quaternion. Vector3 will let you define the position at which to Instantiate the Object, and Quaternion will let you define that Object's rotation.\n",
    "\n",
    "<img src=\"https://github.com/jcortezzo/TCS-GameDev-Curriculum/blob/master/Unit%201/Images/notfoundimg.jpg?raw=true\" alt=\"Drawing\" style=\"width: 300px;\"/>"
   ]
  },
  {
   "cell_type": "markdown",
   "metadata": {
    "colab_type": "text",
    "id": "kd6n7aZfaBv0"
   },
   "source": [
    "## Practice Together #2\n",
    "\n",
    "---\n",
    "\n",
    "**Problem:** Create a Goomba spawner"
   ]
  },
  {
   "cell_type": "markdown",
   "metadata": {
    "colab_type": "text",
    "id": "Y9IxMfODNB2v"
   },
   "source": [
    "## Activity #1\n",
    "\n",
    "---\n",
    "\n",
    "**Problem:** Create a Goomba spawner"
   ]
  }
 ],
 "metadata": {
  "colab": {
   "collapsed_sections": [],
   "name": "U1L6 - UI.ipynb",
   "provenance": []
  },
  "kernelspec": {
   "display_name": "Python 3",
   "language": "python",
   "name": "python3"
  },
  "language_info": {
   "codemirror_mode": {
    "name": "ipython",
    "version": 3
   },
   "file_extension": ".py",
   "mimetype": "text/x-python",
   "name": "python",
   "nbconvert_exporter": "python",
   "pygments_lexer": "ipython3",
   "version": "3.7.6"
  }
 },
 "nbformat": 4,
 "nbformat_minor": 1
}
