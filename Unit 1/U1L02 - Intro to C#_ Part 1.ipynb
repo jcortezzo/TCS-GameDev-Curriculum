{
 "cells": [
  {
   "cell_type": "markdown",
   "metadata": {
    "colab_type": "text",
    "id": "GgR1dlmRvaaR"
   },
   "source": [
    "# Unit 1: Lesson 2 - Intro to C Sharp: Part 1\n",
    "In this lesson, we'll introduce students to C# scripting and demonstrate how powerful coding is in game development.\n",
    "\n",
    "\n",
    "---\n",
    "\n",
    "# Learning Objectives\n",
    "---\n",
    "\n",
    "*   Students will learn what C# is and how useful it is in game development and beyond.\n",
    "*   Students will learn the basic syntax and concepts of C#.\n",
    "\n",
    "# Key Concepts\n",
    "---\n",
    "\n",
    "*   Namespaces, classes, and inheritance\n",
    "*   Comments\n",
    "*   Functions\n",
    "\n",
    "\n",
    "\n"
   ]
  },
  {
   "cell_type": "markdown",
   "metadata": {
    "colab_type": "text",
    "id": "tOhYaL5pNKxL"
   },
   "source": [
    "# Introduction\n",
    "\n",
    "---\n",
    "\n"
   ]
  },
  {
   "cell_type": "markdown",
   "metadata": {
    "colab_type": "text",
    "id": "JOYHPDZRUzAy"
   },
   "source": [
    "C# is a programming language created by Microsoft and used widely in web and game development. Today, we'll be working through the Unity script template to start learning the basic concepts and tools of C#. By the end of the next couple lessons, you'll be able to write a script that defines player movement in your game in Unity!\n",
    "\n",
    "To begin, create and open a new script."
   ]
  },
  {
   "cell_type": "markdown",
   "metadata": {
    "colab_type": "text",
    "id": "rpgHIbROwNC_"
   },
   "source": [
    "# Concept 1: Namespaces, Classes, and Inheritance\n",
    "\n",
    "---\n",
    "### **Namespaces, Classes, and Inheritance**\n",
    "\n",
    "The first few lines of the script template contain the keyword *using* followed a word and a semicolon:\n",
    "\n",
    "\n"
   ]
  },
  {
   "cell_type": "code",
   "execution_count": null,
   "metadata": {
    "colab": {},
    "colab_type": "code",
    "id": "Q-0C57PSuqUE"
   },
   "outputs": [],
   "source": [
    "using System.Collections;\n",
    "using System.Collections.Generic;\n",
    "using UnityEngine;"
   ]
  },
  {
   "cell_type": "markdown",
   "metadata": {
    "colab_type": "text",
    "id": "z-o8NWXxuu8k"
   },
   "source": [
    "Any line of code in C# that contains a complete idea ends with a semicolon. Think of it like the period at the end of a sentence. The *using* keyword here indicates that this script will use code from other C# programs. These other programs are called **namespaces**. Think of it as importing a set of tools for us to use in our code.\n",
    "\n",
    "Next we have the following line:"
   ]
  },
  {
   "cell_type": "code",
   "execution_count": null,
   "metadata": {
    "colab": {},
    "colab_type": "code",
    "id": "kNkYbKFvW-11"
   },
   "outputs": [],
   "source": [
    "public class HelloWorld : MonoBehaviour"
   ]
  },
  {
   "cell_type": "markdown",
   "metadata": {
    "colab_type": "text",
    "id": "C3CTfL7CXGbm"
   },
   "source": [
    "This line defines a **class**, which is simply a container for all the functionality that we'll implement in our script. *public* is an **access modifier** that determines what kind of access other C# programs have to the code in this class. Other **access modifiers** such as *private* and *protected* exist, but we'll mostly just use *public*. The *class* keyword tells the computer that we're creating a class. *HelloWorld* is the name of the class, which Unity automatically matches to the name of the script that we created in the Unity editor. The colon and *MonoBehaviour* indicate that this class **inherits** from the MonoBehaviour class. This is similar to using a namespace; our HelloWorld class has all of the functionality of Unity's MonoBehaviour class in addition to whatever functionality we add.\n",
    "\n",
    "The rest of the script is contained in a set of curly braces. This set of curly braces contains the *body* of the HelloWorld class. The body of a class defines all of its data and functionality."
   ]
  },
  {
   "cell_type": "markdown",
   "metadata": {
    "colab_type": "text",
    "id": "E9fHYSKdxJaX"
   },
   "source": [
    "# Concept 2: Comments\n",
    "\n",
    "---\n",
    "### **Comments**\n",
    "**Comments** allow us to label sections of our code and can also help with debugging, or finding the source of errors. When a computer executes, or runs, a program, it will run every line of code in the program unless told otherwise. Adding two slashes at the beginning of any line of code will make that line a comment and will tell the computer to skip over that line when executing the program. This means we can type whatever we want after a // and the program won't be affected. We can also add // at the beginning of any line of code that we think might be causing problems to skip over it and see if the problem goes away. To comment out multiple lines of code, type a slash then an asterisk just before the code you want to comment out, and an asterisk then a slash right after that code.\n",
    "\n",
    "\n"
   ]
  },
  {
   "cell_type": "code",
   "execution_count": null,
   "metadata": {
    "colab": {},
    "colab_type": "code",
    "id": "X8AsmWy2b1mx"
   },
   "outputs": [],
   "source": [
    "// The following code is not commented out\n",
    "Debug.Log(\"Hello!\");\n",
    "\n",
    "// The following code is commented out\n",
    "/*\n",
    "Debug.Log(\"Goodbye!\");\n",
    "Debug.Log(\"See ya!\");\n",
    "*/"
   ]
  },
  {
   "cell_type": "markdown",
   "metadata": {
    "colab_type": "text",
    "id": "VCze_-AWvE_Y"
   },
   "source": [
    "# Concept 3: Functions\n",
    "\n",
    "---\n",
    "### **Functions**\n",
    "\n",
    "The next few lines of code define a **function**:"
   ]
  },
  {
   "cell_type": "code",
   "execution_count": null,
   "metadata": {
    "colab": {},
    "colab_type": "code",
    "id": "XqP-YVm7vZEM"
   },
   "outputs": [],
   "source": [
    "// Start is called before the first frame update\n",
    "void Start()\n",
    "{\n",
    "    \n",
    "}"
   ]
  },
  {
   "cell_type": "markdown",
   "metadata": {
    "colab_type": "text",
    "id": "f7NFvYEZvb4N"
   },
   "source": [
    "A **function** is a chunk of code that can be reused throughout your program. Think of a function like a repeatable set of steps. For example, what are the steps to make a peanut-butter and jelly sandwich?\n",
    "\n",
    "1.   Get two slices of bread.\n",
    "2.   Spread peanut-butter on one slice.\n",
    "3.   Spread jelly on the other slice.\n",
    "4.   Flip one slice on top of the other.\n",
    "\n",
    "In code, we might want to define a function called MakeSandwich that contains steps 1-4 above, so that any time we *call* MakeSandwich in our program, the computer will make a sandwich by executing steps 1-4.\n",
    "\n",
    "In the code above, we define a function called Start. As the comment describes, the Start function is called by Unity before the first frame update, which means that Unity will execute whatever code is in the definition of the Start function just as the game starts.\n",
    "\n",
    "Functions in C# can take input and return output. We'll learn more about this later, but the keyword *void* simply tells the computer that this function returns no output. We then specify the name of the function; here, the function is called Start. The parentheses in Start() are there to take input, which we'll learn about later. There is nothing in these parentheses, which tells the computer that the Start function takes no input. The rest of the function definition is surrounded by curly braces; this is the *body* of the function. By default, the Start function has no code in its body, so it does nothing.\n",
    "\n",
    "In Lesson 1, we added the following line of code to the *body* of the Start function:\n",
    "\n"
   ]
  },
  {
   "cell_type": "code",
   "execution_count": null,
   "metadata": {
    "colab": {},
    "colab_type": "code",
    "id": "8wKUsOV2yq6L"
   },
   "outputs": [],
   "source": [
    "Debug.Log(\"Hello world!\");"
   ]
  },
  {
   "cell_type": "markdown",
   "metadata": {
    "colab_type": "text",
    "id": "KA_TR62GywmB"
   },
   "source": [
    "In order to call a function that is defined in a different class, we first write the class name, then a dot, then the function name, and then finally a set of parentheses with whatever input we might want to give to the function. In this case, Debug is a class in the UnityEngine namespace. The dot tells the computer to call a function that is defined in the Debug class. Log is a function that is defined in the Debug class; it contains code that tells Unity to print whatever text we give it as input to the console. The \"Hello world!\" in the parentheses is the input that we give to the Log function, so whenever the computer executes the line of code above, it will tell Unity to print \"Hello world!\" to the console.\n",
    "\n",
    "The default Unity script contains another function definition:"
   ]
  },
  {
   "cell_type": "code",
   "execution_count": null,
   "metadata": {
    "colab": {},
    "colab_type": "code",
    "id": "bKawWiRpzpoc"
   },
   "outputs": [],
   "source": [
    "// Update is called once per frame\n",
    "  void Update()\n",
    "  {\n",
    "      \n",
    "  }"
   ]
  },
  {
   "cell_type": "markdown",
   "metadata": {
    "colab_type": "text",
    "id": "MwZCgyCnztfB"
   },
   "source": [
    "We'll learn what this function is used for later."
   ]
  },
  {
   "cell_type": "markdown",
   "metadata": {
    "colab_type": "text",
    "id": "uUV-ch60_oBz"
   },
   "source": [
    "## Practice Together #1\n",
    "\n",
    "---\n",
    "\n",
    "**Problem:** Create a new script and add code so that, upon starting a game, Unity prints your full name to the console.\n"
   ]
  },
  {
   "cell_type": "markdown",
   "metadata": {
    "colab_type": "text",
    "id": "qtamSwy2SWYV"
   },
   "source": [
    "##### **Solution**"
   ]
  },
  {
   "cell_type": "markdown",
   "metadata": {
    "colab_type": "text",
    "id": "78D8kCvm_3sn"
   },
   "source": [
    "Create a new script in the Unity editor using Add Component, and edit the script, opening it in a code editor. Then, add the following line of code to the body of the Start function:"
   ]
  },
  {
   "cell_type": "code",
   "execution_count": null,
   "metadata": {
    "colab": {},
    "colab_type": "code",
    "id": "SNO9RteF0WEU"
   },
   "outputs": [],
   "source": [
    "Debug.Log(\"FIRSTNAME LASTNAME\");"
   ]
  },
  {
   "cell_type": "markdown",
   "metadata": {
    "colab_type": "text",
    "id": "yJ_o3BN70bx7"
   },
   "source": [
    "The whole script should look like this:"
   ]
  },
  {
   "cell_type": "code",
   "execution_count": null,
   "metadata": {
    "colab": {},
    "colab_type": "code",
    "id": "jNcqemOf0ePn"
   },
   "outputs": [],
   "source": [
    "using System.Collections;\n",
    "using System.Collections.Generic;\n",
    "using UnityEngine;\n",
    "\n",
    "public class HelloWorld : MonoBehaviour\n",
    "{\n",
    "    // Start is called before the first frame update\n",
    "    void Start()\n",
    "    {\n",
    "        Debug.Log(\"FIRSTNAME LASTNAME\");\n",
    "    }\n",
    "\n",
    "    // Update is called once per frame\n",
    "    void Update()\n",
    "    {\n",
    "        \n",
    "    }\n",
    "}"
   ]
  },
  {
   "cell_type": "markdown",
   "metadata": {
    "colab_type": "text",
    "id": "0w_mv6BV0jhf"
   },
   "source": [
    "Check your work by saving the script, returning to the Unity editor, and clicking the play button at the top of the screen. Then check the console by clicking the Console tab in the bottom section of the Unity editor."
   ]
  },
  {
   "cell_type": "markdown",
   "metadata": {
    "colab_type": "text",
    "id": "URXozi3TRXsT"
   },
   "source": [
    "## Practice Together #2\n",
    "\n",
    "---\n",
    "\n",
    "**Problem:** Add a comment above your Debug line to describe what that line of code does.\n"
   ]
  },
  {
   "cell_type": "markdown",
   "metadata": {
    "colab_type": "text",
    "id": "1ERYfY2RRlNZ"
   },
   "source": [
    "##### **Solution**"
   ]
  },
  {
   "cell_type": "markdown",
   "metadata": {
    "colab_type": "text",
    "id": "NFa6DrBKRmCM"
   },
   "source": [
    "Your script should look something like this:"
   ]
  },
  {
   "cell_type": "code",
   "execution_count": null,
   "metadata": {
    "colab": {},
    "colab_type": "code",
    "id": "SbNLAcN829JH"
   },
   "outputs": [],
   "source": [
    "using System.Collections;\n",
    "using System.Collections.Generic;\n",
    "using UnityEngine;\n",
    "\n",
    "public class HelloWorld : MonoBehaviour\n",
    "{\n",
    "    // Start is called before the first frame update\n",
    "    void Start()\n",
    "    {\n",
    "        // This line prints my name to the console\n",
    "        Debug.Log(\"FIRSTNAME LASTNAME\");\n",
    "    }\n",
    "\n",
    "    // Update is called once per frame\n",
    "    void Update()\n",
    "    {\n",
    "        \n",
    "    }\n",
    "}"
   ]
  },
  {
   "cell_type": "markdown",
   "metadata": {
    "colab_type": "text",
    "id": "c_IvPuSl_u8n"
   },
   "source": [
    "## Exercise #1\n",
    "\n",
    "---\n",
    "\n",
    "**Problem:** The Debug class has another function called LogError that will print an error message to the console. You can give the error message you want to be printed as input to the function, just like the Log function takes input to print to the console. Add code to your script that prints an error message to the console that says \"FIRSTNAME LASTNAME has detected an error!\" upon starting the game, where FIRSTNAME LASTNAME is your full name."
   ]
  },
  {
   "cell_type": "markdown",
   "metadata": {
    "colab_type": "text",
    "id": "YjJslgIgSW8s"
   },
   "source": [
    "##### **Solution**"
   ]
  },
  {
   "cell_type": "markdown",
   "metadata": {
    "colab_type": "text",
    "id": "_BhOnpK9JuW1"
   },
   "source": [
    "Add the following line of code to the body of the Start method:"
   ]
  },
  {
   "cell_type": "code",
   "execution_count": null,
   "metadata": {
    "colab": {},
    "colab_type": "code",
    "id": "JUcZvDUo2NTI"
   },
   "outputs": [],
   "source": [
    "Debug.LogError(\"FIRSTNAME LASTNAME has detected an error!\");"
   ]
  },
  {
   "cell_type": "markdown",
   "metadata": {
    "colab_type": "text",
    "id": "MNOgvFaZ2WZZ"
   },
   "source": [
    "The whole script should look like this:"
   ]
  },
  {
   "cell_type": "code",
   "execution_count": null,
   "metadata": {
    "colab": {},
    "colab_type": "code",
    "id": "TDPFPAvR2ZSb"
   },
   "outputs": [],
   "source": [
    "using System.Collections;\n",
    "using System.Collections.Generic;\n",
    "using UnityEngine;\n",
    "\n",
    "public class HelloWorld : MonoBehaviour\n",
    "{\n",
    "    // Start is called before the first frame update\n",
    "    void Start()\n",
    "    {\n",
    "        Debug.LogError(\"FIRSTNAME LASTNAME has detected an error!\");\n",
    "    }\n",
    "\n",
    "    // Update is called once per frame\n",
    "    void Update()\n",
    "    {\n",
    "        \n",
    "    }\n",
    "}"
   ]
  },
  {
   "cell_type": "markdown",
   "metadata": {
    "colab_type": "text",
    "id": "pjB3GD2a2biI"
   },
   "source": [
    "Save the code, click the play button in the Unity editor, and check the console to see what error messages look like in Unity."
   ]
  },
  {
   "cell_type": "markdown",
   "metadata": {
    "colab_type": "text",
    "id": "cAWxIp0fO3WM"
   },
   "source": [
    "## Exercise #2\n",
    "\n",
    "---\n",
    "\n",
    "**Problem:** Add a new function definition above Start that prints \"Hello!\" to the console. Call this function in the body of the Start function.\n",
    "\n",
    "*Note: To call a function that is defined in the class you're coding in, simply type the name of the function followed by parentheses.*"
   ]
  },
  {
   "cell_type": "markdown",
   "metadata": {
    "colab_type": "text",
    "id": "a8U-kJvzSXhv"
   },
   "source": [
    "##### **Solution**"
   ]
  },
  {
   "cell_type": "markdown",
   "metadata": {
    "colab_type": "text",
    "id": "Wfp02uSIKpVn"
   },
   "source": [
    "Your script should look something like this:"
   ]
  },
  {
   "cell_type": "code",
   "execution_count": null,
   "metadata": {
    "colab": {},
    "colab_type": "code",
    "id": "Tbmv4CFOZLV0"
   },
   "outputs": [],
   "source": [
    "using System.Collections;\n",
    "using System.Collections.Generic;\n",
    "using UnityEngine;\n",
    "\n",
    "public class HelloWorld : MonoBehaviour\n",
    "{\n",
    "\n",
    "    void printHello()\n",
    "    {\n",
    "        Debug.Log(\"Hello!\");\n",
    "    }\n",
    "\n",
    "    // Start is called before the first frame update\n",
    "    void Start()\n",
    "    {\n",
    "        printHello();\n",
    "    }\n",
    "\n",
    "    // Update is called once per frame\n",
    "    void Update()\n",
    "    {\n",
    "        \n",
    "    }\n",
    "}"
   ]
  },
  {
   "cell_type": "markdown",
   "metadata": {
    "colab_type": "text",
    "id": "4zyLYfy7lvAO"
   },
   "source": [
    "# ACTIVITIES\n",
    "\n",
    "---\n",
    "\n"
   ]
  },
  {
   "cell_type": "markdown",
   "metadata": {
    "colab_type": "text",
    "id": "RCelsKoxOlbu"
   },
   "source": [
    "## Activity #1\n",
    "\n",
    "---\n",
    "\n"
   ]
  },
  {
   "cell_type": "markdown",
   "metadata": {
    "colab_type": "text",
    "id": "RR4RTq5IyKiB"
   },
   "source": [
    "#### **Problem**"
   ]
  },
  {
   "cell_type": "markdown",
   "metadata": {
    "colab_type": "text",
    "id": "vbFaFqrdOnVn"
   },
   "source": [
    "## Activity #2\n",
    "\n",
    "---\n",
    "\n"
   ]
  },
  {
   "cell_type": "markdown",
   "metadata": {
    "colab_type": "text",
    "id": "3i0OwT8gyWbI"
   },
   "source": [
    "#### **Problem**"
   ]
  },
  {
   "cell_type": "markdown",
   "metadata": {
    "colab_type": "text",
    "id": "MXa2lp8HOo-b"
   },
   "source": [
    "## Activity #3\n",
    "\n",
    "---\n"
   ]
  },
  {
   "cell_type": "markdown",
   "metadata": {
    "colab_type": "text",
    "id": "a65XIZcEyfnz"
   },
   "source": [
    "#### **Problem**"
   ]
  },
  {
   "cell_type": "markdown",
   "metadata": {
    "colab_type": "text",
    "id": "QachYljvlpjl"
   },
   "source": [
    "# Mini-Project\n",
    "\n",
    "---\n",
    "\n",
    "**Problem:** \n",
    "\n",
    "Instructions:\n",
    "\n",
    "\n",
    "1.   List item\n",
    "2.   List item\n",
    "\n",
    "\n",
    "**Solution**"
   ]
  },
  {
   "cell_type": "code",
   "execution_count": null,
   "metadata": {
    "colab": {},
    "colab_type": "code",
    "id": "PPQBYErFxVGU"
   },
   "outputs": [],
   "source": []
  },
  {
   "cell_type": "markdown",
   "metadata": {
    "colab_type": "text",
    "id": "Z7_VAstGxSXz"
   },
   "source": [
    "# Check In\n",
    "---\n",
    "\n",
    "\n",
    "\n",
    "1.   List item\n",
    "2.   List item\n"
   ]
  },
  {
   "cell_type": "markdown",
   "metadata": {
    "colab_type": "text",
    "id": "SYRAvaMKg39A"
   },
   "source": [
    "##### **Solutions**"
   ]
  },
  {
   "cell_type": "code",
   "execution_count": null,
   "metadata": {
    "colab": {},
    "colab_type": "code",
    "id": "AA-U_DFAxqig"
   },
   "outputs": [],
   "source": [
    "#solution for #1\n",
    "CODE"
   ]
  },
  {
   "cell_type": "code",
   "execution_count": null,
   "metadata": {
    "colab": {},
    "colab_type": "code",
    "id": "Nosz17uGxtzW"
   },
   "outputs": [],
   "source": [
    "#solution for #2\n",
    "CODE"
   ]
  },
  {
   "cell_type": "markdown",
   "metadata": {
    "colab_type": "text",
    "id": "QZa33I9Ogwwu"
   },
   "source": [
    "# Resources\n",
    "---\n",
    "* Resource 1\n",
    "* Resource 2"
   ]
  },
  {
   "cell_type": "markdown",
   "metadata": {
    "colab_type": "text",
    "id": "jUo9f6njpclK"
   },
   "source": [
    "# Lab\n",
    "---"
   ]
  },
  {
   "cell_type": "markdown",
   "metadata": {
    "colab_type": "text",
    "id": "TApYaxKL_Yp6"
   },
   "source": [
    "# Homework\n",
    "\n",
    "\n",
    "---\n",
    "*make homework 20-30 minutes - should start off with very simple exercises*  \n",
    "\n",
    "\n"
   ]
  },
  {
   "cell_type": "markdown",
   "metadata": {
    "colab_type": "text",
    "id": "DGJAseXFy7q6"
   },
   "source": [
    "#### **Problems**\n"
   ]
  },
  {
   "cell_type": "markdown",
   "metadata": {
    "colab_type": "text",
    "id": "80096dnBzJ0t"
   },
   "source": [
    "1. \n",
    "2.\n",
    "3.  "
   ]
  },
  {
   "cell_type": "markdown",
   "metadata": {
    "colab_type": "text",
    "id": "ajcnVXNozEVn"
   },
   "source": [
    "#### **Solutions**"
   ]
  },
  {
   "cell_type": "markdown",
   "metadata": {
    "colab_type": "text",
    "id": "Z-XVmUOPzFi2"
   },
   "source": [
    "1. "
   ]
  },
  {
   "cell_type": "code",
   "execution_count": null,
   "metadata": {
    "colab": {},
    "colab_type": "code",
    "id": "zNuf0wW3zF99"
   },
   "outputs": [],
   "source": [
    "SOLUTION for 1"
   ]
  },
  {
   "cell_type": "markdown",
   "metadata": {
    "colab_type": "text",
    "id": "MafAclH-zGdr"
   },
   "source": [
    "2. "
   ]
  },
  {
   "cell_type": "code",
   "execution_count": null,
   "metadata": {
    "colab": {},
    "colab_type": "code",
    "id": "hyHViCwSzHK5"
   },
   "outputs": [],
   "source": [
    "SOLUTION for 2"
   ]
  }
 ],
 "metadata": {
  "colab": {
   "collapsed_sections": [
    "DGJAseXFy7q6",
    "ajcnVXNozEVn"
   ],
   "name": "U1L2 - Intro to C#: Part 1",
   "provenance": [
    {
     "file_id": "1wTOXceYloRfuTRsnNv0XtMsXl-HkZpJZ",
     "timestamp": 1590954817017
    },
    {
     "file_id": "1XbrfMAnPMr1N7TbUU2tH8Ia2ORQp0cAL",
     "timestamp": 1584918005357
    },
    {
     "file_id": "1ozPIctFfa53BO5Usnbr94_JjXMNbIxra",
     "timestamp": 1574738192487
    },
    {
     "file_id": "1gSBU9VGq0-5NUEs78T4n6ZapRqsvLsLY",
     "timestamp": 1571732871640
    }
   ]
  },
  "kernelspec": {
   "display_name": "Python 3",
   "language": "python",
   "name": "python3"
  },
  "language_info": {
   "codemirror_mode": {
    "name": "ipython",
    "version": 3
   },
   "file_extension": ".py",
   "mimetype": "text/x-python",
   "name": "python",
   "nbconvert_exporter": "python",
   "pygments_lexer": "ipython3",
   "version": "3.7.6"
  }
 },
 "nbformat": 4,
 "nbformat_minor": 1
}
