{
 "cells": [
  {
   "cell_type": "markdown",
   "metadata": {
    "colab_type": "text",
    "id": "xYwsvBIMGHRW"
   },
   "source": [
    "# Unit 1: Lesson 5 - Unity 2D Physics\n",
    "In this lesson, we'll return to the Unity editor to learn about 2D physics that will allow are game objects to collide and interact with each other.\n",
    "\n",
    "\n",
    "---\n",
    "\n",
    "# Learning Objectives\n",
    "---\n",
    "\n",
    "*   Students will learn how to implement gravity and collisions in their 2D games.\n",
    "\n",
    "# Key Concepts\n",
    "---\n",
    "\n",
    "*   Rigidbody and Collider components\n",
    "*   Collision detection"
   ]
  },
  {
   "cell_type": "markdown",
   "metadata": {
    "colab_type": "text",
    "id": "f1it25q9HbOA"
   },
   "source": [
    "# Introduction\n",
    "\n",
    "---\n",
    "\n"
   ]
  },
  {
   "cell_type": "markdown",
   "metadata": {
    "colab_type": "text",
    "id": "coXOtMvlHckM"
   },
   "source": [
    "Many 2D games follow the basic principles of physics involving gravity, friction, and Newton's laws of motion. It would take quite a bit of work for us to code these laws every time we want to create a game. Luckily, Unity provides components that implements these physics for us. Let's take a look at a couple of these components, and how we can use them to implement the basic physics for a platformer game."
   ]
  },
  {
   "cell_type": "markdown",
   "metadata": {
    "colab_type": "text",
    "id": "zHOlq5rTI4qq"
   },
   "source": [
    "# Concept 1: The Rigidbody and Collider Components\n",
    "\n",
    "---\n",
    "### **The Rigidbody and Collider Components**\n",
    "\n",
    "*Note: Check the Unit 1 Assets folder for images for your sprites!*\n",
    "\n",
    "First, let's set up a basic platformer environment in our game. Add a character sprite and a ground sprite underneath it. Your environment should look something like this:\n",
    "\n",
    "![](https://drive.google.com/uc?id=1Mcj776kl5-HC-9kHZJaQowzFDzeNpkue)\n",
    "\n",
    "If you press play, the two sprites will, of course, stay still on the screen and nothing else will happen. We need to add a component called **Rigidbody** to any objects in our scene that we want to follow basic physics.\n",
    "\n",
    "## Walkthrough: Adding the Rigidbody and Collider Components\n",
    "\n",
    "1.   Select your character game object by clicking on the sprite in the game editor or by clicking on the game object by name in the game hierarchy on the right. Then, in the inspector, click Add Component and search for Rigidbody. Choose Rigidbody 2D.\n",
    "\n",
    "![](https://drive.google.com/uc?id=1Y13zorLydC0mNrllUCJdfgSlIUuNIUZX)\n",
    "\n",
    "Click play and watch what happens: your character falls right past the ground and off the bottom of the screen! Now that you've added the Rigidbody 2D component to your character, your character experiences the basic effects of physics including gravity.\n",
    "\n",
    "Notice that one of the properties of the Rigidbody 2D component is *Gravity Scale*, which is set to 1 by default. If you change the Gravity Scale value to 0, your character won't be affected by gravity.\n",
    "\n",
    "You can also restrict your character from rotating, which is useful for platformers and many other types of games. Expand the *Constraints* section of the Rigidbody 2D component and check the *Z* box next to *Freeze Rotation*.\n",
    "\n",
    "Now we need our objects to collide with each other.\n",
    "\n",
    "2.   Add a Rigidbody 2D component to the ground object so that it, too, is affected by physics. If you click play now, both your character and the ground will fall off the screen! This isn't what we want, of course. For now, change the Gravity Scale of the ground to 0. We'll see in the next steps that this solution won't work for our collisions, but for now, it keeps our ground from falling. Click play and watch your character fall off the screen without colliding with the ground.\n",
    "\n",
    "3.   Even with physics affecting both the character and ground objects, our objects won't collide unless we add a **Collider** component to each. A Collider component draws a boundary around our object, which we can then use to take different actions in our game if other objects intersect with it. Select your character object and search for Collider. There are many different Collider components. Most of them only differ in the shape of the boundary that they draw around your object. Since our Link character is roughly a rectangle, the Box Collider 2D is the most appropriate component. Add it to our player object.\n",
    "\n",
    "![](https://drive.google.com/uc?id=1RA1M81BA33inSspw_nrg2EW7v20X7UnR)\n",
    "\n",
    "4.   Objects with Colliders will only collide with other objects with Colliders, so we need to add a Collider to our ground object too. Add a Box Collider 2D to your ground. The Box Collider 2D draws the boundary around the perimeter of the sprite image. Often times, your object is smaller than the image that represents it. See how in the picture below, the green perimeter of the ground image is much taller than the ground itself. We need to edit our boundary to tightly surround the ground object. Click the *Edit Collider* button in the Box Collider 2D component in the Inspector, and adjust the size of the collider, the green border in the game editor.\n",
    "\n",
    "![](https://drive.google.com/uc?id=1IrwKb3k-m5eiZvJnq1BhTYv6J9Pc6AIW)\n",
    "\n",
    "Now, your character should collide with the ground. Click play and watch what happens: the character falls and lands on the ground, but the ground is sent off the screen! We need the ground to be immovable, to behave as if it has infinite mass. Select the ground object, and in the Rigidbody 2D component, change the *Body Type* from *Dynamic* to *Static*. This will make the ground immovable. Click play and watch your character land perfectly on the ground!\n",
    "\n",
    "![](https://drive.google.com/uc?id=1cJtl7JR8mTpiE0zLIlwdnv0PQD-0gJX1)\n",
    "\n"
   ]
  },
  {
   "cell_type": "markdown",
   "metadata": {
    "colab_type": "text",
    "id": "H9sHw9zGhBMZ"
   },
   "source": [
    "## Practice Together #1\n",
    "\n",
    "---\n",
    "\n",
    "**Problem:** Turn off the gravity for your player sprite. Then, have a new object fall on top of the player sprite, forcing it to the ground."
   ]
  },
  {
   "cell_type": "markdown",
   "metadata": {
    "colab_type": "text",
    "id": "IcR9bVgpjPTB"
   },
   "source": [
    "##### **Solution**"
   ]
  },
  {
   "cell_type": "markdown",
   "metadata": {
    "colab_type": "text",
    "id": "iAVpT3PQjP6U"
   },
   "source": [
    "Start with your player sprite and the ground laid out in the scene as in the walkthrough above, each with Rigidbody and Collider components. Set the Gravity Scale property of the player sprite's Rigidbody 2D component to 0. Then, add a new object directly above your character sprite. Add a Rigidbody 2D component and leave the Gravity Scale property set to 1. Add a Collider component and edit the collider boundary appropriately. Then press play and the new object should fall on the character sprite, forcing it to the ground.\n",
    "\n",
    "Your scene should look something like this:\n",
    "\n",
    "![](https://drive.google.com/uc?id=1b9Pun6ejfBaHtJCqlo2RFCmE8wy9K9m2)"
   ]
  },
  {
   "cell_type": "markdown",
   "metadata": {
    "colab_type": "text",
    "id": "y1YrtR8csa1r"
   },
   "source": [
    "## Exercise #1\n",
    "\n",
    "---\n",
    "\n",
    "**Problem:** Create a scene where it's raining cats and dogs. You should have clouds, falling cats and dogs, and a ground.\n",
    "\n",
    "*Note: You can select an object and type CTRL-D or CMD-D to duplicate it.*"
   ]
  },
  {
   "cell_type": "markdown",
   "metadata": {
    "colab_type": "text",
    "id": "UMHKJJWEsnvq"
   },
   "source": [
    "##### **Solution**"
   ]
  },
  {
   "cell_type": "markdown",
   "metadata": {
    "colab_type": "text",
    "id": "pGWccjmxsqbQ"
   },
   "source": [
    "Create a new scene. Add a ground sprite with a Rigidbody 2D component with Body Type set to static and a Box Collider 2D, and a few cloud sprites with a Rigidbody 2D component with Body Type set to static. Your cloud objects don't need a Collider component. Then, add many cat and dog objects, each with Rigidbody 2D and Box Collider 2D components.\n",
    "\n",
    "Your scene should look something like this:\n",
    "\n",
    "![](https://drive.google.com/uc?id=12cc3X7fFQFmH5pwpKpsmimvsXN12z09U)"
   ]
  },
  {
   "cell_type": "markdown",
   "metadata": {
    "colab_type": "text",
    "id": "51GZCoWwkNTh"
   },
   "source": [
    "# Concept 2: Collision Detection\n",
    "\n",
    "---\n",
    "### **Collision Detection**\n",
    "\n",
    "In addition to using Rigidbody and Collider components to simulate physics, we can use collision detection to trigger events in our code. Let's write a script that forces our main character to respawn every time they collide with an enemy.\n",
    "\n",
    "## Walkthrough: Adding the Rigidbody and Collider Components\n",
    "\n",
    "1.   First, let's set up our scene. We'll need:\n",
    "-   A ground sprite with a Collider 2D and a Rigid Body 2D with Static Body Type.\n",
    "-   A main character sprite with a Collider 2D and a Rigid Body 2D with Dynamic Body Type.\n",
    "-   An enemy sprite with a Collider 2D and a Rigid Body 2D with Dynamic Body Type.\n",
    "\n",
    "Your scene should look something like this:\n",
    "\n",
    "![](https://drive.google.com/uc?id=1hXT6QOG_2rhJKatOQ7_cJfMqXqsgp2bq)\n",
    "\n",
    "2.   Add your movement script from the last lesson to your character sprite. Your script should look something like this:"
   ]
  },
  {
   "cell_type": "code",
   "execution_count": null,
   "metadata": {
    "colab": {},
    "colab_type": "code",
    "id": "nmAGbrDWNTTN"
   },
   "outputs": [],
   "source": [
    "using System.Collections;\n",
    "using System.Collections.Generic;\n",
    "using UnityEngine;\n",
    "\n",
    "public class Move : MonoBehaviour\n",
    "{\n",
    "\n",
    "    public float speed = 0.1f;\n",
    "\n",
    "    // Start is called before the first frame update\n",
    "    void Start()\n",
    "    {\n",
    "\n",
    "    }\n",
    "\n",
    "    // Update is called once per frame\n",
    "    void FixedUpdate()\n",
    "    {\n",
    "        Vector3 direction = new Vector3(0, 0, 0);\n",
    "\n",
    "        if (Input.GetKey(KeyCode.LeftArrow))\n",
    "            direction += Vector3.left;\n",
    "\n",
    "        if (Input.GetKey(KeyCode.RightArrow))\n",
    "            direction += Vector3.right;\n",
    "\n",
    "        if (Input.GetKey(KeyCode.UpArrow))\n",
    "            direction += Vector3.up;\n",
    "\n",
    "        if (Input.GetKey(KeyCode.DownArrow))\n",
    "            direction += Vector3.down;\n",
    "\n",
    "        transform.position += direction * speed;\n",
    "    }\n",
    "}"
   ]
  },
  {
   "cell_type": "markdown",
   "metadata": {
    "colab_type": "text",
    "id": "lPDUJmjzNeq9"
   },
   "source": [
    "3.   We'll need to write a new script that respawns the character at a certain position any time it collides with an enemy. To do this, we'll need to add a **tag** to any object that we want to be recognized as an enemy. To add a tag to an object, select the object, then click the *Untagged* dropdown next to *Tag*, then select *Add Tag...*. Finally, click the plus sign, type the name of your new tag and click *Save*. You'll need to select your enemy object again and select your new tag in the dropdown box. Add an \"Enemy\" tag to your enemy sprite.\n",
    "\n",
    "![](https://drive.google.com/uc?id=1FpLmZ-BCO6JsTlfb1CUVrTaS4Om0t240)\n",
    "\n",
    "4.  Now, let's create our script. Select your main character, click *Add Component*, and create a new script. Edit the script by clicking on the gear in the new component and selecting *Edit Script*.\n",
    "\n",
    "Unity has a function called OnCollisionEnter that allows us to write code that will execute any time our object collides with another object. Add the following function declaration below your Update function:"
   ]
  },
  {
   "cell_type": "code",
   "execution_count": null,
   "metadata": {
    "colab": {},
    "colab_type": "code",
    "id": "ddnx1r_fRJSJ"
   },
   "outputs": [],
   "source": [
    "private void OnCollisionEnter2D(Collision2D col)\n",
    "{\n",
    "    \n",
    "}"
   ]
  },
  {
   "cell_type": "markdown",
   "metadata": {
    "colab_type": "text",
    "id": "2vtv_rY5RMCK"
   },
   "source": [
    "This function takes an input variable of type Collision2D, which is a data type defined in the UnityEngine library that stores data about collisions. Any time an object collides with another object, Unity creates a new Collision2D that stores information about the collision. If you include the above function in your script, Unity will automatically call the function and input the resulting Collision2D. We'll refer to that Collision2D in the body of our OnCollisionEnter2D as col, but you can give it whatever name you want by replacing col with a new name in the parentheses.\n",
    "\n",
    "\n",
    "5.   Next, we want to check the tag of the object with which we have collided. Every Collision2D stores a GameObject called gameObject, which you can access by typing col.gameObject. This GameObject is the object with which we have collided. You can access gameObject's tag by attaching .tag. Let's check on each collision if gameObject's tag is equal to \"Enemy\":"
   ]
  },
  {
   "cell_type": "code",
   "execution_count": null,
   "metadata": {
    "colab": {},
    "colab_type": "code",
    "id": "rghJhTmkSmPM"
   },
   "outputs": [],
   "source": [
    "private void OnCollisionEnter2D(Collision2D col)\n",
    "{\n",
    "    if (col.gameObject.tag == \"Enemy\")\n",
    "    {\n",
    "        \n",
    "    }\n",
    "}"
   ]
  },
  {
   "cell_type": "markdown",
   "metadata": {
    "colab_type": "text",
    "id": "j29JIqmKSt1P"
   },
   "source": [
    "6.   Finally, we need to respawn the character back to a position if it collides with an object tagged \"Enemy\". Let's make the respawn position a public variable so we can edit it in the Inspector. Then, we can just set our transform.position equal to the respawn position! Your final script should look something like this:"
   ]
  },
  {
   "cell_type": "code",
   "execution_count": null,
   "metadata": {
    "colab": {},
    "colab_type": "code",
    "id": "Iq7EHbxJTFVn"
   },
   "outputs": [],
   "source": [
    "using System.Collections;\n",
    "using System.Collections.Generic;\n",
    "using UnityEngine;\n",
    "\n",
    "public class Respawn : MonoBehaviour\n",
    "{\n",
    "\n",
    "    public Vector3 respawnPosition;\n",
    "\n",
    "    // Start is called before the first frame update\n",
    "    void Start()\n",
    "    {\n",
    "        \n",
    "    }\n",
    "\n",
    "    // Update is called once per frame\n",
    "    void Update()\n",
    "    {\n",
    "\n",
    "    }\n",
    "\n",
    "    private void OnCollisionEnter2D(Collision2D col)\n",
    "    {\n",
    "        if (col.gameObject.tag == \"Enemy\")\n",
    "        {\n",
    "            transform.position = respawnPosition;\n",
    "        }\n",
    "    }\n",
    "}"
   ]
  },
  {
   "cell_type": "markdown",
   "metadata": {
    "colab_type": "text",
    "id": "a3vGTrPUTLvy"
   },
   "source": [
    "7.   Let's test it out. Return to the Unity environment and enter a respawn position in the Respawn component. You can just enter the position of the character in your scene if you want. Then, press play and run into the enemy. Your character should respawn on collision!"
   ]
  }
 ],
 "metadata": {
  "colab": {
   "collapsed_sections": [],
   "name": "U1L5 - Unity 2D Physics.ipynb",
   "provenance": []
  },
  "kernelspec": {
   "display_name": "Python 3",
   "language": "python",
   "name": "python3"
  },
  "language_info": {
   "codemirror_mode": {
    "name": "ipython",
    "version": 3
   },
   "file_extension": ".py",
   "mimetype": "text/x-python",
   "name": "python",
   "nbconvert_exporter": "python",
   "pygments_lexer": "ipython3",
   "version": "3.7.6"
  }
 },
 "nbformat": 4,
 "nbformat_minor": 1
}
