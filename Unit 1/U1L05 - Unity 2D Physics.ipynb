{
 "cells": [
  {
   "cell_type": "markdown",
   "metadata": {
    "colab_type": "text",
    "id": "xYwsvBIMGHRW"
   },
   "source": [
    "# Unit 1: Lesson 5 - Unity 2D Physics\n",
    "In this lesson, we'll return to the Unity editor to learn about 2D physics that will allow are game objects to collide and interact with each other.\n",
    "\n",
    "\n",
    "---\n",
    "\n",
    "# Learning Objectives\n",
    "---\n",
    "\n",
    "*   Students will learn how to implement gravity and collisions in their 2D games.\n",
    "\n",
    "# Key Concepts\n",
    "---\n",
    "\n",
    "*   Rigidbody and Collider components\n",
    "*   Collision detection"
   ]
  },
  {
   "cell_type": "markdown",
   "metadata": {
    "colab_type": "text",
    "id": "f1it25q9HbOA"
   },
   "source": [
    "# Introduction\n",
    "\n",
    "---\n",
    "\n"
   ]
  },
  {
   "cell_type": "markdown",
   "metadata": {
    "colab_type": "text",
    "id": "coXOtMvlHckM"
   },
   "source": [
    "Many 2D games follow the basic principles of physics involving gravity, friction, and Newton's laws of motion. It would take quite a bit of work for us to code these laws every time we want to create a game. Luckily, Unity provides components that implements these physics for us. Let's take a look at a couple of these components, and how we can use them to implement the basic physics for a platformer game."
   ]
  },
  {
   "cell_type": "markdown",
   "metadata": {
    "colab_type": "text",
    "id": "51GZCoWwkNTh"
   },
   "source": [
    "# Concept 1: Collision Detection\n",
    "\n",
    "---\n",
    "### **Collision Detection**\n",
    "\n",
    "In addition to using Rigidbody and Collider components to simulate physics, we can use collision detection to trigger events in our code. Let's write a script that forces our main character to respawn every time they collide with an enemy.\n",
    "\n",
    "## Walkthrough: Adding the Rigidbody and Collider Components\n",
    "\n",
    "1.   First, let's set up our scene. We'll need:\n",
    "-   A ground sprite with a Collider 2D and a Rigid Body 2D with Static Body Type.\n",
    "-   A main character sprite with a Collider 2D and a Rigid Body 2D with Dynamic Body Type.\n",
    "-   An enemy sprite with a Collider 2D and a Rigid Body 2D with Dynamic Body Type.\n",
    "\n",
    "Your scene should look something like this:\n",
    "\n",
    "![](https://drive.google.com/uc?id=1hXT6QOG_2rhJKatOQ7_cJfMqXqsgp2bq)\n",
    "\n",
    "2.   Add your movement script from the last lesson to your character sprite. Your script should look something like this:"
   ]
  },
  {
   "cell_type": "code",
   "execution_count": null,
   "metadata": {
    "colab": {},
    "colab_type": "code",
    "id": "nmAGbrDWNTTN"
   },
   "outputs": [],
   "source": [
    "using System.Collections;\n",
    "using System.Collections.Generic;\n",
    "using UnityEngine;\n",
    "\n",
    "public class Move : MonoBehaviour\n",
    "{\n",
    "\n",
    "    [SerializeField] private float speed = 0.1f;\n",
    "\n",
    "    // Start is called before the first frame update\n",
    "    void Start()\n",
    "    {\n",
    "\n",
    "    }\n",
    "\n",
    "\n",
    "    void FixedUpdate()\n",
    "    {\n",
    "        Vector3 direction = new Vector3(0, 0, 0);\n",
    "\n",
    "        if (Input.GetKey(KeyCode.LeftArrow))\n",
    "            direction += Vector3.left;\n",
    "\n",
    "        if (Input.GetKey(KeyCode.RightArrow))\n",
    "            direction += Vector3.right;\n",
    "\n",
    "        if (Input.GetKey(KeyCode.UpArrow))\n",
    "            direction += Vector3.up;\n",
    "\n",
    "        if (Input.GetKey(KeyCode.DownArrow))\n",
    "            direction += Vector3.down;\n",
    "\n",
    "        transform.position += direction * speed;\n",
    "    }\n",
    "}"
   ]
  },
  {
   "cell_type": "markdown",
   "metadata": {
    "colab_type": "text",
    "id": "lPDUJmjzNeq9"
   },
   "source": [
    "3.   We'll need to write a new script that respawns the character at a certain position any time it collides with an enemy. To do this, we'll need to add a **tag** to any object that we want to be recognized as an enemy. To add a tag to an object, select the object, then click the *Untagged* dropdown next to *Tag*, then select *Add Tag...*. Finally, click the plus sign, type the name of your new tag and click *Save*. You'll need to select your enemy object again and select your new tag in the dropdown box. Add an \"Enemy\" tag to your enemy sprite.\n",
    "\n",
    "![](https://drive.google.com/uc?id=1FpLmZ-BCO6JsTlfb1CUVrTaS4Om0t240)\n",
    "\n",
    "4.  Now, let's create our script. Select your main character, click *Add Component*, and create a new script. Edit the script by clicking on the gear in the new component and selecting *Edit Script*.\n",
    "\n",
    "Unity has a function called OnCollisionEnter that allows us to write code that will execute any time our object collides with another object. Add the following function declaration below your Update function:"
   ]
  },
  {
   "cell_type": "code",
   "execution_count": null,
   "metadata": {
    "colab": {},
    "colab_type": "code",
    "id": "ddnx1r_fRJSJ"
   },
   "outputs": [],
   "source": [
    "private void OnCollisionEnter2D(Collision2D col)\n",
    "{\n",
    "    \n",
    "}"
   ]
  },
  {
   "cell_type": "markdown",
   "metadata": {
    "colab_type": "text",
    "id": "2vtv_rY5RMCK"
   },
   "source": [
    "This function takes an input variable of type Collision2D, which is a data type defined in the UnityEngine library that stores data about collisions. Any time an object collides with another object, Unity creates a new Collision2D that stores information about the collision. If you include the above function in your script, Unity will automatically call the function and input the resulting Collision2D. We'll refer to that Collision2D in the body of our OnCollisionEnter2D as col, but you can give it whatever name you want by replacing col with a new name in the parentheses.\n",
    "\n",
    "\n",
    "5.   Next, we want to check the tag of the object with which we have collided. Every Collision2D stores a GameObject called gameObject, which you can access by typing col.gameObject. This GameObject is the object with which we have collided. You can access gameObject's tag by attaching .tag. Let's check on each collision if gameObject's tag is equal to \"Enemy\":"
   ]
  },
  {
   "cell_type": "code",
   "execution_count": null,
   "metadata": {
    "colab": {},
    "colab_type": "code",
    "id": "rghJhTmkSmPM"
   },
   "outputs": [],
   "source": [
    "private void OnCollisionEnter2D(Collision2D col)\n",
    "{\n",
    "    if (col.gameObject.tag == \"Enemy\")\n",
    "    {\n",
    "        \n",
    "    }\n",
    "}"
   ]
  },
  {
   "cell_type": "markdown",
   "metadata": {
    "colab_type": "text",
    "id": "j29JIqmKSt1P"
   },
   "source": [
    "6.   Finally, we need to respawn the character back to a position if it collides with an object tagged \"Enemy\". Let's make the respawn position a public variable so we can edit it in the Inspector. Then, we can just set our transform.position equal to the respawn position! Your final script should look something like this:"
   ]
  },
  {
   "cell_type": "code",
   "execution_count": null,
   "metadata": {
    "colab": {},
    "colab_type": "code",
    "id": "Iq7EHbxJTFVn"
   },
   "outputs": [],
   "source": [
    "using System.Collections;\n",
    "using System.Collections.Generic;\n",
    "using UnityEngine;\n",
    "\n",
    "public class Respawn : MonoBehaviour\n",
    "{\n",
    "\n",
    "    public Vector3 respawnPosition;\n",
    "\n",
    "    // Start is called before the first frame update\n",
    "    void Start()\n",
    "    {\n",
    "        \n",
    "    }\n",
    "\n",
    "    // Update is called once per frame\n",
    "    void Update()\n",
    "    {\n",
    "\n",
    "    }\n",
    "\n",
    "    private void OnCollisionEnter2D(Collision2D col)\n",
    "    {\n",
    "        if (col.gameObject.tag == \"Enemy\")\n",
    "        {\n",
    "            transform.position = respawnPosition;\n",
    "        }\n",
    "    }\n",
    "}"
   ]
  },
  {
   "cell_type": "markdown",
   "metadata": {
    "colab_type": "text",
    "id": "a3vGTrPUTLvy"
   },
   "source": [
    "7.   Let's test it out. Return to the Unity environment and enter a respawn position in the Respawn component. You can just enter the position of the character in your scene if you want. Then, press play and run into the enemy. Your character should respawn on collision!"
   ]
  },
  {
   "cell_type": "markdown",
   "metadata": {
    "colab_type": "text",
    "id": "51GZCoWwkNTh"
   },
   "source": [
    "# Concept 2: Unity's Built-In Physics\n",
    "\n",
    "---\n",
    "### **Rigidbody Physics**\n",
    "\n",
    "One painpoint of trying to make a game from scratch is implementing the game's physics engine. Imagine, for example, that you want to make a platformer game. You would have to program certain things like gravity, air drag, objects exerting force, etc., all from scratch. One nice thing about using the Unity engine is that you have the option of using Unity's built-in physics. Unity has already defined the interactions of physics objects with the properties defined above, and these are built into the Rigidbody and Rigidbody2D components. In order to declare an object as one that can utilize the built-in physics engine, you simply need to give the object a Rigidbody2D component (for a 2D game). While it's true that you can still opt to define your own physics in Unity and this often gives you more precise control of the systems of your game, using the default engine is usually recommended at least when first starting out.\n",
    "\n",
    "## Walkthrough: Revamping Movement\n",
    "\n",
    "Previously, we've implemented movement entirely by influencing the position field of the player's Transform. This, however, often does not play nice with Unity's physics engine. When we change the position of the player directly through the transform, this ignores physics entirely. Moving by utilizing the Transform's position can be thought of as teleporting the player in small increments. However, if we want the player to truly play by the rule's of Unity's physics engine, we should move the player through physics. Velocity is the property that controls an entity's speed and direction. Rigidbodies have this property and many more. We will be revamping our movement code to make use of the player's velocity.\n",
    "\n",
    "1.   With a Rigidbody2D already added to the player, we'll need a reference to it within our player script so that we can change its properties. To do this, we will make use of the GetComponent<E>() method. GetComponent<E>() returns the component E that is attached to the current GameObject that the script is attached to. A call on GetComponent<BoxCollider2D>() for example will return a reference to the BoxCollider2D on the GameObject that the script is currently acting on. If that component does not exist, the return value will instead be null. To get a reference to the Rigidbody2D, we will first make a Rigidbody2D field and then in Start() assign to it using GetComponent<E>(). Your Move script should now look like this."
   ]
  },
  {
   "cell_type": "code",
   "execution_count": null,
   "metadata": {},
   "outputs": [],
   "source": [
    "using System.Collections;\n",
    "using System.Collections.Generic;\n",
    "using UnityEngine;\n",
    "\n",
    "public class Move : MonoBehaviour\n",
    "{\n",
    "\n",
    "    private Rigidbody2D rb;\n",
    "\n",
    "    // Start is called before the first frame update\n",
    "    void Start()\n",
    "    {\n",
    "        rb = GetComponent<Rigidbody2D>();\n",
    "    }\n",
    "}"
   ]
  },
  {
   "cell_type": "markdown",
   "metadata": {
    "colab_type": "text",
    "id": "51GZCoWwkNTh"
   },
   "source": [
    "2.   Next, we will have to still poll input in the same way we were doing before. Since you've already seen using the arrow keys key by key to get input, we'll now introduce a bit quicker of a way to do this. Let's take a look at the code for this and then explain a bit after."
   ]
  },
  {
   "cell_type": "code",
   "execution_count": null,
   "metadata": {},
   "outputs": [],
   "source": [
    "using System.Collections;\n",
    "using System.Collections.Generic;\n",
    "using UnityEngine;\n",
    "\n",
    "public class Move : MonoBehaviour\n",
    "{\n",
    "    private Rigidbody2D rb;\n",
    "    [SerializeField] private float speed;\n",
    "\n",
    "    // Start is called before the first frame update\n",
    "    void Start()\n",
    "    {\n",
    "        rb = GetComponent<Rigidbody2D>();\n",
    "    }\n",
    "    \n",
    "    void FixedUpdate()\n",
    "    {\n",
    "        Walk();\n",
    "    }\n",
    "    \n",
    "    private void Walk()\n",
    "    {\n",
    "        float horizontal = Input.GetAxisRaw(\"Horizontal\");\n",
    "        float vertical   = Input.GetAxisRaw(\"Vertical\");\n",
    "        \n",
    "        Vector2 movement = new Vector2(horizontal, vertical);\n",
    "        movement.Normalize();\n",
    "        movement = movement * speed * Time.deltaTime;\n",
    "        \n",
    "        rb.velocity = movement;\n",
    "    }\n",
    "}"
   ]
  },
  {
   "cell_type": "markdown",
   "metadata": {
    "colab_type": "text",
    "id": "51GZCoWwkNTh"
   },
   "source": [
    "Explanation\n",
    "\n",
    "There is a bit to unpack here. First of all, our old way of polling input was very explicit and showed the exact logic and buttons that were going into moving. Unity, however, has nicer ways for us to implement this. GetAxisRaw() is a method that returns a float which represents a vector on a single axis, for us either the Horizontal (x) or Vertical (y) axes. Passing in the parameters \"Horizontal\" and \"Vertical\" will return us a float that essentially says which way and how much we're leaning on an axis, left or right for horizontal, and up or down for vertical. Unity by default knows that the arrow keys are tied to these axes which is why we don't need to explicitly poll for those keys. Those two lines with GetAxisRaw are essentially doing all the work our if / else branch was doing before but in a much more concise manner. \n",
    "\n",
    "The second odd change is that we are normalizing the movement vector by calling Normalize(). While the exact math behind it is not too necessary to understand, the important part about normalizing is that we will get a Vector with a standard length, length == 1. Basically, if you were to point exactly horizontally or exactly vertically, your movement vector would have a length of 1 either pointing straight up / down or straight to the side. However, when you point both horizontally and vertically at the same time, the way that vectors works makes it so this vector will NOT have a length of one, it will be longer. This means you would actually move faster while moving diagonally. To fix this, we normalize the movement vector before we do any calculations with it to make sure it always has the same length, length == 1.\n",
    "\n",
    "The last weird change is that we are now multiplying by Time.deltaTime. The reason we do this is to tie our physics engine to time, which is constant for everyone (unless you are in a space ship traveling close to the speed of light trying to recreate Mario). Before, our movement was tied simply to the number of frames that the player's computer was capable of, so a faster computer would be able to make the player move faster as a consequence. By multiplying by Time.deltaTime (which is the amount of time between frames), we are effectively equalizing all computers to run the physics in the same way.\n",
    "\n",
    "Lastly, we set the velocity of the Rigidbody2D equal to the movement vector we've produced. Here, you can see that we don't need to control the player's position at all! We simply modify certain physics properties about the player and let the game's physics engine decide the rest."
   ]
  },
  {
   "cell_type": "markdown",
   "metadata": {
    "colab_type": "text",
    "id": "51GZCoWwkNTh"
   },
   "source": [
    "## Walkthrough: Physics-Based Jump\n",
    "\n",
    "You may have noticed the jump we implemented earlier did not work as well as we'd probably hope it to. There are a few things wrong with it. For example, since we are teleporting our player upwards (a result of modifying Transform's position field), the jump goes up with a consistent velocity, making it seem a bit unnatural. Of course, this is because the jump is not tethered to our physics engine. With our new knowledge of Unity's physics engine, we will be able to fix this. Another crucial tool Rigidbodies provide for us is the AddForce() method. Add force does exactly what its name suggests, it adds force to object that the Rigidbody2D is attached to and lets the engine focus on the details like where the player goes and what the velocity is at different points in the jump.\n",
    "\n",
    "1.   First, we will get rid of the player's ability to control movement along the vertical axis. In a platformer, you only need control of the horizontal axis, then the ability to jump if you are pressing the jump button. Note that in the following code we pass in rb.velocity.y into the movement vector's y component. We do this to keep the player's y velocity to be what it was, we don't want the Move() method cancelling the y velocity, as then we'd get it so you can't fall for example while you're moving (if you were to say set it to zero instead). We have to make sure in this case we only multiply the horizontal value returned by speed and Time.deltaTime, NOT the entire vector so that we leave the y velocity untouched."
   ]
  },
  {
   "cell_type": "code",
   "execution_count": null,
   "metadata": {},
   "outputs": [],
   "source": [
    "using System.Collections;\n",
    "using System.Collections.Generic;\n",
    "using UnityEngine;\n",
    "\n",
    "public class Move : MonoBehaviour\n",
    "{\n",
    "    private Rigidbody2D rb;\n",
    "    [SerializeField] private float speed;\n",
    "\n",
    "    // Start is called before the first frame update\n",
    "    void Start()\n",
    "    {\n",
    "        rb = GetComponent<Rigidbody2D>();\n",
    "    }\n",
    "    \n",
    "    void FixedUpdate()\n",
    "    {\n",
    "        Walk();\n",
    "    }\n",
    "    \n",
    "    private void Walk()\n",
    "    {\n",
    "        float horizontal = Input.GetAxisRaw(\"Horizontal\");\n",
    "        \n",
    "        Vector2 movement = new Vector2(horizontal * speed * Time.deltaTime, rb.velocity.y);\n",
    "        \n",
    "        rb.velocity = movement;\n",
    "    }\n",
    "}"
   ]
  },
  {
   "cell_type": "markdown",
   "metadata": {
    "colab_type": "text",
    "id": "51GZCoWwkNTh"
   },
   "source": [
    "2.  Next, we will implement the jump motion itself. AddForce() takes in a vector which represents both the direction and amount to push the GameObject by. To customize this, we will create a field that represents the jump force and serialize it so that it appears in the inspector, much like how we did with the speed. We always want to jump upwards, so we will multiply this jump force by Vector2.up. Another point you'll see is that we also multiply this by rb.mass. This standardizes our force so that if we change the mass of our player later the physics we see in the game pertaining to the jump will be the same. Changing the mass may be something we do if we want the player to interact with other physics objects, such as a seesaw platform. One final thing to note is that we change the y velocity to zero before jumping. This assures that if something is currently exerting downwards force on you, it will not change your jump. Likewise, if you are already moving upwards when you jump, it won't make you do a super jump. Essentially, we do this to safeguard the jump height and make it consistent."
   ]
  },
  {
   "cell_type": "code",
   "execution_count": null,
   "metadata": {},
   "outputs": [],
   "source": [
    "using System.Collections;\n",
    "using System.Collections.Generic;\n",
    "using UnityEngine;\n",
    "\n",
    "public class Move : MonoBehaviour\n",
    "{\n",
    "    private Rigidbody2D rb;\n",
    "    [SerializeField] private float speed;\n",
    "    [SerializeField] private float jumpForce;\n",
    "\n",
    "    // Start is called before the first frame update\n",
    "    void Start()\n",
    "    {\n",
    "        rb = GetComponent<Rigidbody2D>();\n",
    "    }\n",
    "    \n",
    "    void FixedUpdate()\n",
    "    {\n",
    "        Walk();\n",
    "        \n",
    "        // Jump if you're pressing Up or Space\n",
    "        if (Input.GetKey(KeyCode.UpArrow) ||\n",
    "            Input.GetKey(KeyCode.Space))\n",
    "        {\n",
    "            Jump();\n",
    "        }\n",
    "    }\n",
    "    \n",
    "    private void Walk()\n",
    "    {\n",
    "        float horizontal = Input.GetAxisRaw(\"Horizontal\");\n",
    "        \n",
    "        Vector2 movement = new Vector2(horizontal * speed * Time.deltaTime, rb.velocity.y);\n",
    "        \n",
    "        rb.velocity = movement;\n",
    "    }\n",
    "    \n",
    "    private void Jump()\n",
    "    {\n",
    "        rb.velocity = new Vector2(rb.velocity.x, 0);\n",
    "        rb.AddForce(jumpForce * Vector2.up * rb.mass, ForceMode2D.Impulse);\n",
    "    }\n",
    "}"
   ]
  },
  {
   "cell_type": "markdown",
   "metadata": {
    "colab_type": "text",
    "id": "51GZCoWwkNTh"
   },
   "source": [
    "3.  We have a great start here, but there is one crucial problem. The player can jump at any time, regardless of whether they are grounded or in the air. To fix this, we need to detect whether the player is grounded or not. To do this, we will use what we learned about collisions. We simply need to keep track of whether the player is currently grounded before letting the player jump. We can do this by using a Boolean isGrounded, and having that value assigned to true when you touch the ground, and false when you leave it. To make sure the below code works, make sure all ground in your scene is tagged \"Floor\". You may need to create a new tag for this."
   ]
  },
  {
   "cell_type": "code",
   "execution_count": null,
   "metadata": {},
   "outputs": [],
   "source": [
    "using System.Collections;\n",
    "using System.Collections.Generic;\n",
    "using UnityEngine;\n",
    "\n",
    "public class Move : MonoBehaviour\n",
    "{\n",
    "    private Rigidbody2D rb;\n",
    "    [SerializeField] private float speed;\n",
    "    [SerializeField] private float jumpForce;\n",
    "    \n",
    "    private bool isGrounded;\n",
    "\n",
    "    // Start is called before the first frame update\n",
    "    void Start()\n",
    "    {\n",
    "        rb = GetComponent<Rigidbody2D>();\n",
    "        isGrounded = true;\n",
    "    }\n",
    "    \n",
    "    void FixedUpdate()\n",
    "    {\n",
    "        Walk();\n",
    "        \n",
    "        // Jump if you're pressing Up or Space\n",
    "        if (Input.GetKey(KeyCode.UpArrow) ||\n",
    "            Input.GetKey(KeyCode.Space))\n",
    "        {\n",
    "            if (isGrounded) \n",
    "            {\n",
    "                Jump();\n",
    "            }   \n",
    "        }\n",
    "    }\n",
    "    \n",
    "    private void Walk()\n",
    "    {\n",
    "        float horizontal = Input.GetAxisRaw(\"Horizontal\");\n",
    "        \n",
    "        Vector2 movement = new Vector2(horizontal * speed * Time.deltaTime, rb.velocity.y);\n",
    "        \n",
    "        rb.velocity = movement;\n",
    "    }\n",
    "    \n",
    "    private void Jump()\n",
    "    {\n",
    "        rb.velocity = new Vector2(rb.velocity.x, 0);\n",
    "        rb.AddForce(jumpForce * Vector2.up * rb.mass, ForceMode2D.Impulse);\n",
    "    }\n",
    "    \n",
    "    void OnCollisionEnter2D(Collision2D collision)\n",
    "    {\n",
    "        if (collision.gameObject.tag == \"Floor\")\n",
    "        {\n",
    "            isGrounded = true;\n",
    "        }\n",
    "    }\n",
    "    \n",
    "    void OnCollisionExit2D(Collision2D collision)\n",
    "    {\n",
    "        if (collision.gameObject.tag == \"Floor\")\n",
    "        {\n",
    "            isGrounded = false;\n",
    "        }\n",
    "    }\n",
    "}"
   ]
  },
  {
   "cell_type": "markdown",
   "metadata": {
    "colab_type": "text",
    "id": "51GZCoWwkNTh"
   },
   "source": [
    "4.  Now our code looks and feels great! There is one small bug, can you spot it? As of now, whenever the player hits anything tagged as \"Floor\", the player will be able to jump! This seems like it works fine, but what about a platform that you can run off? If you were to hit the side of that platform now, you would be able to jump! This is no good, we only want the player to be able to jump when the player is on TOP of the ground, not just if the player is touching the ground. In other words, we have it so that if the player's head or side is touching the ground but NOT the player's feet, the player will STILL be able to jump despite not truly being grounded. The code we will implement for this part is a bit tricky and will be explained somewhat afterwards. It's 100% okay if you do not understand the explanation, you can just copy the code there. Please note that the code below replaced OnCollisionEnter2D() with OnCollisionStay2D()!"
   ]
  },
  {
   "cell_type": "code",
   "execution_count": null,
   "metadata": {},
   "outputs": [],
   "source": [
    "using System.Collections;\n",
    "using System.Collections.Generic;\n",
    "using UnityEngine;\n",
    "\n",
    "public class Move : MonoBehaviour\n",
    "{\n",
    "    private Rigidbody2D rb;\n",
    "    [SerializeField] private float speed;\n",
    "    [SerializeField] private float jumpForce;\n",
    "    \n",
    "    private bool isGrounded;\n",
    "    \n",
    "    private const float CAN_JUMP_THRESHHOLD = 0.05f;\n",
    "\n",
    "    // Start is called before the first frame update\n",
    "    void Start()\n",
    "    {\n",
    "        rb = GetComponent<Rigidbody2D>();\n",
    "        isGrounded = true;\n",
    "    }\n",
    "    \n",
    "    void FixedUpdate()\n",
    "    {\n",
    "        Walk();\n",
    "        \n",
    "        // Jump if you're pressing Up or Space\n",
    "        if (Input.GetKey(KeyCode.UpArrow) ||\n",
    "            Input.GetKey(KeyCode.Space))\n",
    "        {\n",
    "            if (isGrounded) \n",
    "            {\n",
    "                Jump();\n",
    "            }   \n",
    "        }\n",
    "    }\n",
    "    \n",
    "    private void Walk()\n",
    "    {\n",
    "        float horizontal = Input.GetAxisRaw(\"Horizontal\");\n",
    "        \n",
    "        Vector2 movement = new Vector2(horizontal * speed * Time.deltaTime, rb.velocity.y);\n",
    "        \n",
    "        rb.velocity = movement;\n",
    "    }\n",
    "    \n",
    "    private void Jump()\n",
    "    {\n",
    "        rb.velocity = new Vector2(rb.velocity.x, 0);\n",
    "        rb.AddForce(jumpForce * Vector2.up * rb.mass, ForceMode2D.Impulse);\n",
    "    }\n",
    "    \n",
    "    void OnCollisionStay2D(Collision2D collision)\n",
    "    {\n",
    "        if (collision.gameObject.tag == \"Floor\")\n",
    "        {\n",
    "            foreach (ContactPoint2D point in collision.contacts)\n",
    "            {\n",
    "                if (point.normal.y >= CAN_JUMP_THRESHHOLD)\n",
    "                {\n",
    "                    isGrounded = true;\n",
    "                }\n",
    "            }\n",
    "        }\n",
    "    }\n",
    "    \n",
    "    void OnCollisionExit2D(Collision2D collision)\n",
    "    {\n",
    "        if (collision.gameObject.tag == \"Floor\")\n",
    "        {\n",
    "            isGrounded = false;\n",
    "        }\n",
    "    }\n",
    "}"
   ]
  },
  {
   "cell_type": "markdown",
   "metadata": {
    "colab_type": "text",
    "id": "51GZCoWwkNTh"
   },
   "source": [
    "The big change here is the inclusion of that crazy looking code in OnCollisionStay2D(). The basic premise of this is to test whether the player is currently on top of the ground or not. Collision2Ds have properties called ContactPoint2Ds, which are essentially the points of contact between the player and whatever the player is colliding with. Each ContactPoint2D has a property called the \"normal\", which points in the direction that the player is relative to the object the player's colliding with. To see if the player is on top of the ground, we see if the normal of the collision point is pointing up (if its y value is above a certain threshhold number). Again, it's okay if you don't understand this code, you don't need to and it is quite advanced! You can add this if you want that extra bit of consistency, that being that the player can only jump if standing on top of the ground."
   ]
  }
 ],
 "metadata": {
  "colab": {
   "collapsed_sections": [],
   "name": "U1L5 - Unity 2D Physics.ipynb",
   "provenance": []
  },
  "kernelspec": {
   "display_name": "Python 3",
   "language": "python",
   "name": "python3"
  },
  "language_info": {
   "codemirror_mode": {
    "name": "ipython",
    "version": 3
   },
   "file_extension": ".py",
   "mimetype": "text/x-python",
   "name": "python",
   "nbconvert_exporter": "python",
   "pygments_lexer": "ipython3",
   "version": "3.7.6"
  }
 },
 "nbformat": 4,
 "nbformat_minor": 1
}
