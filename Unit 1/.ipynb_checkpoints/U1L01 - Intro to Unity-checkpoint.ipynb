{
 "cells": [
  {
   "cell_type": "markdown",
   "metadata": {
    "colab_type": "text",
    "id": "GgR1dlmRvaaR"
   },
   "source": [
    "# Unit 1: Lesson 1 - Intro to Unity \n",
    "In this lesson, we'll introduce students to the Unity software and familiarize them with the environment. We'll also give a brief introduction to C#.\n",
    "\n",
    "\n",
    "---\n",
    "\n",
    "# Learning Objectives\n",
    "---\n",
    "\n",
    "*   Students will become familiar with the Unity environment.\n",
    "*   Students will understand basic concepts of game development in the context of Unity.\n",
    "*   Students will implement a \"Hello world\" program in the C# script template.\n",
    "\n",
    "# Key Concepts\n",
    "---\n",
    "\n",
    "*   Unity environment\n",
    "*   Scenes, Game objects and Components\n",
    "    *   The Transform component\n",
    "    *   The Sprite Renderer component\n",
    "*   Scripting and C#\n",
    "    *   The structure of a C# program and the Unity script template\n",
    "    *   The console and writing your first script: \"Hello world\"\n",
    "\n",
    "\n",
    "\n"
   ]
  },
  {
   "cell_type": "markdown",
   "metadata": {
    "colab_type": "text",
    "id": "rpgHIbROwNC_"
   },
   "source": [
    "# Concept 1: Unity Environment\n",
    "\n",
    "---\n",
    "### **Unity Environment**\n",
    "Unity is a game development engine. The software provides many powerful tools for making 2D and 3D games for dozens of platforms.\n",
    "\n",
    "![alt text](https://drive.google.com/uc?id=1V8alVhZIt4gHSjOYafJmUBB9FiJyCgow)\n",
    "\n",
    "\n",
    "*   On the lefthand sidebar is the **game hierarchy**, which displays all of the objects in the current scene.\n",
    "*   On the bottom are the **Project** and **Console** tabs. In the **Project** tab, you can find all of your games *assets*, such as imported images and audio files, pre-saved game objects for repeated use called *prefabs*, and programs that define behavior in our game called *scripts*. In the **Console** tab, you'll find Unity's *console*, which helps with debugging and monitoring activity during game testing, among other capabilities.\n",
    "*   On the righthand sidebar is the **Inspector**, which displays all of the properties of a selected object in your game.\n",
    "*   In the center are the **Scene**, **Game**, and **Asset Store** tabs. In the **Scene** tab, you can edit scenes in your game. In the **Game** tab, you can see what your scene would look like to a player. In the **Asset Store** tab, you can browse thousands of *assets* that you can import for use in your game.\n",
    "*   The top margin contains a variety of editing tools. Starting from the top left, there is a row of several tools that allow you to navigate the **Scene** tab in different ways. The **Hand Tool** allows you to click and drag empty spaces to navigate around the scene. The **Move Tool** allows you to translate the objects in your scene freely or along axes. The **Rotate** and **Scale Tools** act similarly. In the center of the top margin, you can press the play button to play your game from the currently selected scene in the editor.\n",
    "*   There are many other powerful tools in the Unity editor. These are the only ones that we'll need to get started, but feel free to explore the many amazing capabilities of Unity!\n"
   ]
  },
  {
   "cell_type": "markdown",
   "metadata": {
    "colab_type": "text",
    "id": "E9fHYSKdxJaX"
   },
   "source": [
    "# Concept 2: Scenes, Game Objects, and Components\n",
    "\n",
    "---\n",
    "### **Scenes, Game Objects, and Components**\n",
    "Games developed in Unity have a natural hierarchy that consists of **scenes**, **game objects**, and **components**.\n",
    "*   **Scenes** are individual environments within your game. Things that interact with each other in your game generally belong in the same scene. In many games, a scene can be thought of as a level, but many title screens, loading screens, pause menus, etc. are built as their own scenes as well. Locations in your scene are defined by a coordinate system with x-, y-, and z-axes. In 2D games, we generally look along the z-axis perpendicular to the x-y plane. \n",
    "*   Scenes contain **game objects**, which can be the physical objects in your game with behavior or the behaviors themselves. They are simply containers for **components**, which define the behaviors of game objects. The **Main Camera**, which comes with every scene, is an example of a game object. We'll learn about the Main Camera later, but in short it acts as a camera that determines what is being displayed during gameplay.\n",
    "\n",
    "\n",
    "\n"
   ]
  },
  {
   "cell_type": "markdown",
   "metadata": {
    "colab_type": "text",
    "id": "cSA9n_BDVngS"
   },
   "source": [
    "## Walkthrough: Creating a Sprite\n",
    "\n",
    "1.   Let's create a game object in our scene. Click *Create* in the top left corner of the game hierarchy. You can also hover over the game hierarchy and right click. In the menu there is a list of game objects that automatically come with predefined components. We'll explore these predefined game objects later, but for now just click *Create Empty*.\n",
    "\n",
    "![](https://drive.google.com/uc?id=1rCzksPVoHXhnBEj_7tKy_35eR6z60_Zb)\n",
    "\n",
    "2.   A new object called *GameObject* will appear in the game hierarchy and will automatically be selected. The Inspector in the righthand sidebar will display *GameObject*'s components. Give your game object a new name by changing the text that reads \"GameObject\" at the top of the Inspector. This game object will be the player in our game, so give the object a name like \"Player\" or \"Character\".\n",
    "\n",
    "![](https://drive.google.com/uc?id=1zwihJF6mtXbSV9HqqlHd_4XF4iPHwfuo)\n",
    "\n",
    "*Note: Every game object has a component called Transform, which defines the object's position, rotation, and scale in the scene with respect to the x-, y-, and z-axes. Every game object has a position in the scene, but not every game object is visible. We'll learn later why some game objects shouldn't be visible.*\n",
    "\n",
    "3.   Let's add a component that will allow our object to become visible. In the Inspector, click *Add Component*, then click *Rendering*, then scroll down and click *Sprite Renderer*. You can also search for the Sprite Renderer component in the search bar at the top of the Add Component menu.\n",
    "\n",
    "![](https://drive.google.com/uc?id=1cZ_-hQHkT8EFc0z7MjvBcwJoQuOBIwRZ)\n",
    "\n",
    "4.   A new component with a list of properties will appear below the Transform component. We'll need an image for the Sprite Renderer to display as the visual representation of our game object in the scene. Feel free to Google and save any image to your computer. We'll be making this game object our player, so try to use a character-like image. You can use the Mario or Link images in the Unit 1 Assets folder. Once you've saved the image to your computer, click and drag the image into the Assets section of the Project tab at the bottom of the Unity window. This will import your image as an asset. Then, click and drag this image from the Assets section into the *Sprite* property of the Sprite Renderer component.\n",
    "\n",
    "![](https://drive.google.com/uc?id=1RIilmLDdfjqKdFKFVJKzeAnk70p53Mbt)\n",
    "\n",
    "The image will appear in your Scene editor; this is your game object. Feel free to change the values in the Transform component to see their effects on the game object in the scene. You can also change the color of the game object with the *Color* property of the Sprite Renderer component.\n",
    "\n",
    "*Note: A quicker way to set up a create a **sprite** game object, as we have done above, is to click Create in the game hierarchy and select Sprite in the 2D Object menu. An even quicker way is to click and drag an image from your assets directly into your scene. Each of these methods will create a new game object with a Transform and a Sprite Renderer component.*"
   ]
  },
  {
   "cell_type": "markdown",
   "metadata": {
    "colab_type": "text",
    "id": "ZK3jcKpRNZVe"
   },
   "source": [
    "# Concept 3: Scripting\n",
    "\n",
    "---\n",
    "### **Scripting**\n",
    "\n",
    "Unity allows you to define your own components with code through a process called **scripting**. A **script** is basically a custom component.\n",
    "\n",
    "\n",
    "\n",
    "\n",
    "\n",
    "\n"
   ]
  },
  {
   "cell_type": "markdown",
   "metadata": {
    "colab_type": "text",
    "id": "YrNs5g_1e6U4"
   },
   "source": [
    "## Walkthrough: Creating a \"Hello World\" Script\n",
    "\n",
    "1.   Click Add Component in the Inspector, then click *New Script* and type \"HelloWorld\" for the name of your script, and finally click *Create and Add* to create and add the script as a component to your game object.\n",
    "\n",
    "![](https://drive.google.com/uc?id=1_d7tlAKisObt-ekV-YOh9ls2Yom6JjT9)\n",
    "\n",
    "2.   The script will appear as a component with no properties in your game object, and it will also appear as a C# file in your Assets folder. Double click on the file or click the gear in the top right corner of the *Hello World* component and choose *Edit Script* to open the script in your default code editor.\n",
    "\n",
    "![](https://drive.google.com/uc?id=1g4qqL9FX5R3_G6jSS2WXCXjY-27v9wik)\n",
    "\n",
    "3.   Once you've opened the script, you'll see a page of code. This code is in the coding language C#, a language created by Microsoft that is widely used in web and game development. This file is the default script template that Unity generates when you create a new script. It doesn't do anything at the moment; you have to add code to it to define behavior that is exhibited by any game object that has this script as a component. We'll learn what all of this code means next lesson, but first let's type our first line of code. In the blank space between the curly braces below Start(), type the following line of code:"
   ]
  },
  {
   "cell_type": "code",
   "execution_count": null,
   "metadata": {
    "colab": {},
    "colab_type": "code",
    "id": "6uzga2gjP07j"
   },
   "outputs": [],
   "source": [
    "Debug.Log(\"Hello world!\");"
   ]
  },
  {
   "cell_type": "markdown",
   "metadata": {
    "colab_type": "text",
    "id": "J-jvJDAkP8y0"
   },
   "source": [
    "![](https://drive.google.com/uc?id=1oVQ7ziHR-Om13uCPpRbRai6E6xahg2s4)\n",
    "\n",
    "4.   This line of code will have any game object that contains this script print the phrase \"Hello world!\" to the console upon starting the game. Add this line, save the file, navigate back to the Unity editor, and click the play button at the top middle of the screen. Click on the Console tab and you'll see \"Hello world!\" printed! We'll learn how all of this works next lesson.\n",
    "\n",
    "![](https://drive.google.com/uc?id=1yhSiszoubqbSRLLyO0HSSFb4Nq6AtYg1)"
   ]
  },
  {
   "cell_type": "markdown",
   "metadata": {
    "colab_type": "text",
    "id": "uUV-ch60_oBz"
   },
   "source": [
    "## Practice Together #1\n",
    "\n",
    "---\n",
    "\n",
    "**Problem:** Create a new sprite with the image of a house (which you can get from Google or find in the Unit 1 Assets folder), and have your character stand next to it. The house should be appropriately bigger than the character.\n"
   ]
  },
  {
   "cell_type": "markdown",
   "metadata": {
    "colab_type": "text",
    "id": "qtamSwy2SWYV"
   },
   "source": [
    "##### **Solution**"
   ]
  },
  {
   "cell_type": "markdown",
   "metadata": {
    "colab_type": "text",
    "id": "78D8kCvm_3sn"
   },
   "source": [
    "Create a new sprite with a house image using the steps in the Walkthrough above. Adjust the position, rotation, and scale x-, y-, and z-values of the sprite object's Transform component appropriately with respect to your character."
   ]
  },
  {
   "cell_type": "markdown",
   "metadata": {
    "colab_type": "text",
    "id": "URXozi3TRXsT"
   },
   "source": [
    "## Practice Together #2\n",
    "\n",
    "---\n",
    "\n",
    "**Problem:** Create a script that prints your name to the console upon starting the game.\n"
   ]
  },
  {
   "cell_type": "markdown",
   "metadata": {
    "colab_type": "text",
    "id": "1ERYfY2RRlNZ"
   },
   "source": [
    "##### **Solution**"
   ]
  },
  {
   "cell_type": "markdown",
   "metadata": {
    "colab_type": "text",
    "id": "NFa6DrBKRmCM"
   },
   "source": [
    "Create a new script in any of your game objects using the Walkthrough above and add the following line of code below Start() between the curly braces:"
   ]
  },
  {
   "cell_type": "code",
   "execution_count": null,
   "metadata": {
    "colab": {},
    "colab_type": "code",
    "id": "h25_BEZARvZ6"
   },
   "outputs": [],
   "source": [
    "Debug.Log(\"FIRSTNAME LASTNAME\");"
   ]
  },
  {
   "cell_type": "markdown",
   "metadata": {
    "colab_type": "text",
    "id": "c_IvPuSl_u8n"
   },
   "source": [
    "## Exercise #1\n",
    "\n",
    "---\n",
    "\n",
    "**Problem:** Make a red version of your character facing your original character."
   ]
  },
  {
   "cell_type": "markdown",
   "metadata": {
    "colab_type": "text",
    "id": "YjJslgIgSW8s"
   },
   "source": [
    "##### **Solution**"
   ]
  },
  {
   "cell_type": "markdown",
   "metadata": {
    "colab_type": "text",
    "id": "_BhOnpK9JuW1"
   },
   "source": [
    "Click and drag your character image into your scene. Change the Color property of the Sprite Renderer component to red. Check Flip X in the Sprite Renderer, or set the x-value of Scale in the Transform component to -1."
   ]
  },
  {
   "cell_type": "markdown",
   "metadata": {
    "colab_type": "text",
    "id": "cAWxIp0fO3WM"
   },
   "source": [
    "## Exercise #2\n",
    "\n",
    "---\n",
    "\n",
    "**Problem:** Turn all of the objects in your scene upside-down."
   ]
  },
  {
   "cell_type": "markdown",
   "metadata": {
    "colab_type": "text",
    "id": "a8U-kJvzSXhv"
   },
   "source": [
    "##### **Solution**"
   ]
  },
  {
   "cell_type": "markdown",
   "metadata": {
    "colab_type": "text",
    "id": "Wfp02uSIKpVn"
   },
   "source": [
    "Hold shift and click on every object in your scene, either in the game editor or in the game hierarchy on the left. Then set the z-value of Scale in the Transform component to 180."
   ]
  },
  {
   "cell_type": "markdown",
   "metadata": {
    "colab_type": "text",
    "id": "4zyLYfy7lvAO"
   },
   "source": [
    "# ACTIVITIES\n",
    "\n",
    "---\n",
    "\n"
   ]
  },
  {
   "cell_type": "markdown",
   "metadata": {
    "colab_type": "text",
    "id": "RCelsKoxOlbu"
   },
   "source": [
    "## Activity #1\n",
    "\n",
    "---\n",
    "\n",
    "*Note: You can find images to use for completing these activities in the Unit 1 Assets folder.*"
   ]
  },
  {
   "cell_type": "markdown",
   "metadata": {
    "colab_type": "text",
    "id": "RR4RTq5IyKiB"
   },
   "source": [
    "#### **Problem**"
   ]
  },
  {
   "cell_type": "markdown",
   "metadata": {
    "colab_type": "text",
    "id": "Vth5ag2syMlu"
   },
   "source": [
    "Create and arrange the game objects for a level of a platformer with a main character, obstacles, and enemies. Your scene should look something like the image below (without the text at the top).\n",
    "\n",
    "![](https://drive.google.com/uc?id=1q83GxUbmtvFr-KUl_fwjuxEEJDB7Ublh)"
   ]
  },
  {
   "cell_type": "markdown",
   "metadata": {
    "colab_type": "text",
    "id": "vbFaFqrdOnVn"
   },
   "source": [
    "## Activity #2\n",
    "\n",
    "---\n",
    "\n"
   ]
  },
  {
   "cell_type": "markdown",
   "metadata": {
    "colab_type": "text",
    "id": "3i0OwT8gyWbI"
   },
   "source": [
    "#### **Problem**"
   ]
  },
  {
   "cell_type": "markdown",
   "metadata": {
    "colab_type": "text",
    "id": "k1kIPPbXycTP"
   },
   "source": [
    "Create and arrange game objects to represent an in-game inventory with apples of three different colors, as well as other items. The scene should look something like the image below (without the text).\n",
    "\n",
    "![](https://drive.google.com/uc?id=1qElgn-Y8q6QVY4OInsRD6qhqb1Ww6vpU)"
   ]
  },
  {
   "cell_type": "markdown",
   "metadata": {
    "colab_type": "text",
    "id": "MXa2lp8HOo-b"
   },
   "source": [
    "## Activity #3\n",
    "\n",
    "---\n"
   ]
  },
  {
   "cell_type": "markdown",
   "metadata": {
    "colab_type": "text",
    "id": "a65XIZcEyfnz"
   },
   "source": [
    "#### **Problem**"
   ]
  },
  {
   "cell_type": "markdown",
   "metadata": {
    "colab_type": "text",
    "id": "-fDXOMMNyhF3"
   },
   "source": [
    "Create a find the difference scene with two images that differ in five distinct but subtle ways."
   ]
  },
  {
   "cell_type": "markdown",
   "metadata": {
    "colab_type": "text",
    "id": "QZa33I9Ogwwu"
   },
   "source": [
    "# Resources\n",
    "---\n",
    "* Resource 1\n",
    "* Resource 2"
   ]
  },
  {
   "cell_type": "markdown",
   "metadata": {
    "colab_type": "text",
    "id": "TApYaxKL_Yp6"
   },
   "source": [
    "# Homework\n",
    "\n",
    "\n",
    "---\n",
    "*make homework 20-30 minutes - should start off with very simple exercises*  \n",
    "\n",
    "\n"
   ]
  },
  {
   "cell_type": "markdown",
   "metadata": {
    "colab_type": "text",
    "id": "DGJAseXFy7q6"
   },
   "source": [
    "#### **Problems**\n"
   ]
  },
  {
   "cell_type": "markdown",
   "metadata": {
    "colab_type": "text",
    "id": "80096dnBzJ0t"
   },
   "source": [
    "1. \n",
    "2.\n",
    "3.  "
   ]
  },
  {
   "cell_type": "markdown",
   "metadata": {
    "colab_type": "text",
    "id": "ajcnVXNozEVn"
   },
   "source": [
    "#### **Solutions**"
   ]
  },
  {
   "cell_type": "markdown",
   "metadata": {
    "colab_type": "text",
    "id": "Z-XVmUOPzFi2"
   },
   "source": [
    "1. "
   ]
  },
  {
   "cell_type": "code",
   "execution_count": null,
   "metadata": {
    "colab": {},
    "colab_type": "code",
    "id": "zNuf0wW3zF99"
   },
   "outputs": [],
   "source": [
    "SOLUTION for 1"
   ]
  },
  {
   "cell_type": "markdown",
   "metadata": {
    "colab_type": "text",
    "id": "MafAclH-zGdr"
   },
   "source": [
    "2. "
   ]
  },
  {
   "cell_type": "code",
   "execution_count": null,
   "metadata": {
    "colab": {},
    "colab_type": "code",
    "id": "hyHViCwSzHK5"
   },
   "outputs": [],
   "source": [
    "SOLUTION for 2"
   ]
  }
 ],
 "metadata": {
  "colab": {
   "collapsed_sections": [
    "DGJAseXFy7q6",
    "ajcnVXNozEVn"
   ],
   "name": "U1L1 - Intro to Unity",
   "provenance": [
    {
     "file_id": "1wTOXceYloRfuTRsnNv0XtMsXl-HkZpJZ",
     "timestamp": 1590954817017
    },
    {
     "file_id": "1XbrfMAnPMr1N7TbUU2tH8Ia2ORQp0cAL",
     "timestamp": 1584918005357
    },
    {
     "file_id": "1ozPIctFfa53BO5Usnbr94_JjXMNbIxra",
     "timestamp": 1574738192487
    },
    {
     "file_id": "1gSBU9VGq0-5NUEs78T4n6ZapRqsvLsLY",
     "timestamp": 1571732871640
    }
   ]
  },
  "kernelspec": {
   "display_name": "Python 3",
   "language": "python",
   "name": "python3"
  },
  "language_info": {
   "codemirror_mode": {
    "name": "ipython",
    "version": 3
   },
   "file_extension": ".py",
   "mimetype": "text/x-python",
   "name": "python",
   "nbconvert_exporter": "python",
   "pygments_lexer": "ipython3",
   "version": "3.7.6"
  }
 },
 "nbformat": 4,
 "nbformat_minor": 1
}
