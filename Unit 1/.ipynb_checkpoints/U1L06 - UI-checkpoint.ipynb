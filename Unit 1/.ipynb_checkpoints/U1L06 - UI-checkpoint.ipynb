{
 "cells": [
  {
   "cell_type": "markdown",
   "metadata": {
    "colab_type": "text",
    "id": "ijAwfSuLsf_p"
   },
   "source": [
    "# Unit 1 Lesson 6 - UI and Basic Scene Management\n",
    "In this lesson, we'll learn how to make UI's in Unity by making a main menu page for our game.\n",
    "\n",
    "\n",
    "---\n",
    "\n",
    "# Learning Objectives\n",
    "---\n",
    "\n",
    "*   Students will learn about Unity's basic UI tools including Canvas, Images, Buttons, and Texts.\n",
    "*   Students will be introduced to scene management in the context of buttons.\n",
    "\n",
    "# Key Concepts\n",
    "---\n",
    "\n",
    "*   Canvases and Images\n",
    "*   Buttons, Text, and Scene Management"
   ]
  },
  {
   "cell_type": "markdown",
   "metadata": {
    "colab_type": "text",
    "id": "-O16dXPxUp7u"
   },
   "source": [
    "# Introduction\n",
    "\n",
    "---\n",
    "\n"
   ]
  },
  {
   "cell_type": "markdown",
   "metadata": {
    "colab_type": "text",
    "id": "DtMw8wTiUqYC"
   },
   "source": [
    "Every game has a **User Interface (UI)**, which in the context of game development is a system of visual components that allow users to interact with a game in ways beyond the core gameplay. Start and pause menus are examples of UI elements, but UI's can also extend to health indicators, point counters, and other potentially interactive and informative displays. In this lesson, we'll learn Unity's basic UI capabilities by creating a start menu for our game."
   ]
  },
  {
   "cell_type": "markdown",
   "metadata": {
    "colab_type": "text",
    "id": "N48Zm3JDVrqa"
   },
   "source": [
    "# Concept 1: Canvases and Images\n",
    "\n",
    "---\n",
    "### **Canvases and Images**\n",
    "\n",
    "The goal of the start menu is to present users with the title of the game and a button to allow users to start the game. We'll start this lesson by creating the background and header for our start menu.\n",
    "\n",
    "## Walkthrough: Adding the Background Image\n",
    "\n",
    "1.   First, create a new scene for our start menu by clicking File > New Scene. This will open up your new empty scene. Save the scene by clicking File > Save As and change the name to MenuScene. It is strongly recommended, if you haven't done so already, to create a Scenes folder in your Assets folder. Click and drag your new scene from the Assets folder into the Scenes folder in the Project hierarchy at the bottom left.\n",
    "\n",
    "![](https://drive.google.com/uc?id=1R-_u9qHBRDSgye3SEZ6s0-RfKgGTkjTd)\n",
    "\n",
    "2.   Now we'll create the object for our background image. In the top left corner of the Game Hierarchy on the left, click Create > UI > Image. This will create a few objects, which you'll see appear in the Game Hierarchy.\n",
    "\n",
    "The **Canvas** is the parent object for all UI elements in a scene. It is automatically added when you add your first UI object to your scene, and any UI object you add after that will be added as a child of the **Canvas**. You'll likely need to zoom way out in your scene view to see the canvas.\n",
    "\n",
    "*Note: Parenting is an important concept in Unity that we haven't learned yet. We'll learn about it later, but basically any transformations applied to a parent object are automatically applied to that object's child objects. The reverse does not apply. So, any changes made to the Canvas will affect all UI elements in the scene.*\n",
    "\n",
    "The **Image** object is the object you just created, and it's added as a child of the **Canvas**. The Image object comes with three components. The first is the *Rect Transform* component. This is a replacement for the *Transform* component we've seen on all our other objects so far. It gives us transformational control specific to UI Images. The *Canvas Renderer* component renders the Image on the Canvas, i.e. it makes the Image visible. The *Image* component is a script that allows you to customize your image. We'll add our image in the next step.\n",
    "\n",
    "The **EventSystem** object processes and routes input events from the user.\n",
    "\n",
    "3.   Rename the Image to Background and set the *Pos X* and *Pos Y* properties of the Image object's Rect Transform component to 0, centering the Image on the Canvas.\n",
    "\n",
    "![](https://drive.google.com/uc?id=1ZIYaB2a-cKDen2WDbfLEjOy5bQCj4UIJ)\n",
    "\n",
    "4.   Add an image for your Background object to display by clicking and dragging an image from your Assets folder to the Source Image property of the Image component. You can use the bricks image in the Unit 1 Assets folder or any other image. It's best to stick with a rectangular image for the background. Then, click *Set Native Size* in the Image component of the Background object to resize the sprite to its source image's original dimensions.\n",
    "\n",
    "![](https://drive.google.com/uc?id=1l7GFsp6WLuvlJp9qrp26WVuH02sQtJ_-)\n",
    "\n",
    "5.   The image will still most likely look too big or too small in the scene. Furthermore, the image's size will vary greatly across devices with different screen sizes. To control this, we'll need to use a few different components. First, select the Canvas object and look at the *Canvas Scaler* component. The *UI Scale Mode* property has three options. *Constant Pixel Size* sets images to be the same size in pixels regardless of the screen size. A phone screen, for example, has far less pixels than a computer screen, so canvases with this mode selected will display images that appear to be far larger on smaller screens than on bigger screens. *Scale With Screen Size* allows us to designate a reference resolution with respect to which the Canvas will scale its images. *Constant Physical Size* allows us to control the physical size of the Canvas' image in millimeters or other units. We want the *Scale With Screen Size*. Select this mode.\n",
    "\n",
    "Then, change the *Reference Resolution* to match the image's native size. You can find this native size in the *Rect Transform* property of the Background object: they're the *Width* and *Height* properties. Play with the *Match* slider in the *Canvas Scaler* component to change how the image fills the Canvas if the aspect ratio of the image doesn't match that of the Canvas.\n",
    "\n",
    "![](https://drive.google.com/uc?id=19KEEZmXAl87QZ4IxbtiJ7F4IQYXgv1J3)\n",
    "\n",
    "6.   The Canvas Scaler gets us the correct size for our image with respect to the Canvas, but there are still issues with the aspect ratio. Navigate to the Game tab and view the scene in different screen aspect ratios by selecting *Free Aspect* below the Game tab. Any time you see blue margins, that means that the background image isn't filling the whole screen. To fix this, select the Background object and add a new component called *Aspect Ratio Fitter*. Change the *Aspect Mode* property to *Envelope Parent*. This will fit the background image to any aspect ratio.\n",
    "\n",
    "![](https://drive.google.com/uc?id=1nZPX0RxS112q0L7KC5sZ26IIxGqweyBY)\n"
   ]
  },
  {
   "cell_type": "markdown",
   "metadata": {
    "colab_type": "text",
    "id": "IiSekqMRgJh2"
   },
   "source": [
    "## Practice Together #1\n",
    "\n",
    "---\n",
    "\n",
    "**Problem:** Add a header image that displays the title of your game.\n",
    "\n",
    "*Note: You can use the Super Mario World image in the Unit 1 Assets folder.*\n",
    "\n",
    "*Note: You can align your image using the Anchor square to the left of the position and dimension properties in the Rect Transform component.*"
   ]
  },
  {
   "cell_type": "markdown",
   "metadata": {
    "colab_type": "text",
    "id": "pGPzzs5BhHzh"
   },
   "source": [
    "##### **Solution**"
   ]
  },
  {
   "cell_type": "markdown",
   "metadata": {
    "colab_type": "text",
    "id": "3Yzg0DrjhIb2"
   },
   "source": [
    "1.   Create a new Image UI object. Rename it to Header. \n",
    "2.   Click and drag your image asset into the Source Image property of the Image component. Then click Set Native Size.\n",
    "3.   Adjust the size of the header image by either changing the Width and Height properties or the Scale properties of the Rect Transform component.\n",
    "4.   Set the Anchor to Top Center by clicking the red and black outlined box in the Rect Transform component and selecting Top Center. Adjust Pos Y and Pos X accordingly.\n",
    "\n"
   ]
  },
  {
   "cell_type": "markdown",
   "metadata": {
    "colab_type": "text",
    "id": "JGMGPHbGjUA6"
   },
   "source": [
    "# Concept 1: Buttons, Text, and Scene Management\n",
    "\n",
    "---\n",
    "### **Buttons, Text, and Scene Management**\n",
    "\n",
    "Let's add a Start button that, when clicked, brings users to the game from the Start Menu. To implement this functionality, we'll need to make use of the Button object, the Text object, and basic scene management to transition from the Start Menu scene to the main game scene.\n",
    "\n",
    "## Walkthrough: Adding the Background Image\n",
    "\n",
    "1.   First, we'll add the Button object to our scene. Create a Button object by selecting Create > UI > Button. A Button object is simply an Image with a Button script component and a child Text object. The Button comes with the child Text object by default, but the Text object is not required; you can delete it if you want. We'll leave it for now. Rename the new Button object to StartButton.\n",
    "\n",
    "2.   Play with the Rect Transform property values to position the button on your Canvas. The Bottom Stretch anchor will stretch the button horizontally across different aspect ratios. This anchor substitutes the Pos X property with Left and Right properties, which allow you to set the distance between each side of the button and each side of the Canvas.\n",
    "\n",
    "![](https://drive.google.com/uc?id=1S2RLsz11Ex-9z0JqckCDu4oY-q6-Gwai)\n",
    "\n",
    "3.   Select the Text child and change the Text property of the Text script component to \"Start Game\".\n",
    "\n",
    "4.   Now we need to make the button transition us from the menu scene to the game scene. First, we need to add all of the scenes in our game to the build. Click File > Build Settings to open the Build Settings menu. Then, select the Scenes folder in the Game Hierarchy in the bottom left, and click and drag all the scenes you want in your game from the Scenes folder into the Scenes In Build section of the Build Settings menu. In this case, you should add the current menu scene and another scene from an earlier lesson to transition to. If there are already scenes in the Scenes In Build section, uncheck all of them except the menu and game scenes.\n",
    "\n",
    "![](https://drive.google.com/uc?id=1_ZG3Q6w0GihH5N_vD8ZbJ-YiG2QWYhcV)\n",
    "\n",
    "5.   Close the Build Settings menu and select the StartButton object. Notice in the Button script component the *On Click ()* property. This property allows us to select a function from any script that we write that will be executed any time the button is clicked. The only requirement is that the function must be in a script that is attached to an object in our scene. We'll write a function that changes the scene from the menu scene to the game scene. First, however, we need to add an object to hold the script in which we write this function. Let's add an empty object by selecting Create > Create Empty. Rename this new object UIManager, create a new script by clicking Add Component > New Script, and name the new script UIManager.\n",
    "\n",
    "6.   Edit the script by clicking the gear in the top right corner of the UIManager component and selecting Edit Script. We only need this script to hold our scene transition function, so you can delete the Start and Update functions.\n",
    "\n",
    "7.   In order to use Unity's scene management scripting tools, we need to use the SceneManagement library. Below line 3, add the following line:"
   ]
  },
  {
   "cell_type": "code",
   "execution_count": null,
   "metadata": {
    "colab": {},
    "colab_type": "code",
    "id": "E4wj3Va_tEee"
   },
   "outputs": [],
   "source": [
    "using UnityEngine.SceneManagement;"
   ]
  },
  {
   "cell_type": "markdown",
   "metadata": {
    "colab_type": "text",
    "id": "QkOcm-G0tH_2"
   },
   "source": [
    "8.   Now, let's create our scene transition function. Create a new function called StartGame that returns void. The SceneManagement library has a function called LoadScene that takes a scene name as input and loads that scene in game when called. Write the following line in the body of your StartGame function to call the LoadScene function, replacing \"SampleScene\" with the name of your game scene:"
   ]
  },
  {
   "cell_type": "code",
   "execution_count": null,
   "metadata": {
    "colab": {},
    "colab_type": "code",
    "id": "pzskCbwWtrsy"
   },
   "outputs": [],
   "source": [
    "SceneManager.LoadScene(\"SampleScene\");"
   ]
  },
  {
   "cell_type": "markdown",
   "metadata": {
    "colab_type": "text",
    "id": "44ZXMamcttuC"
   },
   "source": [
    "Your finished script should look like this:"
   ]
  },
  {
   "cell_type": "code",
   "execution_count": null,
   "metadata": {
    "colab": {},
    "colab_type": "code",
    "id": "sP35-PpBtweG"
   },
   "outputs": [],
   "source": [
    "using System.Collections;\n",
    "using System.Collections.Generic;\n",
    "using UnityEngine;\n",
    "using UnityEngine.SceneManagement;\n",
    "\n",
    "public class UIManager : MonoBehaviour\n",
    "{\n",
    "    public void StartGame()\n",
    "    {\n",
    "        SceneManager.LoadScene(\"SampleScene\");\n",
    "    }\n",
    "}"
   ]
  },
  {
   "cell_type": "markdown",
   "metadata": {
    "colab_type": "text",
    "id": "nzw22rUftyZA"
   },
   "source": [
    "9.   Finally, we need to set the On Click () property of the Button script to our StartGame function, so that whenever the button is clicked the game loads the game scene. Select the StartButton object and click the plus sign at the bottom of the On Click () property of the Button component. Then, click and drag the UIManager object from the scene hierarchy into the object field of the On Click () property (below the dropdown box labeled Runtime Only). Then, select the dropdown box labeled No Function, and select UI Manager > Start Game (). Now, the StartGame function will be executed any time the button is clicked. Play your game and test out your Start Game button!\n",
    "\n",
    "![](https://drive.google.com/uc?id=19xyoGjM_jMakLFEmCmBQY0Os8IrgZXly)"
   ]
  },
  {
   "cell_type": "markdown",
   "metadata": {
    "colab_type": "text",
    "id": "kd6n7aZfaBv0"
   },
   "source": [
    "## Practice Together #2\n",
    "\n",
    "---\n",
    "\n",
    "**Problem:** Write code so that users can return to the Start Menu by pressing the 'Q' key while in the game scene.\n",
    "\n",
    "##### **Solution**\n",
    "\n",
    "1. Create a script called ReturnToMenu.cs\n",
    "2. Write the following code:"
   ]
  },
  {
   "cell_type": "code",
   "execution_count": null,
   "metadata": {},
   "outputs": [],
   "source": [
    "using System.Collections;\n",
    "using System.Collections.Generic;\n",
    "using UnityEngine;\n",
    "using UnityEngine.SceneManagement;\n",
    "\n",
    "public class ReturnToMenu : MonoBehaviour\n",
    "{\n",
    "    public void Update()\n",
    "    {\n",
    "        if (Input.GetKeyDown(KeyCode.Q))\n",
    "        {\n",
    "            SceneManager.LoadScene(\"MenuScene\");\n",
    "        }    \n",
    "    }\n",
    "}"
   ]
  },
  {
   "cell_type": "markdown",
   "metadata": {},
   "source": [
    "3. Create a new GameObject in the scene and attach the ReturnToMenu.cs to that object. Now if we press 'Q' during the game, we will return to Menu scene."
   ]
  },
  {
   "cell_type": "markdown",
   "metadata": {
    "colab_type": "text",
    "id": "Y9IxMfODNB2v"
   },
   "source": [
    "## Activity #1\n",
    "\n",
    "---\n",
    "\n",
    "**Problem:** Create a Credits scene that displays your game's credits on a UI Canvas (author, date of creation, etc.). Add a button to your Start Menu scene that brings users to the Credits scene. Add a button to the Credits scene that brings users back to the Start Menu scene."
   ]
  },
  {
   "cell_type": "markdown",
   "metadata": {},
   "source": [
    "##### **Solution**\n"
   ]
  },
  {
   "cell_type": "markdown",
   "metadata": {},
   "source": [
    "1. Create a new Scene called \"CreditScene\". In \"CreditScene\", it is up to you on how you want to decrorate the scene, but it needs to have Image UI component for background, Text UI component for Author, date of creation, special thank quote, etc... \n",
    "2. Add button with a text \"Menu\".\n"
   ]
  },
  {
   "cell_type": "markdown",
   "metadata": {},
   "source": [
    "<img src=\"Images/Unity_Scene_CreditScene_Text.png\" width=\"800\"/>"
   ]
  },
  {
   "cell_type": "markdown",
   "metadata": {},
   "source": [
    "3. We can reuse UIManager.cs script that we created earlier to write functionality for Menu button. Add the following code to UIManager:"
   ]
  },
  {
   "cell_type": "code",
   "execution_count": null,
   "metadata": {},
   "outputs": [],
   "source": [
    "using System.Collections;\n",
    "using System.Collections.Generic;\n",
    "using UnityEngine;\n",
    "using UnityEngine.SceneManagement;\n",
    "\n",
    "public class UIManager : MonoBehaviour\n",
    "{\n",
    "    public void StartGame()\n",
    "    {\n",
    "        SceneManager.LoadScene(\"SampleScene\");\n",
    "    }\n",
    "\n",
    "    public void LoadScene(string name)\n",
    "    {\n",
    "        SceneManager.LoadScene(name);\n",
    "    }\n",
    "}"
   ]
  },
  {
   "cell_type": "markdown",
   "metadata": {},
   "source": [
    "We can add UIManager to one of the UI component. In this case, I added to canvas UIManager to canvas. Then in Button component, we can add OnClick event to the button, and drag canvas from the hierarchy to onclick field in the inspector. In the text field, we want to provide the scence name that when we click on the button, the game will load that scene, in this case \"Menu\" \n",
    "\n",
    "<img src=\"Images/Unity_Scene_CreditScene_UI.png\" width=\"\"/> "
   ]
  },
  {
   "cell_type": "markdown",
   "metadata": {},
   "source": [
    "Extra credit: \n",
    "\n",
    "Make moving text credit "
   ]
  },
  {
   "cell_type": "markdown",
   "metadata": {},
   "source": [
    "## Activity #2\n",
    "\n",
    "---\n",
    "\n",
    "**Problem:** Create a Pause Menu that pause the game when player press 'p'. Pause Menu should have a \"Resume\" button and \"Menu\" button. \"Resume\" button should resume the game, and \"Menu\" button should bring player back to Menu scene."
   ]
  }
 ],
 "metadata": {
  "colab": {
   "collapsed_sections": [],
   "name": "U1L6 - UI.ipynb",
   "provenance": []
  },
  "kernelspec": {
   "display_name": "Python 3",
   "language": "python",
   "name": "python3"
  },
  "language_info": {
   "codemirror_mode": {
    "name": "ipython",
    "version": 3
   },
   "file_extension": ".py",
   "mimetype": "text/x-python",
   "name": "python",
   "nbconvert_exporter": "python",
   "pygments_lexer": "ipython3",
   "version": "3.7.6"
  }
 },
 "nbformat": 4,
 "nbformat_minor": 1
}
