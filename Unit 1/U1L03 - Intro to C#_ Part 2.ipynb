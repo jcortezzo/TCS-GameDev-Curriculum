{
 "cells": [
  {
   "cell_type": "markdown",
   "metadata": {
    "colab_type": "text",
    "id": "Hn24tDXPZtYN"
   },
   "source": [
    "# Unit 1 Lesson 3 - Intro to C Sharp: Part 2\n",
    "In this lesson, we'll finish introducing C# to students.\n",
    "\n",
    "\n",
    "---\n",
    "\n",
    "# Learning Objectives\n",
    "---\n",
    "\n",
    "*   Students will learn how to store, reuse, and manipulate data in C# to implement game object behavior.\n",
    "\n",
    "# Key Concepts\n",
    "---\n",
    "\n",
    "*   Data types, variables, and operators\n",
    "*   Conditionals\n",
    "\n"
   ]
  },
  {
   "cell_type": "markdown",
   "metadata": {
    "colab_type": "text",
    "id": "H5GVKKQEbnSq"
   },
   "source": [
    "# Introduction\n",
    "\n",
    "---\n",
    "\n"
   ]
  },
  {
   "cell_type": "markdown",
   "metadata": {
    "colab_type": "text",
    "id": "hBGx0P9GbuCp"
   },
   "source": [
    "C#, and programming in general, allows you to access, store, and manipulate data to flexibly implement behavior. Today we'll learn how to take advantage of data that describes game objects such as position, scale, and rotation to implement transformational behavior in our games."
   ]
  },
  {
   "cell_type": "markdown",
   "metadata": {
    "colab_type": "text",
    "id": "A73X5tc_cHj4"
   },
   "source": [
    "# Concept 1: Data Types, Variables, and Operators\n",
    "\n",
    "---\n",
    "### **Data Types**\n",
    "\n",
    "C# is an **object-oriented programming (OOP)** language. This means that in C#, we work with **objects** that contain data. An object can be one of many different **data types**. The following are some the most common data types in C#:\n",
    "\n",
    "*   **char**: a character (e.g., 'a', '3', ' ', '!')\n",
    "*   **string**: a sequence of characters, forming a word or phrase (e.g., \"house\", \"Hello world!\")\n",
    "*   **int**: an integer (e.g., 32, 0, -120)\n",
    "*   **double**: a decimal number (e.g., 1.0, 10.546, -0.00001)\n",
    "*   **float**: also a decimal number, but stored differently in memory and denoted with a small 'f' (e.g., 1.0f, 10.546f, -0.00001f)\n",
    "*   **bool**: a Boolean, which is a value that is either *true* or *false*\n",
    "\n",
    "When we type these values in code, we refer to them as **literals**. A literal for a char is surrounded by single quotation marks (e.g., 'a'). A literal for a string is surrounded by double quotation marks (e.g., \"word\"). int and double literals are written just as numbers, and float literals are written as numbers with a small 'f' at the end (e.g., 10.546f). Boolean literals are written as the keywords true and false.\n",
    "\n",
    "\n",
    "---\n",
    "### **Variables**\n",
    "\n",
    "Consider the following code, which prints \"Tom Hanks\" to the console, then prints an error message that also reads \"Tom Hanks\" to the console:\n",
    "\n",
    "\n"
   ]
  },
  {
   "cell_type": "code",
   "execution_count": null,
   "metadata": {
    "colab": {},
    "colab_type": "code",
    "id": "KNkRdmls5Em8"
   },
   "outputs": [],
   "source": [
    "Debug.Log(\"Tom Hanks\");\n",
    "Debug.LogError(\"Tom Hanks\");"
   ]
  },
  {
   "cell_type": "markdown",
   "metadata": {
    "colab_type": "text",
    "id": "-TC4Ei5557R_"
   },
   "source": [
    "One of the best practices in coding is to ***reduce duplicate code***. In the code above, we have \"Tom Hanks\" written twice. If we've used this name twice, it's very likely we'll need to use this name many more times in our code. Then, if we later need to change it to a different name, we would need to find every instance of \"Tom Hanks\" and replace it with our new name. This is highly inefficient and prone to errors.\n",
    "\n",
    "With variables, we can store \"Tom Hanks\" as a string object, use it throughout our code, and change it in one place whenever we need to:"
   ]
  },
  {
   "cell_type": "code",
   "execution_count": null,
   "metadata": {
    "colab": {},
    "colab_type": "code",
    "id": "ZhW-KTT39has"
   },
   "outputs": [],
   "source": [
    "string name = \"Tom Hanks\";\n",
    "Debug.Log(name);\n",
    "Debug.LogError(name);"
   ]
  },
  {
   "cell_type": "markdown",
   "metadata": {
    "colab_type": "text",
    "id": "3dBOeC0O-7Et"
   },
   "source": [
    "The code above also prints \"Tom Hanks\" to the console, then prints an error message that also reads \"Tom Hanks\" to the console. In the first line, we create a variable called *name* that stores the string object \"Tom Hanks\".\n",
    "\n",
    "To *declare*, or define, a variable, first write the data type of the variable, then give the variable a name that you will use to refer to the object it stores, then an equal sign, then the *value*, or the object itself, that you *assign* to the variable.\n",
    "\n",
    "Let's change the value of the variable name to a new name:\n",
    "\n"
   ]
  },
  {
   "cell_type": "code",
   "execution_count": null,
   "metadata": {
    "colab": {},
    "colab_type": "code",
    "id": "P7c2-EnDB_dt"
   },
   "outputs": [],
   "source": [
    "string name = \"Morgan Freeman\";\n",
    "Debug.Log(name);\n",
    "Debug.LogError(name);"
   ]
  },
  {
   "cell_type": "markdown",
   "metadata": {
    "colab_type": "text",
    "id": "UcDWGnbwCLYT"
   },
   "source": [
    "Now, by changing just one line, we now have both the first message and the error message printing the new name \"Morgan Freeman\".\n",
    "\n",
    "\n",
    "---\n",
    "### **Operators**\n",
    "\n",
    "We need a way to manipulate, change, and combine our variables. **Operators** are symbols that allow us to do math with *ints*, *doubles*, and *floats*, to combine *strings* to form sentences, and to check if at least one of many *bools* is true.\n",
    "\n",
    "First, let's do some math:\n"
   ]
  },
  {
   "cell_type": "code",
   "execution_count": null,
   "metadata": {
    "colab": {},
    "colab_type": "code",
    "id": "KcmLCGgsEdFX"
   },
   "outputs": [],
   "source": [
    "int age1 = 14;\n",
    "int age2 = 16;\n",
    "int averageAge = (age1 + age2) / 2;"
   ]
  },
  {
   "cell_type": "markdown",
   "metadata": {
    "colab_type": "text",
    "id": "6FPTa7YkEshp"
   },
   "source": [
    "The code above uses operators to calculate the average of two ages. Math operators follow the standard order of operations: the code evaluates the sum in the parentheses first, then divides that sum by 2. The resulting *int* is stored in the *averageAge* variable.\n",
    "\n",
    "Math operators can also be used for variable reassignment. If we wanted to add two to an int, for example, we might think to write:"
   ]
  },
  {
   "cell_type": "code",
   "execution_count": null,
   "metadata": {
    "colab": {},
    "colab_type": "code",
    "id": "wI-FSehHBLy_"
   },
   "outputs": [],
   "source": [
    "int num = 5;\n",
    "num = num + 2;"
   ]
  },
  {
   "cell_type": "markdown",
   "metadata": {
    "colab_type": "text",
    "id": "0npLDtRkBPre"
   },
   "source": [
    "This is correct and would work. C#, however, provides a shortcut for this type of reassignment:"
   ]
  },
  {
   "cell_type": "code",
   "execution_count": null,
   "metadata": {
    "colab": {},
    "colab_type": "code",
    "id": "PyurOojvBbqg"
   },
   "outputs": [],
   "source": [
    "int num = 5;\n",
    "num += 2;"
   ]
  },
  {
   "cell_type": "markdown",
   "metadata": {
    "colab_type": "text",
    "id": "Q1s0pecYBeuh"
   },
   "source": [
    "The code above also adds two to the variable num. We can do the same thing with -=, *=, and /= to reassign number variables.\n",
    "\n",
    "There is an even more convenient operator for adding and subtracting one to a number variable:"
   ]
  },
  {
   "cell_type": "code",
   "execution_count": null,
   "metadata": {
    "colab": {},
    "colab_type": "code",
    "id": "1Scpgs95B0UF"
   },
   "outputs": [],
   "source": [
    "int num = 5;\n",
    "num++;"
   ]
  },
  {
   "cell_type": "markdown",
   "metadata": {
    "colab_type": "text",
    "id": "J9DEPJl3B3b2"
   },
   "source": [
    "The variable num above is reassigned the value 6, having had one added to it by the ++ operator. The -- operator subtracts one from a number.\n",
    "\n",
    "*Note: These reassignment operators change the value of the variables on which they operate. So, in the code above, the variable num takes on the new value of 6 and will store that value for the rest of the program until it is reassigned again.*\n",
    "\n",
    "Now, let's combine *strings*:"
   ]
  },
  {
   "cell_type": "code",
   "execution_count": null,
   "metadata": {
    "colab": {},
    "colab_type": "code",
    "id": "7YwBt02tFTdD"
   },
   "outputs": [],
   "source": [
    "string firstName = \"Tom\";\n",
    "string lastName = \"Hanks\";\n",
    "string fullName = firstName + \" \" + lastName;"
   ]
  },
  {
   "cell_type": "markdown",
   "metadata": {
    "colab_type": "text",
    "id": "ZfZyCiimF5Gk"
   },
   "source": [
    "In the above code, we use the plus sign to *concatenate*, or combine, strings. The value of the variable *fullName* is \"Tom Hanks\".\n",
    "\n",
    "We can also use operators to check if math is true or false:"
   ]
  },
  {
   "cell_type": "code",
   "execution_count": null,
   "metadata": {
    "colab": {},
    "colab_type": "code",
    "id": "-DIFW8vLGvCH"
   },
   "outputs": [],
   "source": [
    "int age = 22;\n",
    "bool isAdult = age > 21;"
   ]
  },
  {
   "cell_type": "markdown",
   "metadata": {
    "colab_type": "text",
    "id": "pNSP9Af0G-Cz"
   },
   "source": [
    "The inequality \"age > 22\" must, of course, be either true or false. This means that we can store it as a Boolean variable. We can use the less than sign < in the same way, as well as <= and >= to evaluate less than or equal to and greater than or equal to, and == to evaluate equality.\n",
    "\n",
    "We can also create new Booleans by evaluating whether certain subsets of a set of Booleans are true. Put &&, the 'and' operator, between two Booleans to evaluate whether both are true or not. Put ||, the 'or' operator, between two Booleans to evaluate whether at least one of them is true. Put !, the 'not' operator, in front of a Boolean to evaluate its opposite value. A similar order of operations applies to Boolean logic: evaluate statements in the parentheses first, then evaluate everything left to right."
   ]
  },
  {
   "cell_type": "markdown",
   "metadata": {
    "colab_type": "text",
    "id": "vLxnwiJhYtDt"
   },
   "source": [
    "## Practice Together #1\n",
    "\n",
    "---\n",
    "\n",
    "**Problem:** Evaluate each of the following six Boolean variables. Which are true, and which are false?"
   ]
  },
  {
   "cell_type": "code",
   "execution_count": null,
   "metadata": {
    "colab": {},
    "colab_type": "code",
    "id": "1RWTy8XkXHQX"
   },
   "outputs": [],
   "source": [
    "bool sum = 5 + 5 == 10;\n",
    "bool diff = 20 - 3 == 17;\n",
    "bool product = 2 * 10 = 30;\n",
    "bool areAllTrue = sum && diff && product;\n",
    "bool isOneTrue = sum || diff || product;\n",
    "bool isSubsetTrue = product || (sum && diff);"
   ]
  },
  {
   "cell_type": "markdown",
   "metadata": {
    "colab_type": "text",
    "id": "bAt7rL2DY8W_"
   },
   "source": [
    "##### **Solution**"
   ]
  },
  {
   "cell_type": "markdown",
   "metadata": {
    "colab_type": "text",
    "id": "oolWwA62XbWx"
   },
   "source": [
    "*   *sum*: 5 + 5 is, indeed, equal to 10, so *sum* is true\n",
    "*   *diff*: 20 - 3 is, of course, 17, so *diff* is also true\n",
    "*   *product*: 2 * 10 is not equal to 30, so *product* is false\n",
    "*   *areAllTrue*: We evaluate the statement left to right. First, we check \"sum && diff\". *sum* and *diff* are both true, so \"sum && diff\" evaluates to true. We can replace \"sum && diff\" with \"true\", so we're left with \"true && product\". *product* is false, so \"true && product\" is false. Thus, *areAllTrue* is false.\n",
    "*   *isOneTrue*: We evaluate left to right again. *sum* and *diff* are both true, i.e. at least one of the two is true, so \"sum || diff\" evaluates to true. We can replace \"sum || diff\" with \"true\", so we're left with \"true || product\". At least one of \"true\" and *product* is true, of course, so \"true || product\" is true. Thus, *isOneTrue* is true.\n",
    "*   *isSubsetTrue*: We evaluate the statement in the parentheses first. \"(sum && diff)\" is true, so we replace it with \"true\". \"product || true\" is true, so *isSubsetTrue* is true.\n",
    "\n"
   ]
  },
  {
   "cell_type": "markdown",
   "metadata": {
    "colab_type": "text",
    "id": "cZJi3eTTcwBU"
   },
   "source": [
    "## Practice Together #2\n",
    "\n",
    "---\n",
    "\n",
    "**Problem:** In the Start function of a new script, create variables for your first and last names, then print your full name (FIRSTNAME LASTNAME) to the console using the variables and operators."
   ]
  },
  {
   "cell_type": "markdown",
   "metadata": {
    "colab_type": "text",
    "id": "IIAi_9b_e0RC"
   },
   "source": [
    "##### **Solution**"
   ]
  },
  {
   "cell_type": "markdown",
   "metadata": {
    "colab_type": "text",
    "id": "eCu2a7Uee1e8"
   },
   "source": [
    "Your script should look something like this:"
   ]
  },
  {
   "cell_type": "code",
   "execution_count": null,
   "metadata": {
    "colab": {},
    "colab_type": "code",
    "id": "AhKRY7z3e5rf"
   },
   "outputs": [],
   "source": [
    "using System.Collections;\n",
    "using System.Collections.Generic;\n",
    "using UnityEngine;\n",
    "\n",
    "public class HelloWorld : MonoBehaviour\n",
    "{\n",
    "\n",
    "    // Start is called before the first frame update\n",
    "    void Start()\n",
    "    {\n",
    "        string firstName = \"Tom\";\n",
    "        string lastName = \"Hanks\";\n",
    "        Debug.Log(firstName + \" \" + lastName);\n",
    "    }\n",
    "\n",
    "    // Update is called once per frame\n",
    "    void Update()\n",
    "    {\n",
    "        \n",
    "    }\n",
    "}"
   ]
  },
  {
   "cell_type": "markdown",
   "metadata": {
    "colab_type": "text",
    "id": "DC_9bNIbAAXX"
   },
   "source": [
    "# Concept 2: Conditionals\n",
    "\n",
    "---\n",
    "### **Conditionals**\n",
    "\n",
    "We need a way to only execute code if certain conditions are true. **Conditionals** allow us to do just this. An **if statement** checks if a condition is true, and then only executes the code in its body if the condition is true."
   ]
  },
  {
   "cell_type": "code",
   "execution_count": null,
   "metadata": {
    "colab": {},
    "colab_type": "code",
    "id": "aOpJE_oOBBPF"
   },
   "outputs": [],
   "source": [
    "string name = \"Tom\";\n",
    "\n",
    "if(name == \"Tom\")\n",
    "{\n",
    "    Debug.Log(\"Hello Tom!\");\n",
    "}\n",
    "\n",
    "Debug.Log(\"Goodbye!\");"
   ]
  },
  {
   "cell_type": "markdown",
   "metadata": {
    "colab_type": "text",
    "id": "No6fHI7KCPur"
   },
   "source": [
    "The code above only prints \"Hello Tom!\" to the console if the variable *name* is equal to the string \"Tom\". It then prints \"Goodbye!\" to the console.\n",
    "\n",
    "To write an if statement, first write the keyword if followed by parentheses. In the parentheses, write the Boolean condition you want the if statement to check. Then, in curly braces, write whatever code you want the computer to execute if the condition is true.\n",
    "\n",
    "Note that regardless of whether the variable name is equal to \"Tom\" above, the computer will print \"Goodbye!\" to the console. If we want the computer to do one thing if a condition is true, and do another thing if that same condition is false, we can add an **else statement** as follows:"
   ]
  },
  {
   "cell_type": "code",
   "execution_count": null,
   "metadata": {
    "colab": {},
    "colab_type": "code",
    "id": "FOBWDpuYDPsi"
   },
   "outputs": [],
   "source": [
    "string name = \"Tom\";\n",
    "\n",
    "if(name == \"Tom\")\n",
    "{\n",
    "    Debug.Log(\"Hello Tom!\");\n",
    "}\n",
    "else\n",
    "{\n",
    "    Debug.Log(\"Hello stranger!\");\n",
    "}"
   ]
  },
  {
   "cell_type": "markdown",
   "metadata": {
    "colab_type": "text",
    "id": "5VJ56Z8HEXSm"
   },
   "source": [
    "The code above prints \"Hello Tom!\" to the console if *name* is \"Tom\", and prints \"Hello stranger!\" otherwise."
   ]
  },
  {
   "cell_type": "markdown",
   "metadata": {
    "colab_type": "text",
    "id": "1BUhFU19Eldb"
   },
   "source": [
    "## Practice Together #1\n",
    "\n",
    "---\n",
    "\n",
    "**Problem:** Make a variable that stores your age. Write an if-else statement that prints \"You are an adult\" to the console if your age is greater than or equal to 21, and \"You are a child\" otherwise."
   ]
  },
  {
   "cell_type": "markdown",
   "metadata": {
    "colab_type": "text",
    "id": "gn22wnM5FPr2"
   },
   "source": [
    "##### **Solution**"
   ]
  },
  {
   "cell_type": "markdown",
   "metadata": {
    "colab_type": "text",
    "id": "SgfR_tZqFQdn"
   },
   "source": [
    "Your code should look something like this:"
   ]
  },
  {
   "cell_type": "code",
   "execution_count": null,
   "metadata": {
    "colab": {},
    "colab_type": "code",
    "id": "ytjbuCTCFYPR"
   },
   "outputs": [],
   "source": [
    "int age = 21;\n",
    "\n",
    "if(age >= 21)\n",
    "{\n",
    "    Debug.Log(\"You are an adult\");\n",
    "}\n",
    "else\n",
    "{\n",
    "    Debug.Log(\"You are a child\");\n",
    "}"
   ]
  },
  {
   "cell_type": "markdown",
   "metadata": {
    "colab_type": "text",
    "id": "wVNjFGafqUBX"
   },
   "source": [
    "# ACTIVITIES\n",
    "---"
   ]
  },
  {
   "cell_type": "markdown",
   "metadata": {
    "colab_type": "text",
    "id": "aTXxD-MAqVTX"
   },
   "source": [
    "## Activity #1\n",
    "---"
   ]
  },
  {
   "cell_type": "markdown",
   "metadata": {
    "colab_type": "text",
    "id": "UQ0Fkiy5qXBg"
   },
   "source": [
    "## Activity #2\n",
    "---"
   ]
  },
  {
   "cell_type": "markdown",
   "metadata": {
    "colab_type": "text",
    "id": "KzSfxWlCqXrT"
   },
   "source": [
    "## Activity #3\n",
    "---"
   ]
  },
  {
   "cell_type": "markdown",
   "metadata": {
    "colab_type": "text",
    "id": "q8y-38ejqYjN"
   },
   "source": [
    "## Activity #4\n",
    "---"
   ]
  },
  {
   "cell_type": "markdown",
   "metadata": {
    "colab_type": "text",
    "id": "uTQsihoMqZVb"
   },
   "source": [
    "## Activity #5\n",
    "---"
   ]
  },
  {
   "cell_type": "markdown",
   "metadata": {
    "colab_type": "text",
    "id": "fJMy2Tl-qaPe"
   },
   "source": [
    "# Homework\n",
    "---"
   ]
  }
 ],
 "metadata": {
  "colab": {
   "collapsed_sections": [],
   "name": "U1L3 - Intro to C#: Part 2",
   "provenance": []
  },
  "kernelspec": {
   "display_name": "Python 3",
   "language": "python",
   "name": "python3"
  },
  "language_info": {
   "codemirror_mode": {
    "name": "ipython",
    "version": 3
   },
   "file_extension": ".py",
   "mimetype": "text/x-python",
   "name": "python",
   "nbconvert_exporter": "python",
   "pygments_lexer": "ipython3",
   "version": "3.7.6"
  }
 },
 "nbformat": 4,
 "nbformat_minor": 1
}
