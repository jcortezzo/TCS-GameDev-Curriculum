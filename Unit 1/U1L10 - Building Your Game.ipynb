{
 "cells": [
  {
   "cell_type": "markdown",
   "metadata": {
    "colab_type": "text",
    "id": "4nq9TZrrepAe"
   },
   "source": [
    "# Unit 1 Lesson 10 - Building Your Game\n",
    "In this mini-lesson, we'll learn how to build your game.\n",
    "\n",
    "\n",
    "---\n",
    "\n",
    "# Learning Objectives\n",
    "---\n",
    "\n",
    "*   Students will learn about Unity's build settings and how to build their games.\n",
    "\n",
    "# Key Concepts\n",
    "---\n",
    "\n",
    "*   Build Settings"
   ]
  },
  {
   "cell_type": "markdown",
   "metadata": {
    "colab_type": "text",
    "id": "sCQrCMlQe4KI"
   },
   "source": [
    "# Introduction\n",
    "\n",
    "---\n",
    "\n"
   ]
  },
  {
   "cell_type": "markdown",
   "metadata": {
    "colab_type": "text",
    "id": "1e5AtO4Je87_"
   },
   "source": [
    "Once you're finished making your game, Unity allows you to build your game for a variety of platforms. In this lesson, we'll learn how to build your game for Mac or PC."
   ]
  },
  {
   "cell_type": "markdown",
   "metadata": {
    "colab_type": "text",
    "id": "1dYMKDO4gXM_"
   },
   "source": [
    "# Concept 1: Build Settings\n",
    "\n",
    "---\n",
    "### **Build Settings**\n",
    "\n",
    "We'll use the Build Settings menu to build our game for our computer.\n",
    "\n",
    "## Walkthrough: Building Your Game\n",
    "\n",
    "1.   First, open the Build Settings menu by selecting File > Build Settings.\n",
    "\n",
    "2.   Let's add all of the scenes in our game to the Scenes In Build section. You can do so by navigating to the Scenes folder in the Game Hierarchy in the bottom left and clicking and dragging all of your game's scenes into the Scenes In Build section of the Build Settings menu. If there are scenes in the Scenes In Build section that you don't want to include in your build, you should uncheck them to save space. You'll also want to make sure your Start Menu is the first scene of your game. Rearrange your scene order by clicking and dragging the listed scenes in the Scenes In Build section. Rearrange your scenes so that the Start Menu scene has a number 0 all the way to the righthand side of the Scenes In Build section.\n",
    "\n",
    "![](https://drive.google.com/uc?id=1_ZG3Q6w0GihH5N_vD8ZbJ-YiG2QWYhcV)\n",
    "\n",
    "3.   In the Platform section of the Build Settings menu, notice the many available platforms for which you can build your game. Most of the platforms require extra steps or different Unity licenses, so we'll build our game for PC, Mac & Linux Standalone. Select this option in the Platform section. Also, select the Target Platform that matches the computer on which you are developing.\n",
    "\n",
    "![](https://drive.google.com/uc?id=1RB6oN-EFzOv-7d09co0anbm3Lq8T7_zZ)\n",
    "\n",
    "4.   Finally, click Build and select the folder in which you want to save your build. It's good practice to make multiple builds throughout the development of your game. Many developers make a folder in their Unity project directory called Builds and name each build after the date of build.\n",
    "\n",
    "![](https://drive.google.com/uc?id=1D5WUTQVwpz6ZIa76bjb8w6o4hProuEae)\n",
    "\n",
    "5.   Navigate to your build file and open it. On Mac, it'll be a .app file, and on Windows it'll be a .exe file. Now you can play your game and share the file with anyone else to play on their Mac/PC!\n"
   ]
  }
 ],
 "metadata": {
  "colab": {
   "authorship_tag": "ABX9TyMSRciQ1mQ3DhcxCPXYXA63",
   "collapsed_sections": [],
   "name": "U1L10 - Building Your Game.ipynb",
   "provenance": []
  },
  "kernelspec": {
   "display_name": "Python 3",
   "language": "python",
   "name": "python3"
  },
  "language_info": {
   "codemirror_mode": {
    "name": "ipython",
    "version": 3
   },
   "file_extension": ".py",
   "mimetype": "text/x-python",
   "name": "python",
   "nbconvert_exporter": "python",
   "pygments_lexer": "ipython3",
   "version": "3.7.6"
  }
 },
 "nbformat": 4,
 "nbformat_minor": 1
}
