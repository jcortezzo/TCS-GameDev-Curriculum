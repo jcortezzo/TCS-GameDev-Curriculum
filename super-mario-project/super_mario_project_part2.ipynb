{
 "cells": [
  {
   "cell_type": "markdown",
   "metadata": {},
   "source": [
    "# Project - Super Mario Bros. Game (Part 2)\n",
    "\n",
    "In this project, you'll build on what you've already made in part 1. We'll add more complex features, like spawning enemies, adding time limits, new power-ups, and animation.\n",
    "\n",
    "---"
   ]
  },
  {
   "cell_type": "markdown",
   "metadata": {},
   "source": [
    "# Learning Objectives\n",
    "\n",
    "* Students will apply loops and conditionals to object instantiation and destruction.\n",
    "* Students will use variables to keep track of and update backend information and frontend displays.\n",
    "\n",
    "---"
   ]
  },
  {
   "cell_type": "markdown",
   "metadata": {},
   "source": [
    "# Sections\n",
    "\n",
    "* Spawn Enemies\n",
    "* Coins\n",
    "* Time Limit\n",
    "* Score\n",
    "* New Power-ups\n",
    "* Animation\n",
    "\n",
    "---"
   ]
  },
  {
   "cell_type": "markdown",
   "metadata": {},
   "source": [
    "# Spawn Enemies\n",
    "\n",
    "1. Open your level 2. Add a pipe into the scene so you have somewhere for your goombas to come from.\n",
    "1. Create a goomba Prefab.\n",
    "1. Have a goomba spawn from the pipe every 2 seconds. Write code for them to move up and out of the pipe instead of simply appearing.\n",
    "1. Add code for the goombas to drop down to the platform and move around after spawning.\n",
    "1. Edit your code to have the goombas be destroyed when Mario jumps on top of them.\n",
    "\n",
    "**Solution**\n",
    "\n",
    "---"
   ]
  },
  {
   "cell_type": "markdown",
   "metadata": {},
   "source": [
    "# Coins\n",
    "\n",
    "1. Create a coin Prefab.\n",
    "1. Have these coins spawn along the platforms. Use a loop to generate them instead of manually creating objects.\n",
    "    * You may need to test the way this looks a few times and make tweaks to your loop based on that.\n",
    "1. When Mario hits a coin, the coin should disappear. This should also trigger some other effects — write a script to keep track of how many coins Mario has collected.\n",
    "1. Add a text component that says \"Coins: \" and indicates how many coins Mario has at any given time.\n",
    "1. When the number of coins reaches 100, increase Mario's lives by 1 and subtract those 100 coins.\n",
    "    \n",
    "**Solution**"
   ]
  },
  {
   "cell_type": "markdown",
   "metadata": {},
   "source": [
    "# Time Limit\n",
    "\n",
    "1. Go to your Canvas on either level 1 or 2. Add a text component that says \"Time: 1000\".\n",
    "1. Add a script that changes this text to display the number of seconds left to complete the level, starting with 1000 seconds (~17 minutes) and stopping at 0.\n",
    "1. Add a text component that says \"Time's up!\" Hide this component.\n",
    "1. Create a script that will show the Time's up! text when time runs out, and reset the level.\n",
    "\n",
    "**Solution**\n",
    "\n",
    "---"
   ]
  },
  {
   "cell_type": "markdown",
   "metadata": {},
   "source": [
    "# Score\n",
    "\n",
    "Let's think about how we want to count points. Say Mario scores 100 points when he destroys a goomba and 50 points when he collects a coin.\n",
    "\n",
    "1. Add a \"Score: \" text component to the Canvas.\n",
    "1. Have this score change when Mario destroys a goomba or when he collects a coin.\n",
    "    * Hint: You can do this by having the Prefabs update the public score variable when these events happen!\n",
    "    \n",
    "**Solution**\n",
    "\n",
    "---"
   ]
  },
  {
   "cell_type": "markdown",
   "metadata": {},
   "source": [
    "# New Power-Ups\n",
    "\n",
    "Now, we can add some of the fancier power-ups: fire, ice, and flying.\n",
    "\n",
    "1. Add another question block to your level.\n",
    "1. Add the fire flower, ice flower, and propeller mushroom sprites. (see part 1 for what's needed to hide and show these where appropriate).\n",
    "1. Add a new script to all of the power-ups that changes what happens when they show up — have them fly out of the question block. See [this video from 1:28 to 1:31](https://youtu.be/__x__iktPxE?t=88) for a reference on what they should do. Focus on the behavior of the plain mushroom and apply that to your power-up sprites.\n",
    "1. Create a fireball Prefab. This should spawn if the fire power-up is on AND the space bar is pressed. Do the same with an iceball Prefab, associated with the ice power-up.\n",
    "1. Write a script that adds an upward force when the flying power-up is active and the space bar is pressed.\n",
    "\n",
    "**Solution**\n",
    "\n",
    "---"
   ]
  },
  {
   "cell_type": "markdown",
   "metadata": {},
   "source": [
    "# Animation\n",
    "\n",
    "Finally, let's animate Mario to bring him to life.\n",
    "\n",
    "---"
   ]
  },
  {
   "cell_type": "code",
   "execution_count": null,
   "metadata": {},
   "outputs": [],
   "source": []
  }
 ],
 "metadata": {
  "kernelspec": {
   "display_name": "Python 3",
   "language": "python",
   "name": "python3"
  },
  "language_info": {
   "codemirror_mode": {
    "name": "ipython",
    "version": 3
   },
   "file_extension": ".py",
   "mimetype": "text/x-python",
   "name": "python",
   "nbconvert_exporter": "python",
   "pygments_lexer": "ipython3",
   "version": "3.7.4"
  }
 },
 "nbformat": 4,
 "nbformat_minor": 2
}
