{
  "nbformat": 4,
  "nbformat_minor": 0,
  "metadata": {
    "colab": {
      "name": "super-mario-project-part1.ipynb",
      "provenance": [],
      "collapsed_sections": []
    },
    "kernelspec": {
      "name": "python3",
      "display_name": "Python 3"
    }
  },
  "cells": [
    {
      "cell_type": "markdown",
      "metadata": {
        "id": "cPQltWVHwl_J",
        "colab_type": "text"
      },
      "source": [
        "# Project - Super Mario Bros. Game (Part 1)\n",
        "\n",
        "In this project, you'll make your own version of a Super Mario Bros. game. For the first part, we'll focus on the mechanics of the game — setting up the scene of one level, moving your character around, and keeping track of lives. We'll also get to add some simple power-ups and interaction with an enemy.\n",
        "\n",
        "[![Mario Game Part 1](https://drive.google.com/file/d/1fU09ebNZ1en0uLHwZ-JRTrOx9fqNOebS/view?usp=sharing)](https://drive.google.com/file/d/11dKHPLP9MrJqdpvY8_2wxG2Xudfc8XEi/view?usp=sharing)\n",
        "\n",
        "---"
      ]
    },
    {
      "cell_type": "markdown",
      "metadata": {
        "id": "BHJpPEadxTU4",
        "colab_type": "text"
      },
      "source": [
        "# Learning Objectives\n",
        "\n",
        "* Students will apply knowledge of 2D physics (colliders, rigidbody, etc.) to a game project.\n",
        "* Students will apply object-oriented programming concepts including data types, variables, conditionals, and inputs.\n",
        "* Students will create a basic game to be built upon in part 2.\n",
        "---"
      ]
    },
    {
      "cell_type": "markdown",
      "metadata": {
        "id": "JbOOR82lzHDK",
        "colab_type": "text"
      },
      "source": [
        "# Sections\n",
        "\n",
        "Section 1\n",
        "* Set-up\n",
        "* Character and Scene\n",
        "  * Platform Motion\n",
        "* Player Movement\n",
        "\n",
        "Section 2\n",
        "* Power-ups\n",
        "* Enemies\n",
        "* Lives\n",
        "\n",
        "Section 3\n",
        "* In-Game Interface\n",
        "* Menu\n",
        "* Level 2\n",
        "\n",
        "---"
      ]
    },
    {
      "cell_type": "markdown",
      "metadata": {
        "id": "nETYIXzpKZh4",
        "colab_type": "text"
      },
      "source": [
        "# Section 1\n",
        "\n",
        "## Set-up\n",
        "\n",
        "1. Open Unity and create a 2D game.\n",
        "2. Download assets. You can use the ones provided or find your own. You'll want to have a variety of scene options (like bricks, grass, etc.), at least one player character sprite, and at least one enemy sprite.\n",
        "3. Make sure these assets are in the Assets folder of your project.\n",
        "\n",
        "![Unity Hub Setup Screen](https://drive.google.com/file/d/1Iognpxa5PIyCleE8oU04lOaEOniCUMQC/view?usp=sharing)"
      ]
    },
    {
      "cell_type": "markdown",
      "metadata": {
        "id": "CL4-c1Sg0EnR",
        "colab_type": "text"
      },
      "source": [
        "## Character and Scene\n",
        "\n",
        "1. Add Mario to the scene.\n",
        "1. Add your environment elements.\n",
        "1. Edit the sizes of your elements to be proportional with each other and the camera frame. Build until you're happy with how the level looks. See screenshots for an example.\n",
        "1. Change the background color.\n",
        "1. Add colliders on all of your elements.\n",
        "1. Configure your elements so that Mario can be affected by gravity but the environment pieces are static. Also, Mario should never rotate upside down, so set that constraint as well.\n",
        "\n",
        "**Solution**\n",
        "\n",
        "Add assets by dragging in the sprites. To get pieces to line up properly, click on the elements and adjust their Transform Position to match in the desired dimension (x for lining up vertically, y for horizontally, z for nearness).\n",
        "\n",
        "Background color can be changed by clicking on Main Camera and changing the Background. (see image for where that is in the Inspector)\n",
        "\n",
        "When finished, all elements should have some type of Collider 2D component and a Rigidbody 2D component. Mine all use Box Collider 2D for simplicity. On environment elements, the Rigidbody 2D should be set to Static. On Mario, it should be Dynamic. Also, under constraints, Mario should have Fixed Rotation, so the box for Z should be checked.\n",
        "\n",
        "![alt text](https://raw.githubusercontent.com/selenaqian/super-mario-project/master/screenshots/background.png?token=AHR6NDLQWMM6TFMBKSUO33C7BVC3I)"
      ]
    },
    {
      "cell_type": "markdown",
      "metadata": {
        "id": "CoIa_PdC0IOG",
        "colab_type": "text"
      },
      "source": [
        "## Player Movement\n",
        "\n",
        "1. Create a script that will allow Mario to move right and left, and jump.\n",
        "1. Make the speed and the jump height public variables so that you can adjust them in the Inspector.\n",
        "\n",
        "**Solution**\n",
        "\n",
        "<a href=\"https://drive.google.com/file/d/1B5v4WTWMIyWs3fos9rWCQ1HMcLODCyAH/view?usp=sharing\"><img src=\"https://nutritionbymia.com/wp-content/uploads/play-button-icon-png-0.png\" width=150px></img></a>\n",
        "\n",
        "Your code should look something like this:"
      ]
    },
    {
      "cell_type": "code",
      "metadata": {
        "id": "FfKo0OX9t72e",
        "colab_type": "code",
        "colab": {}
      },
      "source": [
        "using System.Collections;\n",
        "using System.Collections.Generic;\n",
        "using UnityEngine;\n",
        "\n",
        "public class mario_movement : MonoBehaviour\n",
        "{\n",
        "    public float speed = 0.1f;\n",
        "    public float jump_height = 0.1f;\n",
        "\n",
        "    void FixedUpdate()\n",
        "    {\n",
        "        if (Input.GetKey(\"right\")) {\n",
        "          transform.position += Vector3.right * speed;\n",
        "        }\n",
        "\n",
        "        if (Input.GetKey(\"left\")) {\n",
        "          transform.position += Vector3.left * speed;\n",
        "        }\n",
        "\n",
        "        if (Input.GetKey(\"up\")) {\n",
        "          transform.position += Vector3.up * jump_height;\n",
        "        }\n",
        "    }\n",
        "}"
      ],
      "execution_count": null,
      "outputs": []
    },
    {
      "cell_type": "markdown",
      "metadata": {
        "id": "ihMcS5Nl0gUq",
        "colab_type": "text"
      },
      "source": [
        "# Section 2\n",
        "\n",
        "## Power-ups\n",
        "\n",
        "1. Add a grow power-up sprite to the scene. Add components to make it affected by gravity and able to collide with other objects. Constrain it so it doesn't rotate, and hide it for now.\n",
        "1. Create a script that will make the power-up show up after Mario hits the question mark block.\n",
        "\n",
        "  Hint: The script should go on Mario to check if he has collided with the question mark block.\n",
        "\n",
        "1. Create a script that will check if Mario has collided with the power-up and increase his size when he does. Add a public boolean variable that will tell if he has this power-up activated (we'll need that later to decide what happens when he runs into enemies). Also, make the power-up disappear after Mario has run into it.\n",
        "\n",
        "1. Do the same for the shrink power-up (but make him shrink instead of grow!). You should not need to make any more scripts on Mario — instead, modify the scripts you already have to account for the new power-up.\n",
        "\n",
        "**Solution**\n",
        "\n",
        "<a href=\"https://drive.google.com/file/d/1z2AwoQlklicBrtuYZ38K43pKdmiqFQ8U/view?usp=sharing\"><img src=\"https://nutritionbymia.com/wp-content/uploads/play-button-icon-png-0.png\" width=150px></img></a>\n",
        "\n",
        "The power-ups should have a Collider 2D and Rigidbody 2D, with the Z constraint checked. They should start out inactive, which can be done by unchecking the box next to the name. That will make the sprite disappear from the scene and be grayed out in the Hierarchy panel.\n",
        "\n",
        "![Uncheck the box next to the power up sprite name in the Inspector panel](https://drive.google.com/file/d/1jYnsXC4KvLOJtyT86UV0qYwIaP0BrY75/view?usp=sharing)\n",
        "\n",
        "The scripts can all go on Mario, since the collisions both are with the player character and affect the Mario's size. I have them all combined into one script, but they can be separated out. It should look something like this:"
      ]
    },
    {
      "cell_type": "code",
      "metadata": {
        "id": "8ZN7idDXGJy8",
        "colab_type": "code",
        "colab": {}
      },
      "source": [
        "using System.Collections;\n",
        "using System.Collections.Generic;\n",
        "using UnityEngine;\n",
        "\n",
        "public class activate_powerups : MonoBehaviour\n",
        "{\n",
        "    public GameObject question_block;\n",
        "\n",
        "    public GameObject grow_powerup;\n",
        "    public bool grow_active;\n",
        "\n",
        "    public GameObject shrink_powerup;\n",
        "    public bool shrink_active;\n",
        "\n",
        "    Vector3 original_scale; // this is used so that the power-ups override each other instead of cancelling out\n",
        " \n",
        "    // Start is called before the first frame update\n",
        "    void Start()\n",
        "    {\n",
        "      original_scale = transform.localScale;\n",
        "    }\n",
        "\n",
        "    void OnCollisionEnter2D(Collision2D other) {\n",
        "        if (other.gameObject == question_block && transform.position.y < question_block.transform.position.y) {\n",
        "            // the second condition checks that Mario is jumping up to hit the question block\n",
        "            grow_powerup.SetActive(true);\n",
        "            shrink_powerup.SetActive(true);\n",
        "        }\n",
        "\n",
        "        if (other.gameObject == grow_powerup) {\n",
        "          grow_active = true;\n",
        "          shrink_active = false;\n",
        "          transform.localScale = original_scale + new Vector3(0.1f, 0.1f, 0.1f);\n",
        "          grow_powerup.SetActive(false);\n",
        "        }\n",
        "\n",
        "        if (other.gameObject == shrink_powerup) {\n",
        "          shrink_active = true;\n",
        "          grow_active = false;\n",
        "          transform.localScale = original_scale + new Vector3(-0.1f, -0.1f, -0.1f);\n",
        "          shrink_powerup.SetActive(false);\n",
        "        }\n",
        "    }\n",
        "}"
      ],
      "execution_count": null,
      "outputs": []
    },
    {
      "cell_type": "markdown",
      "metadata": {
        "id": "2qBJFjnzHaRl",
        "colab_type": "text"
      },
      "source": [
        "*Note that in order to make this work, the public GameObjects need to be connected properly. This can be done in the Inspector of the Unity Editor (see image).\n",
        "\n",
        "![Connect GameObjects to the public GameObjects used in scripts by dragging from Hierarchy to Inspector](https://drive.google.com/file/d/14Jr_rKmCEKQWC1aoPYTcCUvGJRFGg30q/view?usp=sharing)"
      ]
    },
    {
      "cell_type": "markdown",
      "metadata": {
        "id": "aBAffJf_1mLG",
        "colab_type": "text"
      },
      "source": [
        "## Enemies\n",
        "\n",
        "1. Add an enemy goomba to the scene. Place two additional bricks around it so that the goomba is limited to a confined space.\n",
        "1. Scale its size and make sure the goomba and the bricks can collide with other objects and be affected by gravity.\n",
        "1. Create a script that will make your goomba walk back and forth on the path between the two bricks.\n",
        "  * Hint: You can check for collisions with the bricks to see if the goomba should change direction.\n",
        "1. Create a script on Mario that will check if Mario has collided with the goomba. Call it something like \"mario_lives\" since we'll also be using this to track Mario's lives. For now, have the program print a debug statement that says \"Collided with goomba!\" when Mario hits the goomba.\n",
        "\n",
        "**Solution**\n",
        "\n",
        "The enemy goomba and the bricks should have Collider 2D and RigidBody 2D components. The bricks should be static, but the goomba should be dynamic since it will be moving and colliding with static objects.\n",
        "\n",
        "The code for walking back and forth should look something like this:"
      ]
    },
    {
      "cell_type": "code",
      "metadata": {
        "id": "XtnkGg0TRltD",
        "colab_type": "code",
        "colab": {}
      },
      "source": [
        "using System.Collections;\n",
        "using System.Collections.Generic;\n",
        "using UnityEngine;\n",
        "\n",
        "public class goomba_walking : MonoBehaviour\n",
        "{\n",
        "    public float speed = 0.5f;\n",
        "    public GameObject right_brick;\n",
        "    public GameObject left_brick;\n",
        "    Vector3 direction = Vector3.right;\n",
        "\n",
        "    // Update is called once per frame\n",
        "    void Update()\n",
        "    {\n",
        "        transform.position += direction * speed * Time.deltaTime;\n",
        "    }\n",
        "\n",
        "    void OnCollisionEnter2D(Collision2D other) {\n",
        "        if (other.gameObject == right_brick) {\n",
        "          direction = Vector3.left;\n",
        "        }\n",
        "        else if (other.gameObject == left_brick) {\n",
        "          direction = Vector3.right;\n",
        "        }\n",
        "    }\n",
        "}\n"
      ],
      "execution_count": null,
      "outputs": []
    },
    {
      "cell_type": "markdown",
      "metadata": {
        "id": "ky57vzHEKggi",
        "colab_type": "text"
      },
      "source": [
        "The script for Mario and goomba collisions should look something like this. Again make sure that the public GameObjects are connected properly on both of these scripts."
      ]
    },
    {
      "cell_type": "code",
      "metadata": {
        "id": "onFNYFbiuht7",
        "colab_type": "code",
        "colab": {}
      },
      "source": [
        "using System.Collections;\n",
        "using System.Collections.Generic;\n",
        "using UnityEngine;\n",
        "\n",
        "public class mario_lives : MonoBehaviour\n",
        "{\n",
        "    public GameObject goomba;\n",
        "    public int lives = 5;\n",
        "\n",
        "    void OnCollisionEnter2D(Collision2D other) {\n",
        "        if (other.gameObject == goomba) {\n",
        "            Debug.Log(\"Collided with goomba!\");\n",
        "        }\n",
        "    }\n",
        "}\n"
      ],
      "execution_count": null,
      "outputs": []
    },
    {
      "cell_type": "markdown",
      "metadata": {
        "id": "gPHauXVG0KY-",
        "colab_type": "text"
      },
      "source": [
        "## Lives\n",
        "\n",
        "1. Add a public variable \"lives\" to the mario_lives script. Set it equal to 5 to start.\n",
        "1. Replace the Debug.Log in the mario_lives script with code that will decrease the number of lives by 1 and kill (deactivate) Mario UNLESS Mario jumps on top of the goomba. If Mario lands on top of the goomba, the goomba should die (by deactivating).\n",
        "  * Hint: To check if Mario is on top of the goomba, check if the lowest point on Mario is above or at the same level as the highest point of the goomba using the collider's bounds.\n",
        "\n",
        "Mario can also lose lives in other ways. For example, if he falls through the hole in the middle of the scene. We can check for that by looking at the y-value of Mario's transform.position.\n",
        "\n",
        "3. Create an empty GameObject called worldScripts. We'll need this to control what happens when Mario (or another character) dies.\n",
        "  * Since this GameObject is empty, it won't show up or otherwise interfere with your game. However, it is necessary to reactivate Mario once he's been deactivated. It's also very useful for connecting different objects in your scene and later passing information between levels.\n",
        "1. Create a script that checks if Mario's y position is low enough that he is off screen. If he is, Mario should lose a life and be deactivated. Any power-ups should also be canceled out.\n",
        "1. This same script should also check if Mario is deactivated. It should move Mario back to the initial starting position and reactivate him if he still has lives left. If Mario has no more lives, print a message to the console stating, \"Game Over. You have no more lives left.\" and stop the game.\n",
        "  * Hint: Use [Time.timeScale](https://docs.unity3d.com/ScriptReference/Time-timeScale.html) to stop the game. To get the desired behavior, also make sure that your goomba walking script has a Time.deltaTime multiplied into the speed and the script on the worldScripts object uses FixedUpdate() instead of Update().\n",
        "\n",
        "**Solution**\n",
        "\n",
        "<a href=\"https://drive.google.com/file/d/1vlIwJ2A4g4T_9Dgg8pV7oQOGF2pSJYaF/view?usp=sharing\"><img src=\"https://nutritionbymia.com/wp-content/uploads/play-button-icon-png-0.png\" width=150px></img></a>\n",
        "\n",
        "Note that while not shown in the video, the goomba should stop moving when the game stops — that should be covered by multiplying by Time.deltaTime.\n",
        "\n",
        "The mario_lives script should end up looking something like this. I've used the [collider's bounds](https://docs.unity3d.com/2019.2/Documentation/ScriptReference/Bounds.html) to figure out what the top and bottom most values for the goomba and Mario, respectively, and compared those to figure out if the goomba should die or if Mario should lose a life."
      ]
    },
    {
      "cell_type": "code",
      "metadata": {
        "id": "tNW-76p8halE",
        "colab_type": "code",
        "colab": {}
      },
      "source": [
        "using System.Collections;\n",
        "using System.Collections.Generic;\n",
        "using UnityEngine;\n",
        "\n",
        "public class mario_lives : MonoBehaviour\n",
        "{\n",
        "    public GameObject goomba;\n",
        "    public int lives = 5;\n",
        "\n",
        "    void OnCollisionEnter2D(Collision2D other) {\n",
        "        if (other.gameObject == goomba) {\n",
        "            if (GetComponent<BoxCollider2D>().bounds.min.y >= goomba.GetComponent<BoxCollider2D>().bounds.max.y) {\n",
        "                goomba.SetActive(false);\n",
        "            }\n",
        "            else {\n",
        "              lives -= 1;\n",
        "              gameObject.SetActive(false);\n",
        "            }\n",
        "        }\n",
        "    }\n",
        "}\n"
      ],
      "execution_count": null,
      "outputs": []
    },
    {
      "cell_type": "markdown",
      "metadata": {
        "id": "oeVuVa3QuMBP",
        "colab_type": "text"
      },
      "source": [
        "The script on the worldScripts object should look something like this:"
      ]
    },
    {
      "cell_type": "code",
      "metadata": {
        "id": "x8pYo2fGuZHn",
        "colab_type": "code",
        "colab": {}
      },
      "source": [
        "using System.Collections;\n",
        "using System.Collections.Generic;\n",
        "using UnityEngine;\n",
        "\n",
        "public class mario_deaths : MonoBehaviour\n",
        "{\n",
        "    public GameObject mario;\n",
        "    Vector3 mario_start;\n",
        "    Vector3 mario_size;\n",
        "\n",
        "    // Start is called before the first frame update\n",
        "    void Start()\n",
        "    {\n",
        "        mario_start = mario.transform.position;\n",
        "        mario_size = mario.transform.localScale;\n",
        "    }\n",
        "\n",
        "    void FixedUpdate()\n",
        "    {\n",
        "        if (mario.transform.position.y < -6) {\n",
        "          mario.GetComponent<mario_lives>().lives -= 1;\n",
        "          mario.SetActive(false);\n",
        "        }\n",
        "        if (!mario.activeInHierarchy && mario.GetComponent<mario_lives>().lives > 0) {\n",
        "          mario.transform.position = mario_start;\n",
        "          mario.transform.localScale = mario_size;\n",
        "          mario.GetComponent<activate_powerups>().grow_active = false;\n",
        "          mario.GetComponent<activate_powerups>().shrink_active = false;\n",
        "          mario.SetActive(true);\n",
        "        }\n",
        "        else if (mario.GetComponent<mario_lives>().lives <= 0) {\n",
        "          Debug.Log(\"Game Over. You have no more lives left.\");\n",
        "          Time.timeScale = 0;\n",
        "        }\n",
        "    }\n",
        "}\n"
      ],
      "execution_count": null,
      "outputs": []
    },
    {
      "cell_type": "markdown",
      "metadata": {
        "id": "X3S-O5X9Nswn",
        "colab_type": "text"
      },
      "source": [
        "# Section 3\n",
        "\n",
        "## In-Game Interface\n",
        "\n",
        "## Menu\n",
        "\n",
        "## Level 2"
      ]
    },
    {
      "cell_type": "markdown",
      "metadata": {
        "id": "kMcL0881xNLq",
        "colab_type": "text"
      },
      "source": [
        "# Part 1 Complete\n",
        "\n",
        "Great job! You now have a basic platform-based game that you can continue to build on."
      ]
    },
    {
      "cell_type": "code",
      "metadata": {
        "id": "FzZpwrlu2Dy2",
        "colab_type": "code",
        "colab": {}
      },
      "source": [
        ""
      ],
      "execution_count": null,
      "outputs": []
    }
  ]
}