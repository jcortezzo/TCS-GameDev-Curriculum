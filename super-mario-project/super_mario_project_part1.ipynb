{
 "cells": [
  {
   "cell_type": "markdown",
   "metadata": {
    "colab_type": "text",
    "id": "cPQltWVHwl_J"
   },
   "source": [
    "# Project - Super Mario Bros. Game (Part 1)\n",
    "\n",
    "In this project, you'll make your own version of a Super Mario Bros. game. For the first part, we'll focus on the mechanics of the game — setting up the scene of one level, moving your character around, and keeping track of lives. We'll also get to add some simple power-ups and interaction with an enemy.\n",
    "\n",
    "[![Mario Game Part 1](Images/final-p1.png)](Images/final-p1.mov)\n",
    "\n",
    "---"
   ]
  },
  {
   "cell_type": "markdown",
   "metadata": {
    "colab_type": "text",
    "id": "BHJpPEadxTU4"
   },
   "source": [
    "# Learning Objectives\n",
    "\n",
    "* Students will apply knowledge of 2D physics (colliders, rigidbody, etc.) to a game project.\n",
    "* Students will apply object-oriented programming concepts including data types, variables, conditionals, and inputs.\n",
    "* Students will create a basic game to be built upon in part 2.\n",
    "---"
   ]
  },
  {
   "cell_type": "markdown",
   "metadata": {
    "colab_type": "text",
    "id": "JbOOR82lzHDK"
   },
   "source": [
    "# Sections\n",
    "\n",
    "Section 1\n",
    "* Set-up\n",
    "* Character and Scene\n",
    "* Player Movement\n",
    "* Platform Motion\n",
    "\n",
    "Section 2\n",
    "* Update Player Movement\n",
    "* Power-ups\n",
    "* Enemies\n",
    "* Lives\n",
    "\n",
    "Section 3\n",
    "* Menu\n",
    "* In-Game Interface\n",
    "* Level 2\n",
    "* Build Your Game!\n",
    "\n",
    "---"
   ]
  },
  {
   "cell_type": "markdown",
   "metadata": {
    "colab_type": "text",
    "id": "nETYIXzpKZh4"
   },
   "source": [
    "# Section 1\n",
    "\n",
    "## Set-up\n",
    "\n",
    "1. Open Unity and create a 2D game.\n",
    "2. Download assets. You can use the ones provided or find your own. You'll want to have a variety of scene options (like bricks, grass, etc.), at least one player character sprite, and at least one enemy sprite.\n",
    "3. Make sure these assets are in the Assets folder of your project.\n",
    "\n",
    "![Unity Hub Setup Screen](Images/unity-setup.png)"
   ]
  },
  {
   "cell_type": "markdown",
   "metadata": {
    "colab_type": "text",
    "id": "CL4-c1Sg0EnR"
   },
   "source": [
    "## Character and Scene\n",
    "\n",
    "1. Add Mario to the scene.\n",
    "1. Add your environment elements.\n",
    "1. Edit the sizes of your elements to be proportional with each other and the camera frame. Build until you're happy with how the level looks. See screenshots for an example.\n",
    "1. Change the background color.\n",
    "1. Add colliders on all of your elements.\n",
    "1. Configure your elements so that Mario can be affected by gravity but the environment pieces are static. Also, Mario should never rotate upside down, so set that constraint as well.\n",
    "\n",
    "**Solution**\n",
    "\n",
    "Add assets by dragging in the sprites. To get pieces to line up properly, click on the elements and adjust their Transform Position to match in the desired dimension (x for lining up vertically, y for horizontally, z for nearness).\n",
    "\n",
    "Background color can be changed by clicking on Main Camera and changing the Background. (see image for where that is in the Inspector)\n",
    "\n",
    "When finished, all elements should have some type of Collider 2D component and a Rigidbody 2D component. Mine all use Box Collider 2D for simplicity. On environment elements, the Rigidbody 2D should be set to Static. On Mario, it should be Dynamic. Also, under constraints, Mario should have Fixed Rotation, so the box for Z should be checked.\n",
    "\n",
    "![alt text](Images/background.png)"
   ]
  },
  {
   "cell_type": "markdown",
   "metadata": {},
   "source": [
    "## Platform Motion\n",
    "\n",
    "Let's add some motion to a couple of the platforms. We're going to have the highest platform move horizontally and the one above the gap move vertically.\n",
    "\n",
    "1. Make sure that the bricks that make up each platform are grouped together. This will allow you to put a script only on the parent brick and move the entire platform together.\n",
    "1. Add a script that moves the desired platforms right to left or up and down over time. You'll need to have a variable keeping track of how far the platform has moved so that you know when to have it go the other direction.\n",
    "1. Add the script (provided below) to the script that controls Mario's movement. You'll need this to make Mario's movement follow the moving platforms so he sticks on the platform instead of the platform moving out from underneath him. Change the names in the if statement to match the names of the parent bricks of your moving platforms."
   ]
  },
  {
   "cell_type": "code",
   "execution_count": null,
   "metadata": {},
   "outputs": [],
   "source": [
    "void OnCollisionEnter2D(Collision2D other) {\n",
    "    if (other.gameObject.name == \"brick (3)\" || other.gameObject.name == \"brick (4)\") {\n",
    "        transform.parent = other.transform;\n",
    "    }\n",
    "}\n",
    "\n",
    "void OnCollisionExit2D(Collision2D other) {\n",
    "    transform.parent = null;\n",
    "}"
   ]
  },
  {
   "cell_type": "markdown",
   "metadata": {},
   "source": [
    "**Solution**\n",
    "\n",
    "Your scripts should look something like this:"
   ]
  },
  {
   "cell_type": "code",
   "execution_count": null,
   "metadata": {},
   "outputs": [],
   "source": [
    "# horizontal movement\n",
    "using System.Collections;\n",
    "using System.Collections.Generic;\n",
    "using UnityEngine;\n",
    "\n",
    "public class move_horizontal : MonoBehaviour\n",
    "{\n",
    "    public float amount = 2.0f;\n",
    "    public float speed = 1.0f;\n",
    "\n",
    "    Vector3 direction = Vector3.left;\n",
    "    float moved = 0.0f;\n",
    "\n",
    "    // Update is called once per frame\n",
    "    void Update()\n",
    "    {\n",
    "        if (moved > amount || moved < -amount) {\n",
    "          direction = -direction;\n",
    "          moved = 0.0f;\n",
    "        }\n",
    "        transform.position += direction * speed * Time.deltaTime;\n",
    "        moved += speed * Time.deltaTime;\n",
    "    }\n",
    "}"
   ]
  },
  {
   "cell_type": "code",
   "execution_count": null,
   "metadata": {},
   "outputs": [],
   "source": [
    "# vertical movement\n",
    "using System.Collections;\n",
    "using System.Collections.Generic;\n",
    "using UnityEngine;\n",
    "\n",
    "public class move_vertical : MonoBehaviour\n",
    "{\n",
    "  public float amount = 3.0f;\n",
    "  public float speed = 1.0f;\n",
    "\n",
    "  Vector3 direction = Vector3.up;\n",
    "  float moved = 0.0f;\n",
    "\n",
    "  // Update is called once per frame\n",
    "  void Update()\n",
    "  {\n",
    "      if (moved > amount || moved < -amount) {\n",
    "        direction = -direction;\n",
    "        moved = 0.0f;\n",
    "      }\n",
    "      transform.position += direction * speed * Time.deltaTime;\n",
    "      moved += speed * Time.deltaTime;\n",
    "  }\n",
    "}"
   ]
  },
  {
   "cell_type": "markdown",
   "metadata": {
    "colab_type": "text",
    "id": "CoIa_PdC0IOG"
   },
   "source": [
    "## Player Movement\n",
    "\n",
    "1. Create a script that will allow Mario to move right and left, and jump.\n",
    "1. Make the speed and the jump height public variables so that you can adjust them in the Inspector.\n",
    "\n",
    "**Solution**\n",
    "\n",
    "<a href=\"Images/mario-movement.mov\"><img src=\"https://nutritionbymia.com/wp-content/uploads/play-button-icon-png-0.png\" width=150px></img></a>\n",
    "\n",
    "Your code should look something like this:"
   ]
  },
  {
   "cell_type": "code",
   "execution_count": null,
   "metadata": {
    "colab": {},
    "colab_type": "code",
    "id": "FfKo0OX9t72e"
   },
   "outputs": [],
   "source": [
    "using System.Collections;\n",
    "using System.Collections.Generic;\n",
    "using UnityEngine;\n",
    "\n",
    "public class mario_movement : MonoBehaviour\n",
    "{\n",
    "    public float speed = 0.1f;\n",
    "    public float jump_height = 0.1f;\n",
    "\n",
    "    void FixedUpdate()\n",
    "    {\n",
    "        if (Input.GetKey(\"right\")) {\n",
    "          transform.position += Vector3.right * speed;\n",
    "        }\n",
    "\n",
    "        if (Input.GetKey(\"left\")) {\n",
    "          transform.position += Vector3.left * speed;\n",
    "        }\n",
    "\n",
    "        if (Input.GetKey(\"up\")) {\n",
    "          transform.position += Vector3.up * jump_height;\n",
    "        }\n",
    "    }\n",
    "}"
   ]
  },
  {
   "cell_type": "markdown",
   "metadata": {
    "colab_type": "text",
    "id": "ihMcS5Nl0gUq"
   },
   "source": [
    "# Section 2\n",
    "\n",
    "## Update Player Movement\n",
    "\n",
    "Now that you've learned about using AddForce() instead of transform, let's modify Mario's movement.\n",
    "\n",
    "1. Change Mario to use AddForce() on the RigidBody instead of transform when jumping.\n",
    "1. Limit the number of times Mario can jump. You learned in your lesson how to check if the character is currently touching the ground — for this game, we'll want to allow double jumping, so add a private variable that keeps track of how many jumps and resets upon hitting something else. We don't have to worry about what Mario has hit because the jump in the Mario games resets upon hitting anything, though feel free to change this mechanism if you want.\n",
    "    * Note: In order to prevent the number of jumps from counting multiple times, use Input.GetKeyDown instead of Input.GetKey. Also, this needs to happen in Update() instead of FixedUpdate() to prevent the Input from triggering multiple times for one click.\n",
    "1. Also, change to using forces instead of transform for horizontal movement as well.\n",
    "\n",
    "**Solution**\n",
    "\n",
    "Your code should look something like this:"
   ]
  },
  {
   "cell_type": "code",
   "execution_count": null,
   "metadata": {},
   "outputs": [],
   "source": [
    "using System.Collections;\n",
    "using System.Collections.Generic;\n",
    "using UnityEngine;\n",
    "\n",
    "public class mario_movement : MonoBehaviour\n",
    "{\n",
    "    public float speed = 120.0f;\n",
    "    public float jumpForce = 5.0f;\n",
    "\n",
    "    private Rigidbody2D rb;\n",
    "    [SerializeField] private int jumps = 0;\n",
    "\n",
    "    void Start() {\n",
    "        rb = GetComponent<Rigidbody2D>();\n",
    "    }\n",
    "\n",
    "    void FixedUpdate() {\n",
    "        Walk();\n",
    "    }\n",
    "\n",
    "    void Update() {\n",
    "        // Jump if you're pressing Up and the number of jumps is less than 2\n",
    "        if (Input.GetKeyDown(KeyCode.UpArrow) && jumps < 2) {\n",
    "            Jump();\n",
    "        }\n",
    "    }\n",
    "\n",
    "    private void Walk() {\n",
    "        float horizontal = Input.GetAxisRaw(\"Horizontal\");\n",
    "        Vector2 movement = new Vector2(horizontal * speed * Time.deltaTime, rb.velocity.y);\n",
    "        rb.velocity = movement;\n",
    "    }\n",
    "\n",
    "    private void Jump() {\n",
    "        rb.velocity = new Vector2(rb.velocity.x, 0);\n",
    "        rb.AddForce(jumpForce * Vector2.up * rb.mass, ForceMode2D.Impulse);\n",
    "        jumps++;\n",
    "    }\n",
    "\n",
    "    void OnCollisionEnter2D(Collision2D other) {\n",
    "        jumps = 0;\n",
    "\n",
    "        if (other.gameObject.name == \"brick (3)\" || other.gameObject.name == \"brick (4)\") {\n",
    "            transform.parent = other.transform;\n",
    "        }\n",
    "    }\n",
    "\n",
    "    void OnCollisionExit2D(Collision2D other) {\n",
    "        transform.parent = null;\n",
    "    }\n",
    "}\n"
   ]
  },
  {
   "cell_type": "markdown",
   "metadata": {},
   "source": [
    "## Power-ups\n",
    "\n",
    "1. Add a grow power-up sprite to the scene. Add components to make it affected by gravity and able to collide with other objects. Constrain it so it doesn't rotate, and hide it for now.\n",
    "1. Create a script that will make the power-up show up after Mario hits the question mark block.\n",
    "    * Hint: The script should go on Mario to check if he has collided with the question mark block.\n",
    "1. Create a script that will check if Mario has collided with the power-up and increase his size when he does. Add a public boolean variable that will tell if he has this power-up activated (we'll need that later to decide what happens when he runs into enemies). Also, make the power-up disappear after Mario has run into it.\n",
    "\n",
    "1. Do the same for the shrink power-up (but make him shrink instead of grow!). You should not need to make any more scripts on Mario — instead, modify the scripts you already have to account for the new power-up.\n",
    "\n",
    "**Solution**\n",
    "\n",
    "<a href=\"Images/power-ups.mov\"><img src=\"https://nutritionbymia.com/wp-content/uploads/play-button-icon-png-0.png\" width=150px></img></a>\n",
    "\n",
    "The power-ups should have a Collider 2D and Rigidbody 2D, with the Z constraint checked. They should start out inactive, which can be done by unchecking the box next to the name. That will make the sprite disappear from the scene and be grayed out in the Hierarchy panel.\n",
    "\n",
    "![Uncheck the box next to the power up sprite name in the Inspector panel](Images/power-ups.png)\n",
    "\n",
    "The scripts can all go on Mario, since the collisions both are with the player character and affect the Mario's size. I have them all combined into one script, but they can be separated out. It should look something like this:"
   ]
  },
  {
   "cell_type": "code",
   "execution_count": null,
   "metadata": {
    "colab": {},
    "colab_type": "code",
    "id": "8ZN7idDXGJy8"
   },
   "outputs": [],
   "source": [
    "using System.Collections;\n",
    "using System.Collections.Generic;\n",
    "using UnityEngine;\n",
    "\n",
    "public class activate_powerups : MonoBehaviour\n",
    "{\n",
    "    public GameObject question_block;\n",
    "\n",
    "    public GameObject grow_powerup;\n",
    "    public bool grow_active;\n",
    "\n",
    "    public GameObject shrink_powerup;\n",
    "    public bool shrink_active;\n",
    "\n",
    "    Vector3 original_scale; // this is used so that the power-ups override each other instead of cancelling out\n",
    " \n",
    "    // Start is called before the first frame update\n",
    "    void Start()\n",
    "    {\n",
    "      original_scale = transform.localScale;\n",
    "    }\n",
    "\n",
    "    void OnCollisionEnter2D(Collision2D other) {\n",
    "        if (other.gameObject == question_block && transform.position.y < question_block.transform.position.y) {\n",
    "            // the second condition checks that Mario is jumping up to hit the question block\n",
    "            grow_powerup.SetActive(true);\n",
    "            shrink_powerup.SetActive(true);\n",
    "        }\n",
    "\n",
    "        if (other.gameObject == grow_powerup) {\n",
    "          grow_active = true;\n",
    "          shrink_active = false;\n",
    "          transform.localScale = original_scale + new Vector3(0.1f, 0.1f, 0.1f);\n",
    "          grow_powerup.SetActive(false);\n",
    "        }\n",
    "\n",
    "        if (other.gameObject == shrink_powerup) {\n",
    "          shrink_active = true;\n",
    "          grow_active = false;\n",
    "          transform.localScale = original_scale + new Vector3(-0.1f, -0.1f, -0.1f);\n",
    "          shrink_powerup.SetActive(false);\n",
    "        }\n",
    "    }\n",
    "}"
   ]
  },
  {
   "cell_type": "markdown",
   "metadata": {
    "colab_type": "text",
    "id": "2qBJFjnzHaRl"
   },
   "source": [
    "*Note that in order to make this work, the public GameObjects need to be connected properly. This can be done in the Inspector of the Unity Editor (see image).\n",
    "\n",
    "![Connect GameObjects to the public GameObjects used in scripts by dragging from Hierarchy to Inspector](Images/connect-GameObjects.png)"
   ]
  },
  {
   "cell_type": "markdown",
   "metadata": {
    "colab_type": "text",
    "id": "aBAffJf_1mLG"
   },
   "source": [
    "## Enemies\n",
    "\n",
    "1. Add an enemy goomba to the scene. Place two additional bricks around it so that the goomba is limited to a confined space.\n",
    "1. Scale its size and make sure the goomba and the bricks can collide with other objects and be affected by gravity.\n",
    "1. Create a script that will make your goomba walk back and forth on the path between the two bricks.\n",
    "  * Hint: You can check for collisions with the bricks to see if the goomba should change direction.\n",
    "1. Create a script on Mario that will check if Mario has collided with the goomba. Call it something like \"mario_lives\" since we'll also be using this to track Mario's lives. For now, have the program print a debug statement that says \"Collided with goomba!\" when Mario hits the goomba.\n",
    "\n",
    "**Solution**\n",
    "\n",
    "The enemy goomba and the bricks should have Collider 2D and RigidBody 2D components. The bricks should be static, but the goomba should be dynamic since it will be moving and colliding with static objects.\n",
    "\n",
    "The code for walking back and forth should look something like this:"
   ]
  },
  {
   "cell_type": "code",
   "execution_count": null,
   "metadata": {
    "colab": {},
    "colab_type": "code",
    "id": "XtnkGg0TRltD"
   },
   "outputs": [],
   "source": [
    "using System.Collections;\n",
    "using System.Collections.Generic;\n",
    "using UnityEngine;\n",
    "\n",
    "public class goomba_walking : MonoBehaviour\n",
    "{\n",
    "    public float speed = 0.5f;\n",
    "    public GameObject right_brick;\n",
    "    public GameObject left_brick;\n",
    "    Vector3 direction = Vector3.right;\n",
    "\n",
    "    // Update is called once per frame\n",
    "    void Update()\n",
    "    {\n",
    "        transform.position += direction * speed * Time.deltaTime;\n",
    "    }\n",
    "\n",
    "    void OnCollisionEnter2D(Collision2D other) {\n",
    "        if (other.gameObject == right_brick) {\n",
    "          direction = Vector3.left;\n",
    "        }\n",
    "        else if (other.gameObject == left_brick) {\n",
    "          direction = Vector3.right;\n",
    "        }\n",
    "    }\n",
    "}\n"
   ]
  },
  {
   "cell_type": "markdown",
   "metadata": {
    "colab_type": "text",
    "id": "ky57vzHEKggi"
   },
   "source": [
    "The script for Mario and goomba collisions should look something like this. Again make sure that the public GameObjects are connected properly on both of these scripts."
   ]
  },
  {
   "cell_type": "code",
   "execution_count": null,
   "metadata": {
    "colab": {},
    "colab_type": "code",
    "id": "onFNYFbiuht7"
   },
   "outputs": [],
   "source": [
    "using System.Collections;\n",
    "using System.Collections.Generic;\n",
    "using UnityEngine;\n",
    "\n",
    "public class mario_lives : MonoBehaviour\n",
    "{\n",
    "    public GameObject goomba;\n",
    "    public int lives = 5;\n",
    "\n",
    "    void OnCollisionEnter2D(Collision2D other) {\n",
    "        if (other.gameObject == goomba) {\n",
    "            Debug.Log(\"Collided with goomba!\");\n",
    "        }\n",
    "    }\n",
    "}\n"
   ]
  },
  {
   "cell_type": "markdown",
   "metadata": {
    "colab_type": "text",
    "id": "gPHauXVG0KY-"
   },
   "source": [
    "## Lives\n",
    "\n",
    "1. Add a public variable \"lives\" to the mario_lives script. Set it equal to 5 to start.\n",
    "1. Replace the Debug.Log in the mario_lives script with code that will decrease the number of lives by 1 and kill (deactivate) Mario UNLESS Mario jumps on top of the goomba. If Mario lands on top of the goomba, the goomba should die (by deactivating).\n",
    "  * Hint: To check if Mario is on top of the goomba, check if the lowest point on Mario is above or at the same level as the highest point of the goomba using the collider's bounds.\n",
    "\n",
    "Mario can also lose lives in other ways. For example, if he falls through the hole in the middle of the scene. We can check for that by looking at the y-value of Mario's transform.position.\n",
    "\n",
    "3. Create an empty GameObject called worldScripts. We'll need this to control what happens when Mario (or another character) dies.\n",
    "  * Since this GameObject is empty, it won't show up or otherwise interfere with your game. However, it is necessary to reactivate Mario once he's been deactivated. It's also very useful for connecting different objects in your scene and later passing information between levels.\n",
    "1. Create a script that checks if Mario's y position is low enough that he is off screen. If he is, Mario should lose a life and be deactivated. Any power-ups should also be canceled out.\n",
    "1. This same script should also check if Mario is deactivated. It should move Mario back to the initial starting position and reactivate him if he still has lives left. If Mario has no more lives, print a message to the console stating, \"Game Over. You have no more lives left.\" and stop the game.\n",
    "  * Hint: Use [Time.timeScale](https://docs.unity3d.com/ScriptReference/Time-timeScale.html) to stop the game. To get the desired behavior, also make sure that your goomba walking script has a Time.deltaTime multiplied into the speed and the script on the worldScripts object uses FixedUpdate() instead of Update().\n",
    "\n",
    "**Solution**\n",
    "\n",
    "<a href=\"Images/deaths.mov\"><img src=\"https://nutritionbymia.com/wp-content/uploads/play-button-icon-png-0.png\" width=150px></img></a>\n",
    "\n",
    "Note that while not shown in the video, the goomba should stop moving when the game stops — that should be covered by multiplying by Time.deltaTime.\n",
    "\n",
    "The mario_lives script should end up looking something like this. I've used the [collider's bounds](https://docs.unity3d.com/2019.2/Documentation/ScriptReference/Bounds.html) to figure out what the top and bottom most values for the goomba and Mario, respectively, and compared those to figure out if the goomba should die or if Mario should lose a life."
   ]
  },
  {
   "cell_type": "code",
   "execution_count": null,
   "metadata": {
    "colab": {},
    "colab_type": "code",
    "id": "tNW-76p8halE"
   },
   "outputs": [],
   "source": [
    "using System.Collections;\n",
    "using System.Collections.Generic;\n",
    "using UnityEngine;\n",
    "\n",
    "public class mario_lives : MonoBehaviour\n",
    "{\n",
    "    public GameObject goomba;\n",
    "    public int lives = 5;\n",
    "\n",
    "    void OnCollisionEnter2D(Collision2D other) {\n",
    "        if (other.gameObject == goomba) {\n",
    "            if (GetComponent<BoxCollider2D>().bounds.min.y >= goomba.GetComponent<BoxCollider2D>().bounds.max.y) {\n",
    "                goomba.SetActive(false);\n",
    "            }\n",
    "            else {\n",
    "              lives -= 1;\n",
    "              gameObject.SetActive(false);\n",
    "            }\n",
    "        }\n",
    "    }\n",
    "}\n"
   ]
  },
  {
   "cell_type": "markdown",
   "metadata": {
    "colab_type": "text",
    "id": "oeVuVa3QuMBP"
   },
   "source": [
    "The script on the worldScripts object should look something like this:"
   ]
  },
  {
   "cell_type": "code",
   "execution_count": null,
   "metadata": {
    "colab": {},
    "colab_type": "code",
    "id": "x8pYo2fGuZHn"
   },
   "outputs": [],
   "source": [
    "using System.Collections;\n",
    "using System.Collections.Generic;\n",
    "using UnityEngine;\n",
    "\n",
    "public class mario_deaths : MonoBehaviour\n",
    "{\n",
    "    public GameObject mario;\n",
    "    Vector3 mario_start;\n",
    "    Vector3 mario_size;\n",
    "\n",
    "    // Start is called before the first frame update\n",
    "    void Start()\n",
    "    {\n",
    "        mario_start = mario.transform.position;\n",
    "        mario_size = mario.transform.localScale;\n",
    "    }\n",
    "\n",
    "    void FixedUpdate()\n",
    "    {\n",
    "        if (mario.transform.position.y < -6) {\n",
    "          mario.GetComponent<mario_lives>().lives -= 1;\n",
    "          mario.SetActive(false);\n",
    "        }\n",
    "        if (!mario.activeInHierarchy && mario.GetComponent<mario_lives>().lives > 0) {\n",
    "          mario.transform.position = mario_start;\n",
    "          mario.transform.localScale = mario_size;\n",
    "          mario.GetComponent<activate_powerups>().grow_active = false;\n",
    "          mario.GetComponent<activate_powerups>().shrink_active = false;\n",
    "          mario.SetActive(true);\n",
    "        }\n",
    "        else if (mario.GetComponent<mario_lives>().lives <= 0) {\n",
    "          Debug.Log(\"Game Over. You have no more lives left.\");\n",
    "          Time.timeScale = 0;\n",
    "        }\n",
    "    }\n",
    "}\n"
   ]
  },
  {
   "cell_type": "markdown",
   "metadata": {
    "colab_type": "text",
    "id": "X3S-O5X9Nswn"
   },
   "source": [
    "# Section 3\n",
    "\n",
    "## Menu\n",
    "\n",
    "1. Make a new scene for the menu.\n",
    "1. Add a Canvas with a background image.\n",
    "1. Add the game logo.\n",
    "1. Add a button that says \"Start\".\n",
    "1. Create a new empty GameObject. Add a script that will go to the first level when you click start."
   ]
  },
  {
   "cell_type": "markdown",
   "metadata": {},
   "source": [
    "**Solution**\n",
    "1. Go to File > New Scene and save the scene as.\n",
    "1. Go to GameObject > UI > Canvas to create the canvas object (or directly go to  GameObject > UI > Image which should also automatically create the canvas).\n",
    "    1. Optional: rename the background image to background.\n",
    "    1. Drag in the background source image into the Source Image slot in the image's Inspector. Click Set Native Size.\n",
    "    1. Anchor the background to the top left and move it accordingly.\n",
    "    1. Add an Aspect Ratio Fitter component and select Envelope Parent.\n",
    "1. Create another image and add in the game logo here. Also set native size.\n",
    "1. Create a Button element. Change its child Text element to say Start. Edit the sizing so that the button shows up at a reasonable size.\n",
    "1. Click the + under On Click () on the Button (Script) component. Drag in your scripts object and select the UIManager.StartGame function. Your UIManager script should look something like this:"
   ]
  },
  {
   "cell_type": "code",
   "execution_count": null,
   "metadata": {},
   "outputs": [],
   "source": [
    "using System.Collections;\n",
    "using System.Collections.Generic;\n",
    "using UnityEngine;\n",
    "using UnityEngine.SceneManagement;\n",
    "\n",
    "public class UIManager : MonoBehaviour\n",
    "{\n",
    "    public void StartGame()\n",
    "    {\n",
    "        SceneManager.LoadScene(\"level-1\");\n",
    "    }\n",
    "}"
   ]
  },
  {
   "cell_type": "markdown",
   "metadata": {},
   "source": [
    "## In-Game Interface\n",
    "\n",
    "1. Add a Canvas to Level 1. Add text components that say \"Level 1\" and \"Lives\". Style these as you wish.\n",
    "1. Add a script to each of the text objects that changes the text based on what's happening in the game. To modify the text, set GetComponent<UnityEngine.UI.Text>().text to the new value.\n",
    "    1. Specifically, the Level 1 text should have a script that checks what the scene name is and change the text accordingly (it'll be helpful if you name your scenes level-1, 2, etc.! If you do this, you can use String.Split(\"-\"), and then the resulting array's second item - index 1 - should be the level number). You'll need to use the SceneManagement module for this - the SceneManager.GetActiveScene().name will tell you the name of the current scene.\n",
    "    1. The Lives text should check for Mario's lives, which should be a public variable, and list that number after (i.e. Lives: 5)."
   ]
  },
  {
   "cell_type": "markdown",
   "metadata": {},
   "source": [
    "**Solution**\n",
    "\n",
    "1. Create the UI objects.\n",
    "1. Your two scripts should look like this:"
   ]
  },
  {
   "cell_type": "code",
   "execution_count": null,
   "metadata": {},
   "outputs": [],
   "source": [
    "# Level\n",
    "using System.Collections;\n",
    "using System.Collections.Generic;\n",
    "using UnityEngine;\n",
    "using UnityEngine.SceneManagement;\n",
    "\n",
    "public class level_text : MonoBehaviour\n",
    "{\n",
    "    private string[] scene;\n",
    "\n",
    "    // Update is called once per frame\n",
    "    void Update()\n",
    "    {\n",
    "        scene = SceneManager.GetActiveScene().name.Split('-');\n",
    "        GetComponent<UnityEngine.UI.Text>().text = \"Level \" + scene[1];\n",
    "    }\n",
    "}"
   ]
  },
  {
   "cell_type": "code",
   "execution_count": null,
   "metadata": {},
   "outputs": [],
   "source": [
    "# Lives\n",
    "using System.Collections;\n",
    "using System.Collections.Generic;\n",
    "using UnityEngine;\n",
    "\n",
    "public class lives_text : MonoBehaviour\n",
    "{\n",
    "    private GameObject mario;\n",
    "    // Start is called before the first frame update\n",
    "    void Start()\n",
    "    {\n",
    "        mario = GameObject.Find(\"mario\");\n",
    "    }\n",
    "\n",
    "    // Update is called once per frame\n",
    "    void Update()\n",
    "    {\n",
    "        GetComponent<UnityEngine.UI.Text>().text = \"Lives: \" + mario.GetComponent<mario_lives>().lives;\n",
    "    }\n",
    "}"
   ]
  },
  {
   "cell_type": "markdown",
   "metadata": {},
   "source": [
    "## Level 2\n",
    "\n",
    "1. Duplicate level 1. Rename it to level-2. Make a modification to make it distinct from level 1 so you know if your scene switch worked.\n",
    "1. Add a completion flag to level 1. Add a Collider2D to it.\n",
    "1. Write a script to handle the scene switch when Mario collides with the flag.\n",
    "\n",
    "**Solution**\n",
    "\n",
    "You can easily duplicate the level by saving as under a different name.\n",
    "\n",
    "Your script should look something like this:"
   ]
  },
  {
   "cell_type": "code",
   "execution_count": null,
   "metadata": {},
   "outputs": [],
   "source": [
    "using System.Collections;\n",
    "using System.Collections.Generic;\n",
    "using UnityEngine;\n",
    "using UnityEngine.SceneManagement;\n",
    "\n",
    "public class level_complete : MonoBehaviour\n",
    "{\n",
    "    public GameObject flag;\n",
    "    private string[] current;\n",
    "\n",
    "    void OnCollisionEnter2D(Collision2D other) {\n",
    "      if (other.gameObject == flag) {\n",
    "        # I wrote it like this so that it would be easier for adding future levels.\n",
    "        current = SceneManager.GetActiveScene().name.Split('-');\n",
    "        SceneManager.LoadScene(current[0] + '-' + (int.Parse(current[1])+1));\n",
    "        \n",
    "        # However, this will suffice for now:\n",
    "        SceneManager.LoadScene(\"level-2\");\n",
    "      }\n",
    "    }\n",
    "}"
   ]
  },
  {
   "cell_type": "markdown",
   "metadata": {},
   "source": [
    "## Build Your Game!\n",
    "\n",
    "Build your game for your device. Run your game!\n",
    "\n",
    "**Solution**\n",
    "\n",
    "1. Open Build Settings. Make sure to add all of your scenes. You may have to reopen them if they are not already added.\n",
    "2. Select the desired platform (PC, Mac). Hit Build or Build and Run."
   ]
  },
  {
   "cell_type": "markdown",
   "metadata": {
    "colab_type": "text",
    "id": "kMcL0881xNLq"
   },
   "source": [
    "# Part 1 Complete\n",
    "\n",
    "Great job! You now have a basic platformer-style game that you can continue to build on."
   ]
  },
  {
   "cell_type": "code",
   "execution_count": null,
   "metadata": {
    "colab": {},
    "colab_type": "code",
    "id": "FzZpwrlu2Dy2"
   },
   "outputs": [],
   "source": []
  }
 ],
 "metadata": {
  "colab": {
   "collapsed_sections": [],
   "name": "super-mario-project-part1.ipynb",
   "provenance": []
  },
  "kernelspec": {
   "display_name": "Python 3",
   "language": "python",
   "name": "python3"
  },
  "language_info": {
   "codemirror_mode": {
    "name": "ipython",
    "version": 3
   },
   "file_extension": ".py",
   "mimetype": "text/x-python",
   "name": "python",
   "nbconvert_exporter": "python",
   "pygments_lexer": "ipython3",
   "version": "3.7.4"
  }
 },
 "nbformat": 4,
 "nbformat_minor": 1
}
