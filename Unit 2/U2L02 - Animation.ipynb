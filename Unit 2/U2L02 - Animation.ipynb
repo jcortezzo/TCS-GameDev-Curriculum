{
 "cells": [
  {
   "cell_type": "markdown",
   "metadata": {
    "colab_type": "text",
    "id": "ijAwfSuLsf_p"
   },
   "source": [
    "# Unit 2 Lesson 2 - Animation\n",
    "In this lesson, we'll learn how to add animation to our Unity project.\n",
    "\n",
    "\n",
    "---\n",
    "\n",
    "# Learning Objectives\n",
    "---\n",
    "\n",
    "*   Students will learn about the Animator Controllor, Animation Clip.\n",
    "*   Students will learn about the Animator Controllor, State Machine, and changing animation state with Sprite Sheet.\n",
    "\n",
    "# Key Concepts\n",
    "---\n",
    "\n",
    "*   Animator, Animation Clip\n",
    "*   Sprite Sheet\n",
    "*   Animation State (FSM)"
   ]
  },
  {
   "cell_type": "markdown",
   "metadata": {
    "colab_type": "text",
    "id": "-O16dXPxUp7u"
   },
   "source": [
    "# Introduction\n",
    "\n",
    "---"
   ]
  },
  {
   "cell_type": "markdown",
   "metadata": {
    "colab_type": "text",
    "id": "DtMw8wTiUqYC"
   },
   "source": [
    "Animation introduction.\n",
    "blabla\n"
   ]
  },
  {
   "cell_type": "markdown",
   "metadata": {
    "colab_type": "text",
    "id": "N48Zm3JDVrqa"
   },
   "source": [
    "# Concept 1: Animation Clip and Animator\n",
    "\n",
    "---\n",
    "### **Animation Clips**\n",
    "\n",
    "Animation clips define how we want to animate something in Unity. Animation clip is the component that hold the necessary data for an animation. It allows us to define what happen at which key frame (scaling, translation, change colors, change sprite, etc). It also smartly move between key frame based on curve function.\n",
    "\n",
    "<img src=\"https://raw.githubusercontent.com/jcortezzo/TCS-GameDev-Curriculum/master/Unit%202/Images/U2L2_1.png\" alt=\"Drawing\"/>\n",
    "\n",
    "More detail: https://docs.unity3d.com/Manual/AnimationClips.html\n",
    "\n",
    "### **Animator Controller**\n",
    "\n",
    "As the name implied, Animator Controller allows us to control animation. In this cases Animation Clips. Animation Controller transition between each animation clip through a concept call State Machine (FSM) which you can think of a flow chart of states. \n",
    "\n",
    "<img src=\"https://raw.githubusercontent.com/jcortezzo/TCS-GameDev-Curriculum/master/Unit%202/Images/U2L2_2.png\" alt=\"Drawing\"/>\n",
    "\n",
    "More detail: https://docs.unity3d.com/Manual/class-AnimatorController.html\n"
   ]
  },
  {
   "cell_type": "markdown",
   "metadata": {},
   "source": [
    "## Walkthrough: Create Basic Animation for a GameObject\n",
    "\n",
    "1.   Let learn how to create a basic idle animation for our character. First, we need to make sure to pull up the Animation and Animator window in Unity. In Unity, click on Window->Animation and click on Animation and Animator to have the two window pull up.\n",
    "\n",
    "<img src=\"https://raw.githubusercontent.com/jcortezzo/TCS-GameDev-Curriculum/master/Unit%202/Images/U2L2_4.png\" alt=\"Drawing\"/>\n",
    "\n",
    "<img src=\"https://raw.githubusercontent.com/jcortezzo/TCS-GameDev-Curriculum/master/Unit%202/Images/U2L2_3.png\" alt=\"Drawing\"/>\n",
    "\n",
    "2.   Next, to create an animation for our character, we first need to create an animation clip. Click on our character GameObject, and in Animation tab, click on Create button to create an Animation clip. I'll name it \"mario_idle\".\n",
    "\n",
    "<img src=\"https://raw.githubusercontent.com/jcortezzo/TCS-GameDev-Curriculum/master/Unit%202/Images/U2L2_5.png\" alt=\"Drawing\"/>\n",
    "\n",
    "<img src=\"https://raw.githubusercontent.com/jcortezzo/TCS-GameDev-Curriculum/master/Unit%202/Images/U2L2_6.png\" alt=\"Drawing\"/>\n",
    "\n",
    "Once that's done, Unity will automatically add a Animator Controller component to our GameObject. This will help us control multiple animation clips(idle, running, jump, etc) for our character later. But for now, we will just have 1.\n",
    "\n",
    "4.   Now, let create a basic bobbing animation for our character. We can do this by animating the Scale values in the GameObject's transform. Click on add property and add scale.\n",
    "\n",
    "<img src=\"https://raw.githubusercontent.com/jcortezzo/TCS-GameDev-Curriculum/master/Unit%202/Images/U2L2_7.png\" alt=\"Drawing\"/>\n",
    "\n",
    "<img src=\"https://raw.githubusercontent.com/jcortezzo/TCS-GameDev-Curriculum/master/Unit%202/Images/U2L2_8.png\" alt=\"Drawing\"/>\n",
    "\n",
    "There are a lot of thing going on in this Animation window, so let break it down:\n",
    "\n",
    "1- This is our Animation View section. This shows all current animated properties. There is also an animation control section which we can record, play and skip between frames. Currently, we are in Dopesheet view, which show a simple view of the animation keyframe. We can switch to Curves view for more colorful view with curve properties. \n",
    "\n",
    "2- This is the time line of an animation clip. At the moment, it is show in an increment of 5 frames up to every 1:00 second. This is due to us setting the sample rate of 60 frames per second.\n",
    "\n",
    "3- This is the key frame of the animation. By default, Unity give us 2 key frames at the start, one at the 0 second, and 1 at the 1:00 second mark. \n",
    "\n",
    "5. Let's add a key frame at the 0:30 mark. To do this, click on the 0:30 mark on the timeline, then in the key frame view, right click and add a key frame.\n",
    "\n",
    "6. Next, let make our character shrink a bit at this key frame. To record a change to our animation clip, we need to first click on record button. When the record button is pressed, we notice that the timeline is now red, indicate we are in record mode. Then, we need to make a change to mario's scale. I will make the value smaller. After that, click the record button again to stop recording.\n",
    "\n",
    "<img src=\"https://raw.githubusercontent.com/jcortezzo/TCS-GameDev-Curriculum/master/Unit%202/Images/U2L2_9.png\" alt=\"Drawing\"/>\n",
    "\n",
    "<img src=\"https://raw.githubusercontent.com/jcortezzo/TCS-GameDev-Curriculum/master/Unit%202/Images/U2L2_10.png\" alt=\"Drawing\"/>\n",
    "\n",
    "7. We just a created a basic idle bobbing animation for our character!\n",
    "\n",
    "---"
   ]
  },
  {
   "cell_type": "markdown",
   "metadata": {},
   "source": [
    "# Exercise #1\n",
    "---\n",
    "***Problem***: Create animation to move the clouds from left to right. Also make the cloud change size over time.\n"
   ]
  },
  {
   "cell_type": "markdown",
   "metadata": {},
   "source": [
    "##### **Solution**\n"
   ]
  },
  {
   "cell_type": "markdown",
   "metadata": {
    "colab_type": "text",
    "id": "JGMGPHbGjUA6"
   },
   "source": [
    "---\n",
    "# Concept 2: Animation Controller, State Machine (FSM), Changing animation states with sprite sheet\n",
    "\n",
    "---\n",
    "\n",
    "We just learn how to create basic animation by alter a game object component through animation clip. Now we will expand on this concept and learn how to create multiple animation clips with the ability to change between clips through Animation Controller.\n",
    "\n",
    "### **Sprite Sheet**\n",
    "\n",
    "What is sprite sheet? \n",
    "<img src=\"https://raw.githubusercontent.com/jcortezzo/TCS-GameDev-Curriculum/master/Unit%202/Images/mariospritesheet.gif\" alt=\"Drawing\"/>\n",
    "\n",
    "This is an example of a sprite sheet. As we can see, sprite sheet is a collection of smaller images that make up of a larger image. This is called a sprite sheet. Sprite sheet is useful for condense images into a single file for better memory usage. One of the most use function of sprite sheet is the idea of storing animation frames into a sheet, where all frames of an animation are aligned and have the same size. This is super useful and easy for us to animate our character. Sprite sheet also good for creating TileMap, which we will learn in future lesson. \n",
    "\n",
    "\n",
    "### **Animation Controller, State Machine**\n",
    "\n",
    "We talked a bit about Animation Controller and State Machine before, but in short, Animation Controller help us manage the transition between Animation Clips. Each Animation Clip in our animation can be think of as a state in a state machine. This is easy to think about through this flow chart. \n",
    "\n",
    "<img src=\"https://raw.githubusercontent.com/jcortezzo/TCS-GameDev-Curriculum/master/Unit%202/Images/U2L2_11\" alt=\"Drawing\"/>\n",
    "\n",
    "Each state like Idle, Crouch, Run, Walk is an animation clip. Then depend on our user's input, we can transition the player's animation through each clip. Example, from Entry state, we always move to Idle animation. Then if player's speed change, Idle state will move to Walk state and Run state. \n",
    "\n",
    "More detail on Animation Controller: https://docs.unity3d.com/Manual/class-AnimatorController.html\n",
    "\n",
    "FSM: https://en.wikipedia.org/wiki/Finite-state_machine\n",
    "\n"
   ]
  },
  {
   "cell_type": "markdown",
   "metadata": {},
   "source": [
    "## Walkthrough: Creating animation for Mario using sprite sheet\n",
    "\n",
    "**Note: This is a really long process, so be ready!**\n",
    "\n",
    "1. Before creating our animation, we first need to set up our sprites. Click on \"mario_spritesheet\" in Sprites folder, we should see this in our inspector: \n",
    "\n",
    "<img src=\"https://raw.githubusercontent.com/jcortezzo/TCS-GameDev-Curriculum/master/Unit%202/Images/U2L2_12\" alt=\"Drawing\"/>\n",
    "\n",
    "This view show some of the settings for an image in Unity. To access multiple images in the spritesheet, we need to change our SpriteMode to \"Multiple\". Usually, you want to change Pixels Per Unit to the value of the individual image's pixel size, however since the spritesheet is not consistence, we will not change this value until later. \n",
    "\n",
    "We also want to change Filter Mode to \"Point(no filter)\", and compression to \"None\". The final result should look like: \n",
    "\n",
    "<img src=\"https://raw.githubusercontent.com/jcortezzo/TCS-GameDev-Curriculum/master/Unit%202/Images/U2L2_13\" alt=\"Drawing\"/>\n",
    "\n",
    "\n",
    "2. Next, we want to split up the images in the spritesheet. To do this, click on \"Sprite Editor\". This is the window we should see.\n",
    "<img src=\"https://raw.githubusercontent.com/jcortezzo/TCS-GameDev-Curriculum/master/Unit%202/Images/U2L2_14\" alt=\"Drawing\"/>\n",
    "\n",
    "3. Next click on \"Slice\". There are a few options we can choose to slice the images. For now we can just use \"Automatic\". After click on \"Slice\", we should see each image is now neatly separated. Click on \"Apply\" and close the \"Sprite Editor\" window.\n",
    "\n",
    "<img src=\"https://raw.githubusercontent.com/jcortezzo/TCS-GameDev-Curriculum/master/Unit%202/Images/U2L2_15\" alt=\"Drawing\"/>\n",
    "\n",
    "4. Let go back to Animation window, and change up our Animation Clip by update \"mario_idle\" with the sprite we just sliced up. First, click on the arrow button in \"mario_sprite\" again in the Sprite folder, then drag the idle frame into mario_idle timeline. \n",
    "\n",
    "Few things we'll notice. First, the image is extremely small. Second, we have to do a lot of scaling to make the image larger. Third, our BoxCollider2D is now all messed up. There are a few ways to fix this problem. We will address it one by one.\n",
    "\n",
    "First/Second problem. Go back to image setting in the inspector, and change the Pixels Per Unit to something smaller. I'll go with \"8\" Pixels Per Unit. Click apply when done. Notice that this will fix both of first and second problem. Now just rescale to our Mario game object to something appropriate Scale = (1, 1, 0).\n",
    "\n",
    "Third problem. There is not really a easy way to fix this beside go into the BoxCollider2D and edit the box size :( \n",
    "\n",
    "<img src=\"https://raw.githubusercontent.com/jcortezzo/TCS-GameDev-Curriculum/master/Unit%202/Images/U2L2_16\" alt=\"Drawing\"/>\n",
    "\n",
    "In the end we should have something essemble the picture above, with a single sprite and bobbing animation for our mario.\n",
    "\n",
    "5. Next let create 2 more animation clips for mario run and mario jump. Click on the drop down button and add 2 more clips. I'll name it \"mario_run\" and \"mario_jump\"\n",
    "\n",
    "<img src=\"https://raw.githubusercontent.com/jcortezzo/TCS-GameDev-Curriculum/master/Unit%202/Images/U2L2_17\" alt=\"Drawing\"/>\n",
    "\n",
    "6. For \"mario_run\", let pick the 3 mario running frames in the spritesheet and drag it into \"mario_run\" AnimationClip. \n",
    "\n",
    "<img src=\"https://raw.githubusercontent.com/jcortezzo/TCS-GameDev-Curriculum/master/Unit%202/Images/U2L2_18\" alt=\"Drawing\"/>\n",
    "\n",
    "When click play, we notice our mario is running like a mad man. We can fix this by changing the Samples rate to something smaller. 10 is a good number here.\n",
    "\n",
    "7. For \"mario_jump\", we can drag in the mario jump frame into the \"mario_jump\" animation clip. With that done, we are now ready to transition to FSM or Animation Controller!\n",
    "\n",
    "8. Click on Animator tab. We should see something like this:\n",
    " <img src=\"https://raw.githubusercontent.com/jcortezzo/TCS-GameDev-Curriculum/master/Unit%202/Images/U2L2_19\" alt=\"Drawing\"/>\n",
    "\n",
    "There are 3 states, with each correspond to each animation clip we created. Let create some transition arrow between states. When create a FSM for our animation, we want to think about what kind of transition is possible and also think about if those transitions are necessary. If we have too many transitions, remember that it would only make our life more miserable.  \n",
    "\n",
    "For now, I will only create 2 transition arrow from idle to run and from run back to idle. In later exercise, we will create more transition state and make our game more animated :D\n",
    "\n",
    "To create transition arrow, right click on the state you want to transition to and click on \"make transition\" then click on the state of destination. The result should look like below.\n",
    "\n",
    "<img src=\"https://raw.githubusercontent.com/jcortezzo/TCS-GameDev-Curriculum/master/Unit%202/Images/U2L2_20\" alt=\"Drawing\"/>\n",
    "\n",
    "9. A few setting we want to change for our transition. Click on transition arrow from idle to run, and change \"transition duration\" to \"0\". Also disable \"Has Exit Time\". Do the same for run to idle arrow.\n",
    "\n",
    "<img src=\"https://raw.githubusercontent.com/jcortezzo/TCS-GameDev-Curriculum/master/Unit%202/Images/U2L2_21\" alt=\"Drawing\"/>\n",
    "\n",
    "10. Next in order for us to have some meaningful way to transition between states, we need to set up some conditions. For idleling to moving, it makes sense to have condition based on speed. We will first create parameter called \"speed\" in our Parameter tab. Use float for our variable. Then click on \"+\" sign in the Condition section.  \n",
    "\n",
    "<img src=\"https://raw.githubusercontent.com/jcortezzo/TCS-GameDev-Curriculum/master/Unit%202/Images/U2L2_22\" alt=\"Drawing\"/>\n",
    "\n",
    "For mario_idle -> mario_run, have the condition of \"speed\" \"greater\" \"0.1\"\n",
    "For mario_run -> mario_idle, have the condition of \"speed\" \"less\" \"0.1\"\n",
    "\n",
    "The reason we are doing this is due to floating value comparison. It is really difficult for computer to compare equality between floating value, so we have to resort to only greater and less than comparison. So let use the \"next closest\" value to 0, which is 0.1 :| .\n",
    "\n",
    "10. Almost there, this is the last step! We have mostly everything set up, the last thing to do is connect these values and animation transition into our code. First, let create a new script to handle animation. I will call this script \"MarioAnimation\" for now. \n",
    "\n"
   ]
  },
  {
   "cell_type": "code",
   "execution_count": null,
   "metadata": {},
   "outputs": [],
   "source": [
    "using System.Collections;\n",
    "using System.Collections.Generic;\n",
    "using UnityEngine;\n",
    "\n",
    "public class MarioAnimation : MonoBehaviour\n",
    "{\n",
    "    private Animator anim;\n",
    "    private Rigidbody2D playerRb;\n",
    "    // Start is called before the first frame update\n",
    "    void Start()\n",
    "    {\n",
    "        anim = GetComponent<Animator>();\n",
    "        playerRb = GetComponent<Rigidbody2D>();\n",
    "    }\n",
    "\n",
    "    // Update is called once per frame\n",
    "    void Update()\n",
    "    {\n",
    "        anim.SetFloat(\"speed\", Mathf.Abs(playerRb.velocity.x));\n",
    "    }\n",
    "}\n"
   ]
  },
  {
   "cell_type": "markdown",
   "metadata": {},
   "source": [
    "After this, add this script into our Mario GameObject, we should see our player animation hook up when we move and stop!\n",
    "\n",
    "Congratulation for sitting through this long process!"
   ]
  },
  {
   "cell_type": "markdown",
   "metadata": {},
   "source": [
    "---\n",
    "## Practice Together #1\n",
    "\n",
    "---\n",
    "\n",
    "**Problem:** Hook up animation jump transition from idle and run state"
   ]
  },
  {
   "cell_type": "markdown",
   "metadata": {},
   "source": [
    "##### **Solution**"
   ]
  },
  {
   "cell_type": "markdown",
   "metadata": {
    "colab_type": "text",
    "id": "Y9IxMfODNB2v"
   },
   "source": [
    "---\n",
    "\n",
    "## Activity #1\n",
    "\n",
    "---\n",
    "\n",
    "**Problem:** Create movement animation for goomba. Use the Goomba sprite sheet provided!"
   ]
  },
  {
   "cell_type": "markdown",
   "metadata": {},
   "source": [
    "##### **Solution**"
   ]
  },
  {
   "cell_type": "markdown",
   "metadata": {},
   "source": [
    "---\n",
    "## Activity #2\n",
    "\n",
    "---\n",
    "\n",
    "**Problem:** Create animation when player power up! Adding animation clip and transition using the provided spritesheet"
   ]
  },
  {
   "cell_type": "markdown",
   "metadata": {},
   "source": [
    "##### **Solution**\n"
   ]
  }
 ],
 "metadata": {
  "colab": {
   "collapsed_sections": [],
   "name": "U1L6 - UI.ipynb",
   "provenance": []
  },
  "kernelspec": {
   "display_name": "Python 3",
   "language": "python",
   "name": "python3"
  },
  "language_info": {
   "codemirror_mode": {
    "name": "ipython",
    "version": 3
   },
   "file_extension": ".py",
   "mimetype": "text/x-python",
   "name": "python",
   "nbconvert_exporter": "python",
   "pygments_lexer": "ipython3",
   "version": "3.7.6"
  }
 },
 "nbformat": 4,
 "nbformat_minor": 1
}
