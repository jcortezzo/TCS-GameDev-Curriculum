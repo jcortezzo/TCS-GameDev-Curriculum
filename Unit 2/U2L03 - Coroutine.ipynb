{
 "cells": [
  {
   "cell_type": "markdown",
   "metadata": {
    "colab_type": "text",
    "id": "ijAwfSuLsf_p"
   },
   "source": [
    "# Unit 2 Lesson 3 - Coroutines\n",
    "In this lesson, we'll learn a new concept in Unity called Coroutines.\n",
    "\n",
    "---\n",
    "\n",
    "# Learning Objectives\n",
    "---\n",
    "\n",
    "*   Students will learn about what is Coroutine, how to use Coroutine, and when to you Coroutine.\n",
    "\n",
    "# Key Concepts\n",
    "---\n",
    "\n",
    "*   Coroutine\n",
    "*   IEnumerator, yield, WaitForSeconds\n",
    "*   StartCoroutine, StopCoroutine\n",
    "*   Loop ?"
   ]
  },
  {
   "cell_type": "markdown",
   "metadata": {
    "colab_type": "text",
    "id": "-O16dXPxUp7u"
   },
   "source": [
    "# Introduction\n",
    "---"
   ]
  },
  {
   "cell_type": "markdown",
   "metadata": {
    "colab_type": "text",
    "id": "DtMw8wTiUqYC"
   },
   "source": [
    "Once you are more familiar with Unity and programming, you will start to write more complex code. Your Update function will filled up with logics and functions. This mean you might have variables to check for states; variables for timer to stop and start difference code paths. You want to write code that want to start and stop to wait for other before it can restart again. Thing will become cumbersome. However, there is a way around that. This is where Coroutines come in handy."
   ]
  },
  {
   "cell_type": "markdown",
   "metadata": {
    "colab_type": "text",
    "id": "N48Zm3JDVrqa"
   },
   "source": [
    "# Concept 1: Coroutine, yield, WaitForSeconds\n",
    "\n",
    "---\n",
    "### **Coroutine**\n",
    "\n",
    "#### What is Coroutine? \n",
    "\n",
    "When writing a complex code in Update function, or any function in general, the program will need to execute all of the code at once in a single frame. This mean, your game could potentially freeze and cause extreme headache to the player. With Coroutine however, we can execute the logic over multiple frames, which can help alleviate freeze up.\n",
    "\n",
    "<b>Note:</b> There are quite a few ways that we can achieve writing code to spread across multiple frames. i.e. thread, async, ... In this lesson, we are opted for Coroutine because it is convenient and built for Unity.\n",
    "\n",
    "#### When to use Coroutine?\n",
    "\n",
    "It does sound tempting to use coroutine everywhere, since it helps with performing task that could cause our game to freeze. However, you will quickly realize that there are limitation, and it could get messy if over use.\n",
    "\n",
    "Consider using coroutine when you want to create action that need to pause, or action that perform one after the other, or some action that is computationally heavy.\n",
    "\n",
    "#### How to use Coroutine?\n",
    "\n",
    "Coroutines are very similar to function. In fact, it is a function with a few special quirks that we want to look for.\n"
   ]
  },
  {
   "cell_type": "code",
   "execution_count": null,
   "metadata": {},
   "outputs": [],
   "source": [
    "IEnumerator MyCoroutine() {\n",
    "    // code\n",
    "}"
   ]
  },
  {
   "cell_type": "markdown",
   "metadata": {},
   "source": [
    "First thing to notice, the return type of our Coroutine function <b>IEnumerator</b>. For now, all we need to know about IEnumerator is that this allows Unity to splits the logic over multiple frames. \n",
    "\n",
    "Next, what should we return?\n",
    "\n",
    "There are quite a few things that we can return here, but the syntax is a bit weird at first.\n"
   ]
  },
  {
   "cell_type": "code",
   "execution_count": null,
   "metadata": {},
   "outputs": [],
   "source": [
    "IEnumerator MyCoroutine() {\n",
    "    yield return null;\n",
    "}"
   ]
  },
  {
   "cell_type": "markdown",
   "metadata": {},
   "source": [
    "<b>yield return</b> is a new key word to look out for in Coroutine. This is where the magic happen. The idea of yield, as the name implied, to yield it instructions over to other function, before Unity return back to execute logic in Coroutine.\n",
    "\n",
    "So what can we Yield return with? Here are a few importants one\n",
    "\n",
    "<b>yield return null;</b>\n",
    "This yield instruction will wait until the next frame before code continue.\n",
    "A similar yield instruction is new WaitForEndOfFrame() which wait to execute code at the end of each frame instead of next frame.\n",
    "\n",
    "\n",
    "<b>yield return new WaitForSeconds(f)</b>\n",
    "This yield instruction wait for some amount of seconds before code resume. \n",
    "\n",
    "\n",
    "<b>yield return StartCoroutine(AnotherCoroutine()) </b>\n",
    "We can also yield until another Coroutine finished. This can be good for some nested instructions.\n",
    "\n",
    "---\n",
    "These won't be cover but you can check out the Unity Documentation for more detail.\n",
    "\n",
    "yield return new WaitForEndOfFrame()\n",
    "\n",
    "yield return new WaitForSecondsRealTime(f)\n",
    "\n",
    "yield return new WaitUntil(delegate) \n",
    "\n",
    "yield return new WaitWhile(delegate)\n",
    "\n",
    "---\n",
    "\n"
   ]
  },
  {
   "cell_type": "markdown",
   "metadata": {},
   "source": [
    "# Concept 2: Start and Stop Coroutine\n",
    "---\n",
    "\n",
    "#### How to start a Coroutine?\n",
    "\n",
    "We can start a Coroutine by using Unity provided function StartCoroutine(). \n",
    "StartCoroutine take in either the string name of the Coroutine function, or its function name. Here is an example:"
   ]
  },
  {
   "cell_type": "code",
   "execution_count": null,
   "metadata": {},
   "outputs": [],
   "source": [
    "void Start()\n",
    "{\n",
    "    // start coroutine by string\n",
    "    StartCoroutine(\"MyCoroutine\");\n",
    "    \n",
    "    // start coroutine by function\n",
    "    StartCoroutine(MyCoroutine());\n",
    "}\n",
    "\n",
    "IEnumerator MyCoroutine() {\n",
    "    yield return null;\n",
    "}"
   ]
  },
  {
   "cell_type": "markdown",
   "metadata": {},
   "source": [
    "#### How to stop a Coroutine?"
   ]
  },
  {
   "cell_type": "markdown",
   "metadata": {},
   "source": [
    "Since there are 2 ways to Start a coroutine, we also have 2 ways to stop a coroutine. To stop a coroutine, simply write StopCoroutine(). StopCoroutine take in either the string name of the Coroutine you want to stop, or the reference to the Coroutine that is currently running.\n",
    "\n",
    "Stop Coroutine by string is simple, but if you have multiple coroutine of the same function running at the same time, you will have to use the second way."
   ]
  },
  {
   "cell_type": "code",
   "execution_count": null,
   "metadata": {},
   "outputs": [],
   "source": [
    "Coroutine coroutineReference; \n",
    "\n",
    "void Start()\n",
    "{\n",
    "    // stop coroutine by string\n",
    "    StopCoroutine(\"MyCoroutine\");\n",
    "    \n",
    "    ////////////////////////\n",
    "    \n",
    "    // save coroutine reference\n",
    "    coroutineReference = StartCoroutine(MyCoroutine());\n",
    "    \n",
    "    // stop coroutine by reference\n",
    "    StopCoroutine(coroutineReference);\n",
    "}\n",
    "\n",
    "IEnumerator MyCoroutine() {\n",
    "    yield return null;\n",
    "}"
   ]
  },
  {
   "cell_type": "markdown",
   "metadata": {},
   "source": [
    "There is also another function call StopAllCoroutine(), which as the name implied, will stop all Coroutines!\n",
    "\n"
   ]
  },
  {
   "cell_type": "markdown",
   "metadata": {},
   "source": [
    "## Walkthrough: Basic waiting coroutines\n",
    "---\n",
    "\n",
    "Let try out making a waiting coroutines function. We will write a function that print something on the console, then wait for 5 seconds before printing something else.\n",
    "\n",
    "1. First, let make a new script to play around with these coroutines!\n",
    "2. Write a function like below:\n"
   ]
  },
  {
   "cell_type": "code",
   "execution_count": null,
   "metadata": {},
   "outputs": [],
   "source": [
    "IEnumerator WaitCoroutine()\n",
    "{\n",
    "    Debug.Log(\"Wait coroutine start\");\n",
    "    yield return new WaitForSeconds(5f);\n",
    "    Debug.Log(\"Wait coroutine end\");\n",
    "}"
   ]
  },
  {
   "cell_type": "markdown",
   "metadata": {},
   "source": [
    "3. To start this, write StartCoroutine in Start() function\n"
   ]
  },
  {
   "cell_type": "code",
   "execution_count": null,
   "metadata": {},
   "outputs": [],
   "source": [
    "void Start()\n",
    "{\n",
    "    StartCoroutine(WaitCoroutine());\n",
    "}\n",
    "\n",
    "IEnumerator WaitCoroutine()\n",
    "{\n",
    "    Debug.Log(\"Wait coroutine start\");\n",
    "    yield return new WaitForSeconds(5f);\n",
    "    Debug.Log(\"Wait coroutine end after 5 seconds\");\n",
    "}"
   ]
  },
  {
   "cell_type": "markdown",
   "metadata": {},
   "source": [
    "4. Let now attach this script to a GameObject to test out our Coroutine, and then start the game. As we can see, our script print out \"Wait coroutine start\", then after 5 seconds, it then print \"Wait coroutine end after 5 seconds\".\n",
    "\n",
    "<img src=\"https://raw.githubusercontent.com/jcortezzo/TCS-GameDev-Curriculum/master/Unit%202/Images/U2L3_1.gif\" alt=\"Drawing\"/>"
   ]
  },
  {
   "cell_type": "markdown",
   "metadata": {},
   "source": [
    "# Exercise #1\n",
    "---\n",
    "***Problem***: Write a coroutine to print a sentence in the console after WaitCoroutine finished\n"
   ]
  },
  {
   "cell_type": "markdown",
   "metadata": {},
   "source": [
    "##### **Solution**\n",
    "\n",
    "We will exercise with waiting for a coroutine\n",
    "\n",
    "1. First write another coroutine with the yield return of StartCoroutine()"
   ]
  },
  {
   "cell_type": "code",
   "execution_count": null,
   "metadata": {},
   "outputs": [],
   "source": [
    "\n",
    "IEnumerator PrintSentenceAfterWaiCoroutine()\n",
    "{\n",
    "    yield return StartCoroutine(WaitCoroutine());\n",
    "    Debug.Log(\"Printing a sentence after waiting for WaitCoroutine to finish\");\n",
    "}"
   ]
  },
  {
   "cell_type": "markdown",
   "metadata": {},
   "source": [
    "2. Now change the coroutine in Start function"
   ]
  },
  {
   "cell_type": "code",
   "execution_count": null,
   "metadata": {},
   "outputs": [],
   "source": [
    "void Start()\n",
    "{\n",
    "    StartCoroutine(PrintSentenceAfterWaiCoroutine());\n",
    "}\n",
    "\n",
    "IEnumerator WaitCoroutine()\n",
    "{\n",
    "    Debug.Log(\"Wait coroutine start\");\n",
    "    yield return new WaitForSeconds(5f);\n",
    "    Debug.Log(\"Wait coroutine end after 5 seconds\");\n",
    "}\n",
    "\n",
    "IEnumerator PrintSentenceAfterWaiCoroutine()\n",
    "{\n",
    "    yield return StartCoroutine(WaitCoroutine());\n",
    "    Debug.Log(\"Printing a sentence after waiting for WaitCoroutine to finish\");\n",
    "}"
   ]
  },
  {
   "cell_type": "markdown",
   "metadata": {},
   "source": [
    "<img src=\"https://raw.githubusercontent.com/jcortezzo/TCS-GameDev-Curriculum/master/Unit%202/Images/U2L3_2.gif\" alt=\"Drawing\"/>"
   ]
  },
  {
   "cell_type": "markdown",
   "metadata": {
    "colab_type": "text",
    "id": "JGMGPHbGjUA6"
   },
   "source": [
    "---\n",
    "# Concept 3: Loops and Coroutines\n",
    "\n",
    "---\n",
    "\n",
    "Before we can go more in depth with Coroutines, we first need to learn more about loop. Over the past few lessons and projects, you probably have seen the usage of loops. We use loop to iterate through a collections of songs, collection of objects, iterate through some code while a condition is true, ... \n",
    "\n",
    "There are 4 main type of loops: \"For\" loop, \"While\" loop, \"Do while\" loop, and \"Foreach\" loop. We will go through some of the basic about each type:\n",
    "\n",
    "### For loop\n",
    "---\n",
    "\n",
    "\n",
    "### While loop\n",
    "---\n",
    "\n",
    "\n",
    "### Do While loop\n",
    "---\n",
    "\n",
    "### Foreach loop"
   ]
  },
  {
   "cell_type": "markdown",
   "metadata": {},
   "source": [
    "## Walkthrough: \n",
    "\n"
   ]
  },
  {
   "cell_type": "markdown",
   "metadata": {},
   "source": [
    "---\n",
    "## Practice Together #1\n",
    "\n",
    "---\n",
    "\n",
    "**Problem:** "
   ]
  },
  {
   "cell_type": "markdown",
   "metadata": {},
   "source": [
    "##### **Solution**\n",
    "\n"
   ]
  },
  {
   "cell_type": "markdown",
   "metadata": {},
   "source": [
    "## Activity\n"
   ]
  },
  {
   "cell_type": "markdown",
   "metadata": {
    "colab_type": "text",
    "id": "Y9IxMfODNB2v"
   },
   "source": [
    "\n",
    "## Activity #1\n",
    "\n",
    "---\n",
    "\n",
    "**Problem:** "
   ]
  },
  {
   "cell_type": "markdown",
   "metadata": {},
   "source": [
    "##### **Solution**\n"
   ]
  },
  {
   "cell_type": "markdown",
   "metadata": {},
   "source": [
    "---\n",
    "## Activity #2\n",
    "\n",
    "---\n",
    "\n",
    "**Problem:** "
   ]
  },
  {
   "cell_type": "markdown",
   "metadata": {},
   "source": [
    "##### **Solution**\n",
    "\n"
   ]
  },
  {
   "cell_type": "markdown",
   "metadata": {},
   "source": [
    "---\n",
    "## Activity #3\n",
    "\n",
    "---\n",
    "\n",
    "**Problem:** "
   ]
  },
  {
   "cell_type": "markdown",
   "metadata": {},
   "source": [
    "##### **Solution**\n"
   ]
  },
  {
   "cell_type": "markdown",
   "metadata": {},
   "source": [
    "---\n",
    "## Activity #4\n",
    "\n",
    "---\n",
    "\n",
    "**Problem:** "
   ]
  },
  {
   "cell_type": "markdown",
   "metadata": {},
   "source": [
    "##### **Solution**\n"
   ]
  },
  {
   "cell_type": "markdown",
   "metadata": {},
   "source": [
    "# HOMEWORK\n",
    "---"
   ]
  },
  {
   "cell_type": "markdown",
   "metadata": {},
   "source": [
    "## HW #1\n",
    "\n",
    "---\n",
    "\n",
    "**Problem:** "
   ]
  },
  {
   "cell_type": "markdown",
   "metadata": {},
   "source": [
    "##### **Solution**\n",
    "\n"
   ]
  },
  {
   "cell_type": "markdown",
   "metadata": {},
   "source": [
    "## HW #2\n",
    "\n",
    "---\n",
    "\n",
    "**Problem:** "
   ]
  },
  {
   "cell_type": "markdown",
   "metadata": {},
   "source": [
    "##### **Solution**\n",
    "\n"
   ]
  }
 ],
 "metadata": {
  "colab": {
   "collapsed_sections": [],
   "name": "U1L6 - UI.ipynb",
   "provenance": []
  },
  "kernelspec": {
   "display_name": "Python 3",
   "language": "python",
   "name": "python3"
  },
  "language_info": {
   "codemirror_mode": {
    "name": "ipython",
    "version": 3
   },
   "file_extension": ".py",
   "mimetype": "text/x-python",
   "name": "python",
   "nbconvert_exporter": "python",
   "pygments_lexer": "ipython3",
   "version": "3.7.6"
  }
 },
 "nbformat": 4,
 "nbformat_minor": 1
}
