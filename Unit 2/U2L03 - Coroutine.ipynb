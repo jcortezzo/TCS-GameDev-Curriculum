{
 "cells": [
  {
   "cell_type": "markdown",
   "metadata": {
    "colab_type": "text",
    "id": "ijAwfSuLsf_p"
   },
   "source": [
    "# Unit 2 Lesson 3 - Coroutines\n",
    "In this lesson, we'll learn a new concept in Unity called Coroutines.\n",
    "\n",
    "---\n",
    "\n",
    "# Learning Objectives\n",
    "---\n",
    "\n",
    "*   Students will learn about what is Coroutine, how to use Coroutine, and when to you Coroutine.\n",
    "*   Students will work through multiple use cases of Coroutine\n",
    "\n",
    "# Key Concepts\n",
    "---\n",
    "\n",
    "*   Coroutine\n",
    "*   IEnumerator, yield, WaitForSeconds\n",
    "*   StartCoroutine, StopCoroutine"
   ]
  },
  {
   "cell_type": "markdown",
   "metadata": {
    "colab_type": "text",
    "id": "-O16dXPxUp7u"
   },
   "source": [
    "# Introduction\n",
    "---"
   ]
  },
  {
   "cell_type": "markdown",
   "metadata": {
    "colab_type": "text",
    "id": "DtMw8wTiUqYC"
   },
   "source": [
    "Once you are more familiar with Unity and programming, you will start to write more complex code. Your Update function will filled up with logics and functions. This mean you might have variables to check for states; variables for timer to stop and start difference code paths. You want to write code that want to start and stop to wait for other before it can restart again. Thing will become cumbersome. However, there is a way around that. This is where Coroutines come in handy."
   ]
  },
  {
   "cell_type": "markdown",
   "metadata": {
    "colab_type": "text",
    "id": "N48Zm3JDVrqa"
   },
   "source": [
    "# Concept 1: Coroutine, yield, WaitForSeconds\n",
    "\n",
    "---\n",
    "### **Coroutine**\n",
    "\n",
    "#### What is Coroutine? \n",
    "\n",
    "When writing a complex code in Update function, or any function in general, the program will need to execute all of the code at once in a single frame. This mean, your game could potentially freeze and cause extreme headache to the player. With Coroutine however, we can execute the logic over multiple frames, which can help alleviate freeze up.\n",
    "\n",
    "<b>Note:</b> There are quite a few ways that we can achieve writing code to spread across multiple frames. i.e. thread, async, ... In this lesson, we are opted for Coroutine because it is convenient and built for Unity.\n",
    "\n",
    "#### When to use Coroutine?\n",
    "\n",
    "It does sound tempting to use coroutine everywhere, since it helps with performing task that could cause our game to freeze. However, you will quickly realize that there are limitation, and it could get messy if over use.\n",
    "\n",
    "Consider using coroutine when you want to create action that need to pause, or action that perform one after the other, or some action that is computationally heavy.\n",
    "\n",
    "#### How to use Coroutine?\n",
    "\n",
    "Coroutines are very similar to function. In fact, it is a function with a few special quirks that we want to look for.\n"
   ]
  },
  {
   "cell_type": "code",
   "execution_count": null,
   "metadata": {},
   "outputs": [],
   "source": [
    "IEnumerator MyCoroutine() {\n",
    "    // code\n",
    "}"
   ]
  },
  {
   "cell_type": "markdown",
   "metadata": {},
   "source": [
    "First thing to notice, the return type of our Coroutine function <b>IEnumerator</b>. For now, all we need to know about IEnumerator is that this allows Unity to splits the logic over multiple frames. \n",
    "\n",
    "Next, what should we return?\n",
    "\n",
    "There are quite a few things that we can return here, but the syntax is a bit weird at first.\n"
   ]
  },
  {
   "cell_type": "code",
   "execution_count": null,
   "metadata": {},
   "outputs": [],
   "source": [
    "IEnumerator MyCoroutine() {\n",
    "    yield return null;\n",
    "}"
   ]
  },
  {
   "cell_type": "markdown",
   "metadata": {},
   "source": [
    "<b>yield return</b> is a new key word to look out for in Coroutine. This is where the magic happen. The idea of yield, as the name implied, to yield it instructions over to other function, before Unity return back to execute logic in Coroutine.\n",
    "\n",
    "So what can we Yield return with? Here are a few importants one\n",
    "\n",
    "<b>yield return null;</b>\n",
    "This yield instruction will wait until the next frame before code continue.\n",
    "A similar yield instruction is new WaitForEndOfFrame() which wait to execute code at the end of each frame instead of next frame.\n",
    "\n",
    "\n",
    "<b>yield return new WaitForSeconds(f)</b>\n",
    "This yield instruction wait for some amount of seconds before code resume. \n",
    "\n",
    "\n",
    "<b>yield return StartCoroutine(AnotherCoroutine()) </b>\n",
    "We can also yield until another Coroutine finished. This can be good for some nested instructions.\n",
    "\n",
    "---\n",
    "These won't be cover but you can check out the Unity Documentation for more detail.\n",
    "\n",
    "yield return new WaitForEndOfFrame()\n",
    "\n",
    "yield return new WaitForSecondsRealTime(f)\n",
    "\n",
    "yield return new WaitUntil(delegate) \n",
    "\n",
    "yield return new WaitWhile(delegate)\n",
    "\n",
    "---\n",
    "\n"
   ]
  },
  {
   "cell_type": "markdown",
   "metadata": {},
   "source": [
    "# Concept 2: Start and Stop Coroutine\n",
    "---\n",
    "\n",
    "#### How to start a Coroutine?\n",
    "\n",
    "We can start a Coroutine by using Unity provided function StartCoroutine(). \n",
    "StartCoroutine take in either the string name of the Coroutine function, or its function name. Here is an example:"
   ]
  },
  {
   "cell_type": "code",
   "execution_count": null,
   "metadata": {},
   "outputs": [],
   "source": [
    "void Start()\n",
    "{\n",
    "    // start coroutine by string\n",
    "    StartCoroutine(\"MyCoroutine\");\n",
    "    \n",
    "    // start coroutine by function\n",
    "    StartCoroutine(MyCoroutine());\n",
    "}\n",
    "\n",
    "IEnumerator MyCoroutine() {\n",
    "    yield return null;\n",
    "}"
   ]
  },
  {
   "cell_type": "markdown",
   "metadata": {},
   "source": [
    "#### How to stop a Coroutine?"
   ]
  },
  {
   "cell_type": "markdown",
   "metadata": {},
   "source": [
    "Since there are 2 ways to Start a coroutine, we also have 2 ways to stop a coroutine. To stop a coroutine, simply write StopCoroutine(). StopCoroutine take in either the string name of the Coroutine you want to stop, or the reference to the Coroutine that is currently running.\n",
    "\n",
    "Stop Coroutine by string is simple, but if you have multiple coroutine of the same function running at the same time, you will have to use the second way."
   ]
  },
  {
   "cell_type": "code",
   "execution_count": null,
   "metadata": {},
   "outputs": [],
   "source": [
    "Coroutine coroutineReference; \n",
    "\n",
    "void Start()\n",
    "{\n",
    "    // stop coroutine by string\n",
    "    StopCoroutine(\"MyCoroutine\");\n",
    "    \n",
    "    ////////////////////////\n",
    "    \n",
    "    // save coroutine reference\n",
    "    coroutineReference = StartCoroutine(MyCoroutine());\n",
    "    \n",
    "    // stop coroutine by reference\n",
    "    StopCoroutine(coroutineReference);\n",
    "}\n",
    "\n",
    "IEnumerator MyCoroutine() {\n",
    "    yield return null;\n",
    "}"
   ]
  },
  {
   "cell_type": "markdown",
   "metadata": {},
   "source": [
    "There is also another function call StopAllCoroutine(), which as the name implied, will stop all Coroutines!\n",
    "\n"
   ]
  },
  {
   "cell_type": "markdown",
   "metadata": {},
   "source": [
    "## Walkthrough: Basic waiting coroutines\n",
    "---\n",
    "\n",
    "Let try out making a waiting coroutines function. We will write a function that print something on the console, then wait for 5 seconds before printing something else.\n",
    "\n",
    "1. First, let make a new script to play around with these coroutines!\n",
    "2. Write a function like below:\n"
   ]
  },
  {
   "cell_type": "code",
   "execution_count": null,
   "metadata": {},
   "outputs": [],
   "source": [
    "IEnumerator WaitCoroutine()\n",
    "{\n",
    "    Debug.Log(\"Wait coroutine start\");\n",
    "    yield return new WaitForSeconds(5f);\n",
    "    Debug.Log(\"Wait coroutine end\");\n",
    "}"
   ]
  },
  {
   "cell_type": "markdown",
   "metadata": {},
   "source": [
    "3. To start this, write StartCoroutine in Start() function\n"
   ]
  },
  {
   "cell_type": "code",
   "execution_count": null,
   "metadata": {},
   "outputs": [],
   "source": [
    "void Start()\n",
    "{\n",
    "    StartCoroutine(WaitCoroutine());\n",
    "}\n",
    "\n",
    "IEnumerator WaitCoroutine()\n",
    "{\n",
    "    Debug.Log(\"Wait coroutine start\");\n",
    "    yield return new WaitForSeconds(5f);\n",
    "    Debug.Log(\"Wait coroutine end after 5 seconds\");\n",
    "}"
   ]
  },
  {
   "cell_type": "markdown",
   "metadata": {},
   "source": [
    "4. Let now attach this script to a GameObject to test out our Coroutine, and then start the game. As we can see, our script print out \"Wait coroutine start\", then after 5 seconds, it then print \"Wait coroutine end after 5 seconds\".\n",
    "\n",
    "<img src=\"https://raw.githubusercontent.com/jcortezzo/TCS-GameDev-Curriculum/master/Unit%202/Images/U2L3_1.gif\" alt=\"Drawing\"/>"
   ]
  },
  {
   "cell_type": "markdown",
   "metadata": {},
   "source": [
    "# Exercise #1\n",
    "---\n",
    "***Problem***: Write a coroutine to print 3 sentences, each have different wait time.\n"
   ]
  },
  {
   "cell_type": "markdown",
   "metadata": {},
   "source": [
    "##### **Solution**\n",
    "\n",
    "\n",
    "Here is a sample solution for this problem. We can use different yield statement for the wait time, instead of stuck with WaitForSeconds\n"
   ]
  },
  {
   "cell_type": "code",
   "execution_count": null,
   "metadata": {},
   "outputs": [],
   "source": [
    "void Start()\n",
    "{\n",
    "    StartCoroutine(PrintSentenceAfterWaiCoroutine());\n",
    "}\n",
    "\n",
    "IEnumerator WaitCoroutine()\n",
    "{\n",
    "    Debug.Log(\"First sentence\");\n",
    "    yield return new WaitForSeconds(2f);\n",
    "    Debug.Log(\"Second sentence\");\n",
    "    yield return new WaitForEndOfFrame()\n",
    "    Debug.Log(\"Last sentence\");\n",
    "    yield return null;\n",
    "    Debug.Log(\"Sentence\");\n",
    "}"
   ]
  },
  {
   "cell_type": "markdown",
   "metadata": {},
   "source": [
    "# Exercise #2\n",
    "---\n",
    "***Problem***: Write a coroutine to print a sentence in the console after WaitCoroutine finished\n"
   ]
  },
  {
   "cell_type": "markdown",
   "metadata": {},
   "source": [
    "##### **Solution**\n",
    "\n",
    "We will exercise with waiting for a coroutine\n",
    "\n",
    "1. First write another coroutine with the yield return of StartCoroutine()"
   ]
  },
  {
   "cell_type": "code",
   "execution_count": null,
   "metadata": {},
   "outputs": [],
   "source": [
    "\n",
    "IEnumerator PrintSentenceAfterWaiCoroutine()\n",
    "{\n",
    "    yield return StartCoroutine(WaitCoroutine());\n",
    "    Debug.Log(\"Printing a sentence after waiting for WaitCoroutine to finish\");\n",
    "}"
   ]
  },
  {
   "cell_type": "markdown",
   "metadata": {},
   "source": [
    "2. Now change the coroutine in Start function"
   ]
  },
  {
   "cell_type": "code",
   "execution_count": null,
   "metadata": {},
   "outputs": [],
   "source": [
    "void Start()\n",
    "{\n",
    "    StartCoroutine(PrintSentenceAfterWaiCoroutine());\n",
    "}\n",
    "\n",
    "IEnumerator WaitCoroutine()\n",
    "{\n",
    "    Debug.Log(\"Wait coroutine start\");\n",
    "    yield return new WaitForSeconds(5f);\n",
    "    Debug.Log(\"Wait coroutine end after 5 seconds\");\n",
    "}\n",
    "\n",
    "IEnumerator PrintSentenceAfterWaiCoroutine()\n",
    "{\n",
    "    yield return StartCoroutine(WaitCoroutine());\n",
    "    Debug.Log(\"Printing a sentence after waiting for WaitCoroutine to finish\");\n",
    "}"
   ]
  },
  {
   "cell_type": "markdown",
   "metadata": {},
   "source": [
    "<img src=\"https://raw.githubusercontent.com/jcortezzo/TCS-GameDev-Curriculum/master/Unit%202/Images/U2L3_2.gif\" alt=\"Drawing\"/>"
   ]
  },
  {
   "cell_type": "markdown",
   "metadata": {},
   "source": [
    "---\n",
    "## Practice Together #1: Coroutine with loop\n",
    "\n",
    "---\n",
    "\n",
    "**Problem:** Write a coroutine to print out each element in an array every second. The coroutine function need to have 2 parameters: string array and float variable for time. "
   ]
  },
  {
   "cell_type": "markdown",
   "metadata": {},
   "source": [
    "##### **Solution**\n",
    "\n",
    "1. With an array of elements, we can use loop to iterate through each element, and execute a print statement. In this case, we can use a foreach loop to accomplish this task. Below is an sample solution for this problem:\n"
   ]
  },
  {
   "cell_type": "code",
   "execution_count": null,
   "metadata": {},
   "outputs": [],
   "source": [
    "[SerializeField] private string[] sentences;\n",
    "\n",
    "void Start()\n",
    "{\n",
    "    StartCoroutine(PrintSentences(sentences, 1f));\n",
    "}\n",
    "\n",
    "IEnumerator PrintSentences(string[] sentences, float seconds) \n",
    "{\n",
    "    foreach(string s in sentences)\n",
    "    {\n",
    "        Debug.Log(s);\n",
    "        yield return new WaitForSeconds(seconds);\n",
    "    }\n",
    "}"
   ]
  },
  {
   "cell_type": "markdown",
   "metadata": {},
   "source": [
    "<img src=\"https://raw.githubusercontent.com/jcortezzo/TCS-GameDev-Curriculum/master/Unit%202/Images/U2L3_3.gif\" alt=\"Drawing\"/>\n",
    "\n"
   ]
  },
  {
   "cell_type": "markdown",
   "metadata": {},
   "source": [
    "## Activity\n"
   ]
  },
  {
   "cell_type": "markdown",
   "metadata": {},
   "source": [
    "---\n",
    "## Activity #1\n",
    "\n",
    "---\n",
    "\n",
    "**Problem:** Write a coroutine function to move an object to a target."
   ]
  },
  {
   "cell_type": "markdown",
   "metadata": {},
   "source": [
    "##### **Solution**\n",
    "\n",
    "1. First, let's create a player and a target in our scene. \n",
    "2. Create script for our player:"
   ]
  },
  {
   "cell_type": "code",
   "execution_count": null,
   "metadata": {},
   "outputs": [],
   "source": [
    "    [SerializeField] private GameObject target;\n",
    "\n",
    "    void Start()\n",
    "    {\n",
    "        StartCoroutine(MoveToward(target, 5));\n",
    "    }\n",
    "\n",
    "    IEnumerator MoveToward(GameObject target, float speed)\n",
    "    {\n",
    "        while(Vector2.Distance(this.transform.position, target.transform.position) >= 0.001f)\n",
    "        {\n",
    "            this.transform.position = Vector2.MoveTowards(this.transform.position, target.transform.position, Time.deltaTime * speed);\n",
    "            yield return null;\n",
    "        }\n",
    "    }"
   ]
  },
  {
   "cell_type": "markdown",
   "metadata": {},
   "source": [
    "3. Attach the script to our player, and attach the target into the Target option in the script. \n",
    "\n",
    "If everything is set up correctly, we should see our player move toward the target using coroutine!\n",
    "\n",
    "<img src=\"https://raw.githubusercontent.com/jcortezzo/TCS-GameDev-Curriculum/master/Unit%202/Images/U2L3_5.gif\" alt=\"Drawing\"/>"
   ]
  },
  {
   "cell_type": "markdown",
   "metadata": {},
   "source": [
    "---\n",
    "## Activity #2\n",
    "\n",
    "---\n",
    "\n",
    "**Problem:** Create a list of checkpoints, and let our player move to each one using coroutine."
   ]
  },
  {
   "cell_type": "markdown",
   "metadata": {},
   "source": [
    "##### **Solution**\n",
    "\n",
    "1. Here is where the power of coroutine come in. Since we already have a coroutine that move toward a target, we can reuse that and incorporate it into writing a chain of coroutine. However, there is a better way... remember yield return AnotherCoroutine?\n",
    "\n",
    "That's right, we can reuse our code from the previous activity to help us with this problem. "
   ]
  },
  {
   "cell_type": "code",
   "execution_count": null,
   "metadata": {},
   "outputs": [],
   "source": [
    "[SerializeField] private GameObject[] targets;\n",
    "void Start()\n",
    "{\n",
    "    StartCoroutine(MoveToCheckPoint(targets, 5));\n",
    "}\n",
    "\n",
    "IEnumerator MoveToCheckPoint(GameObject[] targets, float speed)\n",
    "{\n",
    "    foreach(GameObject target in targets)\n",
    "    {\n",
    "        yield return StartCoroutine(MoveToward(target, speed));\n",
    "    }\n",
    "}\n",
    "\n",
    "IEnumerator MoveToward(GameObject target, float speed)\n",
    "{\n",
    "    while(Vector2.Distance(this.transform.position, target.transform.position) >= 0.001f)\n",
    "    {\n",
    "        this.transform.position = Vector2.MoveTowards(this.transform.position, target.transform.position, Time.deltaTime * speed);\n",
    "        yield return null;\n",
    "    }\n",
    "}"
   ]
  },
  {
   "cell_type": "markdown",
   "metadata": {},
   "source": [
    "\n",
    "Let's look at the power of coroutine in action!\n",
    "\n",
    "<img src=\"https://raw.githubusercontent.com/jcortezzo/TCS-GameDev-Curriculum/master/Unit%202/Images/U2L3_6.gif\" alt=\"Drawing\"/>"
   ]
  },
  {
   "cell_type": "markdown",
   "metadata": {
    "colab_type": "text",
    "id": "Y9IxMfODNB2v"
   },
   "source": [
    "\n",
    "## Activity # 3\n",
    "\n",
    "---\n",
    "\n",
    "**Problem:** Write a coroutine for for Mario to shoot multiple fireball back to back.\n"
   ]
  },
  {
   "cell_type": "markdown",
   "metadata": {},
   "source": [
    "##### **Solution**\n",
    "\n",
    "1. First, we need to modify our shooting fireball function in Player script a little bit. To write a coroutine, we need our function return type to be IEnumerator. Here is the code for our function:\n"
   ]
  },
  {
   "cell_type": "code",
   "execution_count": null,
   "metadata": {},
   "outputs": [],
   "source": [
    "IEnumerator ShootNFireballs(int n, float time)\n",
    "{\n",
    "    for(int i = 0; i < n; i++)\n",
    "    {\n",
    "        Instantiate(fireBall, this.transform.position + Vector3.right, Quaternion.identity);\n",
    "        JukeBox.Instance.PlaySFX(\"shootfireball\");\n",
    "        yield return new WaitForSeconds(time);\n",
    "    }\n",
    "}"
   ]
  },
  {
   "cell_type": "markdown",
   "metadata": {},
   "source": [
    "Now to shoot the fireball, we need to use StartCoroutine instead: "
   ]
  },
  {
   "cell_type": "code",
   "execution_count": null,
   "metadata": {},
   "outputs": [],
   "source": [
    "if(Input.GetKeyDown(KeyCode.F))\n",
    "{\n",
    "    StartCoroutine(ShootNFireballs(3, 0.2f));\n",
    "}\n"
   ]
  },
  {
   "cell_type": "markdown",
   "metadata": {},
   "source": [
    "If we have everything set up correctly, the result should look something like so:\n",
    "\n",
    "<img src=\"https://raw.githubusercontent.com/jcortezzo/TCS-GameDev-Curriculum/master/Unit%202/Images/U2L3_4.gif\" alt=\"Drawing\"/>"
   ]
  },
  {
   "cell_type": "markdown",
   "metadata": {},
   "source": [
    "---\n",
    "## Activity #4\n",
    "\n",
    "---\n",
    "\n",
    "**Problem:** Create a delay when loading from Menu to Game scene!\n",
    "\n",
    "Bonus: Create a transition animation"
   ]
  },
  {
   "cell_type": "markdown",
   "metadata": {},
   "source": [
    "##### **Solution**\n",
    "\n",
    "1. To delay something, we can either use a timer or coroutine. In this case, coroutine would be cleaner to write.\n",
    "2. Let modify the code in Menu script. We need to add in a WaiForSeconds yield in order to delay some action.\n"
   ]
  },
  {
   "cell_type": "code",
   "execution_count": null,
   "metadata": {},
   "outputs": [],
   "source": [
    "public void StartGame()\n",
    "{\n",
    "    JukeBox.Instance.PlaySFX(\"select\");\n",
    "    StartCoroutine(StartSceneDelay(\"GameScene\", 1f));\n",
    "}\n",
    "\n",
    "IEnumerator StartSceneDelay(string sceneName, float delay)\n",
    "{\n",
    "    yield return new WaitForSeconds(delay);\n",
    "\n",
    "    SceneManager.LoadScene(sceneName);\n",
    "}\n"
   ]
  },
  {
   "cell_type": "markdown",
   "metadata": {},
   "source": [
    "<b>Bonus</b>:\n",
    "\n",
    "1. We spice thing up and add a transition animation to compliment with the delay. First, let creat a UI canvas with an image that cover the whole screen. \n",
    "\n",
    "<img src=\"https://raw.githubusercontent.com/jcortezzo/TCS-GameDev-Curriculum/master/Unit%202/Images/U2L3_7.png\" alt=\"Drawing\"/>\n",
    "\n",
    "We need to turn off raycast option in our Image or else we won't be able to click on the UI underneath \n",
    "\n",
    "Also turn the alpha value of the image to 0 if needed in order for us to see. \n",
    "\n",
    "2. Let create 2 animation clips, one to cross fade in and the other to cross fade out.\n",
    "\n",
    "Crossfade end\n",
    "<img src=\"https://raw.githubusercontent.com/jcortezzo/TCS-GameDev-Curriculum/master/Unit%202/Images/U2L3_8.gif\" alt=\"Drawing\"/>\n",
    "\n",
    "Crossfade start\n",
    "<img src=\"https://raw.githubusercontent.com/jcortezzo/TCS-GameDev-Curriculum/master/Unit%202/Images/U2L3_9.gif\" alt=\"Drawing\"/>\n",
    "\n",
    "3. Next, set up the animator FSM like so: \n",
    "\n",
    "<img src=\"https://raw.githubusercontent.com/jcortezzo/TCS-GameDev-Curriculum/master/Unit%202/Images/U2L3_10.png\" alt=\"Drawing\"/>\n",
    "\n",
    "4. Edit the code for our button transition:\n"
   ]
  },
  {
   "cell_type": "code",
   "execution_count": null,
   "metadata": {},
   "outputs": [],
   "source": [
    "using System.Collections;\n",
    "using System.Collections.Generic;\n",
    "using UnityEngine;\n",
    "using UnityEngine.SceneManagement;\n",
    "\n",
    "public class Menu : MonoBehaviour\n",
    "{\n",
    "    public Animator animator;\n",
    "    public void StartGame()\n",
    "    {\n",
    "        JukeBox.Instance.PlaySFX(\"select\");\n",
    "        StartCoroutine(StartSceneDelay(\"GameScene\", 1f));\n",
    "    }\n",
    "\n",
    "    IEnumerator StartSceneDelay(string sceneName, float delay)\n",
    "    {\n",
    "        animator.SetTrigger(\"Start\");\n",
    "\n",
    "        yield return new WaitForSeconds(delay);\n",
    "\n",
    "        SceneManager.LoadScene(sceneName);\n",
    "    }\n",
    "}\n"
   ]
  },
  {
   "cell_type": "markdown",
   "metadata": {},
   "source": [
    "5. Lastly, we need to dragin the canvas animator to our menu, and put this canvas in the next scene we want to transition to. If everything set up correctly, our result will look something like this:\n",
    "\n",
    "<img src=\"https://raw.githubusercontent.com/jcortezzo/TCS-GameDev-Curriculum/master/Unit%202/Images/U2L3_11.gif\" alt=\"Drawing\"/>"
   ]
  },
  {
   "cell_type": "markdown",
   "metadata": {},
   "source": [
    "# HOMEWORK\n",
    "---"
   ]
  },
  {
   "cell_type": "markdown",
   "metadata": {},
   "source": [
    "## HW #1\n",
    "\n",
    "---\n",
    "\n",
    "**Problem:** Load scene asynchrously using LoadSceneAsync. \n",
    "Documentation for hint\n",
    "Link: https://docs.unity3d.com/ScriptReference/SceneManagement.SceneManager.LoadSceneAsync.html"
   ]
  },
  {
   "cell_type": "markdown",
   "metadata": {},
   "source": [
    "##### **Solution**\n",
    "\n",
    "At the moment, we have our scene loading happen instantly. However, if we have a large project, and a scene contain large amount of assets, we will notice a huge lag before a new scene loaded. Good thing, Unity provided us a way to asynchronously load scene in the background in order to prevent the lag. We can take advantage of the feature like so:\n",
    "\n",
    "1. Let's once again rewrite our load function in Menu script\n"
   ]
  },
  {
   "cell_type": "code",
   "execution_count": null,
   "metadata": {},
   "outputs": [],
   "source": [
    "using System.Collections;\n",
    "using System.Collections.Generic;\n",
    "using UnityEngine;\n",
    "using UnityEngine.SceneManagement;\n",
    "\n",
    "public class Menu : MonoBehaviour\n",
    "{\n",
    "    public Animator animator;\n",
    "    public void StartGame()\n",
    "    {\n",
    "        JukeBox.Instance.PlaySFX(\"select\");\n",
    "        StartCoroutine(StartSceneDelay(\"GameScene\", 1f));\n",
    "    }\n",
    "\n",
    "    IEnumerator StartSceneDelay(string sceneName, float delay)\n",
    "    {\n",
    "        animator.SetTrigger(\"Start\");\n",
    "\n",
    "        yield return new WaitForSeconds(delay);\n",
    "\n",
    "        AsyncOperation asyncLoad = SceneManager.LoadSceneAsync(sceneName);\n",
    "\n",
    "        while(!asyncLoad.isDone)\n",
    "        {\n",
    "            Debug.Log(\"Loading\");\n",
    "            yield return null;\n",
    "        }\n",
    "    }\n",
    "}\n"
   ]
  },
  {
   "cell_type": "markdown",
   "metadata": {},
   "source": [
    "2. Instead of using LoadScene function, we now replace it with LoadSceneAsync(). This function return a AsyncOperation object which allows us to track the progress of scene loading in the background. We can take advantage of this object to do a lot more thing like a loading bar, ...\n",
    "\n",
    "When we run the game now, we won't see a lot of difference due to the size of our game. However, if our project grow larger in the future, we will definitely see a difference!\n",
    "\n",
    "<b>Bonus:</b> Create a loading bar"
   ]
  }
 ],
 "metadata": {
  "colab": {
   "collapsed_sections": [],
   "name": "U1L6 - UI.ipynb",
   "provenance": []
  },
  "kernelspec": {
   "display_name": "Python 3",
   "language": "python",
   "name": "python3"
  },
  "language_info": {
   "codemirror_mode": {
    "name": "ipython",
    "version": 3
   },
   "file_extension": ".py",
   "mimetype": "text/x-python",
   "name": "python",
   "nbconvert_exporter": "python",
   "pygments_lexer": "ipython3",
   "version": "3.7.6"
  }
 },
 "nbformat": 4,
 "nbformat_minor": 1
}
