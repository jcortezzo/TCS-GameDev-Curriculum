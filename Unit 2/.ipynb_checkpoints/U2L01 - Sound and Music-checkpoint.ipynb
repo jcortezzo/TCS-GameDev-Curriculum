{
 "cells": [
  {
   "cell_type": "markdown",
   "metadata": {
    "colab_type": "text",
    "id": "ijAwfSuLsf_p"
   },
   "source": [
    "# Unit 2 Lesson 1 - Sound, Music, and JukeBox\n",
    "In this lesson, we'll learn how to play sound and music in your Unity project. We will also learn how to create a simple audio manager through new programming concepts. \n",
    "\n",
    "\n",
    "---\n",
    "\n",
    "# Learning Objectives\n",
    "---\n",
    "\n",
    "*   Students will learn about the AudioSource, AudioClip and AudioListener components\n",
    "*   Students will learn about the singleton pattern, and class/struct to hold data\n",
    "\n",
    "# Key Concepts\n",
    "---\n",
    "\n",
    "*   AudioSource, AudioClip, AudioListener\n",
    "*   JukeBox(AudioManager), Singleton pattern, Struct"
   ]
  },
  {
   "cell_type": "markdown",
   "metadata": {
    "colab_type": "text",
    "id": "-O16dXPxUp7u"
   },
   "source": [
    "# Introduction\n",
    "\n",
    "---"
   ]
  },
  {
   "cell_type": "markdown",
   "metadata": {
    "colab_type": "text",
    "id": "DtMw8wTiUqYC"
   },
   "source": [
    "From unit 1, we learned how to create a basic game in Unity. We are able to control the player, spawn some enemies, have physics interaction with platforms, and UI to top it off. However, we are missing something. That's right! Sound and Music!! In this lesson, we will go over how to add sound and music to your game in order to make our game feel more lively."
   ]
  },
  {
   "cell_type": "markdown",
   "metadata": {
    "colab_type": "text",
    "id": "N48Zm3JDVrqa"
   },
   "source": [
    "# Concept 1: AudioSource, AudioClip and AudioListener\n",
    "\n",
    "---\n",
    "### **AudioSource**\n",
    "\n",
    "AudioSource represents the location of where the audio will be play from your scene. This component can be attach to a GameObject to play audio. There are various options in AudioSource that we can enable and adjust that allow for a more dynamic sound experience. These options are \"volume\", \"pitch\", \"Stereo Pan\", \"Spatial Blend\" (2D or 3D), and more. To play an audio, we first need to have an AudioClip.\n",
    "\n",
    "### **AudioClip**\n",
    "\n",
    "AudioClip is basically the audio file that you want to play. This can be in mp3, ogg, wav, ...\n",
    "\n",
    "### **AudioListener**\n",
    "\n",
    "Lastly, AudioListener is responsible for listening to the sound from AudioSource. This component usually attach to the camera by default as represent where the player will hear the audio from.\n"
   ]
  },
  {
   "cell_type": "markdown",
   "metadata": {
    "colab_type": "text",
    "id": "jScW0vL6MuNA"
   },
   "source": [
    "## Walkthrough: Adding audio to scene\n",
    "\n",
    "1.   First, create an empty GameObject on your scene and called it something appropriate for music (I called it Jukebox). Then add a component called AudioSource to the GameObject.\n",
    "\n",
    "<img src=\"https://raw.githubusercontent.com/jcortezzo/TCS-GameDev-Curriculum/master/Unit%202/Images/U2L1_1.png\" alt=\"Drawing\"/>\n",
    "\n",
    "2.   Next, we want to attach an audioclip to the AudioClip option. We provided you with an audio file \"super mario theme\". Make sure to first import your music into the asset folder. Then, drag it into the AudioClip option.\n",
    "\n",
    "<img src=\"https://github.com/jcortezzo/TCS-GameDev-Curriculum/blob/master/Unit%202/Images/U2L1_2.png?raw=true\" alt=\"Drawing\"/>\n",
    "\n",
    "3.   Lastly, before we can enjoy our music we first need to double check a few options to make sure our music will be play correctly.\n",
    "\n",
    "    - Make sure \"Loop\" and \"Play On Awake\" are check.\n",
    "    \n",
    "    - Make sure Mute Audio is <b>not enable</b> on the game scene\n",
    "    \n",
    "    - Make sure AudioListener is on the MainCamera\n",
    "\n",
    "<img src=\"https://github.com/jcortezzo/TCS-GameDev-Curriculum/blob/master/Unit%202/Images/U2L1_3.png?raw=true\" alt=\"Drawing\"/>\n",
    "\n",
    "<img src=\"https://github.com/jcortezzo/TCS-GameDev-Curriculum/blob/master/Unit%202/Images/U2L1_4.png?raw=true\" alt=\"Drawing\"/>\n",
    "\n",
    "4.   Now, we should have our music play at the start of the game. We just learned the basic of adding an audio to your project!"
   ]
  },
  {
   "cell_type": "markdown",
   "metadata": {
    "colab_type": "text",
    "id": "z0A-SB1hMuNA"
   },
   "source": [
    "# Concept 1.5: Adding sound with code\n",
    "---\n",
    "\n",
    "So far, we learned how to add sound/music by adding AudioSource component to a GameObject, and having the sound play automatically. However, as a programmer, we want to have more control over when and how something happen. Let's learn how to play sound with code.\n",
    "\n",
    "#### **AudioSource.Play()**\n",
    "Playing a sound is as simple as calling Play() method within the AudioSource. Steps to do this:\n",
    "\n",
    "1. First, you need to the AudioSource component\n",
    "reference. We can do that by calling `GetComponent&lt;AudioSource&gt;()` on the GameObject that contain the AudioSource. \n",
    "2. Then we can call `AudioSource.Play()`. Make sure there is a AudioClip in AudioSource already, or else there will be error. One disadvantage of Play() method is, Play() will stop the old sound if a new one is played. \n",
    "    \n",
    "#### **AudioSource.PlayOneShot(clip)**\n",
    "There is a second method called `PlayOneShot(clip)` with a parameter of an AudioClip. This method allows us to play multiple sound with a single AudioSource. This is good method to play multiple sfx at one. However, one disadvantage of this method is, all of the options such as volume, pitch, etc... will be the same for all sound being play with this method. Therefore, reconsider if using this method if sounds with difference settings is played."
   ]
  },
  {
   "cell_type": "markdown",
   "metadata": {
    "colab_type": "text",
    "id": "O8Pr8-aEMuNB"
   },
   "source": [
    "## Practice Together #1\n",
    "\n",
    "---\n",
    "\n",
    "**Problem:** Add music in Menu Scene, Game Scene, and play a sound when player jump."
   ]
  },
  {
   "cell_type": "markdown",
   "metadata": {
    "colab_type": "text",
    "id": "3WEYgqVdMuNB"
   },
   "source": [
    "##### **Solution**\n",
    "\n",
    "Note: this is very similar to the walkthrough. \n",
    "\n",
    "1. First, let add an empty GameObject to the Menu Scene and Game Scene. \n",
    "2. Then attach a AudioSource component to the GameObjects. Lastly, add an audioclip to the AudioSource in both Menu and Game Scene. We now have music play for each different scene in our game!\n",
    "\n",
    "<img src=\"https://github.com/jcortezzo/TCS-GameDev-Curriculum/blob/master/Unit%202/Images/U2L1_7.png?raw=true\" alt=\"Drawing\"/>\n",
    "\n",
    "<img src=\"https://github.com/jcortezzo/TCS-GameDev-Curriculum/blob/master/Unit%202/Images/U2L1_8.png?raw=true\" alt=\"Drawing\"/>\n",
    "\n",
    "#### **Add sfx to character**\n",
    "\n",
    "3. Since we want to play a sound when our player jump, this required us to do a bit of programming. To play any sound, we always need an AudioSource, let add that to our character GameObject. \n",
    "4. After that, add \"jump\" sfx into AudioClip. \n",
    "5. Then, go into our Player.cs script and write some code to play a sound. Below is a rough example of what to write.\n",
    "\n",
    "AudioSFX will be the AudioSource reference we get from GetComponent<>(). To play a sound, we can call .Play() in the Jump() method that we wrote previously."
   ]
  },
  {
   "cell_type": "code",
   "execution_count": null,
   "metadata": {
    "colab": {},
    "colab_type": "code",
    "id": "qeXF0YdcMuNC"
   },
   "outputs": [],
   "source": [
    "using System.Collections;\n",
    "using System.Collections.Generic;\n",
    "using UnityEngine;\n",
    "\n",
    "public class Player : MonoBehaviour\n",
    "{\n",
    "    ---\n",
    "    private AudioSource audioSFX;\n",
    "    \n",
    "    // Start is called before the first frame update\n",
    "    void Start()\n",
    "    {\n",
    "        ---\n",
    "        \n",
    "        audioSFX = this.GetComponent<AudioSource>();\n",
    "    }\n",
    "\n",
    "    private void Jump()\n",
    "    {\n",
    "        ---\n",
    "        audioSFX.Play();\n",
    "    }\n",
    "\n",
    "\n",
    "\n",
    "}"
   ]
  },
  {
   "cell_type": "markdown",
   "metadata": {
    "colab_type": "text",
    "id": "eihWfwxSQC99"
   },
   "source": [
    "# Exercise #1\n",
    "---\n",
    "***Problem***: Add a sound when user press the Start button in the menu.\n"
   ]
  },
  {
   "cell_type": "markdown",
   "metadata": {},
   "source": [
    "##### **Solution**\n",
    "\n",
    "1. Let add an AudioSource to our button.\n",
    "<img src=\"https://github.com/jcortezzo/TCS-GameDev-Curriculum/blob/master/Unit%202/Images/U2L1_10.png?raw=true\" alt=\"Drawing\"/>\n",
    "\n",
    "2. Also add an audio clip to our AudioSource. \"select\" audio is provided in \"Sounds\" folder.\n",
    "3. Lastly write the following code in Menu script.\n",
    "4. Remember to disable Play On Awake option in our AudioSource so sound won't play at start."
   ]
  },
  {
   "cell_type": "code",
   "execution_count": null,
   "metadata": {},
   "outputs": [],
   "source": [
    "using System.Collections;\n",
    "using System.Collections.Generic;\n",
    "using UnityEngine;\n",
    "using UnityEngine.SceneManagement;\n",
    "\n",
    "public class Menu : MonoBehaviour\n",
    "{\n",
    "    private AudioSource audio;\n",
    "\n",
    "    void Start()\n",
    "    {\n",
    "        audio = GetComponent<AudioSource>();    \n",
    "    }\n",
    "\n",
    "    public void StartGame()\n",
    "    {\n",
    "        audio.Play();\n",
    "        SceneManager.LoadScene(\"GameScene\");\n",
    "    }\n",
    "}"
   ]
  },
  {
   "cell_type": "markdown",
   "metadata": {
    "colab_type": "text",
    "id": "JGMGPHbGjUA6"
   },
   "source": [
    "# Concept 2: Jukebox (Audio Manager), Singleton pattern, Struct\n",
    "\n",
    "---\n",
    "\n",
    "Great, we just learn how to add music, play on a loop, and some sfx sound for our character in our game. However, we can see that this approach do not give us a lot of control on when and how we should play our sounds and musics. When transitioning between scenes, we also notice music do not continue to play and get cut off. There are many ways to fix these problems, one approach we will show is the idea of an Audio Manager. Audio Manger will allow us to control when and how we want to play our sound/music. It will also help us with audio playing continuosly through different scenes. The structure of Audio Manager we will show you is simple and can be easily expand to handle more functionalities. Before writing the Audio Manager, there are a few programming concepts we want to introduce first. These are Singleton pattern and Struct.\n",
    "\n",
    "### **Singleton Pattern**\n",
    "Singleton pattern is a software engineer design pattern that restricts the instantiation of a class to just <b>\"single\" instance</b>. In Unity layman's term, there should only be one single GameObject with this type in the scene. This can be very useful for our case since we can carry this single instance of JukeBox through multiple scenes, which allow for music to play continuously. Singleton pattern also allows for <b>easy global accessibility</b> which can be useful in a lot of contexts. Example in our case could be having our Player or Enemy class access the JukeBox without declaring a field.\n",
    "\n",
    "<b>Note: Do not overuse this pattern design.</b> It is very tempting to making thing a singleton to have global accessibility, but this come with problem when your project grow! The bigger the project, the more complex your codebase become, which could be detrimental to your project continuation.\n",
    "\n",
    "Here are a few criteria before consider using singleton:\n",
    "- Instance of object must only exist once.\n",
    "- Must be accessible globaly.\n",
    "- Control concurrent access to data from multiple sources.\n",
    " \n",
    "More detail: [Wiki link](https://en.wikipedia.org/wiki/Singleton_pattern)\n",
    "\n",
    "#### **Struct**\n",
    "\n",
    "Struct is very similar to a class, which can be think of as a data container. Data declared in struct are always public. Struct cannot be inherit, which mean inheritance is not allow. For our use, we can use struct to define a small data structure which contain useful information that is a sound (clip name, pitch, volume, etc...)\n",
    "\n",
    "More detail: [Microsoft documentation](https://docs.microsoft.com/en-us/dotnet/csharp/language-reference/builtin-types/struct)\n",
    "\n",
    "\n",
    "## Walkthrough: Creating a JukeBox(Audio Manager)\n",
    "\n",
    "**1**. First, let create an empty GameObject called \"JukeBox\", and create a script called \"JukeBox.cs\" then attach to the GameObject.\n",
    "\n",
    "**2**. Then, let create our singleton gameobject for our JukeBox. The code below is one way of writing singleton in Unity:"
   ]
  },
  {
   "cell_type": "code",
   "execution_count": null,
   "metadata": {
    "colab": {},
    "colab_type": "code",
    "id": "porwf6eIMuNF"
   },
   "outputs": [],
   "source": [
    "using System.Collections;\n",
    "using System.Collections.Generic;\n",
    "using UnityEngine;\n",
    "\n",
    "public class JukeBox : MonoBehaviour\n",
    "{\n",
    "\n",
    "    public static JukeBox Instance;\n",
    "\n",
    "    private void Awake()\n",
    "    {\n",
    "        if(Instance == null)\n",
    "        {\n",
    "            Instance = this;\n",
    "        } else\n",
    "        {\n",
    "            Destroy(this.gameObject);\n",
    "            return;\n",
    "        }\n",
    "        DontDestroyOnLoad(this.gameObject);\n",
    "    }\n",
    "\n",
    "}"
   ]
  },
  {
   "cell_type": "markdown",
   "metadata": {
    "colab_type": "text",
    "id": "ZKC3aHibMuNH"
   },
   "source": [
    "Let break it down a bit and go through the code line by line. \n",
    "\n",
    "* On line 8, we declare a public static field with the same type of the class JukeBox, where we will be holding the reference to the only instance of this GameObject type. Also, declaring the field \"public static\" allows for public access from other classes.\n",
    "\n",
    "* On line 10-21, Awake() method, we are checking for if the instance had been created yet. When we start the game, the instance of a gameobject will get create and Awake will be invoke automatically. So, if this is the first time the game start, there will be no previous instance of JukeBox, so we can assign that to the field. Else, if let say there is a second JukeBox object in the scene, the second object will get destroy since the previous instance already existed and we don't want a duplicate of it, hence \"Singleton\".\n",
    "\n",
    "* On line 20, this special method here in MonoBehaviour (DontDestroyOnLoad) allows us to keep the gameobject instance so it won't get destroy when we transition through difference scenes. \n",
    "\n",
    "**3**. Having the singleton object set up, the next step will be setting up the data structure for our sound/music. Add the following line of code after line 23 of the script:\n"
   ]
  },
  {
   "cell_type": "code",
   "execution_count": null,
   "metadata": {
    "colab": {},
    "colab_type": "code",
    "id": "kbVkcgvDMuNI"
   },
   "outputs": [],
   "source": [
    "using System.Collections;\n",
    "using System.Collections.Generic;\n",
    "using UnityEngine;\n",
    "\n",
    "public class JukeBox : MonoBehaviour\n",
    "{\n",
    "\n",
    "    public static JukeBox Instance;\n",
    "\n",
    "    private void Awake()\n",
    "    {\n",
    "        if(Instance == null)\n",
    "        {\n",
    "            Instance = this;\n",
    "        } else\n",
    "        {\n",
    "            Destroy(this.gameObject);\n",
    "            return;\n",
    "        }\n",
    "        DontDestroyOnLoad(this.gameObject);\n",
    "    }\n",
    "\n",
    "}\n",
    "\n",
    "[System.Serializable]\n",
    "public struct Sound {\n",
    "    public AudioClip clip;\n",
    "\n",
    "    public string name;\n",
    "\n",
    "    [Range(0f, 1f)]\n",
    "    public float volume;\n",
    "    \n",
    "    [Range(0f, 3f)]\n",
    "    public float pitch;\n",
    "\n",
    "    public bool loop;\n",
    "}"
   ]
  },
  {
   "cell_type": "markdown",
   "metadata": {
    "colab_type": "text",
    "id": "nDdvrnB4MuNK"
   },
   "source": [
    "Here, we just created a struct that contain some important properties that defined a Sound. For our Sound definition, we have an AudioClip which will be the audio file; name of the Sound; volume value; pitch value; loop. A few new tags here to introduce:\n",
    "\n",
    "[Range(float, float)]: this tag allow us to create a slider between 2 float numbers that we can adjust in Unity inspectors\n",
    "\n",
    "<img src=\"https://github.com/jcortezzo/TCS-GameDev-Curriculum/blob/master/Unit%202/Images/U2L1_5.png?raw=true\" alt=\"img\">\n",
    "\n",
    "* `[System.Serializable]`: this tag serialize a type, which help us display on the inspector\n",
    "\n",
    "\n",
    "**4**. With the new Sound data structure, we can now create write code to play a sound with a pre-defined definition. \n"
   ]
  },
  {
   "cell_type": "code",
   "execution_count": null,
   "metadata": {
    "colab": {},
    "colab_type": "code",
    "id": "XNq_rqWOMuNK"
   },
   "outputs": [],
   "source": [
    "using System.Collections;\n",
    "using System.Collections.Generic;\n",
    "using UnityEngine;\n",
    "\n",
    "public class JukeBox : MonoBehaviour\n",
    "{\n",
    "\n",
    "    public static JukeBox Instance;\n",
    "\n",
    "    [SerializeField] private Sound[] musics;\n",
    "    [SerializeField] private Sound[] sfxs;\n",
    "\n",
    "    private AudioSource musicSource;\n",
    "    private AudioSource sfxSource;\n",
    "\n",
    "    private void Awake()\n",
    "    {\n",
    "        if(Instance == null)\n",
    "        {\n",
    "            Instance = this;\n",
    "            musicSource = this.gameObject.AddComponent<AudioSource>();\n",
    "            sfxSource = this.gameObject.AddComponent<AudioSource>();\n",
    "\n",
    "        } else\n",
    "        {\n",
    "            Destroy(this.gameObject);\n",
    "            return;\n",
    "        }\n",
    "        DontDestroyOnLoad(this.gameObject);\n",
    "    }\n",
    "\n",
    "    public void PlayMusic(string name)\n",
    "    {\n",
    "        foreach (Sound s in musics)\n",
    "        {\n",
    "            if (s.name.Equals(name))\n",
    "            {\n",
    "                musicSource.clip = s.clip;\n",
    "                musicSource.volume = s.volume;\n",
    "                musicSource.pitch = s.pitch;\n",
    "                musicSource.loop = s.loop;\n",
    "                musicSource.Play();\n",
    "                return;\n",
    "            }\n",
    "        }\n",
    "    }\n",
    "\n",
    "\n",
    "    public void PlaySFX(string name)\n",
    "    {\n",
    "        foreach(Sound s in sfxs)\n",
    "        {\n",
    "            if(s.name.Equals(name))\n",
    "            {\n",
    "                sfxSource.volume = s.volume;\n",
    "                sfxSource.pitch = s.pitch;\n",
    "                sfxSource.PlayOneShot(s.clip);\n",
    "                return;\n",
    "            }\n",
    "        }\n",
    "    }\n",
    "}\n",
    "\n",
    "[System.Serializable]\n",
    "public struct Sound {\n",
    "    public AudioClip clip;\n",
    "\n",
    "    public string name;\n",
    "\n",
    "    [Range(0f, 1f)]\n",
    "    public float volume;\n",
    "    \n",
    "    [Range(-3f, 3f)]\n",
    "    public float pitch;\n",
    "\n",
    "    public bool loop;\n",
    "}"
   ]
  },
  {
   "cell_type": "markdown",
   "metadata": {
    "colab_type": "text",
    "id": "zoTyU03XMuNM"
   },
   "source": [
    "The above scripts are the finalized version of our simple JukeBox. We added 2 methods into our scripts to play a music and sound effect (sfx). We modified the Awake() method on line 21-22 to add AudioSource component to our music and sfx player. We also created two arrays of Sound, one for music and one for sfx. \n",
    "\n",
    "Let go through each change we made in the final version of the script:\n",
    "\n",
    "* Line 10-11: Having two arrays of Sound will help us differentiate between Music and SFX\n",
    "\n",
    "* Line 13-14, 21-22: Instead of adding components by hand in the inspector, we opted for doing it in code in order to save the reference of each AudioSource easier.\n",
    "\n",
    "* PlayMusic(string): This method is straight forward. It will loop through our musics array and find the music matching our parameter. Then before playing the music, we set the pitch, volume, and loop option to the AudioSource before we play.\n",
    "\n",
    "**PlaySFX(string):** This method is similar to PlayMusic except for the play method. In this case, we will use PlayOneShot() to play our sfx. The reason for this is Play() will stop the previous music before we play, and PlayOneShot() allow for multiple sound to play at the same time. However, there is a small bug in this PlaySFX() method. The problem is PlayOneShot() will play the sound with the setting of the AudioSource, so when we play a different sfx, the old sfx will use the setting of the new sfx if it is still playing.\n",
    "\n",
    "\n",
    "Let add some music, sfx, and adjust some properties of the Sound in the inspector\n",
    "<img src=\"https://github.com/jcortezzo/TCS-GameDev-Curriculum/blob/master/Unit%202/Images/U2L1_6.png?raw=true\" alt=\"img\">\n",
    "\n",
    "Lastly, let play a song to cap off this walkthrough. We will play \"supermariotheme\", by write some code in the Start() method of the JukeBox\n",
    "for now."
   ]
  },
  {
   "cell_type": "code",
   "execution_count": null,
   "metadata": {
    "colab": {},
    "colab_type": "code",
    "id": "6fme_SXHMuNN"
   },
   "outputs": [],
   "source": [
    "private void Start()\n",
    "{\n",
    "    PlayMusic(\"supermariotheme\");\n",
    "}"
   ]
  },
  {
   "cell_type": "markdown",
   "metadata": {
    "colab_type": "text",
    "id": "4cbSRsXSMuNP"
   },
   "source": [
    "## Practice Together #1\n",
    "\n",
    "---\n",
    "\n",
    "**Problem:** Create new method for JukeBox that accept custom paramters(volume, pitch, ...), and the method should play a sfx. Then use this method to play the jump sound for our player by replace the old code with our new code."
   ]
  },
  {
   "cell_type": "markdown",
   "metadata": {
    "colab_type": "text",
    "id": "RIJA7F1XMuNQ"
   },
   "source": [
    "##### **Solution**"
   ]
  },
  {
   "cell_type": "markdown",
   "metadata": {
    "colab_type": "text",
    "id": "q9J5ZTk3MuNQ"
   },
   "source": [
    "Since we have a method that already play sfx with our preset value, we can duplicate the method and overload the method with new parameters, in order for us to change in code. Here is the new code for sfx with overloaded parameters."
   ]
  },
  {
   "cell_type": "code",
   "execution_count": null,
   "metadata": {
    "colab": {},
    "colab_type": "code",
    "id": "1nX4-VDCMuNR"
   },
   "outputs": [],
   "source": [
    "public void PlaySFX(string name, float volume, float pitch)\n",
    "{\n",
    "    foreach (Sound s in sfxs)\n",
    "    {\n",
    "        if (s.name.Equals(name))\n",
    "        {\n",
    "            sfxSource.volume = volume;\n",
    "            sfxSource.pitch = pitch;\n",
    "            sfxSource.PlayOneShot(s.clip);\n",
    "            return;\n",
    "        }\n",
    "    }\n",
    "}"
   ]
  },
  {
   "cell_type": "markdown",
   "metadata": {
    "colab_type": "text",
    "id": "KQdWqHskMuNT"
   },
   "source": [
    "Now let go back to our Player script, and replace the old jump effect code with our newly made code. We will play the jump sound effect with 0.5f valume sound and a normal pitch of 1f."
   ]
  },
  {
   "cell_type": "code",
   "execution_count": null,
   "metadata": {
    "colab": {},
    "colab_type": "code",
    "id": "GZ2hmkVjMuNT"
   },
   "outputs": [],
   "source": [
    "private void Jump()\n",
    "{\n",
    "    rb.velocity = new Vector2(rb.velocity.x, 0);\n",
    "    rb.AddForce(jumpForce * Vector2.up * rb.mass, ForceMode2D.Impulse);\n",
    "    JukeBox.Instance.PlaySFX(\"jump\", 0.5f, 1f);\n",
    "}"
   ]
  },
  {
   "cell_type": "markdown",
   "metadata": {
    "colab_type": "text",
    "id": "CMT9pYkWQhU5"
   },
   "source": [
    "## Exercise #1\n",
    "---\n",
    "***Problem***: Play sound when start button is press in MenuScene. For this problem, let replace the old method with our new Audio Manager method"
   ]
  },
  {
   "cell_type": "markdown",
   "metadata": {},
   "source": [
    "##### **Solution**\n",
    "1. Add a sound call \"select\" to our sfx arrays in the JukeBox editor\n",
    "2. Go back to our menu script, and replace it with this the JukeBox code\n"
   ]
  },
  {
   "cell_type": "code",
   "execution_count": null,
   "metadata": {},
   "outputs": [],
   "source": [
    "using System.Collections;\n",
    "using System.Collections.Generic;\n",
    "using UnityEngine;\n",
    "using UnityEngine.SceneManagement;\n",
    "\n",
    "public class Menu : MonoBehaviour\n",
    "{\n",
    "    public void StartGame()\n",
    "    {\n",
    "        JukeBox.Instance.PlaySFX(\"select\");\n",
    "        SceneManager.LoadScene(\"GameScene\");\n",
    "    }\n",
    "}\n"
   ]
  },
  {
   "cell_type": "markdown",
   "metadata": {},
   "source": [
    "3. As we can see, the code is much cleaner now. We can also remove AudioSource in the Menu button component since we no longer need it."
   ]
  },
  {
   "cell_type": "markdown",
   "metadata": {
    "colab_type": "text",
    "id": "Y9IxMfODNB2v"
   },
   "source": [
    "# ACTIVITIES\n",
    "---\n",
    "\n",
    "## Activity #1\n",
    "\n",
    "---\n",
    "\n",
    "**Problem:** Play a sound when player shoot a fireball.\n"
   ]
  },
  {
   "cell_type": "markdown",
   "metadata": {},
   "source": [
    "##### **Solution**\n",
    "1. Add \"shootfireball\" to our JukeBox sfx array.\n",
    "2. Go to Player script and add a sound to our ShootFireBall method."
   ]
  },
  {
   "cell_type": "code",
   "execution_count": null,
   "metadata": {},
   "outputs": [],
   "source": [
    "void ShootFire()\n",
    "{\n",
    "    Instantiate(fireBall, this.transform.position, Quaternion.identity);\n",
    "    JukeBox.Instance.PlaySFX(\"shootfireball\");\n",
    "}\n"
   ]
  },
  {
   "cell_type": "markdown",
   "metadata": {},
   "source": [
    "## Activity #2\n",
    "\n",
    "---\n",
    "\n",
    "**Problem:** Play a sound when the player is hurt with a randomize the pitch. Play a sound when player pick up a powerup."
   ]
  },
  {
   "cell_type": "markdown",
   "metadata": {
    "colab_type": "text",
    "id": "5WF2AFJ1MuNY"
   },
   "source": [
    "##### **Solution**"
   ]
  },
  {
   "cell_type": "markdown",
   "metadata": {
    "colab_type": "text",
    "id": "jVomgYP7MuNY"
   },
   "source": [
    "We can utilize the PlaySFX methods that we made to play a sound with different pitches. One thing we haven't learn is a way to generate random value. Luckily, Unity provided us with a handy Random class that allow us to generate a random value. We can use this to generate a random pitch for our hurt sound.\n",
    "\n",
    "To use Random, we can write: Random.Range(f1, f2)\n",
    "This function will generate a random float number between f1 and f2 value.\n",
    "\n",
    "Let's first add sfxs into our JukeBox's sfx array. Then, we can start writing code.\n",
    "\n",
    "<img src=\"https://github.com/jcortezzo/TCS-GameDev-Curriculum/blob/master/Unit%202/Images/U2L1_9.png?raw=true\" alt=\"img\">"
   ]
  },
  {
   "cell_type": "code",
   "execution_count": null,
   "metadata": {
    "colab": {},
    "colab_type": "code",
    "id": "9bUPjo9DMuNZ"
   },
   "outputs": [],
   "source": [
    "   private void OnCollisionStay2D(Collision2D collision)\n",
    "    {\n",
    "        if (collision.gameObject.tag == \"Enemy\" && !isRecovering)\n",
    "        {\n",
    "            health--;\n",
    "            timeLastHurt = Time.time;\n",
    "            isRecovering = true;\n",
    "            sr.color = Color.red;\n",
    "\n",
    "            JukeBox.Instance.PlaySFX(\"hurt\", 0.5f, Random.Range(0f, 2f));\n",
    "        }\n",
    "        \n",
    "        -----\n",
    "    }"
   ]
  },
  {
   "cell_type": "markdown",
   "metadata": {
    "colab_type": "text",
    "id": "emC1MRe6MuNb"
   },
   "source": [
    "\n",
    "Next, let add sfx to our power up code. \n"
   ]
  },
  {
   "cell_type": "code",
   "execution_count": null,
   "metadata": {
    "colab": {},
    "colab_type": "code",
    "id": "gWeQ4DNWMuNc"
   },
   "outputs": [],
   "source": [
    "private void OnCollisionEnter2D(Collision2D collision)\n",
    "{\n",
    "    if (collision.gameObject.tag == \"PowerUp\")\n",
    "    {\n",
    "        collision.gameObject.SetActive(false);\n",
    "        JukeBox.Instance.PlaySFX(\"powerup\");\n",
    "    ---\n",
    "}"
   ]
  },
  {
   "cell_type": "markdown",
   "metadata": {},
   "source": [
    "## Activity #3\n",
    "\n",
    "---\n",
    "\n",
    "**Problem:** Play an increasing pitch noise when player double jump."
   ]
  },
  {
   "cell_type": "markdown",
   "metadata": {},
   "source": [
    "##### **Solution**\n",
    "\n",
    "1. There are many way to do this, the solution I am showing require some value mapping. The idea of this solution is, we are mapping our jump number to a set of pitches value. We have our jump values from 0-MAX_JUMP. We then map these value to a range pitch value, let say 1f-3f. We can do that by writing a mapping function\n"
   ]
  },
  {
   "cell_type": "code",
   "execution_count": null,
   "metadata": {},
   "outputs": [],
   "source": [
    "public float Remap(float value, float from1, float to1, float from2, float to2)\n",
    "{\n",
    "    return (value - from1) / (to1 - from1) * (to2 - from2) + from2;\n",
    "}"
   ]
  },
  {
   "cell_type": "markdown",
   "metadata": {},
   "source": [
    "2. Then we can use this function for our jump code.\n"
   ]
  },
  {
   "cell_type": "code",
   "execution_count": null,
   "metadata": {},
   "outputs": [],
   "source": [
    "private void Jump()\n",
    "{\n",
    "    rb.velocity = new Vector2(rb.velocity.x, 0);\n",
    "    rb.AddForce(jumpForce * Vector2.up * rb.mass, ForceMode2D.Impulse);\n",
    "\n",
    "    float jumpPitch = Remap(jumps, 0, MAX_JUMP, 1, 3);\n",
    "\n",
    "    JukeBox.Instance.PlaySFX(\"jump\", 0.5f, jumpPitch);\n",
    "\n",
    "}"
   ]
  },
  {
   "cell_type": "markdown",
   "metadata": {
    "colab_type": "text",
    "id": "2HC40DjqMuNe"
   },
   "source": [
    "## Activity #4\n",
    "\n",
    "---\n",
    "\n",
    "**Problem:** Create a LevelManager that use \"Singleton pattern\". This LevelManager should be able to track what level the game is currently on, and should play different musics depend on the level."
   ]
  },
  {
   "cell_type": "markdown",
   "metadata": {
    "colab_type": "text",
    "id": "2UZ8T373MuNe"
   },
   "source": [
    "##### **Solution**\n",
    "\n",
    "We had seen before that we can write code to play music in our JukeBox class. However, we want to modulize and seperate our code, so that each script should only responsible for one thing. Therefore, having another class like LevelManager to play music depend on level would be a better decision. \n",
    "\n",
    "There are a few ways that we can detect what scene we are currently on in order for us to play the correct music. The way I am showing you below introduce a new concept of event callback. We create a delegate - a method with a specific name/parameters signature - that we can add to SceneManager.sceneLoad event list. When a scene change, the delegate (method) that were loaded to the event list will get invoke. With this knowledge, we can write some logic for our music changing function. Here is a sample code for LevelManager. Attach this script into a GameObject to see it in action."
   ]
  },
  {
   "cell_type": "code",
   "execution_count": null,
   "metadata": {
    "colab": {},
    "colab_type": "code",
    "id": "ChRg0jR9MuNe"
   },
   "outputs": [],
   "source": [
    "using System.Collections;\n",
    "using System.Collections.Generic;\n",
    "using UnityEngine;\n",
    "using UnityEngine.SceneManagement;\n",
    "\n",
    "public class LevelManager : MonoBehaviour\n",
    "{\n",
    "    public static LevelManager Instance;\n",
    "\n",
    "    private void Awake()\n",
    "    {\n",
    "        if (Instance == null)\n",
    "        {\n",
    "            Instance = this;\n",
    "        }\n",
    "        else\n",
    "        {\n",
    "            Destroy(this.gameObject);\n",
    "            return;\n",
    "        }\n",
    "        DontDestroyOnLoad(this.gameObject);\n",
    "\n",
    "        SceneManager.sceneLoaded += PlayMusicWhenSceneChange;\n",
    "    }\n",
    "\n",
    "    private void PlayMusicWhenSceneChange(Scene scene, LoadSceneMode mode)\n",
    "    {\n",
    "        if (scene.name == \"MainMenu\")\n",
    "        {\n",
    "            JukeBox.Instance.PlayMusic(\"menumusic\");\n",
    "        }\n",
    "        else if (scene.name == \"GameScene\")\n",
    "        {\n",
    "            JukeBox.Instance.PlayMusic(\"supermario\");\n",
    "        }\n",
    "    }\n",
    "}\n"
   ]
  },
  {
   "cell_type": "markdown",
   "metadata": {
    "colab_type": "text",
    "id": "7TYk0tYIQ6z3"
   },
   "source": [
    "# Homework\n",
    "---\n",
    "\n",
    "***Homework1***: Play around with Bfxr to generate some sound effects. Let generate a hit sound when a fireball hit an enemy. Then, play this sound when enemy loose health.\n",
    "\n",
    "BFXR is a free sound generator program. You can find the program with through the following link.\n",
    "BFXR link: https://www.bfxr.net/\n",
    "\n",
    "<img src=\"https://github.com/jcortezzo/TCS-GameDev-Curriculum/blob/master/Unit%202/Images/U2L1_11.png?raw=true\" alt=\"img\">"
   ]
  },
  {
   "cell_type": "markdown",
   "metadata": {},
   "source": [
    "##### **Solution**\n",
    "\n",
    "1. For a quick sound generation, I used the Explosion randomize button to generate a dramatic explosion hit sound. Next click \n",
    "on Export Wav to save the sound.\n",
    "\n",
    "<img src=\"https://github.com/jcortezzo/TCS-GameDev-Curriculum/blob/master/Unit%202/Images/U2L1_12.png?raw=true\" alt=\"img\">\n",
    "\n",
    "2. Next, I create a small script to move and detect for fireball. This script will responsible for playing a sound, and destroy fireball when collide with enemy.\n"
   ]
  },
  {
   "cell_type": "code",
   "execution_count": null,
   "metadata": {},
   "outputs": [],
   "source": [
    "using System.Collections;\n",
    "using System.Collections.Generic;\n",
    "using UnityEngine;\n",
    "\n",
    "public class MoveRight : MonoBehaviour\n",
    "{\n",
    "    [SerializeField]\n",
    "    private float speed;\n",
    "    private Rigidbody2D rb;\n",
    "    // Start is called before the first frame update\n",
    "    void Start()\n",
    "    {\n",
    "        rb = this.GetComponent<Rigidbody2D>();\n",
    "    }\n",
    "\n",
    "    // Update is called once per frame\n",
    "    void Update()\n",
    "    {\n",
    "        rb.velocity = new Vector2(speed, rb.velocity.y);\n",
    "    }\n",
    "\n",
    "    private void OnCollisionEnter2D(Collision2D collision)\n",
    "    {\n",
    "        if(collision.gameObject.CompareTag(\"Enemy\"))\n",
    "        {\n",
    "            JukeBox.Instance.PlaySFX(\"explode\");\n",
    "            Destroy(this.gameObject);\n",
    "        }\n",
    "    }\n",
    "}\n"
   ]
  },
  {
   "cell_type": "markdown",
   "metadata": {},
   "source": [
    "3. Lastly, add the sfx to the JukeBox sfxs array, and rename the sound to \"explode\". Go back into the game and enjoy your fireball explosion sound.\n",
    "\n",
    "Bonus: Add particle effect!"
   ]
  },
  {
   "cell_type": "markdown",
   "metadata": {},
   "source": [
    "***Homework2***: Play a new music when player enter the pipe before scene transition"
   ]
  },
  {
   "cell_type": "markdown",
   "metadata": {},
   "source": [
    "##### **Solution**\n",
    "\n",
    "You know the drill now\n",
    "1. Generate a sound in Bfxr. I clicked on the Randomize button and got a weird transition sound, so i will use that.\n",
    "2. Add the sound to your array in the JukeBox.\n",
    "3. Add sound effect code into the transition part of the code:\n"
   ]
  },
  {
   "cell_type": "code",
   "execution_count": null,
   "metadata": {},
   "outputs": [],
   "source": [
    "if (collision.gameObject.tag == \"Pipe\" && Input.GetKey(KeyCode.S))\n",
    "{\n",
    "    JukeBox.Instance.PlaySFX(\"transition\");\n",
    "    SceneManager.LoadScene(\"NextLevel\");\n",
    "}"
   ]
  },
  {
   "cell_type": "markdown",
   "metadata": {},
   "source": [
    "4. Enjoy your transition sound"
   ]
  }
 ],
 "metadata": {
  "colab": {
   "collapsed_sections": [],
   "name": "U2L01 - Sound and Music.ipynb",
   "provenance": []
  },
  "kernelspec": {
   "display_name": "Python 3",
   "language": "python",
   "name": "python3"
  },
  "language_info": {
   "codemirror_mode": {
    "name": "ipython",
    "version": 3
   },
   "file_extension": ".py",
   "mimetype": "text/x-python",
   "name": "python",
   "nbconvert_exporter": "python",
   "pygments_lexer": "ipython3",
   "version": "3.7.6"
  }
 },
 "nbformat": 4,
 "nbformat_minor": 1
}
