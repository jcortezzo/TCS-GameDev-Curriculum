{
 "cells": [
  {
   "cell_type": "markdown",
   "metadata": {
    "colab_type": "text",
    "id": "ijAwfSuLsf_p"
   },
   "source": [
    "# Unit 2 Lesson 6 - Effector 2D and more Physics\n",
    "In this lesson, we'll learn about new Unity physics components called Effector2D.\n",
    "\n",
    "---\n",
    "\n",
    "# Learning Objectives\n",
    "---\n",
    "\n",
    "*   Students will learn about differents type of Effector2D and how to apply it to their own games.\n",
    "\n",
    "# Key Concepts\n",
    "---\n",
    "\n",
    "*   PlatformEffector2D\n",
    "*   SurfaceEffector2D\n",
    "*   PointEffector2D\n",
    "*   AreaEffector2D\n",
    "*   BuoyancyEffector2D"
   ]
  },
  {
   "cell_type": "markdown",
   "metadata": {
    "colab_type": "text",
    "id": "-O16dXPxUp7u"
   },
   "source": [
    "# Introduction\n",
    "---"
   ]
  },
  {
   "cell_type": "markdown",
   "metadata": {
    "colab_type": "text",
    "id": "DtMw8wTiUqYC"
   },
   "source": [
    "Effectors 2D are quick and great ways to enhance your game levels. The components allow us to manipulate forces of GameObject when come in contact with a collider with effector attached. These force manipulation come in many forms such as constant force apply to objects, attraction force from a source, one way platform, etc... We will go into detail of each Effector2D that Unity provided and some use cases.  "
   ]
  },
  {
   "cell_type": "markdown",
   "metadata": {
    "colab_type": "text",
    "id": "N48Zm3JDVrqa"
   },
   "source": [
    "# Concept 1: PlatformEffector2D\n",
    "\n",
    "---\n",
    "### **PlatformEffector2D**\n",
    "\n",
    "#### What is PlatformEffector2D? \n",
    "PlatformEffector2D provides a quick way to change up \"platform\"'s behaviors. Some of the behavior can be one way collision, side-friction and bounce.  \n",
    "\n",
    "Unity Documentation: https://docs.unity3d.com/Manual/class-PlatformEffector2D.html\n",
    "\n",
    "#### How to use PlatformEffector2D?\n",
    "\n",
    "For most Effectors, we are required for this component to go with a collider. Here is a basic walkthrough of how to add a Platform Effector\n",
    "\n",
    "1. Let's create a new platform with a collider attached.\n",
    "2. Add PlatformEffector2D component to this platform. Notice that PlatformEffector required us to enable the option in the collider. Click the check box \"used by effector\" to enable the functionality.\n",
    "\n",
    "<img src=\"https://raw.githubusercontent.com/jcortezzo/TCS-GameDev-Curriculum/master/Unit%202/Images/U2L6_1.png\" alt=\"Drawing\"/>\n",
    "\n",
    "3. By default, PlatformEffector2D allows for one-way collision. We can also adjust the collision arc depend on our platform sprite. \n",
    "\n",
    "<img src=\"https://raw.githubusercontent.com/jcortezzo/TCS-GameDev-Curriculum/master/Unit%202/Images/U2L6_2.png\" alt=\"Drawing\"/>\n",
    "\n",
    "If we have everything set up correctly, we should be able to jump our character through the platform from underneath\n",
    "<img src=\"https://raw.githubusercontent.com/jcortezzo/TCS-GameDev-Curriculum/master/Unit%202/Images/U2L6_3.gif\" alt=\"Drawing\"/>\n",
    "\n"
   ]
  },
  {
   "cell_type": "markdown",
   "metadata": {},
   "source": [
    "# Concept 1.5: PhysicMaterial2D\n",
    "\n",
    "There are a few more options in PlatformEffector2D that we haven't explored which is \"Use Side Friction\" and \"Use Side Bounce\". These option allows us to enable friction and bounce from the side of the platform. To use these options, we first need to create a PhysicMaterial2D. Right click on the asset folder and create one \n",
    "<img src=\"https://raw.githubusercontent.com/jcortezzo/TCS-GameDev-Curriculum/master/Unit%202/Images/U2L6_4.png\" alt=\"Drawing\"/>\n",
    "\n",
    "Next, we have 2 options to edits frrom, friction and bounciness. Depend on the behavior of our physics object, we can adjust friction from between 0-1f to enable ice like behavior or a swift stop. For bounciness, we can adjust the number from between 0-1f where the object bounce slowly until stop, or equal to 1 to continue bouncing with the same apex, and greater than 1 for additional energy transfer when bounce allows for extra height with every bounce.\n",
    "\n",
    "<img src=\"https://raw.githubusercontent.com/jcortezzo/TCS-GameDev-Curriculum/master/Unit%202/Images/U2L6_5.png\" alt=\"Drawing\"/>\n",
    "\n",
    "To use the material, we can attach it to either the Rigidbody2D material, or Collider2D material. In this case, we can apply to Collider2D material in order for our Effector2D to take advantage of the physic material.\n",
    "\n",
    "<img src=\"https://raw.githubusercontent.com/jcortezzo/TCS-GameDev-Curriculum/master/Unit%202/Images/U2L6_6.png\" alt=\"Drawing\"/>\n",
    "\n",
    "If we have bounciness set to, let say 0.5f, this is the behavior we will see. Our character bounce and slow to a stop.\n",
    "\n",
    "<img src=\"https://raw.githubusercontent.com/jcortezzo/TCS-GameDev-Curriculum/master/Unit%202/Images/U2L6_7.gif\" alt=\"Drawing\"/>"
   ]
  },
  {
   "cell_type": "markdown",
   "metadata": {},
   "source": [
    "# Concept 2: PointEffector2D\n",
    "---\n",
    "#### What is PointEffector2D? \n",
    "PointEffector2D provides a constant or varies forces attraction or repulsion from a source point of a rigidbody or center of a collider.   \n",
    "\n",
    "Unity Documentation: https://docs.unity3d.com/Manual/class-PointEffector2D.html\n",
    "\n",
    "#### How to use PointEffector2D?\n",
    "\n",
    "Similar to PlatformEffector, we need to add our PointEffector2D to a GameObject with a collider attached. However, the different here is PointEffector2D usually go with a trigger collider, in order for other GameObject to go through the collider and allows for trigger behavior. \n",
    "\n",
    "Let's walkthrough how to add a PointEffector2D\n",
    "\n",
    "1. First, let's create a GameObject with a circle collider (any collider would be fine) attach.\n",
    "2. Next, add in PointEffector2D for our game object. We will need to enable Used by Effector and set our collider to be trigger\n",
    "\n",
    "<img src=\"https://raw.githubusercontent.com/jcortezzo/TCS-GameDev-Curriculum/master/Unit%202/Images/U2L6_8.png\" alt=\"Drawing\"/>\n",
    "\n",
    "3. I created a scene with a black hole and some astroids to demonstrate the default behavior of PointEffector2D\n",
    "\n",
    "<img src=\"https://raw.githubusercontent.com/jcortezzo/TCS-GameDev-Curriculum/master/Unit%202/Images/U2L6_9.gif\" alt=\"Drawing\"/>\n",
    "\n",
    "We can see that, the asteroids are all attracted to the center of the point effector that we defined through the circle collider. A negative force makes target objects to be attracted to the source, while a positive force push objects away. With this, we can see plenty potential applications for this handy component. \n",
    "\n",
    "Forces can also be vary based on the \"Force Magnitude\" and \"Force Variation\" options, with \"Force Variation\" be the random value added to \"Force Magnitude\" during the effector influence. \n",
    "\n",
    "\"Force Mode\" allows for variation in force applied to the game object. This can be \"Constant\", or \"Inverse linear\" or \"Inverse Squared\" like any body of attraction. "
   ]
  },
  {
   "cell_type": "markdown",
   "metadata": {},
   "source": [
    "# Concept 3: AreaEffector2D\n",
    "---\n",
    "\n",
    "#### What is AreaEffector2D? \n",
    "Similar to PointEffector2D, AreaEffector2D allows us to apply force to game objects with a <b>direction</b> defined by the user. \n",
    "\n",
    "Unity Documentation: https://docs.unity3d.com/Manual/class-AreaEffector2D.html\n",
    "\n",
    "#### How to use AreaEffector2D?\n",
    "We will see a trend in all of these Effector. Walkthrough:\n",
    "\n",
    "1. Create a GameObject with a collider attached. I will use a Box Collider for this example. Remember to enable Use by Effector and Trigger or else we will see a warning when AreaEffector2D is attached.\n",
    "\n",
    "2. Attach AreaEffector2D to the GameObject. \n",
    "\n",
    "<img src=\"https://raw.githubusercontent.com/jcortezzo/TCS-GameDev-Curriculum/master/Unit%202/Images/U2L6_10.png\" alt=\"Drawing\"/>\n",
    "\n",
    "We can see that there are a few differents option with AreaEffector2D as compare to PointEffector. \n",
    "\n",
    "\"Force Angle\" is basically the direction of force influence on other GameObjects. This is the main important different we care about.\n",
    "\n",
    "3. Let's create 4 directional area effectors going around the screen This is what I created: \n",
    "\n",
    "<img src=\"https://raw.githubusercontent.com/jcortezzo/TCS-GameDev-Curriculum/master/Unit%202/Images/U2L6_11.gif\" alt=\"Drawing\"/>\n",
    "\n",
    "Some of the usage of this effector can be an area of speed boost. We will try to apply this in later activities."
   ]
  },
  {
   "cell_type": "markdown",
   "metadata": {},
   "source": [
    "# Concept 4: SurfaceEffector2D\n",
    "---\n",
    "\n",
    "#### What is SurfaceEffector2D? \n",
    "SurfaceEffector is also similar to previous 2 effectors where force apply to game objects. The difference is now force is applied along the surface of the collider. This could be use for a conveyor bell type of behavior.\n",
    "\n",
    "Unity Documentation: https://docs.unity3d.com/Manual/class-SurfaceEffector2D.html\n",
    "\n",
    "#### How to use SurfaceEffector2D?\n",
    "Let's try out the effector:\n",
    "\n",
    "1. You know the drill, create GameObject with a collider and attach the effector. Remember to enable Use by Effector\n",
    "\n",
    "This is a sample scene I set up to demonstrate the surface effector.\n",
    "<img src=\"https://raw.githubusercontent.com/jcortezzo/TCS-GameDev-Curriculum/master/Unit%202/Images/U2L6_11.png\" alt=\"Drawing\"/>\n",
    "\n",
    "2. <img src=\"https://raw.githubusercontent.com/jcortezzo/TCS-GameDev-Curriculum/master/Unit%202/Images/U2L6_12.gif\" alt=\"Drawing\"/>\n",
    "\n",
    "Everything here looks \"good\" except our character doesn't affected by the effector. Why? \n",
    "\n",
    "This is actually an expected behavior, due to the way we wrote the movement code. Since we directly changing our velocity, if we not pressing any input, our player's velocity will always be 0 which meant effector will not have any influence. This applied to our previous Effector as well. Here is a quick fix to our movement code in order for effector to influence player's physic:\n"
   ]
  },
  {
   "cell_type": "code",
   "execution_count": null,
   "metadata": {},
   "outputs": [],
   "source": [
    "private void Walk()\n",
    "{\n",
    "    float horizontal = Input.GetAxisRaw(\"Horizontal\");\n",
    "\n",
    "    int speedFactor = 1;\n",
    "    if (Input.GetKey(KeyCode.LeftShift) || Input.GetKey(KeyCode.RightShift))\n",
    "        speedFactor = 2;\n",
    "\n",
    "    //Vector2 movement = new Vector2(horizontal * speedFactor * speed * Time.deltaTime, rb.velocity.y);\n",
    "    //rb.velocity = movement;\n",
    "    Vector2 movement = new Vector2(horizontal * speedFactor * speed * Time.deltaTime, 0);\n",
    "    rb.AddForce(movement, ForceMode2D.Impulse);\n",
    "}"
   ]
  },
  {
   "cell_type": "markdown",
   "metadata": {},
   "source": [
    "Instead of changing velocity, we use addforce to move our character. This method unfortunately will change our movement behavior and will need some adjustment in the future!\n",
    "\n",
    "<img src=\"https://raw.githubusercontent.com/jcortezzo/TCS-GameDev-Curriculum/master/Unit%202/Images/U2L6_13.gif\" alt=\"Drawing\"/>"
   ]
  },
  {
   "cell_type": "markdown",
   "metadata": {},
   "source": [
    "# Concept 5: BuoyancyEffector2D\n",
    "---\n",
    "\n",
    "#### What is BuoyancyEffector2D? \n",
    "Our last effector is going to be BouyancyEffector2D. This one is special as its provide a fluid like behavior such as floating or wave movement.\n",
    "\n",
    "Unity Documentation: https://docs.unity3d.com/Manual/class-BuoyancyEffector2D.html\n",
    "\n",
    "#### How to use BuoyancyEffector2D?\n",
    "\n",
    "Let's play around with BuoyancyEffector:\n",
    "\n",
    "1. The set up is similar to previous effector. We need to set the collider for the game object to be trigger since we want go through behavior.\n",
    "2. <img src=\"https://raw.githubusercontent.com/jcortezzo/TCS-GameDev-Curriculum/master/Unit%202/Images/U2L6_12.png\" alt=\"Drawing\"/>\n",
    "3. Let's see the Effector in action: \n",
    "<img src=\"https://raw.githubusercontent.com/jcortezzo/TCS-GameDev-Curriculum/master/Unit%202/Images/U2L6_14.gif\" alt=\"Drawing\"/>\n"
   ]
  },
  {
   "cell_type": "markdown",
   "metadata": {},
   "source": [
    "## Activity\n"
   ]
  },
  {
   "cell_type": "markdown",
   "metadata": {},
   "source": [
    "---\n",
    "## Activity #1\n",
    "\n",
    "---\n",
    "\n",
    "**Problem:**"
   ]
  },
  {
   "cell_type": "markdown",
   "metadata": {},
   "source": [
    "##### **Solution**\n",
    "\n"
   ]
  },
  {
   "cell_type": "markdown",
   "metadata": {},
   "source": [
    "---\n",
    "## Activity #2\n",
    "\n",
    "---\n",
    "\n",
    "**Problem:** "
   ]
  },
  {
   "cell_type": "markdown",
   "metadata": {},
   "source": [
    "##### **Solution**\n",
    "\n",
    " "
   ]
  },
  {
   "cell_type": "markdown",
   "metadata": {
    "colab_type": "text",
    "id": "Y9IxMfODNB2v"
   },
   "source": [
    "\n",
    "## Activity # 3\n",
    "\n",
    "---\n",
    "\n",
    "**Problem:** \n"
   ]
  },
  {
   "cell_type": "markdown",
   "metadata": {},
   "source": [
    "##### **Solution**\n",
    "\n"
   ]
  },
  {
   "cell_type": "markdown",
   "metadata": {},
   "source": [
    "---\n",
    "## Activity #4\n",
    "\n",
    "---\n",
    "\n",
    "**Problem:** "
   ]
  },
  {
   "cell_type": "markdown",
   "metadata": {},
   "source": [
    "##### **Solution**\n",
    "\n"
   ]
  },
  {
   "cell_type": "markdown",
   "metadata": {},
   "source": [
    "# HOMEWORK\n",
    "---"
   ]
  },
  {
   "cell_type": "markdown",
   "metadata": {},
   "source": [
    "## HW #1\n",
    "\n",
    "---\n",
    "\n",
    "**Problem:**"
   ]
  },
  {
   "cell_type": "markdown",
   "metadata": {},
   "source": [
    "##### **Solution**\n",
    "\n"
   ]
  }
 ],
 "metadata": {
  "colab": {
   "collapsed_sections": [],
   "name": "U1L6 - UI.ipynb",
   "provenance": []
  },
  "kernelspec": {
   "display_name": "Python 3",
   "language": "python",
   "name": "python3"
  },
  "language_info": {
   "codemirror_mode": {
    "name": "ipython",
    "version": 3
   },
   "file_extension": ".py",
   "mimetype": "text/x-python",
   "name": "python",
   "nbconvert_exporter": "python",
   "pygments_lexer": "ipython3",
   "version": "3.7.6"
  }
 },
 "nbformat": 4,
 "nbformat_minor": 1
}
