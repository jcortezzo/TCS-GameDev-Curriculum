{
 "cells": [
  {
   "cell_type": "markdown",
   "metadata": {
    "colab_type": "text",
    "id": "ijAwfSuLsf_p"
   },
   "source": [
    "# Unit 2 Lesson 7 - Joint 2D and AngryAvians\n",
    "In this lesson, we'll learn about new Unity physics components called Joint2D and use everything we learned so far to create AngryAvians(Angry Birds clone).\n",
    "\n",
    "---\n",
    "\n",
    "# Learning Objectives\n",
    "---\n",
    "\n",
    "*   Students will learn about Joint2D\n",
    "*   Students will apply previous lesson to create an Angry Birds clone\n",
    "\n",
    "# Key Concepts\n",
    "---\n",
    "\n",
    "*   Joint2D\n",
    "*   Inheritance"
   ]
  },
  {
   "cell_type": "markdown",
   "metadata": {
    "colab_type": "text",
    "id": "-O16dXPxUp7u"
   },
   "source": [
    "# Introduction\n",
    "---"
   ]
  },
  {
   "cell_type": "markdown",
   "metadata": {
    "colab_type": "text",
    "id": "DtMw8wTiUqYC"
   },
   "source": [
    "Another useful physics components that Unity provide are the varieties of Joint2D. Joint2D allows for GameObjects to attach together based on different joints behavior. While, there are a lot of Joint2D to explore, for this Angry Birds clone, we will only use HingeJoint2D. It is recommended to checkout the 2D Joints documentation to learn more about the components.\n",
    "\n",
    "Unity Documentation: https://docs.unity3d.com/Manual/Joints2D.html\n",
    "\n",
    "For this project, we will use bit and pieces of concepts that we learned so far from previous lessons to build out an Angry Birds clone, Angry Avians!\n",
    "\n",
    "<img src=\"https://raw.githubusercontent.com/jcortezzo/TCS-GameDev-Curriculum/master/Unit%202/Images/U2L7_1.png\" alt=\"Drawing\"/>\n",
    "\n",
    "All of the sprites used in this lesson will be provided."
   ]
  },
  {
   "cell_type": "markdown",
   "metadata": {
    "colab_type": "text",
    "id": "N48Zm3JDVrqa"
   },
   "source": [
    "# Concept 1: HingeJoint2D, SpringJoint2D\n",
    "\n",
    "---\n",
    "### **HingeJoint2D**\n",
    "\n",
    "#### What is HingeJoint2D? \n",
    "From the Unity Documentation, HingeJoint2D allows GameObject to be attached to a point in space which it can rotate around. \n",
    "\n",
    "Documentation: https://docs.unity3d.com/Manual/class-HingeJoint2D.html\n",
    "\n",
    "#### How to use HingeJoint2D?\n",
    "\n",
    "To use HingeJoint2D, we need to have in mind what object we want to rotate around from a point. In this project, there are two instances of Joints\n",
    "that were used. First, let's look at how to use hinge joint to create a beam\n",
    "\n",
    "1. Create a game object using the beam sprite. Attach rigidbody2d and collider.\n",
    "2. Attach HingeJoint2D. We can also change the anchor location where the beam is set to rotate around.\n",
    "\n",
    "<img src=\"https://raw.githubusercontent.com/jcortezzo/TCS-GameDev-Curriculum/master/Unit%202/Images/U2L7_2.png\" alt=\"Drawing\"/>\n",
    "\n",
    "<img src=\"https://raw.githubusercontent.com/jcortezzo/TCS-GameDev-Curriculum/master/Unit%202/Images/U2L7_1.gif\" alt=\"Drawing\"/>\n",
    "\n"
   ]
  },
  {
   "cell_type": "markdown",
   "metadata": {},
   "source": [
    "## Walkthrough: Adding birds and SpringJoints\n",
    "---\n",
    "\n",
    "#### What is SpringJoint2D? \n",
    "SprintJoint2D allows for 2 gameobjects to attach to each other as if a spring is connecting them. This is good for anything that required stretchiness, like bird and slingshot. \n",
    "Documentation: https://docs.unity3d.com/Manual/class-SpringJoint2D.html\n",
    "\n",
    "\n",
    "Let's now apply SpringJoint to our bird and use our mouse to drag the bird around.\n",
    "\n",
    "1. Create the slingshot for bird anchor location. First, create the Slingshot game object with the following structure:\n",
    "\n",
    "<img src=\"https://raw.githubusercontent.com/jcortezzo/TCS-GameDev-Curriculum/master/Unit%202/Images/U2L7_3.png\" alt=\"Drawing\"/>\n",
    "\n",
    "The parent Slingshot game object, will have the front sprite of the slingshot, with a rigidbody2d set to static.\n",
    "\n",
    "The backsprite will use the backsprite of the slingshot.\n",
    "\n",
    "Anchor will be the center between slingshot and backsprite.\n",
    "\n",
    "2. Next, let's set up the bird anchor onto the slingshot. First, create the game object with the bird sprite, and attach rigidbody, and collider.\n",
    "\n",
    "3. Then, attach SpringJoint2D component to the bird. \n",
    "\n",
    "<img src=\"https://raw.githubusercontent.com/jcortezzo/TCS-GameDev-Curriculum/master/Unit%202/Images/U2L7_4.png\" alt=\"Drawing\"/>\n",
    "\n",
    "We want \"Connected Rigid Body\" to be attach to the slingshot game object that we created previously.\n",
    "\n",
    "Next, we want to move our bird closer to the anchor, where \"distance\" is close to 0\n",
    "\n",
    "Lastly, we want to \"Frequency\" to be aroudn 1.5.\n",
    "\n",
    "4. Let's create scripts to control move the bird, and shoot the bird from the slingshot. First, create a script called \"Slingshot\" and attach to our slingshot game object:"
   ]
  },
  {
   "cell_type": "code",
   "execution_count": null,
   "metadata": {},
   "outputs": [],
   "source": [
    "using System.Collections;\n",
    "using System.Collections.Generic;\n",
    "using UnityEngine;\n",
    "using UnityEngine.SceneManagement;\n",
    "using UnityEngine.UIElements;\n",
    "\n",
    "public class Slingshot : MonoBehaviour\n",
    "{\n",
    "    private int index = 0;\n",
    "    [SerializeField]\n",
    "    private BirdController[] birds;\n",
    "    public BirdController currentBird;\n",
    "    public BirdController releasedBird;\n",
    "\n",
    "    [SerializeField] private float MAX_DISTANCE;\n",
    "\n",
    "    [SerializeField]\n",
    "    private Transform anchor;\n",
    "\n",
    "    [SerializeField]\n",
    "    private float releaseTime;\n",
    "\n",
    "    private bool isMouseDown;\n",
    "    public bool HoldBird { get; private set;  }\n",
    "    \n",
    "    private Rigidbody2D rb;\n",
    "    private SpringJoint2D springJoint;\n",
    "\n",
    "    // Start is called before the first frame update\n",
    "    void Start()\n",
    "    {\n",
    "        currentBird = birds[index++];\n",
    "        rb = currentBird.RB;\n",
    "        springJoint = currentBird.SpringJoint;\n",
    "    }\n",
    "\n",
    "    // Update is called once per frame\n",
    "    void Update()\n",
    "    {\n",
    "\n",
    "        if (Input.GetKeyDown(KeyCode.R))\n",
    "        {\n",
    "            SceneManager.LoadScene(SceneManager.GetActiveScene().name);\n",
    "        }\n",
    "\n",
    "        if (Input.GetMouseButtonDown((int)MouseButton.LeftMouse))\n",
    "        {\n",
    "            isMouseDown = true;\n",
    "            releasedBird = null; // kinda jank // this stops camera to interp to release bird\n",
    "        }\n",
    "\n",
    "        if (Input.GetMouseButtonUp((int)MouseButton.LeftMouse))\n",
    "        {\n",
    "            rb.isKinematic = false;\n",
    "            isMouseDown = false;\n",
    "\n",
    "            // Release\n",
    "            if (HoldBird)\n",
    "            {\n",
    "                StartCoroutine(Release(releaseTime));\n",
    "            }\n",
    "            HoldBird = false;\n",
    "        }\n",
    "\n",
    "        if (isMouseDown && HoldBird)\n",
    "        {\n",
    "            Vector2 mouseWorldPos = Camera.main.ScreenToWorldPoint(Input.mousePosition);\n",
    "            Vector2 connectedAnchorWorldPos = anchor.position;// transform.TransformPoint(springJoint.connectedAnchor);\n",
    "            Debug.Log(connectedAnchorWorldPos);\n",
    "            Vector2 mouseDir = (mouseWorldPos - connectedAnchorWorldPos).normalized;\n",
    "            float mouseLength = Mathf.Abs(Vector2.Distance(mouseWorldPos, connectedAnchorWorldPos));//springJoint.distance;//\n",
    "\n",
    "            Vector2 movePoint = mouseLength <= MAX_DISTANCE ?\n",
    "                                mouseWorldPos :\n",
    "                                connectedAnchorWorldPos + mouseDir * MAX_DISTANCE;\n",
    "\n",
    "            //Debug.DrawLine(connectedAnchorWorldPos, movePoint, Color.cyan, 1);\n",
    "\n",
    "            rb.MovePosition(movePoint);\n",
    "            rb.isKinematic = true;\n",
    "        }\n",
    "\n",
    "    }\n",
    "\n",
    "\n",
    "\n",
    "    private void FixedUpdate()\n",
    "    {\n",
    "        RaycastHit2D rayHit;\n",
    "\n",
    "        if (isMouseDown)\n",
    "        {\n",
    "            rayHit = Physics2D.Raycast(Camera.main.ScreenToWorldPoint(Input.mousePosition), Vector3.back);\n",
    "            if (rayHit.collider != null)\n",
    "            {\n",
    "                if (rayHit.collider.CompareTag(\"Bird\"))\n",
    "                {\n",
    "                    HoldBird = true;\n",
    "                }\n",
    "            }\n",
    "        }\n",
    "    }\n",
    "\n",
    "    private IEnumerator Release(float time)\n",
    "    {\n",
    "        currentBird.Release();\n",
    "        yield return new WaitForSeconds(time);\n",
    "        springJoint.enabled = false;\n",
    "        releasedBird = currentBird;\n",
    "\n",
    "        yield return new WaitForSeconds(1f);\n",
    "        if (index < birds.Length)\n",
    "        {\n",
    "            currentBird = birds[index++];\n",
    "            currentBird.transform.position = anchor.position;\n",
    "            rb = currentBird.RB;\n",
    "            springJoint = currentBird.SpringJoint;\n",
    "        }\n",
    "    }\n",
    "\n",
    "}\n"
   ]
  },
  {
   "cell_type": "markdown",
   "metadata": {},
   "source": [
    "Next, we can to create a script for our bird and attach it to the game object. I named my script to be \"BirdController\". Also, we want to create a \"Bird\" tag for our bird."
   ]
  },
  {
   "cell_type": "code",
   "execution_count": null,
   "metadata": {},
   "outputs": [],
   "source": [
    "using System;\n",
    "using System.Collections;\n",
    "using System.Collections.Generic;\n",
    "using UnityEngine;\n",
    "using UnityEngine.UIElements;\n",
    "\n",
    "using UnityEngine.SceneManagement;\n",
    "\n",
    "public class BirdController : MonoBehaviour\n",
    "{\n",
    "    public Rigidbody2D RB { get; private set; }\n",
    "    public SpringJoint2D SpringJoint { get; private set; }\n",
    "\n",
    "    // Start is called before the first frame update\n",
    "    void Awake()\n",
    "    {\n",
    "        RB = GetComponent<Rigidbody2D>();\n",
    "        SpringJoint = GetComponent<SpringJoint2D>();\n",
    "    }\n",
    "\n",
    "    protected virtual void Start()\n",
    "    {\n",
    "        isFlying = false;\n",
    "    }\n",
    "\n",
    "    public void Release()\n",
    "    {\n",
    "        isFlying = true;\n",
    "    }\n",
    "}\n"
   ]
  },
  {
   "cell_type": "markdown",
   "metadata": {},
   "source": [
    "Now, go back to our slingshot component, we want to attach our birdcontroller to the array of birds. Drag in the anchor location to the anchor option. Change max distance to 5 or some appropriate value, and release time to 0.2. These values are subject to change if needed.\n",
    "<img src=\"https://raw.githubusercontent.com/jcortezzo/TCS-GameDev-Curriculum/master/Unit%202/Images/U2L7_5.png\" alt=\"Drawing\"/>\n",
    "\n",
    "If everything set up correctly, we should be able to do this:\n",
    "<img src=\"https://raw.githubusercontent.com/jcortezzo/TCS-GameDev-Curriculum/master/Unit%202/Images/U2L7_2.gif\" alt=\"Drawing\"/>\n"
   ]
  },
  {
   "cell_type": "markdown",
   "metadata": {},
   "source": [
    "# Concept 2: Inheritance\n",
    "---\n",
    "#### What is Inheritance? \n",
    "\n",
    "\n"
   ]
  },
  {
   "cell_type": "markdown",
   "metadata": {},
   "source": [
    "## Activity\n"
   ]
  },
  {
   "cell_type": "markdown",
   "metadata": {},
   "source": [
    "---\n",
    "## Activity #1\n",
    "\n",
    "---\n",
    "\n",
    "**Problem:** "
   ]
  },
  {
   "cell_type": "markdown",
   "metadata": {},
   "source": [
    "##### **Solution**\n"
   ]
  },
  {
   "cell_type": "markdown",
   "metadata": {},
   "source": [
    "---\n",
    "## Activity #2\n",
    "\n",
    "---\n",
    "\n",
    "**Problem:**"
   ]
  },
  {
   "cell_type": "markdown",
   "metadata": {},
   "source": [
    "##### **Solution**\n",
    "\n",
    "\n",
    " "
   ]
  },
  {
   "cell_type": "markdown",
   "metadata": {},
   "source": [
    "# HOMEWORK\n",
    "---"
   ]
  },
  {
   "cell_type": "markdown",
   "metadata": {},
   "source": [
    "## HW #1\n",
    "\n",
    "---\n",
    "\n",
    "**Problem:** "
   ]
  },
  {
   "cell_type": "markdown",
   "metadata": {},
   "source": [
    "##### **Solution**\n",
    "\n"
   ]
  }
 ],
 "metadata": {
  "colab": {
   "collapsed_sections": [],
   "name": "U1L6 - UI.ipynb",
   "provenance": []
  },
  "kernelspec": {
   "display_name": "Python 3",
   "language": "python",
   "name": "python3"
  },
  "language_info": {
   "codemirror_mode": {
    "name": "ipython",
    "version": 3
   },
   "file_extension": ".py",
   "mimetype": "text/x-python",
   "name": "python",
   "nbconvert_exporter": "python",
   "pygments_lexer": "ipython3",
   "version": "3.7.6"
  }
 },
 "nbformat": 4,
 "nbformat_minor": 1
}
