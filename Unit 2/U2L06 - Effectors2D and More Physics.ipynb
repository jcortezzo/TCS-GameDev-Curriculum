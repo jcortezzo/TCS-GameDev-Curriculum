{
 "cells": [
  {
   "cell_type": "markdown",
   "metadata": {
    "colab_type": "text",
    "id": "ijAwfSuLsf_p"
   },
   "source": [
    "# Unit 2 Lesson 6 - Effector 2D and more Physics\n",
    "In this lesson, we'll learn about new Unity physics components called Effector2D.\n",
    "\n",
    "---\n",
    "\n",
    "# Learning Objectives\n",
    "---\n",
    "\n",
    "*   Students will learn about differents type of Effector2D and how to apply it to their own games.\n",
    "\n",
    "# Key Concepts\n",
    "---\n",
    "\n",
    "*   PlatformEffector2D\n",
    "*   SurfaceEffector2D\n",
    "*   PointEffector2D\n",
    "*   AreaEffector2D\n",
    "*   BuoyancyEffector2D"
   ]
  },
  {
   "cell_type": "markdown",
   "metadata": {
    "colab_type": "text",
    "id": "-O16dXPxUp7u"
   },
   "source": [
    "# Introduction\n",
    "---"
   ]
  },
  {
   "cell_type": "markdown",
   "metadata": {
    "colab_type": "text",
    "id": "DtMw8wTiUqYC"
   },
   "source": [
    "Effectors 2D are quick and great ways to enhance your game levels. The components allow us to manipulate forces of GameObject when come in contact with a collider with effector attached. These force manipulation come in many forms such as constant force apply to objects, attraction force from a source, one way platform, etc... We will go into detail of each Effector2D that Unity provided and some use cases.  "
   ]
  },
  {
   "cell_type": "markdown",
   "metadata": {
    "colab_type": "text",
    "id": "N48Zm3JDVrqa"
   },
   "source": [
    "# Concept 1: PlatformEffector2D\n",
    "\n",
    "---\n",
    "### **PlatformEffector2D**\n",
    "\n",
    "#### What is PlatformEffector2D? \n",
    "PlatformEffector2D provides a quick way to change up \"platform\"'s behaviors. Some of the behavior can be one way collision, side-friction and bounce.  \n",
    "\n",
    "Unity Documentation: https://docs.unity3d.com/Manual/class-PlatformEffector2D.html\n",
    "\n",
    "#### How to use PlatformEffector2D?\n",
    "\n",
    "For most Effectors, we are required for this component to go with a collider. Here is a basic walkthrough of how to add a Platform Effector\n",
    "\n",
    "1. Let's create a new platform with a collider attached.\n",
    "2. Add PlatformEffector2D component to this platform. Notice that PlatformEffector required us to enable the option in the collider. Click the check box \"used by effector\" to enable the functionality.\n",
    "\n",
    "<img src=\"https://raw.githubusercontent.com/jcortezzo/TCS-GameDev-Curriculum/master/Unit%202/Images/U2L6_1.png\" alt=\"Drawing\"/>\n",
    "\n",
    "3. By default, PlatformEffector2D allows for one-way collision. We can also adjust the collision arc depend on our platform sprite. \n",
    "\n",
    "<img src=\"https://raw.githubusercontent.com/jcortezzo/TCS-GameDev-Curriculum/master/Unit%202/Images/U2L6_2.png\" alt=\"Drawing\"/>\n",
    "\n",
    "If we have everything set up correctly, we should be able to jump our character through the platform from underneath\n",
    "<img src=\"https://raw.githubusercontent.com/jcortezzo/TCS-GameDev-Curriculum/master/Unit%202/Images/U2L6_3.gif\" alt=\"Drawing\"/>\n",
    "\n"
   ]
  },
  {
   "cell_type": "markdown",
   "metadata": {},
   "source": [
    "# Concept 1.5: PhysicMaterial2D\n",
    "\n",
    "There are a few more options in PlatformEffector2D that we haven't explored which is \"Use Side Friction\" and \"Use Side Bounce\". These option allows us to enable friction and bounce from the side of the platform. To use these options, we first need to create a PhysicMaterial2D. Right click on the asset folder and create one \n",
    "<img src=\"https://raw.githubusercontent.com/jcortezzo/TCS-GameDev-Curriculum/master/Unit%202/Images/U2L6_4.png\" alt=\"Drawing\"/>\n",
    "\n",
    "Next, we have 2 options to edits frrom, friction and bounciness. Depend on the behavior of our physics object, we can adjust friction from between 0-1f to enable ice like behavior or a swift stop. For bounciness, we can adjust the number from between 0-1f where the object bounce slowly until stop, or equal to 1 to continue bouncing with the same apex, and greater than 1 for additional energy transfer when bounce allows for extra height with every bounce.\n",
    "\n",
    "<img src=\"https://raw.githubusercontent.com/jcortezzo/TCS-GameDev-Curriculum/master/Unit%202/Images/U2L6_5.png\" alt=\"Drawing\"/>\n",
    "\n",
    "To use the material, we can attach it to either the Rigidbody2D material, or Collider2D material. In this case, we can apply to Collider2D material in order for our Effector2D to take advantage of the physic material.\n",
    "\n",
    "<img src=\"https://raw.githubusercontent.com/jcortezzo/TCS-GameDev-Curriculum/master/Unit%202/Images/U2L6_6.png\" alt=\"Drawing\"/>\n",
    "\n",
    "If we have bounciness set to, let say 0.5f, this is the behavior we will see. Our character bounce and slow to a stop.\n",
    "\n",
    "<img src=\"https://raw.githubusercontent.com/jcortezzo/TCS-GameDev-Curriculum/master/Unit%202/Images/U2L6_7.gif\" alt=\"Drawing\"/>"
   ]
  },
  {
   "cell_type": "markdown",
   "metadata": {},
   "source": [
    "# Concept 2: PointEffector2D\n",
    "---\n",
    "#### What is PointEffector2D? \n",
    "PointEffector2D provides a constant or varies forces attraction or repulsion from a source point of a rigidbody or center of a collider.   \n",
    "\n",
    "Unity Documentation: https://docs.unity3d.com/Manual/class-PointEffector2D.html\n",
    "\n",
    "#### How to use PointEffector2D?\n",
    "\n",
    "Similar to PlatformEffector, we need to add our PointEffector2D to a GameObject with a collider attached. However, the different here is PointEffector2D usually go with a trigger collider, in order for other GameObject to go through the collider and allows for trigger behavior. \n",
    "\n",
    "Let's walkthrough how to add a PointEffector2D\n",
    "\n",
    "1. First, let's create a GameObject with a circle collider (any collider would be fine) attach.\n",
    "2. Next, add in PointEffector2D for our game object. We will need to enable Used by Effector and set our collider to be trigger\n",
    "\n",
    "<img src=\"https://raw.githubusercontent.com/jcortezzo/TCS-GameDev-Curriculum/master/Unit%202/Images/U2L6_8.png\" alt=\"Drawing\"/>\n",
    "\n",
    "3. I created a scene with a black hole and some astroids to demonstrate the default behavior of PointEffector2D\n",
    "\n",
    "<img src=\"https://raw.githubusercontent.com/jcortezzo/TCS-GameDev-Curriculum/master/Unit%202/Images/U2L6_9.gif\" alt=\"Drawing\"/>\n",
    "\n",
    "We can see that, the asteroids are all attracted to the center of the point effector that we defined through the circle collider. A negative force makes target objects to be attracted to the source, while a positive force push objects away. With this, we can see plenty potential applications for this handy component. \n",
    "\n",
    "Forces can also be vary based on the \"Force Magnitude\" and \"Force Variation\" options, with \"Force Variation\" be the random value added to \"Force Magnitude\" during the effector influence. \n",
    "\n",
    "\"Force Mode\" allows for variation in force applied to the game object. This can be \"Constant\", or \"Inverse linear\" or \"Inverse Squared\" like any body of attraction. "
   ]
  },
  {
   "cell_type": "markdown",
   "metadata": {},
   "source": [
    "# Concept 3: AreaEffector2D\n",
    "---\n",
    "\n",
    "#### What is AreaEffector2D? \n",
    "Similar to PointEffector2D, AreaEffector2D allows us to apply force to game objects with a <b>direction</b> defined by the user. \n",
    "\n",
    "Unity Documentation: https://docs.unity3d.com/Manual/class-AreaEffector2D.html\n",
    "\n",
    "#### How to use AreaEffector2D?\n",
    "We will see a trend in all of these Effector. Walkthrough:\n",
    "\n",
    "1. Create a GameObject with a collider attached. I will use a Box Collider for this example. Remember to enable Use by Effector and Trigger or else we will see a warning when AreaEffector2D is attached.\n",
    "\n",
    "2. Attach AreaEffector2D to the GameObject. \n",
    "\n",
    "<img src=\"https://raw.githubusercontent.com/jcortezzo/TCS-GameDev-Curriculum/master/Unit%202/Images/U2L6_10.png\" alt=\"Drawing\"/>\n",
    "\n",
    "We can see that there are a few differents option with AreaEffector2D as compare to PointEffector. \n",
    "\n",
    "\"Force Angle\" is basically the direction of force influence on other GameObjects. This is the main important different we care about.\n",
    "\n",
    "3. Let's create 4 directional area effectors going around the screen This is what I created: \n",
    "\n",
    "<img src=\"https://raw.githubusercontent.com/jcortezzo/TCS-GameDev-Curriculum/master/Unit%202/Images/U2L6_11.gif\" alt=\"Drawing\"/>\n",
    "\n",
    "Some of the usage of this effector can be an area of speed boost. We will try to apply this in later activities."
   ]
  },
  {
   "cell_type": "markdown",
   "metadata": {},
   "source": [
    "# Concept 4: SurfaceEffector2D\n",
    "---\n",
    "\n",
    "#### What is SurfaceEffector2D? \n",
    "SurfaceEffector is also similar to previous 2 effectors where force apply to game objects. The difference is now force is applied along the surface of the collider. This could be use for a conveyor bell type of behavior.\n",
    "\n",
    "Unity Documentation: https://docs.unity3d.com/Manual/class-SurfaceEffector2D.html\n",
    "\n",
    "#### How to use SurfaceEffector2D?\n",
    "Let's try out the effector:\n",
    "\n",
    "1. You know the drill, create GameObject with a collider and attach the effector. Remember to enable Use by Effector\n",
    "\n",
    "This is a sample scene I set up to demonstrate the surface effector.\n",
    "<img src=\"https://raw.githubusercontent.com/jcortezzo/TCS-GameDev-Curriculum/master/Unit%202/Images/U2L6_11.png\" alt=\"Drawing\"/>\n",
    "\n",
    "2. <img src=\"https://raw.githubusercontent.com/jcortezzo/TCS-GameDev-Curriculum/master/Unit%202/Images/U2L6_12.gif\" alt=\"Drawing\"/>\n",
    "\n",
    "Everything here looks \"good\" except our character doesn't affected by the effector. Why? \n",
    "\n",
    "This is actually an expected behavior, due to the way we wrote the movement code. Since we directly changing our velocity, if we not pressing any input, our player's velocity will always be 0 which meant effector will not have any influence. This applied to our previous Effector as well. Here is a quick fix to our movement code in order for effector to influence player's physic:\n"
   ]
  },
  {
   "cell_type": "code",
   "execution_count": null,
   "metadata": {},
   "outputs": [],
   "source": [
    "private void Walk()\n",
    "{\n",
    "    float horizontal = Input.GetAxisRaw(\"Horizontal\");\n",
    "\n",
    "    int speedFactor = 1;\n",
    "    if (Input.GetKey(KeyCode.LeftShift) || Input.GetKey(KeyCode.RightShift))\n",
    "        speedFactor = 2;\n",
    "\n",
    "    //Vector2 movement = new Vector2(horizontal * speedFactor * speed * Time.deltaTime, rb.velocity.y);\n",
    "    //rb.velocity = movement;\n",
    "    Vector2 movement = new Vector2(horizontal * speedFactor * speed * Time.deltaTime, 0);\n",
    "    rb.AddForce(movement, ForceMode2D.Impulse);\n",
    "}"
   ]
  },
  {
   "cell_type": "markdown",
   "metadata": {},
   "source": [
    "Instead of changing velocity, we use addforce to move our character. This method unfortunately will change our movement behavior and will need some adjustment in the future!\n",
    "\n",
    "<img src=\"https://raw.githubusercontent.com/jcortezzo/TCS-GameDev-Curriculum/master/Unit%202/Images/U2L6_13.gif\" alt=\"Drawing\"/>"
   ]
  },
  {
   "cell_type": "markdown",
   "metadata": {},
   "source": [
    "# Concept 5: BuoyancyEffector2D\n",
    "---\n",
    "\n",
    "#### What is BuoyancyEffector2D? \n",
    "Our last effector is going to be BouyancyEffector2D. This one is special as its provide a fluid like behavior such as floating or wave movement.\n",
    "\n",
    "Unity Documentation: https://docs.unity3d.com/Manual/class-BuoyancyEffector2D.html\n",
    "\n",
    "#### How to use BuoyancyEffector2D?\n",
    "\n",
    "Let's play around with BuoyancyEffector:\n",
    "\n",
    "1. The set up is similar to previous effector. We need to set the collider for the game object to be trigger since we want go through behavior.\n",
    "2. <img src=\"https://raw.githubusercontent.com/jcortezzo/TCS-GameDev-Curriculum/master/Unit%202/Images/U2L6_12.png\" alt=\"Drawing\"/>\n",
    "3. Let's see the Effector in action: \n",
    "<img src=\"https://raw.githubusercontent.com/jcortezzo/TCS-GameDev-Curriculum/master/Unit%202/Images/U2L6_14.gif\" alt=\"Drawing\"/>\n"
   ]
  },
  {
   "cell_type": "markdown",
   "metadata": {},
   "source": [
    "## Activity\n"
   ]
  },
  {
   "cell_type": "markdown",
   "metadata": {},
   "source": [
    "---\n",
    "## Activity #1\n",
    "\n",
    "---\n",
    "\n",
    "**Problem:** Use PointEffector2D and create a solar system."
   ]
  },
  {
   "cell_type": "markdown",
   "metadata": {},
   "source": [
    "##### **Solution**\n",
    "Be warn, this activity does is quite tedious but the result can be rather fun to look at.\n",
    "\n",
    "1. First, let's import the planet system sprites into our project.\n",
    "2. Next, attach circle collider and PointEffector2D to each planets. Remember to enable trigger and use by effector. We also want to add in rigidbody2d to each planet with gravity scale value turn to 0.\n",
    "\n",
    "Here is my \"sun\" game object values\n",
    "<img src=\"https://raw.githubusercontent.com/jcortezzo/TCS-GameDev-Curriculum/master/Unit%202/Images/U2L6_13.png\" alt=\"Drawing\"/>\n",
    "\n",
    "3. While it is not the exact simulation of our solar systems, it does provide us a playground to test out differents parameters for other planets.\n",
    "\n",
    "<img src=\"https://raw.githubusercontent.com/jcortezzo/TCS-GameDev-Curriculum/master/Unit%202/Images/U2L6_15.gif\" alt=\"Drawing\"/>"
   ]
  },
  {
   "cell_type": "markdown",
   "metadata": {},
   "source": [
    "---\n",
    "## Activity #2\n",
    "\n",
    "---\n",
    "\n",
    "**Problem:** Use PointEffector2D and create an explosion effect."
   ]
  },
  {
   "cell_type": "markdown",
   "metadata": {},
   "source": [
    "##### **Solution**\n",
    "\n",
    "Not only we can attract game objects, we can also repel them. If we increase the force value, we effectively create an explosion radius using PointEffector2D. Let's try this idea out!\n",
    "\n",
    "1. First, we need to create a GameObject to represent an explosion radius. Create a game object with a circle collider and PointEffector2D. We want to set the \"Force Magnitude\" to be some large value. Then create prefab for this explosion game object.\n",
    "\n",
    "<img src=\"https://raw.githubusercontent.com/jcortezzo/TCS-GameDev-Curriculum/master/Unit%202/Images/U2L6_14.png\" alt=\"Drawing\"/>\n",
    "\n",
    "2. Set up a scene for this explosion test! I will have my fire ball explode and knock all of the goomba to the wall.\n",
    "\n",
    "<img src=\"https://raw.githubusercontent.com/jcortezzo/TCS-GameDev-Curriculum/master/Unit%202/Images/U2L6_15.png\" alt=\"Drawing\"/>\n",
    "\n",
    "3. Set up a script to explode when press and attach to the fireball\n",
    "\n",
    " "
   ]
  },
  {
   "cell_type": "code",
   "execution_count": null,
   "metadata": {},
   "outputs": [],
   "source": [
    "using System.Collections;\n",
    "using System.Collections.Generic;\n",
    "using UnityEngine;\n",
    "\n",
    "public class Explode : MonoBehaviour\n",
    "{\n",
    "    public GameObject explosionPrefab;\n",
    "\n",
    "    // Update is called once per frame\n",
    "    void Update()\n",
    "    {\n",
    "        if(Input.GetKeyDown(KeyCode.Space))\n",
    "        {\n",
    "            Instantiate(explosionPrefab, this.transform.position, Quaternion.identity);\n",
    "        }\n",
    "    }\n",
    "}\n"
   ]
  },
  {
   "cell_type": "markdown",
   "metadata": {},
   "source": [
    "4. Attach the script to the fireball and drag the explosion radius prefab into the script. Let's witness the explosion!\n",
    "\n",
    "<img src=\"https://raw.githubusercontent.com/jcortezzo/TCS-GameDev-Curriculum/master/Unit%202/Images/U2L6_16.gif\" alt=\"Drawing\"/>\n",
    "\n",
    "Kinda underwhelming, but you get the idea."
   ]
  },
  {
   "cell_type": "markdown",
   "metadata": {},
   "source": [
    "# HOMEWORK\n",
    "---"
   ]
  },
  {
   "cell_type": "markdown",
   "metadata": {},
   "source": [
    "## HW #1\n",
    "\n",
    "---\n",
    "\n",
    "**Problem:** Create a doodle jump like game with Effectors"
   ]
  },
  {
   "cell_type": "markdown",
   "metadata": {},
   "source": [
    "##### **Solution**\n",
    "\n",
    "This homework might take up 20 minutes\n",
    "\n",
    "<img src=\"https://raw.githubusercontent.com/jcortezzo/TCS-GameDev-Curriculum/master/Unit%202/Images/doodlejumpimg.jpg\" alt=\"Drawing\"/>\n",
    "\n",
    "Doodle Jump is a very popular mobile game and also very simple to make. For this homework, we will through creating the basic machanic of doodle jump, such as auto jump and level generation\n",
    "\n",
    "#### Player\n",
    "\n",
    "1. Let's first create our character and movement script. Create a prefab with a sprite, collider, and rigidbody.\n",
    "2. Next, create a player script and attach it to our player prefab.\n"
   ]
  },
  {
   "cell_type": "code",
   "execution_count": null,
   "metadata": {},
   "outputs": [],
   "source": [
    "using System.Collections;\n",
    "using System.Collections.Generic;\n",
    "using UnityEngine;\n",
    "\n",
    "public class Player : MonoBehaviour\n",
    "{\n",
    "    [SerializeField] private float speed;\n",
    "\n",
    "    private const float JUMP_EPSILON = 0.1f;\n",
    "    //[SerializeField] private float jumpForce;\n",
    "    \n",
    "    private Rigidbody2D rb;\n",
    "    private Camera camera;\n",
    "\n",
    "    // Start is called before the first frame update\n",
    "    void Start()\n",
    "    {\n",
    "        rb = GetComponent<Rigidbody2D>();\n",
    "\n",
    "        camera = Camera.main;\n",
    "    }\n",
    "\n",
    "    // Update is called once per frame\n",
    "    void Update()\n",
    "    {\n",
    "        ScreenWrap();\n",
    "    }\n",
    "\n",
    "    void ScreenWrap()\n",
    "    {\n",
    "        float height = 2f * camera.orthographicSize;\n",
    "        float width = height * camera.aspect;\n",
    "\n",
    "        float minBound = camera.transform.position.x - width / 2f;\n",
    "        float maxBound = camera.transform.position.x + width / 2f;\n",
    "        if (transform.position.x > maxBound)\n",
    "        {\n",
    "            transform.position = new Vector2(minBound, transform.position.y);\n",
    "        }\n",
    "        else if (transform.position.x < minBound)\n",
    "        {\n",
    "            transform.position = new Vector2(maxBound, transform.position.y);\n",
    "        }\n",
    "    }\n",
    "\n",
    "    private void FixedUpdate()\n",
    "    {\n",
    "        Move();\n",
    "    }\n",
    "\n",
    "    private void Move()\n",
    "    {\n",
    "        float horizontal = Input.GetAxisRaw(\"Horizontal\");\n",
    "        rb.velocity = new Vector2(horizontal * speed * Time.deltaTime, rb.velocity.y);\n",
    "    }\n",
    "\n",
    "\n",
    "    public void Jump(float jumpForce)\n",
    "    {\n",
    "        rb.velocity = new Vector2(rb.velocity.x, 0);\n",
    "        rb.AddForce(Vector2.up * jumpForce, ForceMode2D.Impulse);\n",
    "    }\n",
    "\n",
    "    public bool IsAscending()\n",
    "    {\n",
    "        return rb.velocity.y > JUMP_EPSILON;\n",
    "    }\n",
    "}\n"
   ]
  },
  {
   "cell_type": "markdown",
   "metadata": {},
   "source": [
    "One cool thing about this script is the ability to screen wrap when player fly off the screen. The rest of the script is very standard of what we learned so far.\n"
   ]
  },
  {
   "cell_type": "markdown",
   "metadata": {},
   "source": [
    "#### Platform\n",
    "\n",
    "1. The next thing we need to create is one of the basic platform. The platforms need to allow player to jump through from underneath. Good thing, we already know how to do so. Create a platform prefab with box collider and platform effector.\n",
    "\n",
    "<img src=\"https://raw.githubusercontent.com/jcortezzo/TCS-GameDev-Curriculum/master/Unit%202/Images/U2L6_16.png\" alt=\"Drawing\"/>\n",
    "\n",
    "2. Next, let's create a script for our platform in order to auto jump our player.\n"
   ]
  },
  {
   "cell_type": "code",
   "execution_count": null,
   "metadata": {},
   "outputs": [],
   "source": [
    "using System.Collections;\n",
    "using System.Collections.Generic;\n",
    "using UnityEngine;\n",
    "\n",
    "public class Platform : MonoBehaviour\n",
    "{\n",
    "    [SerializeField] private float jumpForce;\n",
    "\n",
    "    private void OnCollisionEnter2D(Collision2D collision)\n",
    "    {\n",
    "        Player p = collision.gameObject.GetComponent<Player>();\n",
    "        if (p != null && !p.IsAscending())\n",
    "        {\n",
    "            p.Jump(jumpForce);\n",
    "        }\n",
    "    }\n",
    "}\n"
   ]
  },
  {
   "cell_type": "markdown",
   "metadata": {},
   "source": [
    "If things are set up correctly, we should be able to see our player autojump on platform: \n",
    "\n",
    "<img src=\"https://raw.githubusercontent.com/jcortezzo/TCS-GameDev-Curriculum/master/Unit%202/Images/U2L6_17.gif\" alt=\"Drawing\"/>\n",
    "\n",
    "#### AutoLevelGenerator\n",
    "\n",
    "1. Auto level generator is very important in doodle jump, because we don't want to set up an infinite level by ourselves. For this script, we will create a very basic level generator. If you want to improve on this, we will create a more comprehensive auto level generator in the future!\n",
    "\n",
    "<b>Note:</b> This is not the best code practice as there are a lot of \"magic numbers\" and not good style in general, but this will work for now. "
   ]
  },
  {
   "cell_type": "code",
   "execution_count": null,
   "metadata": {},
   "outputs": [],
   "source": [
    "using System.Collections;\n",
    "using System.Collections.Generic;\n",
    "using UnityEngine;\n",
    "\n",
    "public class AutoLevelGenerator : MonoBehaviour\n",
    "{\n",
    "    public static AutoLevelGenerator Instance;\n",
    "\n",
    "    [SerializeField] private GameObject normalPlatformPrefab;\n",
    "    [SerializeField] private Player player;\n",
    "    [SerializeField] private int yOffset;\n",
    "    [SerializeField] private float platformWidth;\n",
    "\n",
    "    private Vector2 previousPosition;\n",
    "\n",
    "    public void Awake()\n",
    "    {\n",
    "        if(Instance == null) { Instance = this; }\n",
    "    }\n",
    "    // Start is called before the first frame update\n",
    "    void Start()\n",
    "    {\n",
    "        previousPosition = this.transform.position;\n",
    "    }\n",
    "\n",
    "    // Update is called once per frame\n",
    "    void Update()\n",
    "    {\n",
    "        if(player.transform.position.y > previousPosition.y - (3 * 5))\n",
    "        {\n",
    "            GeneratePlatforms();\n",
    "        }\n",
    "    }\n",
    "\n",
    "    private void GeneratePlatforms()\n",
    "    {\n",
    "        int platforms = Random.Range(10, 20);\n",
    "        while(platforms > 0)\n",
    "        {\n",
    "            int randX = Random.Range(1, 4);\n",
    "            float x = -8;\n",
    "            while(randX > 0)\n",
    "            {\n",
    "                x += (Random.Range(0f, 3f) + platformWidth);\n",
    "                Vector2 position = new Vector2(x, previousPosition.y);\n",
    "                Instantiate(normalPlatformPrefab, position, Quaternion.identity);\n",
    "                platforms--;\n",
    "                randX--;\n",
    "            }\n",
    "            previousPosition = new Vector2(previousPosition.x , previousPosition.y + Random.Range(1f, yOffset));\n",
    "        }\n",
    "    }\n",
    "\n",
    "    public Vector3 PlayerPosition()\n",
    "    {\n",
    "        return player.transform.position;\n",
    "    }\n",
    "}\n"
   ]
  },
  {
   "cell_type": "markdown",
   "metadata": {},
   "source": [
    "A quick explanation on GeneratePlatform() function. This function basically generate platform from left to right and bottom to top. It first generate a random number of platform numbers between 10 and 20. Then it will generate a randX number of platform on the X axis, then move up by some randomY offset. \n",
    "\n",
    "In update function, we will call GeneratePlatform() when player position go past the last platform with some offset.\n",
    "\n",
    "#### Camera\n",
    "\n",
    "Lastly, we also want to make the camera follow the player. We can copy the previous camera follow code from mario project: "
   ]
  },
  {
   "cell_type": "code",
   "execution_count": null,
   "metadata": {},
   "outputs": [],
   "source": [
    "using System.Collections;\n",
    "using System.Collections.Generic;\n",
    "using UnityEngine;\n",
    "\n",
    "public class CameraFollow : MonoBehaviour\n",
    "{\n",
    "    [SerializeField] private Transform target;\n",
    "    [SerializeField] private Vector2 offset;\n",
    "    // Start is called before the first frame update\n",
    "    void Start()\n",
    "    {\n",
    "        \n",
    "    }\n",
    "\n",
    "    // Update is called once per frame\n",
    "    void Update()\n",
    "    {\n",
    "        this.transform.position = new Vector3(this.transform.position.x + offset.x, \n",
    "                                              target.position.y + offset.y, \n",
    "                                              this.transform.position.z);\n",
    "    }\n",
    "}\n"
   ]
  },
  {
   "cell_type": "markdown",
   "metadata": {},
   "source": [
    "If everything set up correctly, we should have a basic Doodle Jump game\n",
    "\n",
    "<img src=\"https://raw.githubusercontent.com/jcortezzo/TCS-GameDev-Curriculum/master/Unit%202/Images/U2L6_18.gif\" alt=\"Drawing\"/>"
   ]
  }
 ],
 "metadata": {
  "colab": {
   "collapsed_sections": [],
   "name": "U1L6 - UI.ipynb",
   "provenance": []
  },
  "kernelspec": {
   "display_name": "Python 3",
   "language": "python",
   "name": "python3"
  },
  "language_info": {
   "codemirror_mode": {
    "name": "ipython",
    "version": 3
   },
   "file_extension": ".py",
   "mimetype": "text/x-python",
   "name": "python",
   "nbconvert_exporter": "python",
   "pygments_lexer": "ipython3",
   "version": "3.7.6"
  }
 },
 "nbformat": 4,
 "nbformat_minor": 1
}
