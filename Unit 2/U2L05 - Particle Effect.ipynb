{
 "cells": [
  {
   "cell_type": "markdown",
   "metadata": {
    "colab_type": "text",
    "id": "ijAwfSuLsf_p"
   },
   "source": [
    "# Unit 2 Lesson 5 - Particle Effects\n",
    "In this lesson, we'll learn about new Unity physics components called Particle Effects.\n",
    "\n",
    "---\n",
    "\n",
    "# Learning Objectives\n",
    "---\n",
    "\n",
    "*   Students will learn about how to create and apply particle effects into their own game.\n",
    "\n",
    "# Key Concepts\n",
    "---\n",
    "\n",
    "*   Particle Effects\n",
    "*   Particle System"
   ]
  },
  {
   "cell_type": "markdown",
   "metadata": {
    "colab_type": "text",
    "id": "-O16dXPxUp7u"
   },
   "source": [
    "# Introduction\n",
    "---"
   ]
  },
  {
   "cell_type": "markdown",
   "metadata": {
    "colab_type": "text",
    "id": "DtMw8wTiUqYC"
   },
   "source": [
    "Particle Effect is a great way to enhance your game visually "
   ]
  },
  {
   "cell_type": "markdown",
   "metadata": {
    "colab_type": "text",
    "id": "N48Zm3JDVrqa"
   },
   "source": [
    "# Concept 1: Creating Particle Effect\n",
    "\n",
    "---\n",
    "### **Particle System**\n",
    "\n",
    "#### What is Particle System? \n",
    "Particle System is a component in Unity that provide many complex features to create particle effects such as cloud, smoke, flame, particles, ... and many other you can think of. The component Unity provided is very in depth and take time to explain, so in this lesson, we will only go over the high level of the component.\n",
    "\n",
    "Unity Documentation: https://docs.unity3d.com/Manual/ParticleSystems.html\n",
    "\n",
    "#### How to create a Particle System?\n",
    "The process of creating a particle system is simple.\n",
    "\n",
    "1. In Hierarchy tab, in Effects drop down, click on Particle System\n",
    "<img src=\"https://raw.githubusercontent.com/jcortezzo/TCS-GameDev-Curriculum/master/Unit%202/Images/U2L5_1.png\" alt=\"Drawing\"/>\n",
    "\n",
    "2. After creating a particle system, you will see the white particles floating as the default particle system. \n",
    "<img src=\"https://raw.githubusercontent.com/jcortezzo/TCS-GameDev-Curriculum/master/Unit%202/Images/U2L5_2.png\" alt=\"Drawing\"/>\n",
    "\n"
   ]
  },
  {
   "cell_type": "markdown",
   "metadata": {},
   "source": [
    "# Concept 2: Manipulate particle system\n",
    "---\n",
    "\n",
    "From the property tab in the inspector, we can see many different options that we can adjust to customize the effect to fit your usage. \n",
    "\n",
    "<img src=\"https://raw.githubusercontent.com/jcortezzo/TCS-GameDev-Curriculum/master/Unit%202/Images/U2L5_3.png\" alt=\"Drawing\"/>\n",
    "\n",
    "Going into each different options will take a long time, so for this concept, we will only go into a few important ones. You will have more time to go over other options in later exercises and homework.\n",
    "\n",
    "#### Main options\n",
    "- Duration: how long the effect will last\n",
    "- Looping: enable loop when effect end\n",
    "- Start Lifetime: inital life time of the particle\n",
    "- Start Speed: initial speed\n",
    "- Start Size: initial size\n",
    "- Start Rotation: initial size\n",
    "- Start Color: initial color\n",
    "https://docs.unity3d.com/Manual/PartSysMainModule.html\n",
    "\n",
    "#### Emission:\n",
    "- Rate over Time: emission rate, number of particle over time\n",
    "\n",
    "https://docs.unity3d.com/Manual/PartSysEmissionModule.html\n",
    "\n",
    "#### Shape:\n",
    "- Shape: different particle emission's shape\n",
    "\n",
    "https://docs.unity3d.com/Manual/PartSysShapeModule.html"
   ]
  },
  {
   "cell_type": "markdown",
   "metadata": {},
   "source": [
    "# Concept 3: Particle System and code\n",
    "---\n",
    "\n",
    "Now, with some undertanding of unity particle system, the next step is learning to create particle with code. Let's create a script to Play and Pause the particle system with a keyboard input.\n",
    "\n",
    "1. First, create a basic script and attach it to an empty gameobject. I will create a script called \"ParticleSpawner\" which will be attach to an gameobject call Particle Spawner\n",
    "\n",
    "<img src=\"https://raw.githubusercontent.com/jcortezzo/TCS-GameDev-Curriculum/master/Unit%202/Images/U2L5_4.png\" alt=\"Drawing\"/>\n",
    "\n",
    "2. Let's write some code:\n"
   ]
  },
  {
   "cell_type": "code",
   "execution_count": null,
   "metadata": {},
   "outputs": [],
   "source": [
    "using System.Collections;\n",
    "using System.Collections.Generic;\n",
    "using UnityEngine;\n",
    "\n",
    "public class ParticleSpawner : MonoBehaviour\n",
    "{\n",
    "    [SerializeField]\n",
    "    private ParticleSystem particle;\n",
    "\n",
    "    // Update is called once per frame\n",
    "    void Update()\n",
    "    {\n",
    "        if(Input.GetKeyDown(KeyCode.Space))\n",
    "        {\n",
    "            if (particle.isPlaying) particle.Pause();\n",
    "            else particle.Play();\n",
    "        }\n",
    "    }\n",
    "}\n"
   ]
  },
  {
   "cell_type": "markdown",
   "metadata": {},
   "source": [
    "3. Lastly, attach particle system game object into our script. We should now be able to Play and Pause our particle system.\n",
    "\n",
    "<img src=\"https://raw.githubusercontent.com/jcortezzo/TCS-GameDev-Curriculum/master/Unit%202/Images/U2L5_5.gif\" alt=\"Drawing\"/>"
   ]
  },
  {
   "cell_type": "markdown",
   "metadata": {},
   "source": [
    "## Practice together: Creating Snow Particle Effect\n",
    "---\n",
    "\n",
    "Let's create a basic snow fall particle effect using what we learned.\n",
    "\n",
    "1. Create a particle system. We will need to adjust a few option to get our default particles from floating up to down.\n",
    "\n",
    "In main module of particle system, this is what I have:\n",
    "\n",
    "<img src=\"https://raw.githubusercontent.com/jcortezzo/TCS-GameDev-Curriculum/master/Unit%202/Images/U2L5_6.png\" alt=\"Drawing\"/>\n",
    "\n",
    "Shape module:\n",
    "<img src=\"https://raw.githubusercontent.com/jcortezzo/TCS-GameDev-Curriculum/master/Unit%202/Images/U2L5_7.png\" alt=\"Drawing\"/>\n",
    "\n",
    "2. Result:\n",
    "\n",
    "<img src=\"https://raw.githubusercontent.com/jcortezzo/TCS-GameDev-Curriculum/master/Unit%202/Images/U2L5_8.gif\" alt=\"Drawing\"/>\n",
    "\n",
    "Perfect Christmas spririt for your Christmas game."
   ]
  },
  {
   "cell_type": "markdown",
   "metadata": {},
   "source": [
    "## Activity\n"
   ]
  },
  {
   "cell_type": "markdown",
   "metadata": {},
   "source": [
    "---\n",
    "## Activity #1\n",
    "\n",
    "---\n",
    "\n",
    "**Problem:** Creating jump dust particle when our Mario character jump"
   ]
  },
  {
   "cell_type": "markdown",
   "metadata": {},
   "source": [
    "##### **Solution**\n",
    "\n",
    "1. First, create a particle system and attach it as a child of our Mario player. I'll called it \"JumpParticle\"\n",
    "\n",
    "<img src=\"https://raw.githubusercontent.com/jcortezzo/TCS-GameDev-Curriculum/master/Unit%202/Images/U2L5_8.png\" alt=\"Drawing\"/>\n",
    "\n",
    "2. Next, let's adjust some of the options in the particle system\n",
    "\n",
    "<img src=\"https://raw.githubusercontent.com/jcortezzo/TCS-GameDev-Curriculum/master/Unit%202/Images/U2L5_9.png\" alt=\"Drawing\"/>\n",
    "\n",
    "<img src=\"https://raw.githubusercontent.com/jcortezzo/TCS-GameDev-Curriculum/master/Unit%202/Images/U2L5_10.png\" alt=\"Drawing\"/>\n",
    "\n",
    "<img src=\"https://raw.githubusercontent.com/jcortezzo/TCS-GameDev-Curriculum/master/Unit%202/Images/U2L5_11.png\" alt=\"Drawing\"/>\n",
    "\n",
    "<img src=\"https://raw.githubusercontent.com/jcortezzo/TCS-GameDev-Curriculum/master/Unit%202/Images/U2L5_12.png\" alt=\"Drawing\"/>\n",
    "\n",
    "3. Lastly, let's write some code for our player to create dust everytime our player jump\n",
    "\n",
    "*** Remember to attach jumpParticle in the scene to the script***"
   ]
  },
  {
   "cell_type": "code",
   "execution_count": null,
   "metadata": {},
   "outputs": [],
   "source": [
    "[SerializeField] ParticleSystem jumpParticle;\n",
    "\n",
    "private void Update()\n",
    "{\n",
    "    if (isGrounded)\n",
    "        jumps = 0;\n",
    "    // Jump if you're pressing Up or Space\n",
    "    if (Input.GetKeyDown(KeyCode.UpArrow) ||\n",
    "        Input.GetKeyDown(KeyCode.Space))\n",
    "    {\n",
    "        if (isGrounded || jumps < MAX_JUMP)\n",
    "        {\n",
    "            jumps++;\n",
    "            if (isGrounded) jumpParticle.Play();\n",
    "            Jump();\n",
    "        }\n",
    "\n",
    "    }\n",
    "\n",
    "    if(Input.GetKeyDown(KeyCode.F))\n",
    "    {\n",
    "        //ShootFire();\n",
    "        StartCoroutine(ShootNFireballs(3, 0.2f));\n",
    "    }\n",
    "    Walk();\n",
    "}"
   ]
  },
  {
   "cell_type": "markdown",
   "metadata": {},
   "source": [
    "---\n",
    "## Activity #2\n",
    "\n",
    "---\n",
    "\n",
    "**Problem:** Create a dust moving particle when our Mario character run"
   ]
  },
  {
   "cell_type": "markdown",
   "metadata": {},
   "source": [
    "##### **Solution**\n",
    "\n",
    "1. Let's create a particle system called \"run particle\" and attach it as a child of our Mario character\n",
    "<img src=\"https://raw.githubusercontent.com/jcortezzo/TCS-GameDev-Curriculum/master/Unit%202/Images/U2L5_13.png\" alt=\"Drawing\"/>\n",
    "\n",
    "2. Next, let's adjust some paramters for our run particle\n",
    "\n",
    "<img src=\"https://raw.githubusercontent.com/jcortezzo/TCS-GameDev-Curriculum/master/Unit%202/Images/U2L5_14.png\" alt=\"Drawing\"/>\n",
    "\n",
    "<img src=\"https://raw.githubusercontent.com/jcortezzo/TCS-GameDev-Curriculum/master/Unit%202/Images/U2L5_15.png\" alt=\"Drawing\"/>\n",
    "\n",
    "3. Lastly, let's write some code for Mario whenever he run to spawn particles\n",
    "\n",
    "*** Remember to attach runParticle in the scene to the script***"
   ]
  },
  {
   "cell_type": "code",
   "execution_count": null,
   "metadata": {},
   "outputs": [],
   "source": [
    "[SerializeField] ParticleSystem runParticle;\n",
    "private void Walk()\n",
    "{\n",
    "    float horizontal = Input.GetAxisRaw(\"Horizontal\");\n",
    "\n",
    "    int speedFactor = 1;\n",
    "    if (Input.GetKey(KeyCode.LeftShift) || Input.GetKey(KeyCode.RightShift))\n",
    "    {\n",
    "        speedFactor = 2;\n",
    "        if(!runParticle.isPlaying) runParticle.Play();\n",
    "    } else\n",
    "    {\n",
    "        runParticle.Stop();\n",
    "    }\n",
    "\n",
    "\n",
    "    Vector2 movement = new Vector2(horizontal * speedFactor * speed * Time.deltaTime, rb.velocity.y);\n",
    "    rb.velocity = movement;\n",
    "\n",
    "}"
   ]
  },
  {
   "cell_type": "markdown",
   "metadata": {},
   "source": [
    "# HOMEWORK\n",
    "---"
   ]
  },
  {
   "cell_type": "markdown",
   "metadata": {},
   "source": [
    "## HW #1\n",
    "\n",
    "---\n",
    "\n",
    "**Problem:** "
   ]
  },
  {
   "cell_type": "markdown",
   "metadata": {},
   "source": [
    "##### **Solution**\n",
    "\n"
   ]
  }
 ],
 "metadata": {
  "colab": {
   "collapsed_sections": [],
   "name": "U1L6 - UI.ipynb",
   "provenance": []
  },
  "kernelspec": {
   "display_name": "Python 3",
   "language": "python",
   "name": "python3"
  },
  "language_info": {
   "codemirror_mode": {
    "name": "ipython",
    "version": 3
   },
   "file_extension": ".py",
   "mimetype": "text/x-python",
   "name": "python",
   "nbconvert_exporter": "python",
   "pygments_lexer": "ipython3",
   "version": "3.7.6"
  }
 },
 "nbformat": 4,
 "nbformat_minor": 1
}
