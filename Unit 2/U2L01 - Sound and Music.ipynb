{
 "cells": [
  {
   "cell_type": "markdown",
   "metadata": {
    "colab_type": "text",
    "id": "ijAwfSuLsf_p"
   },
   "source": [
    "# Unit 2 Lesson 1 - Sound, Music, and JukeBox\n",
    "In this lesson, we'll learn how to play sound and music in your Unity project. We will also learn how to create a simple audio manager through new programming concepts. \n",
    "\n",
    "\n",
    "---\n",
    "\n",
    "# Learning Objectives\n",
    "---\n",
    "\n",
    "*   Students will learn about the AudioSource, AudioClip and AudioListener components\n",
    "*   Students will learn about the singleton pattern, and class/struct to hold data\n",
    "\n",
    "# Key Concepts\n",
    "---\n",
    "\n",
    "*   AudioSource, AudioClip, AudioListener\n",
    "*   JukeBox(AudioManager), Singleton pattern, Struct"
   ]
  },
  {
   "cell_type": "markdown",
   "metadata": {
    "colab_type": "text",
    "id": "-O16dXPxUp7u"
   },
   "source": [
    "# Introduction\n",
    "\n",
    "---"
   ]
  },
  {
   "cell_type": "markdown",
   "metadata": {
    "colab_type": "text",
    "id": "DtMw8wTiUqYC"
   },
   "source": [
    "From unit 1, we learned how to create a basic game in Unity. We are able to control the player, spawn some enemies, have physics interaction with platforms, and UI to top it off. However, we are missing something. That's right! Sound and Music!! In this lesson, we will go over how to add sound and music to your game in order to make our game feel more lively."
   ]
  },
  {
   "cell_type": "markdown",
   "metadata": {
    "colab_type": "text",
    "id": "N48Zm3JDVrqa"
   },
   "source": [
    "# Concept 1: AudioSource, AudioClip and AudioListener\n",
    "\n",
    "---\n",
    "### **AudioSource**\n",
    "\n",
    "AudioSource represents the location of where the audio will be play from your scene. This component can be attach to a GameObject to play audio. There are various options in AudioSource that we can enable and adjust that allow for a more dynamic sound experience. These options are \"volume\", \"pitch\", \"Stereo Pan\", \"Spatial Blend\" (2D or 3D), and more. To play an audio, we first need to have an AudioClip.\n",
    "\n",
    "### **AudioClip**\n",
    "\n",
    "AudioClip is basically the audio file that you want to play. This can be in mp3, ogg, wav, ...\n",
    "\n",
    "### **AudioListener**\n",
    "\n",
    "Lastly, AudioListener is responsible for listening to the sound from AudioSource. This component usually attach to the camera by default as represent where the player will hear the audio from.\n"
   ]
  },
  {
   "cell_type": "markdown",
   "metadata": {},
   "source": [
    "## Walkthrough: Adding audio to scene\n",
    "\n",
    "1.   First, create an empty GameObject on your scene and called it something appropriate for music (I called it Jukebox). Then add a component called AudioSource to the GameObject.\n",
    "\n",
    "<img src=\"https://raw.githubusercontent.com/jcortezzo/TCS-GameDev-Curriculum/master/Unit%202/Images/U2L1_1.png\" alt=\"Drawing\"/>\n",
    "\n",
    "2.   Next, we want to attach an audioclip to the AudioClip option. Pick your music of choice. I will use the super mario theme song. Make sure to first import your music into the asset folder. Then, drag it into the AudioClip option.\n",
    "\n",
    "<img src=\"https://github.com/jcortezzo/TCS-GameDev-Curriculum/blob/master/Unit%202/Images/U2L1_2.png?raw=true\" alt=\"Drawing\"/>\n",
    "\n",
    "3.   Lastly, before we can enjoy our music we first need to double check a few options to make sure our music will be play correctly.\n",
    "\n",
    "    - Make sure \"Loop\" and \"Play On Awake\" are check.\n",
    "    \n",
    "    - Make sure Mute Audio is <b>not enable</b> on the game scene\n",
    "    \n",
    "    - Make sure AudioListener is on the MainCamera\n",
    "\n",
    "<img src=\"https://github.com/jcortezzo/TCS-GameDev-Curriculum/blob/master/Unit%202/Images/U2L1_3.png?raw=true\" alt=\"Drawing\"/>\n",
    "\n",
    "<img src=\"https://github.com/jcortezzo/TCS-GameDev-Curriculum/blob/master/Unit%202/Images/U2L1_4.png?raw=true\" alt=\"Drawing\"/>\n",
    "\n",
    "4.   Now, we should have our music play at the start of the game. We just learned the basic of adding an audio to your project!\n",
    "---"
   ]
  },
  {
   "cell_type": "markdown",
   "metadata": {},
   "source": [
    "## Practice Together #1\n",
    "\n",
    "---\n",
    "\n",
    "**Problem:** Play a sound with code\n",
    "\n",
    "hint: GetComponent<AudioSource>() and method Play()"
   ]
  },
  {
   "cell_type": "markdown",
   "metadata": {},
   "source": [
    "##### **Solution**\n",
    "\n",
    "Need solution!\n",
    "\n",
    "difficulty: easy"
   ]
  },
  {
   "cell_type": "markdown",
   "metadata": {
    "colab_type": "text",
    "id": "JGMGPHbGjUA6"
   },
   "source": [
    "---\n",
    "# Concept 2: Jukebox (Audio Manager), Singleton pattern, Struct\n",
    "\n",
    "---\n",
    "\n",
    "Great, we just learn how to add music and play on a loop for our game. However, we can see that this approach do not give us a lot of control on when and how we should play our sounds and musics. When transitioning between scenes, we also notice music do not continue to play and get cut off. There are many ways to fix these problems, one approach we will show is the idea of an Audio Manager. Audio Manger will allow us to control when and how we want to play our sound/music. It will also help us with audio playing continuosly through different scenes. The structure of Audio Manager we will show you is simple and can be easily expand to handle more functionalities. Before writing the Audio Manager, there are a few programming concepts we want to introduce first. These are Singleton pattern and Struct.\n",
    "\n",
    "### **Singleton Pattern**\n",
    "Singleton pattern is a software engineer design pattern that restricts the instantiation of a class to just <b>\"single\" instance</b>. In Unity layman's term, there should only be one single GameObject with this type in the scene. This can be very useful for our case since we can carry this single instance of JukeBox through multiple scenes, which allow for music to play continuously. Singleton pattern also allows for <b>easy global accessibility</b> which can be useful in a lot of contexts. Example in our case could be having our Player or Enemy class access the JukeBox without declaring a field.\n",
    "\n",
    "More detail: [Wiki link](https://en.wikipedia.org/wiki/Singleton_pattern)\n",
    "\n",
    "#### **Struct**\n",
    "\n",
    "Struct is very similar to a class, which can be think of as a data container. Data declare in struct are always public. Struct cannot be inherit, which mean inheritance is not allow. For our use, we can use struct to define a small data structure which contain useful information that is a sound (clip,  name, pitch, volume, etc...)\n",
    "\n",
    "More detail: [Microsoft documentation](https://docs.microsoft.com/en-us/dotnet/csharp/language-reference/builtin-types/struct)\n",
    "\n",
    "\n",
    "## Walkthrough: Creating a JukeBox(Audio Manager)\n",
    "\n",
    "**1**. First, let create an empty GameObject called \"JukeBox\", and create a script called \"JukeBox.cs\" then attach to the GameObject.\n",
    "\n",
    "**2**. Then, let create our singleton gameobject for our JukeBox. The code below is one way of writing singleton in Unity:"
   ]
  },
  {
   "cell_type": "code",
   "execution_count": null,
   "metadata": {},
   "outputs": [],
   "source": [
    "using System.Collections;\n",
    "using System.Collections.Generic;\n",
    "using UnityEngine;\n",
    "\n",
    "public class JukeBox : MonoBehaviour\n",
    "{\n",
    "\n",
    "    public static JukeBox Instance;\n",
    "\n",
    "    private void Awake()\n",
    "    {\n",
    "        if(Instance == null)\n",
    "        {\n",
    "            Instance = this;\n",
    "        } else\n",
    "        {\n",
    "            Destroy(this.gameObject);\n",
    "            return;\n",
    "        }\n",
    "        DontDestroyOnLoad(this.gameObject);\n",
    "    }\n",
    "\n",
    "}"
   ]
  },
  {
   "cell_type": "markdown",
   "metadata": {},
   "source": [
    "Let break it down a bit and go through the code line by line. \n",
    "On line 8, we declare a public static field with the same type of the class JukeBox, where we will be holding the reference to the only instance of this GameObject type. Also, declaring the field \"public static\" allows for public access from other classes.\n",
    "\n",
    "On line 10-21, Awake() method, we are checking for if the instance had been created yet. When we start the game, the instance of a gameobject will get create and Awake will be invoke automatically. So, if this is the first time the game start, there will be no previous instance of JukeBox, so we can assign that to the field. Else, if let say there is a second JukeBox object in the scene, the second object will get destroy since the previous instance already existed and we don't want a duplicate of it, hence \"Singleton\".\n",
    "\n",
    "On line 20, this special method here in MonoBehaviour (DontDestroyOnLoad) allows us to keep the gameobject instance so it won't get destroy when we transition through difference scenes. \n",
    "\n",
    "**3**. Having the singleton object set up, the next step will be setting up the data structure for our sound/music. Add the following line of code after line 23 of the script:\n"
   ]
  },
  {
   "cell_type": "code",
   "execution_count": null,
   "metadata": {},
   "outputs": [],
   "source": [
    "using System.Collections;\n",
    "using System.Collections.Generic;\n",
    "using UnityEngine;\n",
    "\n",
    "public class JukeBox : MonoBehaviour\n",
    "{\n",
    "\n",
    "    public static JukeBox Instance;\n",
    "\n",
    "    private void Awake()\n",
    "    {\n",
    "        if(Instance == null)\n",
    "        {\n",
    "            Instance = this;\n",
    "        } else\n",
    "        {\n",
    "            Destroy(this.gameObject);\n",
    "            return;\n",
    "        }\n",
    "        DontDestroyOnLoad(this.gameObject);\n",
    "    }\n",
    "\n",
    "}\n",
    "\n",
    "[System.Serializable]\n",
    "public struct Sound {\n",
    "    public AudioClip clip;\n",
    "\n",
    "    public string name;\n",
    "\n",
    "    [Range(0f, 1f)]\n",
    "    public float volume;\n",
    "    \n",
    "    [Range(0f, 3f)]\n",
    "    public float pitch;\n",
    "\n",
    "    public bool loop;\n",
    "}"
   ]
  },
  {
   "cell_type": "markdown",
   "metadata": {},
   "source": [
    "Here, we just created a struct that contain some important properties that defined a Sound. For our Sound definition, we have an AudioClip which will be the audio file; name of the Sound; volume value; pitch value; loop. A few new tags here to introduce:\n",
    "\n",
    "[Range(float, float)]: this tag allow us to create a slider between 2 float numbers that we can adjust in Unity inspectors\n",
    "<img src=\"https://github.com/jcortezzo/TCS-GameDev-Curriculum/blob/master/Unit%202/Images/U2L1_5.png?raw=true\" alt=\"img\">\n",
    "\n",
    "[System.Serializable]: this tag serialize a type, which help us display on the inspector\n",
    "\n",
    "\n",
    "**4**. With the new Sound data structure, we can now create write code to play a sound with a pre-defined definition. \n"
   ]
  },
  {
   "cell_type": "code",
   "execution_count": null,
   "metadata": {},
   "outputs": [],
   "source": [
    "using System.Collections;\n",
    "using System.Collections.Generic;\n",
    "using UnityEngine;\n",
    "\n",
    "public class JukeBox : MonoBehaviour\n",
    "{\n",
    "\n",
    "    public static JukeBox Instance;\n",
    "\n",
    "    [SerializeField] private Sound[] musics;\n",
    "    [SerializeField] private Sound[] sfxs;\n",
    "\n",
    "    private AudioSource musicSource;\n",
    "    private AudioSource sfxSource;\n",
    "\n",
    "    private void Awake()\n",
    "    {\n",
    "        if(Instance == null)\n",
    "        {\n",
    "            Instance = this;\n",
    "            musicSource = this.gameObject.AddComponent<AudioSource>();\n",
    "            sfxSource = this.gameObject.AddComponent<AudioSource>();\n",
    "\n",
    "        } else\n",
    "        {\n",
    "            Destroy(this.gameObject);\n",
    "            return;\n",
    "        }\n",
    "        DontDestroyOnLoad(this.gameObject);\n",
    "    }\n",
    "\n",
    "    public void PlayMusic(string name)\n",
    "    {\n",
    "        foreach (Sound s in musics)\n",
    "        {\n",
    "            if (s.name.Equals(name))\n",
    "            {\n",
    "                musicSource.clip = s.clip;\n",
    "                musicSource.volume = s.volume;\n",
    "                musicSource.pitch = s.pitch;\n",
    "                musicSource.loop = s.loop;\n",
    "                musicSource.Play();\n",
    "                return;\n",
    "            }\n",
    "        }\n",
    "    }\n",
    "\n",
    "\n",
    "    public void PlaySFX(string name)\n",
    "    {\n",
    "        foreach(Sound s in sfxs)\n",
    "        {\n",
    "            if(s.name.Equals(name))\n",
    "            {\n",
    "                sfxSource.volume = s.volume;\n",
    "                sfxSource.pitch = s.pitch;\n",
    "                sfxSource.PlayOneShot(s.clip);\n",
    "                return;\n",
    "            }\n",
    "        }\n",
    "    }\n",
    "}\n",
    "\n",
    "[System.Serializable]\n",
    "public struct Sound {\n",
    "    public AudioClip clip;\n",
    "\n",
    "    public string name;\n",
    "\n",
    "    [Range(0f, 1f)]\n",
    "    public float volume;\n",
    "    \n",
    "    [Range(-3f, 3f)]\n",
    "    public float pitch;\n",
    "\n",
    "    public bool loop;\n",
    "}"
   ]
  },
  {
   "cell_type": "markdown",
   "metadata": {},
   "source": [
    "The above scripts are the finalized version of our simple JukeBox. We added 2 methods into our scripts to play a music and sound effect (sfx). We modified the Awake() method on line 21-22 to add AudioSource component to our music and sfx player. We also created two arrays of Sound, one for music and one for sfx. \n",
    "\n",
    "Let go through each change we made in the final version of the script:\n",
    "\n",
    "-Line 10-11: Having two arrays of Sound will help us differentiate between Music and SFX\n",
    "\n",
    "-Line 13-14, 21-22: Instead of adding components by hand in the inspector, we opted for doing it in code in order to save the reference of each AudioSource easier.\n",
    "\n",
    "-PlayMusic(string): This method is straight forward. It will loop through our musics array and find the music matching our parameter. Then before playing the music, we set the pitch, volume, and loop option to the AudioSource before we play.\n",
    "\n",
    "PlaySFX(string): This method is similar to PlayMusic except for the play method. In this case, we will use PlayOneShot() to play our sfx. The reason for this is Play() will stop the previous music before we play, and PlayOneShot() allow for multiple sound to play at the same time. However, there is a small bug in this PlaySFX() method. The problem is PlayOneShot() will play the sound with the setting of the AudioSource, so when we play a different sfx, the old sfx will use the setting of the new sfx if it is still playing.\n",
    "\n",
    "\n",
    "Let add some music, sfx, and adjust some properties of the Sound in the inspector\n",
    "<img src=\"https://github.com/jcortezzo/TCS-GameDev-Curriculum/blob/master/Unit%202/Images/U2L1_6.png?raw=true\" alt=\"img\">\n",
    "\n",
    "Lastly, let play a song to cap off this walkthrough. We will play \"supermariotheme\", by write some code in the Start() method of the JukeBox\n"
   ]
  },
  {
   "cell_type": "code",
   "execution_count": null,
   "metadata": {},
   "outputs": [],
   "source": [
    "private void Start()\n",
    "{\n",
    "    PlayMusic(\"supermariotheme\");\n",
    "}"
   ]
  },
  {
   "cell_type": "markdown",
   "metadata": {},
   "source": [
    "---\n",
    "## Practice Together #1\n",
    "\n",
    "---\n",
    "\n",
    "**Problem:** Create new method for JukeBox that accept custom paramters(volume, pitch, ...), and the method should play a sfx."
   ]
  },
  {
   "cell_type": "markdown",
   "metadata": {},
   "source": [
    "##### **Solution**"
   ]
  },
  {
   "cell_type": "markdown",
   "metadata": {},
   "source": [
    "Need solution!\n",
    "\n",
    "difficulty: easy"
   ]
  },
  {
   "cell_type": "markdown",
   "metadata": {
    "colab_type": "text",
    "id": "Y9IxMfODNB2v"
   },
   "source": [
    "---\n",
    "\n",
    "## Activity #1\n",
    "\n",
    "---\n",
    "\n",
    "**Problem:** Play a sound when the player is hurt. Bonus: randomize the pitch"
   ]
  },
  {
   "cell_type": "markdown",
   "metadata": {},
   "source": [
    "##### **Solution**"
   ]
  },
  {
   "cell_type": "markdown",
   "metadata": {},
   "source": [
    "---\n",
    "## Activity #2\n",
    "\n",
    "---\n",
    "\n",
    "**Problem:** Create a LevelManager that use \"Singleton pattern\". This LevelManager should be able to track what level the game is currently on, and should play different musics depend on the level."
   ]
  },
  {
   "cell_type": "markdown",
   "metadata": {},
   "source": [
    "##### **Solution**\n",
    "\n",
    "Need solution!\n",
    "\n",
    "difficulty: medium"
   ]
  }
 ],
 "metadata": {
  "colab": {
   "collapsed_sections": [],
   "name": "U1L6 - UI.ipynb",
   "provenance": []
  },
  "kernelspec": {
   "display_name": "Python 3",
   "language": "python",
   "name": "python3"
  },
  "language_info": {
   "codemirror_mode": {
    "name": "ipython",
    "version": 3
   },
   "file_extension": ".py",
   "mimetype": "text/x-python",
   "name": "python",
   "nbconvert_exporter": "python",
   "pygments_lexer": "ipython3",
   "version": "3.7.6"
  }
 },
 "nbformat": 4,
 "nbformat_minor": 1
}
